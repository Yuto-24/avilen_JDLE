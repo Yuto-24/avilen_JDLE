{
 "cells": [
  {
   "cell_type": "code",
   "execution_count": 8,
   "metadata": {},
   "outputs": [],
   "source": [
    "# numpyのインポート\n",
    "import numpy as np"
   ]
  },
  {
   "cell_type": "markdown",
   "metadata": {},
   "source": [
    "## 1. ブールインデックス参照  \n",
    "配列の各要素に対してブール値を与えることで，Trueの部分の要素を取り出した配列を新たに生成することができます．  \n",
    "【例題】ブールインデックス参照を用いて要素の取り出しを行います．以下のコードを読んで実行してみましょう．"
   ]
  },
  {
   "cell_type": "code",
   "execution_count": 9,
   "metadata": {},
   "outputs": [
    {
     "name": "stdout",
     "output_type": "stream",
     "text": [
      "[0 1 2 3 4]\n",
      "実行結果\n",
      "[0 1 2]\n"
     ]
    }
   ],
   "source": [
    "# 配列の生成\n",
    "numpy_l = np.arange(5)\n",
    "print(numpy_l)\n",
    "\n",
    "# ブールインデックス参照を用いて取り出し\n",
    "print('実行結果')\n",
    "print(numpy_l[np.array([True, True, True, False, False]) ])"
   ]
  },
  {
   "cell_type": "markdown",
   "metadata": {},
   "source": [
    "- 実行結果が  \n",
    "[0 1 2]  \n",
    "となっていれば成功です．  \n",
    "- このように，ブール値を与えることで要素を取り出すことができることを確認しましょう．  "
   ]
  },
  {
   "cell_type": "markdown",
   "metadata": {},
   "source": [
    "また，ブール値ではなく条件式を書くことで各要素について比較することができます．"
   ]
  },
  {
   "cell_type": "code",
   "execution_count": 10,
   "metadata": {},
   "outputs": [
    {
     "name": "stdout",
     "output_type": "stream",
     "text": [
      "[0 1 2 3 4]\n",
      "実行結果\n",
      "[0 1 2]\n"
     ]
    }
   ],
   "source": [
    "print(numpy_l)\n",
    "\n",
    "# 比較する\n",
    "print('実行結果')\n",
    "print(numpy_l[numpy_l < 3])"
   ]
  },
  {
   "cell_type": "markdown",
   "metadata": {},
   "source": [
    "- このように条件式に合う値を取り出すことができます．"
   ]
  },
  {
   "cell_type": "markdown",
   "metadata": {},
   "source": [
    "【問題】以下の配列について，10で割り切れるものに-1を代入してみましょう．"
   ]
  },
  {
   "cell_type": "code",
   "execution_count": 11,
   "metadata": {},
   "outputs": [
    {
     "name": "stdout",
     "output_type": "stream",
     "text": [
      "[-1  5 -1 15 -1 25 -1]\n"
     ]
    }
   ],
   "source": [
    "# 配列の生成\n",
    "numpy_l = np.array([0, 5, 10, 15, 20, 25, 30])\n",
    "\n",
    "# 比較\n",
    "numpy_l[numpy_l % 10 == 0] = -1\n",
    "\n",
    "print(numpy_l)"
   ]
  },
  {
   "cell_type": "markdown",
   "metadata": {},
   "source": [
    "- 生成された配列が  \n",
    "[-1 5 -1 15 -1 25 -1]  \n",
    "となっていれば正解です．"
   ]
  },
  {
   "cell_type": "markdown",
   "metadata": {},
   "source": [
    "## 2. 整数値のリストを用いた要素の取り出し  \n",
    "整数値のリスト，ndarrayを用いて配列から要素を取り出した配列を新たに生成することも可能です．  \n",
    "【例題】リストを使って配列から要素を取り出します．以下のコードを読んで実行してみましょう．"
   ]
  },
  {
   "cell_type": "code",
   "execution_count": 18,
   "metadata": {},
   "outputs": [
    {
     "name": "stdout",
     "output_type": "stream",
     "text": [
      "[0 1 2 3 4 5]\n",
      "配列の0, 2, 4, -1番目を指定\n",
      "[0 2 4 5]\n"
     ]
    }
   ],
   "source": [
    "# 配列の生成\n",
    "numpy_l = np.arange(6)\n",
    "print(numpy_l)\n",
    "\n",
    "# 要素の取り出し\n",
    "print('配列の0, 2, 4, -1番目を指定')\n",
    "print(numpy_l[[0, 2, 4, -1]])"
   ]
  },
  {
   "cell_type": "markdown",
   "metadata": {},
   "source": [
    "- 実行結果が[ 0 2 4 5]となっていれば成功です．  \n",
    "- 整数のリストを与えることで要素の取り出しができることを確認しましょう．"
   ]
  },
  {
   "cell_type": "markdown",
   "metadata": {},
   "source": [
    "二次元配列の例も見てみましょう．二次元以上の配列ではスライスを用いて任意の行・列を取り出すことができます．"
   ]
  },
  {
   "cell_type": "code",
   "execution_count": 27,
   "metadata": {},
   "outputs": [
    {
     "name": "stdout",
     "output_type": "stream",
     "text": [
      "[[0 1 2]\n",
      " [3 4 5]\n",
      " [6 7 8]]\n",
      "0, 2行目を取り出し\n",
      "[[0 1 2]\n",
      " [6 7 8]]\n",
      "0, 2列目を取り出し\n",
      "[[0 2]\n",
      " [3 5]\n",
      " [6 8]]\n"
     ]
    }
   ],
   "source": [
    "# 配列の生成\n",
    "numpy_l = np.arange(9).reshape(3, 3)\n",
    "print(numpy_l)\n",
    "\n",
    "# 要素の取り出し\n",
    "print('0, 2行目を取り出し')\n",
    "print(numpy_l[[0, 2]])\n",
    "\n",
    "print('0, 2列目を取り出し')\n",
    "print(numpy_l[:, [0, 2]])"
   ]
  },
  {
   "cell_type": "markdown",
   "metadata": {},
   "source": [
    "- それぞれ行と列について要素の取り出しが行われていることを確認しましょう．"
   ]
  },
  {
   "cell_type": "markdown",
   "metadata": {},
   "source": [
    "【問題】以下の配列から0, 2列目を取り出してみましょう．"
   ]
  },
  {
   "cell_type": "code",
   "execution_count": 24,
   "metadata": {},
   "outputs": [
    {
     "name": "stdout",
     "output_type": "stream",
     "text": [
      "[[ 0  1  2  3]\n",
      " [ 4  5  6  7]\n",
      " [ 8  9 10 11]]\n"
     ]
    }
   ],
   "source": [
    "# 配列の生成\n",
    "numpy_l = np.arange(12).reshape(3, 4)\n",
    "print(numpy_l)"
   ]
  },
  {
   "cell_type": "code",
   "execution_count": 25,
   "metadata": {},
   "outputs": [
    {
     "name": "stdout",
     "output_type": "stream",
     "text": [
      "[[ 0  2]\n",
      " [ 4  6]\n",
      " [ 8 10]]\n"
     ]
    }
   ],
   "source": [
    "print(numpy_l[:, [0, 2]])"
   ]
  },
  {
   "cell_type": "markdown",
   "metadata": {},
   "source": [
    "- 実行結果が  \n",
    "[[0 2]  \n",
    "[4 6]  \n",
    "[ 8 10]  \n",
    "となっていれば正解です．"
   ]
  }
 ],
 "metadata": {
  "kernelspec": {
   "display_name": "Python 3",
   "language": "python",
   "name": "python3"
  },
  "language_info": {
   "codemirror_mode": {
    "name": "ipython",
    "version": 3
   },
   "file_extension": ".py",
   "mimetype": "text/x-python",
   "name": "python",
   "nbconvert_exporter": "python",
   "pygments_lexer": "ipython3",
   "version": "3.7.3"
  }
 },
 "nbformat": 4,
 "nbformat_minor": 2
}
