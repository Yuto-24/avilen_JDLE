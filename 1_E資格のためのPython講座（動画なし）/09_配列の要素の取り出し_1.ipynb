{
 "cells": [
  {
   "cell_type": "code",
   "execution_count": 1,
   "metadata": {},
   "outputs": [],
   "source": [
    "# numpyのインポート\n",
    "import numpy as np"
   ]
  },
  {
   "cell_type": "markdown",
   "metadata": {},
   "source": [
    "## 1. ブールインデックス参照  \n",
    "配列の各要素に対してブール値を与えることで，Trueの部分の要素を取り出した配列を新たに生成することができます．  \n",
    "【例題】ブールインデックス参照を用いて要素の取り出しを行います．以下のコードを読んで実行してみましょう．"
   ]
  },
  {
   "cell_type": "code",
   "execution_count": 6,
   "metadata": {},
   "outputs": [
    {
     "name": "stdout",
     "output_type": "stream",
     "text": [
      "[0 1 2 3 4]\n",
      "実行結果\n",
      "[0 1 2]\n"
     ]
    }
   ],
   "source": [
    "# 配列の生成\n",
    "numpy_l = np.arange(5)\n",
    "print(numpy_l)\n",
    "\n",
    "# ブールインデックス参照を用いて取り出し\n",
    "print('実行結果')\n",
    "print(numpy_l[np.array([True, True, True, False, False]) ])"
   ]
  },
  {
   "cell_type": "markdown",
   "metadata": {},
   "source": [
    "- 実行結果が  \n",
    "[0 1 2]  \n",
    "となっていれば成功です．  \n",
    "- このように，ブール値を与えることで要素を取り出すことができることを確認しましょう．\n",
    "- また，ブール値ではなく条件式を書くことで各要素について比較することができます．"
   ]
  },
  {
   "cell_type": "code",
   "execution_count": 9,
   "metadata": {},
   "outputs": [
    {
     "name": "stdout",
     "output_type": "stream",
     "text": [
      "[0 1 2 3 4]\n",
      "実行結果\n",
      "[0 1 2]\n"
     ]
    }
   ],
   "source": [
    "print(numpy_l)\n",
    "\n",
    "# 比較する\n",
    "print('実行結果')\n",
    "print(numpy_l[numpy_l < 3])"
   ]
  },
  {
   "cell_type": "markdown",
   "metadata": {},
   "source": [
    "- このように条件式に合う値を取り出すことができます．"
   ]
  },
  {
   "cell_type": "markdown",
   "metadata": {},
   "source": [
    "【問題】以下の配列について，10で割り切れるものに-1を代入してみましょう．"
   ]
  },
  {
   "cell_type": "code",
   "execution_count": 14,
   "metadata": {},
   "outputs": [
    {
     "name": "stdout",
     "output_type": "stream",
     "text": [
      "[-1  5 -1 15 -1 25 -1]\n"
     ]
    }
   ],
   "source": [
    "# 配列の生成\n",
    "numpy_l = np.array([0, 5, 10, 15, 20, 25, 30])\n",
    "\n",
    "# 比較\n",
    "numpy_l[numpy_l % 10 == 0] = -1\n",
    "\n",
    "print(numpy_l)"
   ]
  },
  {
   "cell_type": "markdown",
   "metadata": {},
   "source": [
    "- 生成された配列が  \n",
    "[-1 5 -1 15 -1 25 -1]  \n",
    "となっていれば正解です．"
   ]
  }
 ],
 "metadata": {
  "kernelspec": {
   "display_name": "Python 3",
   "language": "python",
   "name": "python3"
  },
  "language_info": {
   "codemirror_mode": {
    "name": "ipython",
    "version": 3
   },
   "file_extension": ".py",
   "mimetype": "text/x-python",
   "name": "python",
   "nbconvert_exporter": "python",
   "pygments_lexer": "ipython3",
   "version": "3.6.8"
  }
 },
 "nbformat": 4,
 "nbformat_minor": 2
}
