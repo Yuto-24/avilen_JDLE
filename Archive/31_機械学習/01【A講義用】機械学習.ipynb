{
 "cells": [
  {
   "cell_type": "markdown",
   "metadata": {
    "id": "lXVOYqMgzXvZ"
   },
   "source": [
    "# **概要**\n",
    "---\n",
    "教師あり学習のタスクである**回帰**と**分類**を実行するための簡単なモデルを構築します。  \n",
    "さらに、教師なし学習の一つである**クラスター分析**も行います。"
   ]
  },
  {
   "cell_type": "markdown",
   "metadata": {
    "id": "HYnO5JRfyCwg"
   },
   "source": [
    "# **準備**\n",
    "---\n",
    "まずは、必要なライブラリをインポートしておきましょう。"
   ]
  },
  {
   "cell_type": "code",
   "execution_count": null,
   "metadata": {
    "id": "ddUAV--6yHHf"
   },
   "outputs": [],
   "source": [
    "import numpy as np\n",
    "import pandas as pd\n",
    "import matplotlib.pyplot as plt\n",
    "import japanize_matplotlib\n",
    "import seaborn as sns"
   ]
  },
  {
   "cell_type": "markdown",
   "metadata": {
    "id": "CDlxsv7goUe3"
   },
   "source": [
    "# **回帰タスク(電力需要予測)**\n",
    "---\n",
    "気象データを説明変数として、11月から4月の電力需要量を予測する機械学習モデルを構築してみましょう。"
   ]
  },
  {
   "cell_type": "markdown",
   "metadata": {
    "id": "Wi9BXEFeUFEH"
   },
   "source": [
    "## **データの準備**\n",
    "学習に使うデータをpandasのDataFrameとして読み込みます。"
   ]
  },
  {
   "cell_type": "code",
   "execution_count": null,
   "metadata": {
    "colab": {
     "base_uri": "https://localhost:8080/",
     "height": 363
    },
    "id": "zNgmirKazprp",
    "outputId": "26075c4e-9b64-41cc-fc52-a487a1898d03"
   },
   "outputs": [],
   "source": [
    "df_pow = pd.read_csv(\"./power_demand.csv\")  # CSVファイルの読み込み\n",
    "df_pow.head(10)  # 先頭の10行を表示"
   ]
  },
  {
   "cell_type": "markdown",
   "metadata": {
    "id": "rvP9GEhq0xhR"
   },
   "source": [
    "読み込めたら、データの中身を確認しておきましょう。  \n",
    "各カラムの意味は以下の通りです。\n",
    "\n",
    "| カラム名 | 意味 |\n",
    "| ---- | ---- |\n",
    "| **month** | 月 |\n",
    "| **day** | 日 |\n",
    "| **temperature** | 平均気温 |\n",
    "| **humidity** | 平均相対湿度 |\n",
    "| **sun_hours** | 日照時間 |\n",
    "| **power** | 電力需要量(万kW)|\n",
    "\n",
    "ただし`temperature`・`humidity`・`sun_hours`については、あらかじめ平均0・分散1とする変換を行ってあります。"
   ]
  },
  {
   "cell_type": "markdown",
   "metadata": {
    "id": "9ONUsEZsUMdy"
   },
   "source": [
    "## **学習・精度評価**\n",
    "今回は\n",
    "\n",
    "- 単回帰分析\n",
    "- 重回帰分析\n",
    "\n",
    "の2つを試してみましょう。"
   ]
  },
  {
   "cell_type": "markdown",
   "metadata": {
    "id": "Eqn-kBu9TC8F"
   },
   "source": [
    "### **単回帰分析**\n",
    "---"
   ]
  },
  {
   "cell_type": "markdown",
   "metadata": {
    "id": "E84j0n8FDi1J"
   },
   "source": [
    "#### **説明変数と目的変数に分ける**\n",
    "データを説明変数と目的変数に分けます。\n",
    "\n",
    "まずは単回帰分析を行うので、説明変数は`temperature`のみとします。  \n",
    "目的変数は`power`です。"
   ]
  },
  {
   "cell_type": "code",
   "execution_count": null,
   "metadata": {
    "id": "8NPNYmtvE9Ay"
   },
   "outputs": [],
   "source": [
    "X = df_pow[[\"temperature\"]]\n",
    "y = df_pow[\"power\"]"
   ]
  },
  {
   "cell_type": "markdown",
   "metadata": {
    "id": "-f_4Y07I0xLX"
   },
   "source": [
    "#### **学習用データと検証用データに分割**\n",
    "モデルの性能を検証するためのデータが必要になるので、あらかじめ学習用データと検証用データに分けておきます。\n",
    "\n",
    "ここでは、\n",
    "\n",
    "* 学習用データ：75％\n",
    "* 検証用データ：25％\n",
    "\n",
    "となるように分割します。\n",
    "\n",
    "分割を行うには、`sklearn.model_selection`の`train_test_split`を用います。\n",
    "\n",
    "\n",
    "```\n",
    "train_test_split(*arrays, test_size, random_state=None)  \n",
    " - *arrays     :  分割したいデータ  \n",
    " - test_size   :  検証用データの割合\n",
    " - random_state:  乱数シード（指定しておくと実行のたびに結果が変わることがなくなる）\n",
    "```\n",
    "> sklearn 公式ドキュメント : [sklearn.model_selection.train_test_split](https://scikit-learn.org/stable/modules/generated/sklearn.model_selection.train_test_split.html)"
   ]
  },
  {
   "cell_type": "code",
   "execution_count": null,
   "metadata": {
    "colab": {
     "base_uri": "https://localhost:8080/"
    },
    "id": "CqU06Nsa2tr3",
    "outputId": "00fc6abb-a40b-40fd-b61d-3fda1e358626"
   },
   "outputs": [],
   "source": [
    "# ライブラリのインポート\n",
    "from sklearn.model_selection import train_test_split\n",
    "\n",
    "# 学習用データと検証用データに分割\n",
    "X_train, X_test, y_train, y_test = train_test_split(X, y, test_size=0.25, random_state=42)\n",
    "\n",
    "# 学習用データと検証用データのサイズ\n",
    "print(X_train.shape, X_test.shape)"
   ]
  },
  {
   "cell_type": "markdown",
   "metadata": {
    "id": "isBUsAyA3kom"
   },
   "source": [
    "#### **学習**\n",
    "`sklearn.linear_model`の`LinearRegression`を用いると回帰分析を行うことができます。\n",
    "\n",
    "`fit`メソッドで学習を行います。"
   ]
  },
  {
   "cell_type": "code",
   "execution_count": null,
   "metadata": {
    "colab": {
     "base_uri": "https://localhost:8080/"
    },
    "id": "c0jyoZoB3Rf-",
    "outputId": "728e283b-8155-4c37-e5f0-66554ea78c3d"
   },
   "outputs": [],
   "source": [
    "# ライブラリのインポート\n",
    "from sklearn.linear_model import LinearRegression\n",
    "\n",
    "# 単回帰分析を実行\n",
    "lr_simple = LinearRegression()\n",
    "lr_simple.fit(X_train, y_train)  # 説明変数、目的変数の順"
   ]
  },
  {
   "cell_type": "markdown",
   "metadata": {
    "id": "HATx7p7r3q0N"
   },
   "source": [
    "#### **予測**\n",
    "`predict`メソッドで予測を行います。\n",
    "\n",
    "予測対象は、学習用データではなく**検証用データ**であることに注意しましょう。"
   ]
  },
  {
   "cell_type": "code",
   "execution_count": null,
   "metadata": {
    "id": "lMHOV3GL3Zhq"
   },
   "outputs": [],
   "source": [
    "# 予測を実行\n",
    "y_pred = lr_simple.predict(X_test)  # 検証用データを使って予測"
   ]
  },
  {
   "cell_type": "markdown",
   "metadata": {
    "id": "4DyLmcrtzLMN"
   },
   "source": [
    "#### **可視化**\n",
    "単回帰分析の予測結果を可視化してみましょう。\n",
    "\n",
    "横軸は説明変数(`temperature`)、縦軸は目的変数(`power`)を表しています。"
   ]
  },
  {
   "cell_type": "code",
   "execution_count": null,
   "metadata": {
    "colab": {
     "base_uri": "https://localhost:8080/",
     "height": 279
    },
    "id": "ZHRA92lHzNTj",
    "outputId": "87f02d65-022b-44eb-e0ff-d99fb2cf624f"
   },
   "outputs": [],
   "source": [
    "# 予測結果を可視化\n",
    "plt.scatter(X_test, y_test, label=\"true\")\n",
    "plt.scatter(X_test, y_pred, label=\"pred\")\n",
    "plt.xlabel(\"temperature\")\n",
    "plt.ylabel(\"power\")\n",
    "plt.legend()\n",
    "plt.show()"
   ]
  },
  {
   "cell_type": "markdown",
   "metadata": {
    "id": "Fq14u5BpImZA"
   },
   "source": [
    "予測データが直線状になっていることから、単回帰分析は1次関数で予測していることが確認できました！"
   ]
  },
  {
   "cell_type": "markdown",
   "metadata": {
    "id": "AoZPAkUd3skv"
   },
   "source": [
    "#### **精度評価**\n",
    "この単回帰モデルの精度を\n",
    "\n",
    "* MAE\n",
    "* MSE\n",
    "* RMSE\n",
    "* RMSLE\n",
    "* MAPE\n",
    "\n",
    "で評価してみましょう。\n",
    "\n",
    "各評価指標は`sklearn.metrics`の各種ライブラリで計算することができます。\n",
    "\n",
    "ただしRMSE・RMSLEに関しては、MSE・MSLEの平方根を計算するという実装としています。"
   ]
  },
  {
   "cell_type": "code",
   "execution_count": null,
   "metadata": {
    "colab": {
     "base_uri": "https://localhost:8080/"
    },
    "id": "VWwXQQcF3iRI",
    "outputId": "6d788d41-4008-474c-bbed-038f1b740586"
   },
   "outputs": [],
   "source": [
    "# ライブラリのインポート\n",
    "from sklearn.metrics import mean_absolute_error, mean_squared_error, mean_squared_log_error, mean_absolute_percentage_error\n",
    "\n",
    "# MAE(Mean Absolute Error)\n",
    "print(\"MAE :\", mean_absolute_error(y_test, y_pred))  # 真の値、予測値の順\n",
    "\n",
    "# MSE(Mean Squared Error)\n",
    "print(\"MSE :\", mean_squared_error(y_test, y_pred))\n",
    "\n",
    "# RMSE(Root Mean Squared Error)\n",
    "print(\"RMSE :\", mean_squared_error(y_test, y_pred)**0.5)  # RMSEはMSEの平方根\n",
    "\n",
    "# RMSLE(Root Mean Squared Logarithmic Error)\n",
    "print(\"RMSLE :\", mean_squared_log_error(y_test, y_pred)**0.5)  # RMSLEはMSLEの平方根\n",
    "\n",
    "# MAPE(Mean Absolute Percentage Error)\n",
    "print(\"MAPE :\", mean_absolute_percentage_error(y_test, y_pred))"
   ]
  },
  {
   "cell_type": "markdown",
   "metadata": {
    "id": "yjZLvPlHTFQE"
   },
   "source": [
    "### **重回帰分析**\n",
    "---"
   ]
  },
  {
   "cell_type": "markdown",
   "metadata": {
    "id": "RPehk_cZIBDJ"
   },
   "source": [
    "#### **説明変数と目的変数に分ける**\n",
    "データを説明変数と目的変数に分けます。\n",
    "\n",
    "今度は説明変数を\n",
    "\n",
    "* `temperature`\n",
    "* `humidity`\n",
    "* `sun_hours` \n",
    "\n",
    "の3つに増やして予測を行っていきます。\n",
    "\n",
    "目的変数は単回帰分析と変わらず`power`です。"
   ]
  },
  {
   "cell_type": "code",
   "execution_count": null,
   "metadata": {
    "id": "b30dW2JEGPju"
   },
   "outputs": [],
   "source": [
    "# 説明変数\n",
    "X = df_pow[[\"temperature\",\"humidity\",\"sun_hours\"]]\n",
    "# 目的変数\n",
    "y = df_pow[\"power\"]"
   ]
  },
  {
   "cell_type": "markdown",
   "metadata": {
    "id": "d15d_Ahq5UVV"
   },
   "source": [
    "#### **学習用データと検証用データに分割**\n",
    "学習用データと検証用データに分けます。\n",
    "\n",
    "先ほどと同様に、`train_test_split`を用いて分割します。"
   ]
  },
  {
   "cell_type": "code",
   "execution_count": null,
   "metadata": {
    "colab": {
     "base_uri": "https://localhost:8080/"
    },
    "id": "bS-ZNOOA5UVj",
    "outputId": "debeeca2-7d30-44ae-f652-94ca9346b7ba"
   },
   "outputs": [],
   "source": [
    "# 学習用データと検証用データに分割\n",
    "X_train, X_test, y_train, y_test = train_test_split(X, y, test_size=0.25, random_state=42)\n",
    "\n",
    "# 学習用データと検証用データのサイズ\n",
    "print(X_train.shape, X_test.shape)"
   ]
  },
  {
   "cell_type": "markdown",
   "metadata": {
    "id": "M1cUsoXC48Ab"
   },
   "source": [
    "#### **学習**\n",
    "重回帰分析でも単回帰分析と同様、`sklearn.linear_model`の`LinearRegression`を用いることができます。"
   ]
  },
  {
   "cell_type": "code",
   "execution_count": null,
   "metadata": {
    "colab": {
     "base_uri": "https://localhost:8080/"
    },
    "id": "tXtRIr0a45MD",
    "outputId": "46e428ec-7596-416f-de61-98def5347f9a"
   },
   "outputs": [],
   "source": [
    "# 重回帰分析を実行\n",
    "lr_multi = LinearRegression()\n",
    "lr_multi.fit(X_train, y_train)"
   ]
  },
  {
   "cell_type": "markdown",
   "metadata": {
    "id": "hhMWmvYF45MH"
   },
   "source": [
    "#### **予測**\n",
    "`predict`メソッドで予測を行います。\n"
   ]
  },
  {
   "cell_type": "code",
   "execution_count": null,
   "metadata": {
    "colab": {
     "base_uri": "https://localhost:8080/"
    },
    "id": "1sI69sRa45MI",
    "outputId": "0da81e7e-18fe-46f0-dc00-375c7af97636"
   },
   "outputs": [],
   "source": [
    "# 予測を実行\n",
    "y_pred = lr_multi.predict(X_test)\n",
    "print(y_pred)"
   ]
  },
  {
   "cell_type": "markdown",
   "metadata": {},
   "source": [
    "#### **可視化**\n",
    "重回帰分析の予測結果を可視化してみましょう。\n",
    "\n",
    "単回帰分析の時は横軸を説明変数・縦軸を目的変数として可視化できましたが、今回のような重回帰分析の場合は説明変数が複数存在するため説明変数と目的変数のグラフを作ることが難しいです。\n",
    "\n",
    "そのため、横軸に正解（実際の電力需要量）、縦軸に予測値（予測した電力需要量）として散布図をプロットしてみましょう。\n",
    "\n",
    "`y=x`の直線が完璧に予測できているパターンなので、それに近いほどうまく予測できていることになります。"
   ]
  },
  {
   "cell_type": "code",
   "execution_count": null,
   "metadata": {},
   "outputs": [],
   "source": [
    "# 予測結果を可視化\n",
    "plt.plot(y_test, y_test, label=\"理想y=x\")\n",
    "plt.scatter(y_test, y_pred, color=\"orange\", label=\"予測\")\n",
    "plt.xlabel(\"実際の電力需要量[万kW]\")\n",
    "plt.ylabel(\"予測電力需要量[万kW]\")\n",
    "plt.legend()\n",
    "plt.show()"
   ]
  },
  {
   "cell_type": "markdown",
   "metadata": {
    "id": "ZNLuaQao45MI"
   },
   "source": [
    "#### **精度評価**\n",
    "単回帰の場合と同様に、重回帰モデルの精度を\n",
    "\n",
    "* MAE\n",
    "* MSE\n",
    "* RMSE\n",
    "* RMSLE\n",
    "* MAPE\n",
    "\n",
    "で評価してみます。"
   ]
  },
  {
   "cell_type": "code",
   "execution_count": null,
   "metadata": {
    "colab": {
     "base_uri": "https://localhost:8080/"
    },
    "id": "qhjJ6_TI45MI",
    "outputId": "7c46e3c2-c2ca-4519-e69e-c32d40988346"
   },
   "outputs": [],
   "source": [
    "# MAE(Mean Absolute Error)\n",
    "print(\"MAE :\", mean_absolute_error(y_test, y_pred))\n",
    "\n",
    "# MSE(Mean Squared Error)\n",
    "print(\"MSE :\", mean_squared_error(y_test, y_pred))\n",
    "\n",
    "# RMSE(Root Mean Squared Error)\n",
    "print(\"RMSE :\", mean_squared_error(y_test, y_pred)**0.5)\n",
    "\n",
    "# RMSLE(Root Mean Squared Logarithmic Error)\n",
    "print(\"RMSLE :\", mean_squared_log_error(y_test, y_pred)**0.5)\n",
    "\n",
    "# MAPE(Mean Absolute Percentage Error)\n",
    "print(\"MAPE :\", mean_absolute_percentage_error(y_test, y_pred))"
   ]
  },
  {
   "cell_type": "markdown",
   "metadata": {
    "id": "7n6AkpyPKshn"
   },
   "source": [
    "単回帰モデルと比べるといずれの評価指標も小さくなっており、精度が高くなっていることがわかります。"
   ]
  },
  {
   "cell_type": "markdown",
   "metadata": {
    "id": "yHaT1JHeLizv"
   },
   "source": [
    "#### **係数の解釈**\n",
    "重回帰分析では、次のような式で予測を行います。\n",
    "\n",
    "$$\n",
    "y = w_1x_1 + w_2x_2 + w_3x_3\n",
    "$$\n",
    "\n",
    "ここで、$w_1,w_2,w_3$はデータから学習することで決定される係数です（回帰係数という）。  \n",
    "この回帰係数を見ることで、説明変数が目的変数にどの程度影響を与えるのかを知ることができます。\n",
    "\n",
    "次のように`coef_`属性を使うと、回帰係数を取得することができます。\n"
   ]
  },
  {
   "cell_type": "code",
   "execution_count": null,
   "metadata": {
    "colab": {
     "base_uri": "https://localhost:8080/"
    },
    "id": "lOfPak5mkO6j",
    "outputId": "6000d552-7408-4426-ea39-20ef186e4831"
   },
   "outputs": [],
   "source": [
    "print(lr_multi.coef_)"
   ]
  },
  {
   "cell_type": "markdown",
   "metadata": {
    "id": "6912jg9rNYIK"
   },
   "source": [
    "左から順に、`temperature`、`humidity`、`sun_hours`の回帰係数が表されています。\n",
    "\n",
    "`temperature`の係数の絶対値が最大であることから、3つの説明変数のうち最も目的変数に影響を与える変数は`temperature`であることが考えられます。\n",
    "\n",
    "また、回帰係数の正負に注目すると、すべての変数が負の数になっています。  \n",
    "これは、`temperature`、`humidity`、`sun_hours`の値が大きくなると、目的変数`power`の値は小さくなることを示しています。"
   ]
  },
  {
   "cell_type": "markdown",
   "metadata": {
    "id": "aLemnPpdS7Gg"
   },
   "source": [
    "# **分類タスク(タイタニック問題)**\n",
    "---\n",
    "タイタニック号沈没事故の際に搭乗していた乗員乗客に関するデータを用いて、事故で生存したか死亡したかを予測する機械学習モデルを作りましょう。"
   ]
  },
  {
   "cell_type": "markdown",
   "metadata": {
    "id": "UzfVbcZIUSmq"
   },
   "source": [
    "## **データの準備**\n",
    "学習に使うデータをpandasのDataFrameとして読み込みます。\n"
   ]
  },
  {
   "cell_type": "code",
   "execution_count": null,
   "metadata": {
    "colab": {
     "base_uri": "https://localhost:8080/",
     "height": 363
    },
    "id": "R_0RlvdtS3pU",
    "outputId": "e93702b2-e4fc-4771-e721-41b762814383"
   },
   "outputs": [],
   "source": [
    "df_nic = pd.read_csv(\"./titanic.csv\")\n",
    "df_nic.head(10)"
   ]
  },
  {
   "cell_type": "markdown",
   "metadata": {
    "id": "1Il1Bbp7URaj"
   },
   "source": [
    "また、各カラムについては以下の通りです。\n",
    "\n",
    "| カラム名 | 意味 |\n",
    "| ---- | ---- |\n",
    "| **PassengerId** | 乗客者ID |\n",
    "| **Survived** | 生存状況  (0＝死亡、1＝生存) |\n",
    "| **Pclass** | 旅客クラス  (1＝1等、2＝2等、3＝3等) |\n",
    "| **Name** | 乗客名 |\n",
    "| **Sex** | 性別 |\n",
    "| **Age** | 年齢 |\n",
    "| **SibSp** | 同乗している兄弟・配偶者の数 |\n",
    "| **Parch** | 同乗している親・子供の数 |\n",
    "| **Ticket** | チケット番号 |\n",
    "| **Fare** | 旅客運賃 |\n",
    "| **Cabin** | 客室番号 |\n",
    "| **Embarked** | 出港地  (C＝Cherbourg、Q＝Queenstown、S＝Southampton)|"
   ]
  },
  {
   "cell_type": "markdown",
   "metadata": {
    "id": "dgn3-kzrUYl2"
   },
   "source": [
    "## **前処理**"
   ]
  },
  {
   "cell_type": "markdown",
   "metadata": {
    "id": "sVoRIhLMVEbw"
   },
   "source": [
    "#### **説明変数の選択**\n",
    "過学習や次元の呪いを避けるために、目的変数に寄与しなさそうな列をあらかじめ削除しておきます。\n",
    "\n",
    "ここでは\n",
    "\n",
    "* `PassengerId`\n",
    "* `Name`\n",
    "* `Ticket`\n",
    "* `Cabin`\n",
    "\n",
    "を削除します。\n"
   ]
  },
  {
   "cell_type": "code",
   "execution_count": null,
   "metadata": {
    "id": "mz2gYTVHV4bm"
   },
   "outputs": [],
   "source": [
    "df_nic.drop([\"PassengerId\",\"Name\",\"Ticket\",\"Cabin\"], axis=1, inplace=True)"
   ]
  },
  {
   "cell_type": "markdown",
   "metadata": {},
   "source": [
    "`inplace=True`は、元のデータフレームを書き換えるという意味を表します。"
   ]
  },
  {
   "cell_type": "markdown",
   "metadata": {
    "id": "zZmfHRnOMTdt"
   },
   "source": [
    "### **カテゴリ変数を数値に置き換える**\n",
    "今回のデータには数値型の値だけではなく文字列型の値も含まれています：\n",
    "\n",
    "* `Sex`\n",
    "* `Embarked`\n",
    "\n",
    "文字列のままではモデルへ入力することができないため、適切な変換を行っておく必要があります。  \n",
    "\n",
    "列`Sex`に対して\n",
    "\n",
    "* `male`   → 0\n",
    "* `female` → 1\n",
    "\n",
    "列`Embarked`に対して\n",
    "\n",
    "* `C` → 0\n",
    "* `Q` → 1\n",
    "* `S` → 2\n",
    "\n",
    "と変換することも考えられますが、特に `Embarked` について、`C`と`S`の方が`C`と`Q`より離れていると考えられるのか、その倍率は2倍なのか、といった関係性を不用意に与えてしまうこととなってしまいます。\n",
    "\n",
    "そのため、\n",
    "\n",
    "* `Sex が female かどうかの列`\n",
    "* `Sex が male かどうかの列`\n",
    "* `Embarked が C かどうかの列`\n",
    "* `Embarked が Qかどうかの列`\n",
    "* `Embarked が S かどうかの列`\n",
    "\n",
    "という、0, 1 のフラグ列を追加するという変換を行うことが一般的です。\n",
    "\n",
    "これは「one-hot化」や「one-hot vector 化」と呼ばれ、下のコードで実現できます。"
   ]
  },
  {
   "cell_type": "code",
   "execution_count": null,
   "metadata": {},
   "outputs": [],
   "source": [
    "df_nic = pd.get_dummies(df_nic)\n",
    "df_nic.head(5)"
   ]
  },
  {
   "cell_type": "markdown",
   "metadata": {
    "id": "FsnAwU8SShXb"
   },
   "source": [
    "#### **欠損値を埋める**\n",
    "次に、欠損している値がないか確認してみましょう。  "
   ]
  },
  {
   "cell_type": "code",
   "execution_count": null,
   "metadata": {
    "colab": {
     "base_uri": "https://localhost:8080/"
    },
    "id": "HqF0FlExWnm_",
    "outputId": "425f3102-f86c-4d49-8be4-96351cc59770"
   },
   "outputs": [],
   "source": [
    "# 各列の欠損値の個数\n",
    "df_nic.isnull().sum()"
   ]
  },
  {
   "cell_type": "markdown",
   "metadata": {
    "id": "ox-uHt_XS_ZK"
   },
   "source": [
    "`Age`の列に欠損値が存在することがわかりました。  \n",
    "欠損値が存在したままでは、（勾配ブ―スティングなど一部のモデルを除いて）モデルに入力することができません。\n",
    "\n",
    "そのため欠損値は\n",
    "\n",
    "* 中央値や最頻値などの代表値で埋める\n",
    "* 欠損値を含む行や列を削除する\n",
    "\n",
    "などの処理が必要です。ここでは\n",
    "\n",
    "* `Age`の欠損値を中央値で埋める\n",
    "\n",
    "という処理を行います。"
   ]
  },
  {
   "cell_type": "code",
   "execution_count": null,
   "metadata": {
    "id": "BWBDgUQ2Wx36"
   },
   "outputs": [],
   "source": [
    "# 列 Age の欠損値を中央値で埋める\n",
    "df_nic[\"Age\"].fillna(df_nic[\"Age\"].median(), inplace=True)"
   ]
  },
  {
   "cell_type": "code",
   "execution_count": null,
   "metadata": {
    "colab": {
     "base_uri": "https://localhost:8080/"
    },
    "id": "Yv-Ur_LbWmN3",
    "outputId": "91af7572-50fd-4b12-9a97-0917e5529870"
   },
   "outputs": [],
   "source": [
    "# 欠損値がなくなったかを確認\n",
    "df_nic.isnull().sum()"
   ]
  },
  {
   "cell_type": "markdown",
   "metadata": {
    "id": "d9Fn4e1XTtxB"
   },
   "source": [
    "## **学習・精度評価**"
   ]
  },
  {
   "cell_type": "markdown",
   "metadata": {
    "id": "-Tzrg5bYXN4k"
   },
   "source": [
    "#### **説明変数と目的変数に分ける**\n",
    "データを説明変数と目的変数に分けます。\n",
    "\n",
    "説明変数は\n",
    "\n",
    "* `Pclass`\n",
    "* `Sex_female`\n",
    "* `Sex_male`\n",
    "* `Age`\n",
    "* `SibSp`\n",
    "* `Parch`\n",
    "* `Fare`\n",
    "* `Embarked_C`\n",
    "* `Embarked_Q`\n",
    "* `Embarked_S`\n",
    "\n",
    "目的変数は\n",
    "\n",
    "* `Survived`\n",
    "\n",
    "です。"
   ]
  },
  {
   "cell_type": "code",
   "execution_count": null,
   "metadata": {
    "id": "Iq_MmKvgQAUK"
   },
   "outputs": [],
   "source": [
    "# 説明変数\n",
    "X = df_nic[[\n",
    "    \"Pclass\",\n",
    "    \"Sex_female\",\n",
    "    \"Sex_male\",\n",
    "    \"Age\",\n",
    "    \"SibSp\",\n",
    "    \"Parch\",\n",
    "    \"Fare\",\n",
    "    \"Embarked_C\",\n",
    "    \"Embarked_Q\",\n",
    "    \"Embarked_S\"\n",
    "]]\n",
    "# 目的変数\n",
    "y = df_nic[\"Survived\"]"
   ]
  },
  {
   "cell_type": "markdown",
   "metadata": {
    "id": "DiBRCQOdVlRL"
   },
   "source": [
    "### **学習用データと検証用データに分割**\n",
    "学習用データと検証用データに分けます。  \n",
    "これまでと同様に、`train_test_split`を用いて分割します。"
   ]
  },
  {
   "cell_type": "code",
   "execution_count": null,
   "metadata": {
    "colab": {
     "base_uri": "https://localhost:8080/"
    },
    "id": "1O6kghkEVlRM",
    "outputId": "a29aa9ea-65fb-4e98-c44a-48330b19f5bb"
   },
   "outputs": [],
   "source": [
    "# 学習用データと検証用データに分割\n",
    "X_train, X_test, y_train, y_test = train_test_split(X, y, test_size=0.25, random_state=42)\n",
    "\n",
    "# 学習用データと検証用データのサイズ\n",
    "print(X_train.shape, X_test.shape)"
   ]
  },
  {
   "cell_type": "markdown",
   "metadata": {
    "id": "BNUTdkYwTCAd"
   },
   "source": [
    "### **ロジスティック回帰**\n",
    "---\n"
   ]
  },
  {
   "cell_type": "markdown",
   "metadata": {
    "id": "r45euAfHV9J6"
   },
   "source": [
    "#### **学習**\n",
    "`sklearn.linear_model`の`LogisticRegression`を用いるとロジスティック回帰を行うことができます。\n",
    "\n",
    "`fit`メソッドで学習を行います。"
   ]
  },
  {
   "cell_type": "code",
   "execution_count": null,
   "metadata": {
    "colab": {
     "base_uri": "https://localhost:8080/"
    },
    "id": "3dNAeyL2V9J7",
    "outputId": "0d306df2-bcb6-498a-c2bc-b1f2304544f7"
   },
   "outputs": [],
   "source": [
    "# ライブラリのインポート\n",
    "from sklearn.linear_model import LogisticRegression\n",
    "\n",
    "# ロジスティック回帰の実行\n",
    "logit = LogisticRegression(max_iter=500)\n",
    "logit.fit(X_train, y_train)"
   ]
  },
  {
   "cell_type": "markdown",
   "metadata": {
    "id": "ZWFELyZNV9J-"
   },
   "source": [
    "#### **予測**\n",
    "`predict`メソッドで予測を行います。ここで返される値は`0`または`1`のどちらかです。\n",
    "\n",
    "一方、`predict_proba`メソッドを使った場合は、目的変数が各クラスに属する確率をそれぞれ返します。"
   ]
  },
  {
   "cell_type": "code",
   "execution_count": null,
   "metadata": {
    "colab": {
     "base_uri": "https://localhost:8080/"
    },
    "id": "DwUpS3F2V9J-",
    "outputId": "50a27103-17b9-402f-dec6-24884119d637"
   },
   "outputs": [],
   "source": [
    "# predictの場合は 0 or 1\n",
    "y_pred = logit.predict(X_test)\n",
    "print(y_pred)"
   ]
  },
  {
   "cell_type": "code",
   "execution_count": null,
   "metadata": {
    "colab": {
     "base_uri": "https://localhost:8080/"
    },
    "id": "iSh7DSMGZwM-",
    "outputId": "47532993-fc13-49fe-f473-d2a80720846e"
   },
   "outputs": [],
   "source": [
    "# predict_probaの場合は確率(0～1)\n",
    "y_pred_p = logit.predict_proba(X_test)[:,1]  # 目的変数が1となる確率を取り出す\n",
    "print(y_pred_p)"
   ]
  },
  {
   "cell_type": "markdown",
   "metadata": {
    "id": "PcxSGclbV9J_"
   },
   "source": [
    "#### **精度評価**\n",
    "このロジスティック回帰モデルの精度を\n",
    "\n",
    "* 正解率\n",
    "* 再現率\n",
    "* 適合率\n",
    "* F値\n",
    "* AUC\n",
    "\n",
    "で評価してみましょう。\n",
    "\n",
    "各評価指標は`sklearn.metrics`の各種ライブラリで計算することができます。"
   ]
  },
  {
   "cell_type": "code",
   "execution_count": null,
   "metadata": {
    "colab": {
     "base_uri": "https://localhost:8080/"
    },
    "id": "wASwkJwAV9J_",
    "outputId": "f653f461-fdb3-4882-84c5-b9d9f9f04a61"
   },
   "outputs": [],
   "source": [
    "# ライブラリのインポート\n",
    "from sklearn.metrics import confusion_matrix\n",
    "\n",
    "# 混同行列\n",
    "print(confusion_matrix(y_test, y_pred))"
   ]
  },
  {
   "cell_type": "markdown",
   "metadata": {},
   "source": [
    "【補足】\n",
    "`confusion_matrix` の各要素は\n",
    "* 左上\n",
    "    * 実際に0（死亡）で、0と予測した数(True Negative)\n",
    "* 右上\n",
    "    * 実際に0（死亡）で、1と予測した数(False Positive)\n",
    "* 左下\n",
    "    * 実際に1（生存）で、0と予測した数(False Negative)\n",
    "* 右下\n",
    "    * 実際に1（生存）で、1と予測した数(True Positive)\n",
    "で並んでいる。\n",
    "\n",
    "$$\n",
    "\\begin{matrix}\n",
    " & \\mathrm{predict\\_as\\_0} & \\mathrm{predict\\_as\\_1} \\\\\n",
    "\\mathrm{actual\\_0} & TN & FP \\\\\n",
    "\\mathrm{actual\\_1} & FN & TP \\\\\n",
    "\\end{matrix}\n",
    "$$"
   ]
  },
  {
   "cell_type": "code",
   "execution_count": null,
   "metadata": {
    "colab": {
     "base_uri": "https://localhost:8080/"
    },
    "id": "r2HyQIiGY_kC",
    "outputId": "d91af731-ede0-4c7c-dfc7-7b3d8468370d"
   },
   "outputs": [],
   "source": [
    "# ライブラリのインポート\n",
    "from sklearn.metrics import accuracy_score, recall_score, precision_score, f1_score\n",
    "\n",
    "# 正解率(Accuracy)\n",
    "print(\"Accuracy :\", accuracy_score(y_test, y_pred))\n",
    "\n",
    "# 再現率(Recall)\n",
    "print(\"Recall :\", recall_score(y_test, y_pred))\n",
    "\n",
    "# 適合率(Precision)\n",
    "print(\"Precision :\", precision_score(y_test, y_pred))\n",
    "\n",
    "# F値(F-value)\n",
    "print(\"F-value :\", f1_score(y_test, y_pred))"
   ]
  },
  {
   "cell_type": "code",
   "execution_count": null,
   "metadata": {
    "colab": {
     "base_uri": "https://localhost:8080/",
     "height": 296
    },
    "id": "eQ4KDHteZIRC",
    "outputId": "a9da6176-780b-4d50-f8f6-1f3ec85c6824"
   },
   "outputs": [],
   "source": [
    "# ライブラリのインポート\n",
    "from sklearn.metrics import roc_auc_score, roc_curve\n",
    "\n",
    "# AUC\n",
    "print(\"AUC :\", roc_auc_score(y_test, y_pred_p))\n",
    "\n",
    "# ROC曲線\n",
    "fpr,tpr,thresholds = roc_curve(y_test, y_pred_p)\n",
    "\n",
    "# 可視化\n",
    "plt.plot(fpr, tpr)\n",
    "plt.xlabel(\"False Positive Rate\")\n",
    "plt.ylabel(\"True Positive Rate\")\n",
    "plt.show()"
   ]
  },
  {
   "attachments": {},
   "cell_type": "markdown",
   "metadata": {
    "id": "awIRB9trTIk9"
   },
   "source": [
    "### **SVM(Support Vector Machine)**\n",
    "---"
   ]
  },
  {
   "cell_type": "markdown",
   "metadata": {
    "id": "NKU69LpKbxQJ"
   },
   "source": [
    "#### **学習**\n",
    "`sklearn.svm`の`SVC`を用いるとSVMによる分類を行うことができます。  \n",
    "SVMのハイパーパラメータである`C`（誤分類に対して与えるペナルティの大きさ）を指定し、`fit`メソッドで学習を行います。"
   ]
  },
  {
   "cell_type": "code",
   "execution_count": null,
   "metadata": {
    "colab": {
     "base_uri": "https://localhost:8080/"
    },
    "id": "p9Ec7uTzbxQK",
    "outputId": "54dd72dc-ba32-4457-ac4d-f16bee9741d5"
   },
   "outputs": [],
   "source": [
    "# ライブラリのインポート\n",
    "from sklearn.svm import SVC\n",
    "\n",
    "# SVCの実行\n",
    "svc = SVC(C=750, probability=True)  # Cパラメータを750とする\n",
    "svc.fit(X_train, y_train)"
   ]
  },
  {
   "cell_type": "markdown",
   "metadata": {
    "id": "zck18agNbxQK"
   },
   "source": [
    "#### **予測**\n",
    "`predict`メソッドで予測を行います。ここで返される値は`0`または`1`のどちらかです。\n",
    "\n",
    "一方、`predict_proba`メソッドを使った場合は、目的変数が各クラスに属する確率をそれぞれ返します。"
   ]
  },
  {
   "cell_type": "code",
   "execution_count": null,
   "metadata": {
    "colab": {
     "base_uri": "https://localhost:8080/"
    },
    "id": "I8sloIsXh1iu",
    "outputId": "7c25bd5b-cb98-40a7-ff1a-b16e12aa3260"
   },
   "outputs": [],
   "source": [
    "# predictの場合は 0 or 1\n",
    "y_pred = svc.predict(X_test)\n",
    "print(y_pred)"
   ]
  },
  {
   "cell_type": "code",
   "execution_count": null,
   "metadata": {
    "colab": {
     "base_uri": "https://localhost:8080/"
    },
    "id": "Uv07hQiIbxQL",
    "outputId": "43a9fc16-c313-434d-8d06-019d5cc04ebb"
   },
   "outputs": [],
   "source": [
    "# predict_probaの場合は確率(0～1)\n",
    "y_pred_p = svc.predict_proba(X_test)[:,1]  # 目的変数が1となる確率を取り出す\n",
    "print(y_pred_p)"
   ]
  },
  {
   "cell_type": "markdown",
   "metadata": {
    "id": "RVSfR4RybxQL"
   },
   "source": [
    "#### **精度評価**"
   ]
  },
  {
   "cell_type": "code",
   "execution_count": null,
   "metadata": {
    "colab": {
     "base_uri": "https://localhost:8080/"
    },
    "id": "TcT2MvGWbxQL",
    "outputId": "b3849492-448e-4159-ba7d-74aa25b7d931"
   },
   "outputs": [],
   "source": [
    "# 混同行列\n",
    "print(confusion_matrix(y_test, y_pred))"
   ]
  },
  {
   "cell_type": "code",
   "execution_count": null,
   "metadata": {
    "colab": {
     "base_uri": "https://localhost:8080/"
    },
    "id": "D86TIfkhbxQL",
    "outputId": "43ea45bf-9899-4e65-9b55-329e402e8e65"
   },
   "outputs": [],
   "source": [
    "# 正解率(Accuracy)\n",
    "print(\"Accuracy :\", accuracy_score(y_test, y_pred))\n",
    "\n",
    "# 再現率(Recall)\n",
    "print(\"Recall :\", recall_score(y_test, y_pred))\n",
    "\n",
    "# 適合率(Precision)\n",
    "print(\"Precision :\", precision_score(y_test, y_pred))\n",
    "\n",
    "# F値(F-value)\n",
    "print(\"F-value :\", f1_score(y_test, y_pred))"
   ]
  },
  {
   "cell_type": "code",
   "execution_count": null,
   "metadata": {
    "colab": {
     "base_uri": "https://localhost:8080/",
     "height": 296
    },
    "id": "mQM51jmubxQM",
    "outputId": "fdaf23e7-c3a4-4f94-bc11-49c2f934975c"
   },
   "outputs": [],
   "source": [
    "# AUC\n",
    "print(\"AUC :\", roc_auc_score(y_test, y_pred_p))\n",
    "\n",
    "# ROC曲線\n",
    "fpr,tpr,thresholds = roc_curve(y_test, y_pred_p)\n",
    "\n",
    "# 可視化\n",
    "plt.plot(fpr, tpr)\n",
    "plt.xlabel(\"False Positive Rate\")\n",
    "plt.ylabel(\"True Positive Rate\")\n",
    "plt.show()"
   ]
  },
  {
   "cell_type": "markdown",
   "metadata": {
    "id": "KDReWBsFTN4o"
   },
   "source": [
    "### **k近傍法(k-NN)**\n",
    "---"
   ]
  },
  {
   "cell_type": "markdown",
   "metadata": {
    "id": "VV4BkV7XccfO"
   },
   "source": [
    "##### **学習**\n",
    "`sklearn.neighbors`の`KNeighborClassifier`を用いるとk近傍法による分類を行うことができます。  \n",
    "ハイパーパラメータ`k`の値を指定し、`fit`メソッドで学習を行います。"
   ]
  },
  {
   "cell_type": "code",
   "execution_count": null,
   "metadata": {
    "colab": {
     "base_uri": "https://localhost:8080/"
    },
    "id": "PT1mLyvrccfO",
    "outputId": "92607af5-8807-490e-a196-24374a0f89ac"
   },
   "outputs": [],
   "source": [
    "# ライブラリのインポート\n",
    "from sklearn.neighbors import KNeighborsClassifier\n",
    "\n",
    "# k近傍法の実行\n",
    "knn = KNeighborsClassifier(n_neighbors=3)  # k=3とする\n",
    "knn.fit(X_train, y_train)"
   ]
  },
  {
   "cell_type": "markdown",
   "metadata": {
    "id": "y9YqwZBTccfP"
   },
   "source": [
    "#### **予測**\n",
    "`predict`メソッドで予測を行います。ここで返される値は`0`または`1`のどちらかです。\n",
    "\n",
    "一方、`predict_proba`メソッドを使った場合は、目的変数が各クラスに属する確率をそれぞれ返します。"
   ]
  },
  {
   "cell_type": "code",
   "execution_count": null,
   "metadata": {
    "id": "8rLTkAEXccfP"
   },
   "outputs": [],
   "source": [
    "y_pred = knn.predict(X_test)\n",
    "y_pred_p = knn.predict_proba(X_test)[:,1]"
   ]
  },
  {
   "cell_type": "code",
   "execution_count": null,
   "metadata": {
    "colab": {
     "base_uri": "https://localhost:8080/"
    },
    "id": "3dZLyd90ccfP",
    "outputId": "562ab523-e5c1-4f84-d04c-5844a8850d85"
   },
   "outputs": [],
   "source": [
    "print(y_pred)"
   ]
  },
  {
   "cell_type": "code",
   "execution_count": null,
   "metadata": {
    "colab": {
     "base_uri": "https://localhost:8080/"
    },
    "id": "04lG6h6MccfP",
    "outputId": "a9e5c074-fe9f-4887-aec1-70ee99c3ee2c"
   },
   "outputs": [],
   "source": [
    "print(y_pred_p)"
   ]
  },
  {
   "cell_type": "markdown",
   "metadata": {
    "id": "3ih0avplccfP"
   },
   "source": [
    "#### **精度評価**"
   ]
  },
  {
   "cell_type": "code",
   "execution_count": null,
   "metadata": {
    "colab": {
     "base_uri": "https://localhost:8080/"
    },
    "id": "k1LUxkEnccfP",
    "outputId": "5e621cdb-ad4e-4f90-a7ca-e5f8825cc4b3"
   },
   "outputs": [],
   "source": [
    "# 混同行列\n",
    "print(confusion_matrix(y_test, y_pred))"
   ]
  },
  {
   "cell_type": "code",
   "execution_count": null,
   "metadata": {
    "colab": {
     "base_uri": "https://localhost:8080/"
    },
    "id": "TLctUEmLccfQ",
    "outputId": "943ed063-e9d0-4494-eebb-8f2d9c073045"
   },
   "outputs": [],
   "source": [
    "# 正解率(Accuracy)\n",
    "print(\"Accuracy :\", accuracy_score(y_test, y_pred))\n",
    "\n",
    "# 再現率(Recall)\n",
    "print(\"Recall :\", recall_score(y_test, y_pred))\n",
    "\n",
    "# 適合率(Precision)\n",
    "print(\"Precision :\", precision_score(y_test, y_pred))\n",
    "\n",
    "# F値(F-value)\n",
    "print(\"F-value :\", f1_score(y_test, y_pred))"
   ]
  },
  {
   "cell_type": "code",
   "execution_count": null,
   "metadata": {
    "colab": {
     "base_uri": "https://localhost:8080/",
     "height": 296
    },
    "id": "iEPYpLGKccfQ",
    "outputId": "94dcabec-1a23-43c9-f1cb-665074fa0cfd"
   },
   "outputs": [],
   "source": [
    "# AUC\n",
    "print(\"AUC :\", roc_auc_score(y_test, y_pred_p))\n",
    "\n",
    "# ROC曲線\n",
    "fpr,tpr,thresholds = roc_curve(y_test, y_pred_p)\n",
    "\n",
    "# 可視化\n",
    "plt.plot(fpr, tpr)\n",
    "plt.xlabel(\"False Positive Rate\")\n",
    "plt.ylabel(\"True Positive Rate\")\n",
    "plt.show()"
   ]
  },
  {
   "cell_type": "markdown",
   "metadata": {
    "id": "0fJ3niDCTQmQ"
   },
   "source": [
    "# **クラスター分析(顧客セグメンテーション)**\n",
    "---\n",
    "顧客の属性データを用いて、顧客をいくつかのグループに分ける教師なし学習モデルを作りましょう。"
   ]
  },
  {
   "cell_type": "markdown",
   "metadata": {
    "id": "QtfLYeQFdxrz"
   },
   "source": [
    "## **データの準備**\n",
    "学習に使うデータをpandasのDataFrameとして読み込みます。\n",
    "\n",
    "データ出典：https://www.kaggle.com/datasets/vjchoudhary7/customer-segmentation-tutorial-in-python"
   ]
  },
  {
   "cell_type": "code",
   "execution_count": null,
   "metadata": {
    "colab": {
     "base_uri": "https://localhost:8080/",
     "height": 206
    },
    "id": "fCTyVJ_crGEd",
    "outputId": "1318933b-2e0a-4613-8aac-a35a6bb1109a"
   },
   "outputs": [],
   "source": [
    "df_cust = pd.read_csv(\"./Mall_Customers.csv\")\n",
    "df_cust.head(10)"
   ]
  },
  {
   "cell_type": "markdown",
   "metadata": {
    "id": "0ladihabrUqO"
   },
   "source": [
    "また、各カラムについては以下の通りです。\n",
    "\n",
    "| カラム名 | 意味 |\n",
    "| ---- | ---- |\n",
    "| **CustomerID** | 顧客のID |\n",
    "| **Gender** | 顧客の性別 |\n",
    "| **Age** | 顧客の年齢 |\n",
    "| **Annual Income (k$)** | 顧客の年収 |\n",
    "| **Spending Score (1-100)** | 顧客の行動と支出から割り当てられたスコア |\n",
    "\n",
    "今回は、これらのうち\n",
    "\n",
    "* `Annual Income (k$)`\n",
    "* `Spending Score (1-100)`\n",
    "\n",
    "の2つのみを使ってモデルを作っていきます。"
   ]
  },
  {
   "cell_type": "code",
   "execution_count": null,
   "metadata": {},
   "outputs": [],
   "source": [
    "x = \"Annual Income (k$)\"\n",
    "y = \"Spending Score (1-100)\"\n",
    "\n",
    "sns.scatterplot(x=x, y=y, data=df_cust)\n",
    "plt.show()"
   ]
  },
  {
   "cell_type": "markdown",
   "metadata": {
    "id": "AW5w0loGs-pa"
   },
   "source": [
    "## **前処理**"
   ]
  },
  {
   "cell_type": "markdown",
   "metadata": {
    "id": "h7HzRPZAg29m"
   },
   "source": [
    "### **スケーリング**\n",
    "k-means法では各データ間の距離を用いるため、説明変数間でスケールが統一されていないとうまくいかない場合があります。\n",
    "\n",
    "ここでは、最大値が1、最小値が0になるようにデータを変換する**正規化**という手法を用いてスケールを統一します。\n",
    "\n",
    "$$\n",
    "(変換後) = \\frac{(\\text{変換前})-(\\text{最小値})}{(\\text{最大値})-(\\text{最小値)}}\n",
    "$$\n",
    "\n",
    "`sklearn.preprocessing`の`MinMaxScaler`を用いると正規化を行うことができます。"
   ]
  },
  {
   "cell_type": "code",
   "execution_count": null,
   "metadata": {
    "id": "fS-Hw2RgbTcS"
   },
   "outputs": [],
   "source": [
    "# ライブラリのインポート\n",
    "from sklearn.preprocessing import MinMaxScaler\n",
    "\n",
    "# 必要な列を取り出す\n",
    "X = df_cust[[\"Annual Income (k$)\", \"Spending Score (1-100)\"]]\n",
    "\n",
    "# 正規化\n",
    "minmax = MinMaxScaler()\n",
    "X = minmax.fit_transform(X)"
   ]
  },
  {
   "cell_type": "markdown",
   "metadata": {
    "id": "9xqtRHOMTVcZ"
   },
   "source": [
    "## **k-means法**\n",
    "---"
   ]
  },
  {
   "cell_type": "markdown",
   "metadata": {
    "id": "ey1StUzPjLL5"
   },
   "source": [
    "#### **学習**\n",
    "`sklearn.cluster`の`KMeans`を用いるとk-means法によるクラスター分析を行うことができます。  \n",
    "\n",
    "引数`n_clusters`でクラスター数を指定し、`fit`メソッドで学習を行います。\n"
   ]
  },
  {
   "cell_type": "code",
   "execution_count": null,
   "metadata": {
    "colab": {
     "base_uri": "https://localhost:8080/"
    },
    "id": "uYwcZfm-sq0T",
    "outputId": "0aad0fd8-1ed1-44eb-ad67-9f2d3eadeef9"
   },
   "outputs": [],
   "source": [
    "# ライブラリのインポート\n",
    "from sklearn.cluster import KMeans\n",
    "\n",
    "# k-meansの実行\n",
    "km = KMeans(n_clusters=5)  # クラスター数を5とする\n",
    "km.fit(X)"
   ]
  },
  {
   "cell_type": "markdown",
   "metadata": {
    "id": "qt38tmstjwZI"
   },
   "source": [
    "#### **予測**\n",
    "`predict`メソッドで各データがクラスターに割り当てられます。  \n",
    "今回はクラスター数を5としたので、各データには`0`から`4`までのラベルが割り当てられます。"
   ]
  },
  {
   "cell_type": "code",
   "execution_count": null,
   "metadata": {
    "colab": {
     "base_uri": "https://localhost:8080/"
    },
    "id": "Lef_ggIDsttu",
    "outputId": "0de44875-e66e-4a09-d4bb-e476bb5ed286"
   },
   "outputs": [],
   "source": [
    "labels = km.predict(X)\n",
    "print(labels)"
   ]
  },
  {
   "cell_type": "markdown",
   "metadata": {
    "id": "fkHQznIgxIHy"
   },
   "source": [
    "### **可視化**\n",
    "うまくクラスターに分割できているかを確認してみましょう。"
   ]
  },
  {
   "cell_type": "code",
   "execution_count": null,
   "metadata": {
    "colab": {
     "base_uri": "https://localhost:8080/",
     "height": 279
    },
    "id": "TKDZnViEezw3",
    "outputId": "ef7bb5ad-f626-4818-8429-143fe534293b"
   },
   "outputs": [],
   "source": [
    "x = \"Annual Income (k$)\"\n",
    "y = \"Spending Score (1-100)\"\n",
    "\n",
    "df_lab = pd.DataFrame(np.c_[X, labels], columns=[x,y,\"cluster\"])\n",
    "\n",
    "sns.scatterplot(x=x, y=y, hue=\"cluster\", data=df_lab, palette=\"Set1\")\n",
    "plt.show()"
   ]
  },
  {
   "cell_type": "markdown",
   "metadata": {
    "id": "9QRgDNDTm5KX"
   },
   "source": [
    "5つのクラスターにうまく分類できていることがわかります。"
   ]
  }
 ],
 "metadata": {
  "colab": {
   "provenance": [],
   "toc_visible": true
  },
  "kernelspec": {
   "display_name": "Python 3",
   "language": "python",
   "name": "python3"
  },
  "language_info": {
   "codemirror_mode": {
    "name": "ipython",
    "version": 3
   },
   "file_extension": ".py",
   "mimetype": "text/x-python",
   "name": "python",
   "nbconvert_exporter": "python",
   "pygments_lexer": "ipython3",
   "version": "3.9.13"
  },
  "vscode": {
   "interpreter": {
    "hash": "aee8b7b246df8f9039afb4144a1f6fd8d2ca17a180786b69acc140d282b71a49"
   }
  }
 },
 "nbformat": 4,
 "nbformat_minor": 1
}
