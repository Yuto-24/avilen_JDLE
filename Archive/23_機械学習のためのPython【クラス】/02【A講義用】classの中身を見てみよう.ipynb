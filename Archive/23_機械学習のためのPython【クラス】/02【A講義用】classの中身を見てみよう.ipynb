{
 "cells": [
  {
   "cell_type": "markdown",
   "id": "b41ae908",
   "metadata": {},
   "source": [
    "## 1.`Fukubiki`クラスの中身を確認する\n",
    "\n",
    "この章では、前回サンプルで出した`Fukubiki`クラスの中身を確認しよう。\n",
    "\n",
    "`class Fukubiki():`という部分より下が、クラスの定義となっている。"
   ]
  },
  {
   "cell_type": "code",
   "execution_count": 2,
   "id": "5a50e8c4",
   "metadata": {},
   "outputs": [],
   "source": [
    "import random \n",
    "import time\n",
    "\n",
    "class Fukubiki():\n",
    "    def __init__(self, number_of_balls=100, win=2):\n",
    "        self.NoB = number_of_balls\n",
    "        self.win = win\n",
    "        self.lose = self.NoB - self.win\n",
    "        self.result=[]\n",
    "        self.balls=[]\n",
    "        for i in range(self.win):\n",
    "            self.balls.append(\"win\")\n",
    "        for i in range(self.lose):\n",
    "            self.balls.append(\"lose\")\n",
    "        \n",
    "    def pick_ball(self, times=1, wait=3):\n",
    "        if len(self.balls)<times:\n",
    "            print(\"Balls are not enough...\")\n",
    "        else:\n",
    "            for i in range(times):\n",
    "                time.sleep(wait)\n",
    "                n=random.randint(0,len(self.balls)-1)\n",
    "                r=self.balls.pop(n)\n",
    "                if r==\"win\":\n",
    "                    print(\"You win! Congratulations!\")\n",
    "                else:\n",
    "                    print(\"You lose...Sorry...\")\n",
    "                self.result.append(r)\n",
    "                if len(self.balls)==0:\n",
    "                    print(\"All balls are gone.\")"
   ]
  },
  {
   "cell_type": "markdown",
   "id": "596c57ea",
   "metadata": {},
   "source": [
    "## 2.概観：クラスとメソッド\n",
    "\n",
    "コードを大まかに眺めてみると、`class Fukubiki():`の下に`def __init__`と`def pick_ball`という記述が目立つはずだ。\n",
    "\n",
    "`.keys()`や`.sort()`、`.append()`のような型特有の関数をメソッドという。メンバ関数と呼ばれることもある。\n",
    "\n",
    "今回は`Fukubiki`という「クラス」に特有の関数として`__init__`と`pick_ball`を定義している。\n",
    "\n",
    "このあとで、さらに詳しく学んでいこう。"
   ]
  },
  {
   "cell_type": "markdown",
   "id": "539cf235",
   "metadata": {},
   "source": [
    "### `__init__`：コンストラクタ\n",
    "\n",
    "クラスを作成する際に特に重要な、初期設定を担う`__init__`を紹介する。\n",
    "\n",
    "これはコンストラクタと呼び、このオブジェクト(データ型)のデータを作ったとき最初に自動的に実行される関数である。\n",
    "\n",
    "そのため、初期設定として変数の定義を書くのが通例となっている。\n",
    "\n",
    "この関数の引数は、オブジェクトを作成する際に()の中に書くことで、インスタンス化したときの設定値で変更できるようになる。\n",
    "\n",
    "もちろん`(インスタンス名).__init__()`を実行することも可能である(ほぼ使うことはないが)"
   ]
  },
  {
   "cell_type": "code",
   "execution_count": null,
   "id": "35c46f25",
   "metadata": {},
   "outputs": [],
   "source": [
    "def __init__(self, number_of_balls=100, win=2):\n",
    "        self.NoB = number_of_balls\n",
    "        self.win = win\n",
    "        self.lose = self.NoB - self.win\n",
    "        self.result=[]\n",
    "        self.balls=[]\n",
    "        for i in range(self.win):\n",
    "            self.balls.append(\"win\")\n",
    "        for i in range(self.lose):\n",
    "            self.balls.append(\"lose\")"
   ]
  },
  {
   "attachments": {},
   "cell_type": "markdown",
   "id": "0d04dd52",
   "metadata": {
    "colab_type": "text",
    "id": "i5PJ3XRIj4tJ"
   },
   "source": [
    "## 3.インスタンス変数(メンバ変数)\n",
    "\n",
    "**インスタンス変数**とはインスタンスごとに割り当てることができる変数のことを指す。**メンバ変数**と呼ぶこともある\n",
    "\n",
    "【例題】クラス`Person`を利用してインスタンスを生成した後、インスタンス変数を割り当ててみよう。"
   ]
  },
  {
   "cell_type": "code",
   "execution_count": 3,
   "id": "20720bbb",
   "metadata": {
    "colab": {
     "base_uri": "https://localhost:8080/",
     "height": 51
    },
    "colab_type": "code",
    "executionInfo": {
     "elapsed": 1240,
     "status": "ok",
     "timestamp": 1592276704137,
     "user": {
      "displayName": "Kurusu Yuugo",
      "photoUrl": "",
      "userId": "00117977046560544733"
     },
     "user_tz": -540
    },
    "id": "Oc8FSEqFkASC",
    "outputId": "33413287-a695-4d25-c991-89dd7c1a8364"
   },
   "outputs": [
    {
     "name": "stdout",
     "output_type": "stream",
     "text": [
      "太郎\n",
      "18\n"
     ]
    }
   ],
   "source": [
    "class Person():\n",
    "    pass\n",
    "    \n",
    "Taro = Person()\n",
    "\n",
    "# インスタンス変数へ値の代入\n",
    "Taro.name = \"太郎\"\n",
    "Taro.age = 18\n",
    "print(Taro.name)\n",
    "print(Taro.age)"
   ]
  },
  {
   "attachments": {},
   "cell_type": "markdown",
   "id": "fc523765",
   "metadata": {
    "colab_type": "text",
    "id": "XtglcDaniQiv"
   },
   "source": [
    "クラス`Person`は「人間のデータ」を扱う型という設定なので、  \n",
    "`Taro`には名前`name`と年齢`age`を格納するインスタンス変数を割り当てた。\n",
    "\n",
    "**インスタンス変数の宣言方法**\n",
    "* `変数名.インスタンス変数名 = 値` : インスタンス変数の生成後、値を代入している。\n",
    "\n",
    "\n",
    "【問題】クラス`Person`を利用してインスタンス`Jiro`を生成した後、  \n",
    "インスタンス変数として名前`name`と性別`gender`を割り当ててみよう。(値は名前は`次郎`、性別は`M`とする。)"
   ]
  },
  {
   "cell_type": "code",
   "execution_count": null,
   "id": "2467ce3b",
   "metadata": {
    "colab": {},
    "colab_type": "code",
    "id": "1v0SBgiSjzox"
   },
   "outputs": [],
   "source": []
  },
  {
   "cell_type": "markdown",
   "id": "7e25d0d0",
   "metadata": {
    "colab_type": "text",
    "id": "p7alFHhVVV1Q"
   },
   "source": [
    "コードを書き終えたら、以下のプログラムを実行して答えの確認をしよう。"
   ]
  },
  {
   "cell_type": "code",
   "execution_count": null,
   "id": "f7913d70",
   "metadata": {
    "colab": {
     "base_uri": "https://localhost:8080/",
     "height": 51
    },
    "colab_type": "code",
    "executionInfo": {
     "elapsed": 1080,
     "status": "ok",
     "timestamp": 1594965238411,
     "user": {
      "displayName": "Kurusu Yuugo",
      "photoUrl": "",
      "userId": "00117977046560544733"
     },
     "user_tz": -540
    },
    "id": "02HkW8jEVV1S",
    "outputId": "478beeb7-c2cc-46d3-9e24-b67447741616"
   },
   "outputs": [],
   "source": [
    "print(Jiro.name)\n",
    "print(Jiro.gender)"
   ]
  },
  {
   "attachments": {},
   "cell_type": "markdown",
   "id": "147bd855",
   "metadata": {
    "colab_type": "text",
    "id": "XOsxwymZmYTO"
   },
   "source": [
    "```\n",
    "次郎\n",
    "M\n",
    "```\n",
    "と表示されたら正解だ！"
   ]
  },
  {
   "cell_type": "markdown",
   "id": "09f595dd",
   "metadata": {
    "colab_type": "text",
    "id": "46ruhuENnqHa"
   },
   "source": [
    "## 4.インスタンスメソッド\n",
    "\n",
    "**インスタンスメソッド**とはクラス内に作成することができる**関数**のことを指す。\n",
    "\n",
    "【例題】クラス`Person2`にインスタンスメソッドを割り当てて宣言してみよう。"
   ]
  },
  {
   "cell_type": "code",
   "execution_count": 4,
   "id": "3d46fc26",
   "metadata": {
    "colab": {},
    "colab_type": "code",
    "id": "EJFUDCuwnu7V"
   },
   "outputs": [],
   "source": [
    "class Person2():\n",
    "    def intro(self):\n",
    "        print(f\"私の名前は{self.name}です。\")\n",
    "        print(f\"年齢は{self.age}歳です。\")"
   ]
  },
  {
   "cell_type": "markdown",
   "id": "aed1db4f",
   "metadata": {
    "colab_type": "text",
    "id": "7JGFZ5T1rHmE"
   },
   "source": [
    "クラス`Person2`には自己紹介をするインスタンスメソッドを定義した。\n",
    "\n",
    "**インスタンスメソッドの定義方法**\n",
    "```python\n",
    "class クラス名():\n",
    "    def メソッド名(self):  # ()の中にselfを忘れないよう注意する。\n",
    "        # 以降に関数処理プログラムを書く。\n",
    "        print(self.インスタンス変数名)  # インスタンス変数を利用する場合は左記のようにする。\n",
    "```\n",
    "* インスタンス変数をメソッド内で扱うときには`self.`が必要\n",
    "    * メソッド内でインスタンス変数を扱わない場合にも、宣言時の()内にselfは必須\n",
    "\n",
    "\n",
    "【例題】インスタンスメソッドを呼び出してみよう。"
   ]
  },
  {
   "cell_type": "code",
   "execution_count": 5,
   "id": "02bc2e20",
   "metadata": {
    "colab": {
     "base_uri": "https://localhost:8080/",
     "height": 51
    },
    "colab_type": "code",
    "executionInfo": {
     "elapsed": 1225,
     "status": "ok",
     "timestamp": 1592276704139,
     "user": {
      "displayName": "Kurusu Yuugo",
      "photoUrl": "",
      "userId": "00117977046560544733"
     },
     "user_tz": -540
    },
    "id": "2GIh4FJGp9e2",
    "outputId": "8258fdd7-800b-400a-dc5c-d2ea88ad9faf"
   },
   "outputs": [
    {
     "name": "stdout",
     "output_type": "stream",
     "text": [
      "私の名前は三郎です。\n",
      "年齢は14歳です。\n"
     ]
    }
   ],
   "source": [
    "Saburo = Person2()\n",
    "\n",
    "# インスタンス変数へ値の代入\n",
    "Saburo.name = \"三郎\"\n",
    "Saburo.age = 14\n",
    "# インスタンスメソッドの呼び出し\n",
    "Saburo.intro()"
   ]
  },
  {
   "attachments": {},
   "cell_type": "markdown",
   "id": "09ee0527",
   "metadata": {
    "colab_type": "text",
    "id": "B2I0XgMTxWjB"
   },
   "source": [
    "インスタンスメソッドが呼び出されて自己紹介の文章が表示できた。\n",
    "\n",
    "**インスタンスメソッドの呼び出し方**\n",
    "* `変数名.インスタンスメソッド名()` : 基本的に関数の利用方法と変わらない"
   ]
  },
  {
   "cell_type": "markdown",
   "id": "8f758b0d",
   "metadata": {
    "colab_type": "text",
    "id": "tDp62AHBD7EZ"
   },
   "source": [
    "### インスタンスメソッドと引数\n",
    "インスタンスメソッドはクラス内に作成する\\\"関数\\\"ということで、当然引数や返り値を扱うこともできる。\n",
    "\n",
    "【例題】以下のプログラムを実行しイメージを掴もう。"
   ]
  },
  {
   "cell_type": "code",
   "execution_count": 6,
   "id": "6cc963eb",
   "metadata": {
    "colab": {},
    "colab_type": "code",
    "id": "hCrW-TVj1AMn"
   },
   "outputs": [],
   "source": [
    "class Person():\n",
    "    def how_old(self, year):\n",
    "        return 2020 - year"
   ]
  },
  {
   "cell_type": "code",
   "execution_count": 7,
   "id": "5daf6006",
   "metadata": {
    "colab": {
     "base_uri": "https://localhost:8080/",
     "height": 34
    },
    "colab_type": "code",
    "executionInfo": {
     "elapsed": 940,
     "status": "ok",
     "timestamp": 1594023952542,
     "user": {
      "displayName": "Kurusu Yuugo",
      "photoUrl": "",
      "userId": "00117977046560544733"
     },
     "user_tz": -540
    },
    "id": "YY6qWasDEety",
    "outputId": "becd8f83-e1fb-48ff-df2c-9b823df0c1c5"
   },
   "outputs": [
    {
     "name": "stdout",
     "output_type": "stream",
     "text": [
      "2020年現在、私は30歳です。\n"
     ]
    }
   ],
   "source": [
    "Shiro = Person()\n",
    "age = Shiro.how_old(1990)\n",
    "print(f\"2020年現在、私は{age}歳です。\")"
   ]
  },
  {
   "attachments": {},
   "cell_type": "markdown",
   "id": "0130c05a",
   "metadata": {
    "colab_type": "text",
    "id": "7mFf7HDPPCHf"
   },
   "source": [
    "**引数・返り値がある場合のインスタンスメソッドの定義方法**\n",
    "```python\n",
    "class クラス名():\n",
    "    def メソッド名(self, arg1, arg2):  # 引数はselfの後ろに , で区切って続ける\n",
    "        return value1  # 返り値はreturnの後ろに (半角スペース)を入れて続ける\n",
    "```\n",
    "\n",
    "**引数・返り値がある場合のインスタンスメソッドの呼び出し方法**\n",
    "* `value1 = 変数名.インスタンスメソッド名(arg1, arg2)` : 基本的に関数の利用方法と変わらない\n"
   ]
  },
  {
   "cell_type": "markdown",
   "id": "a721bd62",
   "metadata": {
    "colab_type": "text",
    "id": "_GQHwylbRDou"
   },
   "source": [
    "【問題】クラス`Pet`内にインスタンスメソッド`intro`を作り宣言しよう。  \n",
    "`intro`ではペットの紹介をすることとする。プログラムの穴埋めをした後、答え合わせ用のプログラムで確認をしよう。"
   ]
  },
  {
   "cell_type": "code",
   "execution_count": null,
   "id": "1e562bd1",
   "metadata": {
    "colab": {},
    "colab_type": "code",
    "id": "EAsnM_nowuY8"
   },
   "outputs": [],
   "source": []
  },
  {
   "cell_type": "markdown",
   "id": "910024a8",
   "metadata": {
    "colab_type": "text",
    "id": "QUbnYnS836Au"
   },
   "source": [
    "コードを書き終えたら、以下のプログラムを実行して答えの確認をしよう。"
   ]
  },
  {
   "cell_type": "code",
   "execution_count": null,
   "id": "1acad3d6",
   "metadata": {
    "colab": {
     "base_uri": "https://localhost:8080/",
     "height": 51
    },
    "colab_type": "code",
    "executionInfo": {
     "elapsed": 1585,
     "status": "ok",
     "timestamp": 1592276704509,
     "user": {
      "displayName": "Kurusu Yuugo",
      "photoUrl": "",
      "userId": "00117977046560544733"
     },
     "user_tz": -540
    },
    "id": "oKshq_z4zUe4",
    "outputId": "98931a73-b3ac-4b50-b1da-9f5438e88ed7"
   },
   "outputs": [],
   "source": [
    "Pochi = Pet()\n",
    "\n",
    "# インスタンス変数へ値の代入\n",
    "Pochi.name = \"ポチ\"\n",
    "Pochi.age = 2\n",
    "Pochi.gender = \"メス\"\n",
    "\n",
    "# インスタンスメソッドの呼び出し\n",
    "Pochi.intro()"
   ]
  },
  {
   "attachments": {},
   "cell_type": "markdown",
   "id": "f8c7012e",
   "metadata": {
    "colab_type": "text",
    "id": "xQU21yoF38Jz"
   },
   "source": [
    "```\n",
    "この子の名前はポチです。\n",
    "2歳で性別はメスだよ\n",
    "```\n",
    "と表示されたら正解だ！"
   ]
  },
  {
   "cell_type": "markdown",
   "id": "2873e73f",
   "metadata": {},
   "source": [
    "## 5.Fukubikiクラスの復習"
   ]
  },
  {
   "attachments": {},
   "cell_type": "markdown",
   "id": "62c31b4c",
   "metadata": {},
   "source": [
    "再度Fukubikiクラスを確認し、これまで学んだ概念がどう使われているか振り返ろう。\n",
    "\n",
    "- コンストラクタ `__init__` とインスタンス関数`pick_ball`が定義されている\n",
    "- `__init__` では以下のインスタンス変数が作成されている\n",
    "  - NoB: ボールの数\n",
    "  - win: あたりの数\n",
    "  - lose: はずれの数\n",
    "  - result: 結果を格納するためのリスト（インスタンス生成時は空リスト）\n",
    "  - balls: 引かれるボールを順に並べたリスト"
   ]
  },
  {
   "cell_type": "code",
   "execution_count": 8,
   "id": "30225475",
   "metadata": {},
   "outputs": [],
   "source": [
    "import random \n",
    "import time\n",
    "\n",
    "class Fukubiki():\n",
    "    def __init__(self, number_of_balls=100, win=2):\n",
    "        self.NoB = number_of_balls\n",
    "        self.win = win\n",
    "        self.lose = self.NoB - self.win\n",
    "        self.result=[]\n",
    "        self.balls=[]\n",
    "        for i in range(self.win):\n",
    "            self.balls.append(\"win\")\n",
    "        for i in range(self.lose):\n",
    "            self.balls.append(\"lose\")\n",
    "        \n",
    "    def pick_ball(self, times=1, wait=3):\n",
    "        if len(self.balls)<times:\n",
    "            print(\"Balls are not enough...\")\n",
    "        else:\n",
    "            for i in range(times):\n",
    "                time.sleep(wait)\n",
    "                n=random.randint(0,len(self.balls)-1)\n",
    "                r=self.balls.pop(n)\n",
    "                if r==\"win\":\n",
    "                    print(\"You win! Congratulations!\")\n",
    "                else:\n",
    "                    print(\"You lose...Sorry...\")\n",
    "                self.result.append(r)\n",
    "                if len(self.balls)==0:\n",
    "                    print(\"All balls are gone.\")"
   ]
  }
 ],
 "metadata": {
  "kernelspec": {
   "display_name": "Python 3",
   "language": "python",
   "name": "python3"
  },
  "language_info": {
   "codemirror_mode": {
    "name": "ipython",
    "version": 3
   },
   "file_extension": ".py",
   "mimetype": "text/x-python",
   "name": "python",
   "nbconvert_exporter": "python",
   "pygments_lexer": "ipython3",
   "version": "3.9.13"
  },
  "vscode": {
   "interpreter": {
    "hash": "aee8b7b246df8f9039afb4144a1f6fd8d2ca17a180786b69acc140d282b71a49"
   }
  }
 },
 "nbformat": 4,
 "nbformat_minor": 5
}
