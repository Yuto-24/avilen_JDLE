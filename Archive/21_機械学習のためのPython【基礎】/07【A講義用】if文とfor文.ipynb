{
 "cells": [
  {
   "cell_type": "markdown",
   "id": "b004857f",
   "metadata": {
    "colab_type": "text",
    "id": "CobD7kr5t6an"
   },
   "source": [
    "# for文とif文\n",
    "\n",
    "プログラミングの中でも最も重要なコーディングが「ループ」と「条件分岐」だ。 \n",
    "\n",
    "\n",
    "## この章の目標\n",
    "* 「for文」を使ってループを理解する\n",
    "\n",
    "* 「if文」を使って条件分岐を理解する\n",
    "\n",
    "* 「:（コロン）」と「インデント」の意義と使い方を理解する\n",
    "\n",
    "  → **プログラミングに必要不可欠な「ループ」と「条件分岐」の知識を身に着けよう！**\n",
    "\n"
   ]
  },
  {
   "cell_type": "markdown",
   "id": "ef98b366",
   "metadata": {},
   "source": [
    "## 1. for\n",
    "\n",
    "まず、以下のプログラムを実行してみよう。"
   ]
  },
  {
   "cell_type": "code",
   "execution_count": null,
   "id": "3a5f5aa9",
   "metadata": {},
   "outputs": [],
   "source": [
    "for i in [0, 1, 2, 3, 4]:\n",
    "    print(i)\n",
    "print(\"ここまで\")"
   ]
  },
  {
   "cell_type": "markdown",
   "id": "5c6bae76",
   "metadata": {},
   "source": [
    "このように、`for i in [0, 1, 2, 3, 4]:`というコードで、変数 `i` は0, 1, 2, 3, 4 と変化し、それに伴ってその下の処理が繰り返し実行される"
   ]
  },
  {
   "cell_type": "markdown",
   "id": "fb60d05f",
   "metadata": {},
   "source": [
    "- 繰り返し処理の内容はインデントを下げて書く\n",
    "  - Jupyter Notebookではデフォルトでインデントされているが、tabキーでインデントできる\n",
    "- ```for i in```の後には「リスト」などの、複数の要素を持っている(イテラブル、iterable)ような変数を入力する\n",
    "- 変数`i`にはその複数の要素が順番に格納されていく\n",
    "- ループ変数は`i`でなくても、`x`でも、`kazu`でもどんな変数名でもよい"
   ]
  },
  {
   "cell_type": "markdown",
   "id": "cbb703e5",
   "metadata": {},
   "source": [
    "インデントが下がっているところが「ブロック」として一塊に認識される。\n",
    "下のコードを実行し、上の実行結果との違いを確認しよう。"
   ]
  },
  {
   "cell_type": "code",
   "execution_count": null,
   "id": "7debfd93",
   "metadata": {},
   "outputs": [],
   "source": [
    "for i in [0, 1, 2, 3, 4]:\n",
    "    print(i)\n",
    "    print(\"ここまで\")"
   ]
  },
  {
   "cell_type": "markdown",
   "id": "22d23b63",
   "metadata": {},
   "source": [
    "### IndentationError\n",
    "\n",
    "ブロックの指定を誤ることで発生しやすいエラー。\n",
    "\n",
    "プログラムの前に不要な空白があったり、必要な空白がないというエラー。\n",
    "\n",
    "Pythonはプログラムの文が開始される位置も重要で、無意味に行頭にスペースがあるとエラーになる。"
   ]
  },
  {
   "cell_type": "code",
   "execution_count": null,
   "id": "e4eff783",
   "metadata": {},
   "outputs": [],
   "source": [
    "for i in [0, 1, 2]:\n",
    "print(i)"
   ]
  },
  {
   "cell_type": "markdown",
   "id": "d05949f7",
   "metadata": {},
   "source": [
    "変数`i`を無視して、繰り返しの回数だけに注目することもできる\n",
    "\n",
    "【例題】\"ひじ\"を5回出力しよう"
   ]
  },
  {
   "cell_type": "code",
   "execution_count": null,
   "id": "1b82e8a1",
   "metadata": {},
   "outputs": [],
   "source": [
    "for i in [0, 1, 2, 3, 4]:\n",
    "    print(\"ひじ\")"
   ]
  },
  {
   "cell_type": "markdown",
   "id": "73cc6749",
   "metadata": {
    "colab_type": "text",
    "id": "cSSGd3usJ_bI"
   },
   "source": [
    "【問題】for文を使って\"みりん\"を10行出力したあとに、\"鼻の長い動物は？\"と出力しよう。"
   ]
  },
  {
   "cell_type": "code",
   "execution_count": null,
   "id": "6c9d9353",
   "metadata": {
    "colab": {
     "base_uri": "https://localhost:8080/",
     "height": 204
    },
    "colab_type": "code",
    "executionInfo": {
     "elapsed": 670,
     "status": "ok",
     "timestamp": 1577122435485,
     "user": {
      "displayName": "Kurusu Yuugo",
      "photoUrl": "",
      "userId": "00117977046560544733"
     },
     "user_tz": -540
    },
    "id": "M1zqQEUmK1Oz",
    "outputId": "01612495-c9c5-4ae3-ffae-299897a757c2"
   },
   "outputs": [],
   "source": []
  },
  {
   "cell_type": "markdown",
   "id": "870b5eeb",
   "metadata": {},
   "source": [
    "## 2. range\n",
    "\n",
    "要素数が5個、10個といったリストを毎回要素から書いていくのは手間がかかる。\n",
    "\n",
    "そこで活用できるのが`range`である。"
   ]
  },
  {
   "cell_type": "markdown",
   "id": "4b82a967",
   "metadata": {},
   "source": [
    "【例題】数字の0から9を出力しよう"
   ]
  },
  {
   "cell_type": "code",
   "execution_count": null,
   "id": "2cc399ee",
   "metadata": {},
   "outputs": [],
   "source": [
    "for i in range(10):\n",
    "    print(i)"
   ]
  },
  {
   "cell_type": "markdown",
   "id": "42703525",
   "metadata": {},
   "source": [
    "`range(n)`は厳密にはリストではないのだが、`0からn-1までの要素を並べたリスト（のようなもの）`と捉えればよい。"
   ]
  },
  {
   "cell_type": "markdown",
   "id": "77f4070d",
   "metadata": {
    "colab_type": "text",
    "id": "RUrQvAoKPj5z"
   },
   "source": [
    "【問題】for文とrangeを使って数字の1から5を出力しよう"
   ]
  },
  {
   "cell_type": "code",
   "execution_count": null,
   "id": "e3617520",
   "metadata": {
    "colab": {
     "base_uri": "https://localhost:8080/",
     "height": 102
    },
    "colab_type": "code",
    "executionInfo": {
     "elapsed": 656,
     "status": "ok",
     "timestamp": 1577122435487,
     "user": {
      "displayName": "Kurusu Yuugo",
      "photoUrl": "",
      "userId": "00117977046560544733"
     },
     "user_tz": -540
    },
    "id": "pHcSebOeNQnJ",
    "outputId": "bb201df2-b4c0-4835-fec5-172f0e3792dc",
    "scrolled": true
   },
   "outputs": [],
   "source": []
  },
  {
   "cell_type": "markdown",
   "id": "fe14ba6b",
   "metadata": {
    "colab_type": "text",
    "id": "WXkJ3vrKQNUO"
   },
   "source": [
    "### rangeの応用\n",
    "\n",
    "【例題】10以上20未満の偶数をすべて出力しよう\n"
   ]
  },
  {
   "cell_type": "code",
   "execution_count": null,
   "id": "521bf16d",
   "metadata": {
    "colab": {
     "base_uri": "https://localhost:8080/",
     "height": 102
    },
    "colab_type": "code",
    "executionInfo": {
     "elapsed": 653,
     "status": "ok",
     "timestamp": 1577122435488,
     "user": {
      "displayName": "Kurusu Yuugo",
      "photoUrl": "",
      "userId": "00117977046560544733"
     },
     "user_tz": -540
    },
    "id": "wZsNDEfYPtDq",
    "outputId": "873ab802-ddd6-4c9f-b028-f0cad9c1ce4e"
   },
   "outputs": [],
   "source": [
    "for i in range(10, 20, 2):\n",
    "    print(i)"
   ]
  },
  {
   "cell_type": "markdown",
   "id": "7959a354",
   "metadata": {},
   "source": [
    "`range(10, 20, 2)` は「数字の10から始まり、2ごとに数字を出力し、20に到達した時点で終了」を表している。\n",
    "\n",
    "実は```range()```の括弧でループの回数を指定する代わりに、数字を3つ指定できる。それらは`,`カンマで区切られ、`range()`の**引数**と呼ぶ。\n",
    "\n",
    "`range`の1番目の引数はループ変数の開始の値、2番目の引数は終了の値、3番目の引数はループごとの変化の大きさを表す。\n",
    "\n",
    "2番目の引数である終了の値は、その値を含まない（その値と同じになったかその値を超えた時点でループが終了する）ところが注意点。\n",
    "\n",
    "\n",
    "- **range(開始,　終了,　変化)**で覚えよう！"
   ]
  },
  {
   "cell_type": "markdown",
   "id": "464f2f7a",
   "metadata": {
    "colab_type": "text",
    "id": "HKRwT8xcUF3z"
   },
   "source": [
    "【問題】for文を使って1以上20未満の3の倍数をすべて出力しよう。"
   ]
  },
  {
   "cell_type": "code",
   "execution_count": null,
   "id": "35a7310f",
   "metadata": {
    "colab": {
     "base_uri": "https://localhost:8080/",
     "height": 119
    },
    "colab_type": "code",
    "executionInfo": {
     "elapsed": 645,
     "status": "ok",
     "timestamp": 1577122435489,
     "user": {
      "displayName": "Kurusu Yuugo",
      "photoUrl": "",
      "userId": "00117977046560544733"
     },
     "user_tz": -540
    },
    "id": "4doBZDfeQc5A",
    "outputId": "0a712d99-211c-44e3-c4e4-e3b1c08d297a"
   },
   "outputs": [],
   "source": []
  },
  {
   "cell_type": "markdown",
   "id": "e0a43d0d",
   "metadata": {
    "colab_type": "text",
    "id": "1uPqyY5WsWS5"
   },
   "source": [
    "## 3. if\n",
    "【例題】変数`number`に何らかの値を代入する。int型ならその数値を3倍した値を出力し、それ以外の型なら「計算できません」と出力しよう。"
   ]
  },
  {
   "cell_type": "code",
   "execution_count": null,
   "id": "b7fbbd0e",
   "metadata": {
    "colab": {
     "base_uri": "https://localhost:8080/",
     "height": 34
    },
    "colab_type": "code",
    "executionInfo": {
     "elapsed": 1613,
     "status": "ok",
     "timestamp": 1577122206129,
     "user": {
      "displayName": "Kurusu Yuugo",
      "photoUrl": "",
      "userId": "00117977046560544733"
     },
     "user_tz": -540
    },
    "id": "NvFuYWGi--vd",
    "outputId": "8b55a50e-8b5d-46a6-8e82-292a587cd23b"
   },
   "outputs": [],
   "source": [
    "number = 5\n",
    "if type(number) == int:\n",
    "    print(number*3)\n",
    "else:\n",
    "    print(\"計算できません\")"
   ]
  },
  {
   "cell_type": "code",
   "execution_count": null,
   "id": "8b65aea5",
   "metadata": {},
   "outputs": [],
   "source": [
    "number = \"555\"\n",
    "if type(number) == int:\n",
    "    print(number*3)\n",
    "else:\n",
    "    print(\"計算できません\")"
   ]
  },
  {
   "cell_type": "markdown",
   "id": "06ca9fdf",
   "metadata": {
    "colab_type": "text",
    "id": "IWTNNqRciRkr"
   },
   "source": [
    "- `if type(number) == int:`は「もしnumberの型が\"int\"に等しいなら、次のプログラムを実行してください。」という命令になる\n",
    "    - `==`はイコールを2つ重ねて、if文のなかで2つの要素が等しいかどうかを計算する演算子"
   ]
  },
  {
   "cell_type": "markdown",
   "id": "af1bdd29",
   "metadata": {
    "colab_type": "text",
    "id": "UP_kdm8SlkwP"
   },
   "source": [
    "【問題】変数`day`(日)に`\"Sunday\"`(日曜日)を代入する。次にif文を使って変数`day`が`\"Sunday\"`なら、`\"Holiday!\"`(休日)を出力しよう。"
   ]
  },
  {
   "cell_type": "code",
   "execution_count": null,
   "id": "d4e9b983",
   "metadata": {
    "colab": {
     "base_uri": "https://localhost:8080/",
     "height": 34
    },
    "colab_type": "code",
    "executionInfo": {
     "elapsed": 1599,
     "status": "ok",
     "timestamp": 1577122206138,
     "user": {
      "displayName": "Kurusu Yuugo",
      "photoUrl": "",
      "userId": "00117977046560544733"
     },
     "user_tz": -540
    },
    "id": "HgVJrjigk7I1",
    "outputId": "a4a46bb3-cba4-4dd7-9c35-b9f74da83730"
   },
   "outputs": [],
   "source": []
  },
  {
   "cell_type": "markdown",
   "id": "162588cc",
   "metadata": {},
   "source": [
    "【補足】if文の条件の書き方\n",
    "\n",
    "- ```==```や```!=```,```>=```,```<=```などの比較演算子が使用できる\n",
    "- int,float,str,list型など、条件式に使う変数の型も様々なものがある\n",
    "- 条件式の結果が```True```か```False```で判定できればよい"
   ]
  },
  {
   "cell_type": "code",
   "execution_count": null,
   "id": "f78117d4",
   "metadata": {},
   "outputs": [],
   "source": [
    "\"weather\"!=\"tenki\""
   ]
  },
  {
   "cell_type": "code",
   "execution_count": null,
   "id": "d1269f26",
   "metadata": {},
   "outputs": [],
   "source": [
    "2 >= 1"
   ]
  },
  {
   "cell_type": "code",
   "execution_count": null,
   "id": "81400fe5",
   "metadata": {},
   "outputs": [],
   "source": [
    "0.0 == 0.1"
   ]
  },
  {
   "cell_type": "markdown",
   "id": "9c164ec2",
   "metadata": {
    "colab_type": "text",
    "id": "RuIupeB8nead"
   },
   "source": [
    "## 4. else\n",
    "\n",
    "【例題】変数`weather`に`\"rainy\"`を入力したときは\"Umbrella!\"を出力し、それ以外を入力したときは\"No umbrealla!\"を出力しよう。"
   ]
  },
  {
   "cell_type": "code",
   "execution_count": null,
   "id": "9cc50e29",
   "metadata": {
    "colab": {
     "base_uri": "https://localhost:8080/",
     "height": 51
    },
    "colab_type": "code",
    "executionInfo": {
     "elapsed": 4235,
     "status": "ok",
     "timestamp": 1577620159973,
     "user": {
      "displayName": "Kurusu Yuugo",
      "photoUrl": "",
      "userId": "00117977046560544733"
     },
     "user_tz": -540
    },
    "id": "BPiASVTvo8KH",
    "outputId": "e0a6769f-41a8-4007-ef4b-637b80f9e7cb"
   },
   "outputs": [],
   "source": [
    "weather = input()\n",
    "if weather == \"rainy\":\n",
    "    print(\"Umbrella!\")\n",
    "else:\n",
    "    print(\"No umbrella!\")"
   ]
  },
  {
   "cell_type": "markdown",
   "id": "82ee429f",
   "metadata": {
    "colab_type": "text",
    "id": "Ll885dWXnehf"
   },
   "source": [
    "- このように、**if文で条件が満たされない場合**の処理をしたいときは、`else`を使う。\n",
    "- elseは先頭に空白を開けず、ifと同じ位置から```:```をつけて書く。\n",
    "- `else`で実行される処理`print(\"No umbrella!\")`は、インデントを下げて(先頭に空白を開けて)書こう。"
   ]
  },
  {
   "cell_type": "markdown",
   "id": "078fc9a6",
   "metadata": {
    "colab_type": "text",
    "id": "NY146DctyMlu"
   },
   "source": [
    "【問題】変数dayに曜日を入力する。次にif文を使って変数dayが\"Sunday\"なら、\"Holiday!\"を出力し、そうでないなら\"Weekday!\"(平日)を出力しよう。"
   ]
  },
  {
   "cell_type": "code",
   "execution_count": null,
   "id": "38eb43d6",
   "metadata": {
    "colab": {
     "base_uri": "https://localhost:8080/",
     "height": 34
    },
    "colab_type": "code",
    "executionInfo": {
     "elapsed": 1586,
     "status": "ok",
     "timestamp": 1577122206141,
     "user": {
      "displayName": "Kurusu Yuugo",
      "photoUrl": "",
      "userId": "00117977046560544733"
     },
     "user_tz": -540
    },
    "id": "rCl736YbyME4",
    "outputId": "efc31d68-397f-411e-8d0d-b42eb562640e"
   },
   "outputs": [],
   "source": []
  },
  {
   "cell_type": "markdown",
   "id": "673d0940",
   "metadata": {
    "colab_type": "text",
    "id": "PO-qWfTyqQ1k"
   },
   "source": [
    "## 5. elif\n",
    "\n",
    "【例題】変数weatherに天気を入力する。次に変数weatherが\"rainy\"なら、\"Umbrella!\"を出力し、\"storm\"なら\"Stay home!\"(家にいる)を出力し、どちらでもないなら\"No umbrealla!\"を出力しよう。"
   ]
  },
  {
   "cell_type": "code",
   "execution_count": null,
   "id": "77ba2469",
   "metadata": {
    "colab": {
     "base_uri": "https://localhost:8080/",
     "height": 34
    },
    "colab_type": "code",
    "executionInfo": {
     "elapsed": 1579,
     "status": "ok",
     "timestamp": 1577122206142,
     "user": {
      "displayName": "Kurusu Yuugo",
      "photoUrl": "",
      "userId": "00117977046560544733"
     },
     "user_tz": -540
    },
    "id": "YZjmSl0Ep76G",
    "outputId": "058d8ec9-60ee-4c9f-d6f7-36115a582774"
   },
   "outputs": [],
   "source": [
    "weather = input()\n",
    "if weather == \"rainy\":\n",
    "    print(\"Umbrella!\")\n",
    "elif weather == \"storm\":\n",
    "    print(\"Stay home!\")\n",
    "else:\n",
    "    print(\"No umbrella!\")"
   ]
  },
  {
   "cell_type": "markdown",
   "id": "5a1f106a",
   "metadata": {
    "colab_type": "text",
    "id": "-NWBlYPlqjJL"
   },
   "source": [
    "- このように、**if文で条件が満たされないが、別の条件を満たすとき**にしたい処理は`elif`を使う\n",
    "    - `elif`も`if`と同じインデントから書こう\n",
    "- まず`weather`は`\"rainy\"`かどうかがチェックされ、次に`weather`は`\"storm\"`かどうかチェックされ、どれでもないなら`else`以下の処理が行われる。"
   ]
  },
  {
   "cell_type": "markdown",
   "id": "6fc740fb",
   "metadata": {
    "colab_type": "text",
    "id": "Xgso8Ikvrj3P"
   },
   "source": [
    "【問題】変数dayに曜日を入力する。次にif文を使い、変数dayが\"Sunday\"なら\"Holiday!\"を出力し、\"Saturday\"なら\"Holiday???\"を出力し、どちらでもないなら\"Weekday!\"(平日)を出力しよう。"
   ]
  },
  {
   "cell_type": "code",
   "execution_count": null,
   "id": "8d9e090a",
   "metadata": {
    "colab": {
     "base_uri": "https://localhost:8080/",
     "height": 51
    },
    "colab_type": "code",
    "executionInfo": {
     "elapsed": 10441,
     "status": "ok",
     "timestamp": 1582261706697,
     "user": {
      "displayName": "정범준",
      "photoUrl": "https://lh3.googleusercontent.com/a-/AAuE7mBOM61BGwey2npNQfr0e2LCuA9eQMwGWK2paLHa=s64",
      "userId": "01726864658215807628"
     },
     "user_tz": -540
    },
    "id": "4nnuBD8wsC_Q",
    "outputId": "b6edbca0-b49a-4761-955f-7988d3d3b457"
   },
   "outputs": [],
   "source": []
  }
 ],
 "metadata": {
  "kernelspec": {
   "display_name": "avilen-ml",
   "language": "python",
   "name": "avilen-ml"
  },
  "language_info": {
   "codemirror_mode": {
    "name": "ipython",
    "version": 3
   },
   "file_extension": ".py",
   "mimetype": "text/x-python",
   "name": "python",
   "nbconvert_exporter": "python",
   "pygments_lexer": "ipython3",
   "version": "3.9.7"
  },
  "vscode": {
   "interpreter": {
    "hash": "31f2aee4e71d21fbe5cf8b01ff0e069b9275f58929596ceb00d14d90e3e16cd6"
   }
  }
 },
 "nbformat": 4,
 "nbformat_minor": 5
}
