{
 "cells": [
  {
   "cell_type": "markdown",
   "id": "5d31c88a",
   "metadata": {
    "colab_type": "text",
    "id": "_rlZMBTz24-I"
   },
   "source": [
    "# 関数\n",
    "---\n",
    "\n",
    "関数の役割は、プログラムを機能ごとにまとめて扱いやすくすることだ。\n",
    "\n",
    "この章では「返り値」と「引数」を理解し、関数を使いこなそう。"
   ]
  },
  {
   "cell_type": "markdown",
   "id": "b00f44b4",
   "metadata": {
    "colab_type": "text",
    "id": "zJEfVAPoz3no"
   },
   "source": [
    "## 1. 関数の定義\n",
    "\n",
    "同じ処理を複数回行うとき、ループ処理以外に**「関数」**が使える。\n",
    "\n",
    "【例題】関数`pizza`を定義(作成)して、実行してみよう。\n",
    "まずは、以下のセルを実行して、関数を定義しよう。"
   ]
  },
  {
   "cell_type": "code",
   "execution_count": 1,
   "id": "7f8dc7e7",
   "metadata": {
    "colab": {},
    "colab_type": "code",
    "id": "a4yh1eaSdzgS"
   },
   "outputs": [],
   "source": [
    "def pizza():\n",
    "    for i in range(10):\n",
    "        print(\"ピザ\")\n",
    "    print(\"ヒジ\")"
   ]
  },
  {
   "cell_type": "markdown",
   "id": "488533d6",
   "metadata": {
    "colab_type": "text",
    "id": "bu7b_fvs0sji"
   },
   "source": [
    "ここではまだ関数を定義しただけなので、関数の中身は実行されない。よって何も出力されない。\n",
    "\n",
    "`def 関数名():`では、関数を定義する。\n",
    "\n",
    "この関数の中身は、以降のプログラムで`pizza()`と書くことでいつでもどこでも実行できる\n",
    "\n",
    "\n",
    "それではさっそく、関数`pizza()`を使ってみよう"
   ]
  },
  {
   "cell_type": "code",
   "execution_count": 2,
   "id": "e172905b",
   "metadata": {
    "colab": {
     "base_uri": "https://localhost:8080/",
     "height": 85
    },
    "colab_type": "code",
    "executionInfo": {
     "elapsed": 839,
     "status": "ok",
     "timestamp": 1577122748125,
     "user": {
      "displayName": "Kurusu Yuugo",
      "photoUrl": "",
      "userId": "00117977046560544733"
     },
     "user_tz": -540
    },
    "id": "YbqYgqa11DFK",
    "outputId": "db979244-2eaf-4d43-9c4e-7a7b3016dd94"
   },
   "outputs": [
    {
     "name": "stdout",
     "output_type": "stream",
     "text": [
      "ピザ\n",
      "ピザ\n",
      "ピザ\n",
      "ピザ\n",
      "ピザ\n",
      "ピザ\n",
      "ピザ\n",
      "ピザ\n",
      "ピザ\n",
      "ピザ\n",
      "ヒジ\n"
     ]
    }
   ],
   "source": [
    "pizza()"
   ]
  },
  {
   "cell_type": "markdown",
   "id": "1565d16c",
   "metadata": {
    "colab_type": "text",
    "id": "uzbevpaX1JH3"
   },
   "source": [
    "- もう少し`pizza()`で遊んでみよう"
   ]
  },
  {
   "cell_type": "code",
   "execution_count": 3,
   "id": "00faa966",
   "metadata": {
    "colab": {
     "base_uri": "https://localhost:8080/",
     "height": 170
    },
    "colab_type": "code",
    "executionInfo": {
     "elapsed": 833,
     "status": "ok",
     "timestamp": 1577122748127,
     "user": {
      "displayName": "Kurusu Yuugo",
      "photoUrl": "",
      "userId": "00117977046560544733"
     },
     "user_tz": -540
    },
    "id": "M6DJPtPV1Pjo",
    "outputId": "8fce272b-682e-4860-d4f6-9825db5daaa3"
   },
   "outputs": [
    {
     "name": "stdout",
     "output_type": "stream",
     "text": [
      "ピザ\n",
      "ピザ\n",
      "ピザ\n",
      "ピザ\n",
      "ピザ\n",
      "ピザ\n",
      "ピザ\n",
      "ピザ\n",
      "ピザ\n",
      "ピザ\n",
      "ヒジ\n",
      "ーーーーーーーーーー\n",
      "ピザ\n",
      "ピザ\n",
      "ピザ\n",
      "ピザ\n",
      "ピザ\n",
      "ピザ\n",
      "ピザ\n",
      "ピザ\n",
      "ピザ\n",
      "ピザ\n",
      "ヒジ\n"
     ]
    }
   ],
   "source": [
    "pizza()\n",
    "print('ーーーーーーーーーー')\n",
    "pizza()"
   ]
  },
  {
   "cell_type": "markdown",
   "id": "046577d3",
   "metadata": {
    "colab_type": "text",
    "id": "GoPQU7l316Yh"
   },
   "source": [
    "- このように、関数は**複数の処理をまとめて、いつでも簡単に使える**ようにできる\n",
    "- 実行するときは、`関数名()`で呼び出す"
   ]
  },
  {
   "cell_type": "markdown",
   "id": "738f759d",
   "metadata": {
    "colab_type": "text",
    "id": "maS77TzU149O"
   },
   "source": [
    "【問題】メールの署名をする関数`sig()`を自由に定義してみよう"
   ]
  },
  {
   "cell_type": "code",
   "execution_count": 4,
   "id": "c0c09867",
   "metadata": {
    "colab": {},
    "colab_type": "code",
    "id": "1yBOZhcy2yqj"
   },
   "outputs": [],
   "source": [
    "# 解答例\n",
    "def sig():\n",
    "    print(\"----------------------\")\n",
    "    print(\"株式会社AVILEN\")\n",
    "    print(\"AVILEN太郎 TEL:000-0000-0000\")\n",
    "    print(\"xxxxx@xxxxx\")\n",
    "    print(\"会社HP：https://avilen.co.jp/\")"
   ]
  },
  {
   "cell_type": "markdown",
   "id": "194d3f57",
   "metadata": {
    "colab_type": "text",
    "id": "ZZZAkLzx4l2-"
   },
   "source": [
    "上のセルで関数を作成して、実行したら、下のセルを実行して挙動を確認しよう。"
   ]
  },
  {
   "cell_type": "code",
   "execution_count": 5,
   "id": "ed12b3a1",
   "metadata": {
    "colab": {
     "base_uri": "https://localhost:8080/",
     "height": 136
    },
    "colab_type": "code",
    "executionInfo": {
     "elapsed": 1206,
     "status": "ok",
     "timestamp": 1577122748513,
     "user": {
      "displayName": "Kurusu Yuugo",
      "photoUrl": "",
      "userId": "00117977046560544733"
     },
     "user_tz": -540
    },
    "id": "ZU536RTB4lVZ",
    "outputId": "78bbd4df-f044-4f78-f6cc-446b95c1e9ae"
   },
   "outputs": [
    {
     "name": "stdout",
     "output_type": "stream",
     "text": [
      "----------------------\n",
      "株式会社AVILEN\n",
      "AVILEN太郎 TEL:000-0000-0000\n",
      "xxxxx@xxxxx\n",
      "会社HP：https://avilen.co.jp/\n"
     ]
    }
   ],
   "source": [
    "sig()"
   ]
  },
  {
   "cell_type": "markdown",
   "id": "f6c3d395",
   "metadata": {
    "colab_type": "text",
    "id": "UR5FgbF44pxW"
   },
   "source": [
    "- 思い通りの文章が出力されたら成功だ。\n",
    "- 関数の定義のセルを実行しないと、関数を呼び出すことはできないので注意しよう！\n"
   ]
  },
  {
   "cell_type": "markdown",
   "id": "13a6b08c",
   "metadata": {},
   "source": [
    "## 2. 関数の構造"
   ]
  },
  {
   "cell_type": "markdown",
   "id": "a6b78ba6",
   "metadata": {},
   "source": [
    "- 関数とは、何かを入力すると決まった値を出力として返す「箱」のようなものである。\n",
    "\n",
    "- 「箱」の中身では、何らかの処理が行われている\n",
    "\n",
    "- しかし上の`pizza()`のように、Pythonなどのプログラミングでは「入力が無い関数」を作ることができる。\n",
    "\n",
    "- プログラミングでは入力のことを「引数」、出力のことを「返り値」と呼ぶので、覚えておこう。"
   ]
  },
  {
   "cell_type": "markdown",
   "id": "05475841",
   "metadata": {
    "colab_type": "text",
    "id": "Sf-6gqEI-xmc"
   },
   "source": [
    "## 2-1. 関数の返り値\n",
    "\n",
    "【例題】$ \\sqrt 2 $を計算して返す関数を作ろう。まずは以下のセルを実行して関数`root2()`を定義する。"
   ]
  },
  {
   "cell_type": "code",
   "execution_count": 14,
   "id": "c1735b02",
   "metadata": {
    "colab": {},
    "colab_type": "code",
    "id": "rVmiBntgyjqL"
   },
   "outputs": [],
   "source": [
    "def root2():\n",
    "    tem = 2 ** (0.5)\n",
    "    return tem"
   ]
  },
  {
   "cell_type": "markdown",
   "id": "c3edcd4d",
   "metadata": {
    "colab_type": "text",
    "id": "-G1pGeAMyyPP"
   },
   "source": [
    "下のセルを実行して、上のセルで作った関数を使ってみよう。"
   ]
  },
  {
   "cell_type": "code",
   "execution_count": 15,
   "id": "c3cf0911",
   "metadata": {
    "colab": {
     "base_uri": "https://localhost:8080/",
     "height": 34
    },
    "colab_type": "code",
    "executionInfo": {
     "elapsed": 1200,
     "status": "ok",
     "timestamp": 1577122748515,
     "user": {
      "displayName": "Kurusu Yuugo",
      "photoUrl": "",
      "userId": "00117977046560544733"
     },
     "user_tz": -540
    },
    "id": "XvjgsptEy1DN",
    "outputId": "b2b1d1a6-a60f-4262-ef1f-d5cad8f97dc0"
   },
   "outputs": [
    {
     "name": "stdout",
     "output_type": "stream",
     "text": [
      "1.4142135623730951\n"
     ]
    }
   ],
   "source": [
    "y = root2()\n",
    "print(y)"
   ]
  },
  {
   "cell_type": "markdown",
   "id": "30e032cb",
   "metadata": {
    "colab_type": "text",
    "id": "tTh77A5hy8O4"
   },
   "source": [
    "- 関数を作成したセルでは```tem = 2 ** (0.5) ```で $ \\sqrt 2 $を変数`tem`に代入し、```return tem```で変数`tem`の値を返している\n",
    "- `return`を使って返す値`tem`を**関数の返り値**と呼ぶ\n",
    "- 関数を実行したセルでは```y = root2()```で関数`root2()`で作成した$ \\sqrt 2 $を計算する関数が呼び出されて実行され、返り値がyに代入される"
   ]
  },
  {
   "cell_type": "markdown",
   "id": "9b6ef534",
   "metadata": {
    "colab_type": "text",
    "id": "89Xn7h9Gz6jR"
   },
   "source": [
    "【問題】$\\sqrt 4 $を計算する関数root4()を作成してみよう"
   ]
  },
  {
   "cell_type": "code",
   "execution_count": 16,
   "id": "052683a3",
   "metadata": {
    "colab": {},
    "colab_type": "code",
    "id": "t4FgijE74b7v"
   },
   "outputs": [],
   "source": [
    "# 解答例\n",
    "def root4():\n",
    "    return 4 ** 0.5"
   ]
  },
  {
   "cell_type": "markdown",
   "id": "8b9b52f9",
   "metadata": {
    "colab_type": "text",
    "id": "-4HzvXnu4cyg"
   },
   "source": [
    "上のセルで関数を作成して、実行したら、下のセルを実行して挙動を確認しよう。"
   ]
  },
  {
   "cell_type": "code",
   "execution_count": 17,
   "id": "5d3a4827",
   "metadata": {
    "colab": {
     "base_uri": "https://localhost:8080/",
     "height": 34
    },
    "colab_type": "code",
    "executionInfo": {
     "elapsed": 1195,
     "status": "ok",
     "timestamp": 1577122748517,
     "user": {
      "displayName": "Kurusu Yuugo",
      "photoUrl": "",
      "userId": "00117977046560544733"
     },
     "user_tz": -540
    },
    "id": "iWo5RM6i42Uo",
    "outputId": "aebf903e-aae6-41ed-ed3f-a4275446c00b"
   },
   "outputs": [
    {
     "name": "stdout",
     "output_type": "stream",
     "text": [
      "2.0\n"
     ]
    }
   ],
   "source": [
    "print(root4())"
   ]
  },
  {
   "cell_type": "markdown",
   "id": "e287e360",
   "metadata": {
    "colab_type": "text",
    "id": "L7q68bJy467u"
   },
   "source": [
    "- 関数の返り値を何か別のコードで再度使用したい場合は、変数に代入しておく方がよい"
   ]
  },
  {
   "cell_type": "markdown",
   "id": "43586ac9",
   "metadata": {},
   "source": [
    "### Tips : print()やinput()の返り値\n",
    "\n",
    "これまでやってきた```print()```や```input()```も関数である。\n",
    "\n",
    "これらの返り値を観察しよう。\n",
    "\n",
    "【例題】変数```a```に好きな値を入れてみよう"
   ]
  },
  {
   "cell_type": "code",
   "execution_count": 13,
   "id": "f6073e90",
   "metadata": {},
   "outputs": [
    {
     "name": "stdout",
     "output_type": "stream",
     "text": [
      "10\n",
      "aの値: 10\n",
      "bの値: None\n"
     ]
    }
   ],
   "source": [
    "a = input()\n",
    "b = print(\"aの値:\", a)\n",
    "print(\"bの値:\", b)"
   ]
  },
  {
   "cell_type": "markdown",
   "id": "21b548a7",
   "metadata": {},
   "source": [
    "これらの結果から、以下のことが分かる。\n",
    "\n",
    "- ```input()```で打ち込んだデータは、それ自体が関数```input()```の返り値となる\n",
    "- ```print()```には返り値が存在しない\n",
    "    - 関数の中に「入力を画面に表示する」という処理があるため、文字が表示されている\n",
    "    - 何らかの変数に保存できる形での返り値(出力)は存在しない\n",
    "    - ```None```は「データが無い」という意味のデータ型で、```if None```は```False```と同じ意味になる"
   ]
  },
  {
   "cell_type": "markdown",
   "id": "c4e5a763",
   "metadata": {
    "colab_type": "text",
    "id": "S5AqZ0oOyGKz"
   },
   "source": [
    "## 2-2. 関数の引数 : 入出力のある関数の作り方\n",
    "\n",
    "【例題】関数で数字を受け取り、計算をした結果を返してみよう。\n",
    "\n",
    "変数`a`と変数`b`を受け取って、`a`と`b`の2乗和を返す関数`square_sum`を定義してみよう"
   ]
  },
  {
   "cell_type": "code",
   "execution_count": 18,
   "id": "fc53c8b7",
   "metadata": {
    "colab": {},
    "colab_type": "code",
    "id": "Un90_rLyNaMA"
   },
   "outputs": [],
   "source": [
    "def square_sum(a, b):\n",
    "    tem = a ** 2 + b ** 2\n",
    "    return tem"
   ]
  },
  {
   "cell_type": "markdown",
   "id": "a1327b3e",
   "metadata": {
    "colab_type": "text",
    "id": "iiHgtlEDU4iP"
   },
   "source": [
    "説明の前に、まずは`square_sum`を実行してみよう"
   ]
  },
  {
   "cell_type": "code",
   "execution_count": 19,
   "id": "f9b079ab",
   "metadata": {
    "colab": {
     "base_uri": "https://localhost:8080/",
     "height": 68
    },
    "colab_type": "code",
    "executionInfo": {
     "elapsed": 1188,
     "status": "ok",
     "timestamp": 1577122748518,
     "user": {
      "displayName": "Kurusu Yuugo",
      "photoUrl": "",
      "userId": "00117977046560544733"
     },
     "user_tz": -540
    },
    "id": "Su9elrUWV9MJ",
    "outputId": "75034da5-2b4e-4320-f94e-0a5414bf1f6c"
   },
   "outputs": [
    {
     "name": "stdout",
     "output_type": "stream",
     "text": [
      "2\n",
      "2.5\n",
      "10.25\n"
     ]
    }
   ],
   "source": [
    "x = square_sum(-1, 1)\n",
    "y = square_sum(1.5, -0.5)\n",
    "z = square_sum(x, y)\n",
    "print(x)\n",
    "print(y)\n",
    "print(z)"
   ]
  },
  {
   "cell_type": "markdown",
   "id": "1569c8ef",
   "metadata": {
    "colab_type": "text",
    "id": "JLsJvFxeOl-H"
   },
   "source": [
    "- ```def square_sum(a, b):```では、`a`と`b`2つの任意の数を受け取る関数`square_sum`を定義した。\n",
    "\n",
    "- 次に、```tem = a**2 + b**2```で二乗和を計算して一時変数`tem`に代入し、```return tem```で変数`tem`の値を返している\n",
    "\n",
    "- 関数の受け取る変数`a`と`b`を**関数の引数**と呼び、`関数名()`の括弧内でカンマ区切りで定義する\n",
    "\n",
    "- ```x = square_sum(-1, 1)```で関数の引数`a`に-1, `b`に1を代入し、関数からの返り値を`x`に代入している\n",
    "\n",
    "- ```z = square_sum(x, y)```では`a`に`x`(=2)、`b`に`y`(=2.5)を代入して計算させている"
   ]
  },
  {
   "cell_type": "markdown",
   "id": "220df5df",
   "metadata": {
    "colab_type": "text",
    "id": "OTShsl1QY2W-"
   },
   "source": [
    "【問題】 $\\frac{1}{x^2}$を計算する関数calc(x)を作成してみよう\n",
    "\n",
    "注意：分母が0 になる時は\"Error\"を返す関数にしよう！"
   ]
  },
  {
   "cell_type": "code",
   "execution_count": 20,
   "id": "7ac42813",
   "metadata": {
    "colab": {},
    "colab_type": "code",
    "id": "0OI49YguOju1"
   },
   "outputs": [],
   "source": [
    "# 解答例\n",
    "def calc(x):\n",
    "    if (x ** 2) == 0:\n",
    "        return \"Error\"\n",
    "    else:\n",
    "        return 1 / (x ** 2)"
   ]
  },
  {
   "cell_type": "markdown",
   "id": "c2c39fc8",
   "metadata": {
    "colab_type": "text",
    "id": "W__XiozxajgL"
   },
   "source": [
    "次に、下のセルを実行して、いま作った関数を使ってみよう"
   ]
  },
  {
   "cell_type": "code",
   "execution_count": 21,
   "id": "278e8355",
   "metadata": {
    "colab": {
     "base_uri": "https://localhost:8080/",
     "height": 68
    },
    "colab_type": "code",
    "executionInfo": {
     "elapsed": 618,
     "status": "ok",
     "timestamp": 1577623529084,
     "user": {
      "displayName": "Kurusu Yuugo",
      "photoUrl": "",
      "userId": "00117977046560544733"
     },
     "user_tz": -540
    },
    "id": "JRxr-6E8_gPg",
    "outputId": "10d6d321-6d63-48f3-ae99-9c8f3f758ad5"
   },
   "outputs": [
    {
     "name": "stdout",
     "output_type": "stream",
     "text": [
      "1.0\n",
      "0.25\n",
      "Error\n"
     ]
    }
   ],
   "source": [
    "print(calc(1))\n",
    "print(calc(2))\n",
    "print(calc(0))"
   ]
  },
  {
   "cell_type": "markdown",
   "id": "88048e14",
   "metadata": {},
   "source": [
    "## 3. if文,for文と関数"
   ]
  },
  {
   "cell_type": "markdown",
   "id": "b191891c",
   "metadata": {},
   "source": [
    "【例題】3歳以下は無料、60歳以上は半額の遊園地Yで、入場料を計算する関数```yomiuri```を作ろう。なお通常の入場料は1800円とする。"
   ]
  },
  {
   "cell_type": "code",
   "execution_count": 15,
   "id": "a7a7bce9",
   "metadata": {},
   "outputs": [],
   "source": [
    "def yomiuri(age):\n",
    "    base = 1800\n",
    "    if age<=3:\n",
    "        return 0\n",
    "    elif age>=60:\n",
    "        return base/2\n",
    "    else:\n",
    "        return base"
   ]
  },
  {
   "cell_type": "markdown",
   "id": "aba2ac7a",
   "metadata": {},
   "source": [
    "このように、if文やfor文を関数に組み込むと、コーディングの幅が格段に広がる。\n",
    "\n",
    "以下のセルを実行して挙動を確認してみよう。"
   ]
  },
  {
   "cell_type": "code",
   "execution_count": 16,
   "id": "36b7bd3c",
   "metadata": {},
   "outputs": [
    {
     "name": "stdout",
     "output_type": "stream",
     "text": [
      "2 歳のお客様の入場料は 0 円です\n"
     ]
    }
   ],
   "source": [
    "n=2\n",
    "x = yomiuri(n)\n",
    "print(n,\"歳のお客様の入場料は\",x,\"円です\")"
   ]
  },
  {
   "cell_type": "code",
   "execution_count": 17,
   "id": "9e01285f",
   "metadata": {},
   "outputs": [
    {
     "name": "stdout",
     "output_type": "stream",
     "text": [
      "43 歳のお客様の入場料は 1800 円です\n"
     ]
    }
   ],
   "source": [
    "n=43\n",
    "x = yomiuri(n)\n",
    "print(n,\"歳のお客様の入場料は\",x,\"円です\")"
   ]
  },
  {
   "cell_type": "code",
   "execution_count": 18,
   "id": "ee505d84",
   "metadata": {},
   "outputs": [
    {
     "name": "stdout",
     "output_type": "stream",
     "text": [
      "67 歳のお客様の入場料は 900.0 円です\n"
     ]
    }
   ],
   "source": [
    "n=67\n",
    "x = yomiuri(n)\n",
    "print(n,\"歳のお客様の入場料は\",x,\"円です\")"
   ]
  },
  {
   "cell_type": "markdown",
   "id": "3f6991c5",
   "metadata": {},
   "source": [
    "【問題】上記の遊園地Yの関数を、以下の条件を満たすように改良して```yomiuri2()```としよう。\n",
    "\n",
    "- 「〇歳の入場料は△円です」と表示する処理を、関数内に組み込む\n",
    "- キャンペーンで20歳と60歳の入場者は料金が2割引きになる"
   ]
  },
  {
   "cell_type": "code",
   "execution_count": 19,
   "id": "b2117a89",
   "metadata": {},
   "outputs": [],
   "source": [
    "def yomiuri2(age):\n",
    "    base = 1800\n",
    "    if age<=3:\n",
    "        price = 0\n",
    "    elif age>=60:\n",
    "        price = base/2\n",
    "    elif age == 20:\n",
    "        price = base*0.8\n",
    "    elif age == 60:\n",
    "        price = base*0.8\n",
    "    else:\n",
    "        price = base\n",
    "    print(age,\"歳の入場料は\",price,\"円です\")"
   ]
  },
  {
   "cell_type": "markdown",
   "id": "7b4890c3",
   "metadata": {},
   "source": [
    "以下のセルを実行して挙動を確認しよう。"
   ]
  },
  {
   "cell_type": "code",
   "execution_count": 20,
   "id": "74340c20",
   "metadata": {},
   "outputs": [
    {
     "name": "stdout",
     "output_type": "stream",
     "text": [
      "2 歳の入場料は 0 円です\n",
      "20 歳の入場料は 1440.0 円です\n",
      "43 歳の入場料は 1800 円です\n",
      "67 歳の入場料は 900.0 円です\n"
     ]
    }
   ],
   "source": [
    "yomiuri2(2)\n",
    "yomiuri2(20)\n",
    "yomiuri2(43)\n",
    "yomiuri2(67)"
   ]
  },
  {
   "cell_type": "markdown",
   "id": "e05a47e6",
   "metadata": {},
   "source": [
    "## 4.引数が複数ある関数\n",
    "\n",
    "【例題】遊園地Yは経営難となり、休日の入場料を2割増しにした。年齢による制限は変わっていない。\n",
    "\n",
    "平日を0、休日を1として、「年齢」と「曜日区分」を入力すると正しい入場料を返す関数```yomiuri3```を作ろう。\n",
    "\n",
    "※前項の問題であった「20歳、60歳は2割引き」というキャンペーンはやっていないものとする。"
   ]
  },
  {
   "cell_type": "code",
   "execution_count": 1,
   "id": "757f6c61",
   "metadata": {},
   "outputs": [],
   "source": [
    "def yomiuri3(age,day):\n",
    "    base = 1800\n",
    "    if age<=3:\n",
    "        price = 0\n",
    "    elif age>=60 and day==0 :\n",
    "        price = base/2\n",
    "    elif age>=60 and day==1:\n",
    "        price = base*1.2/2\n",
    "    elif 3<age<60 and day==1:\n",
    "        price = base*1.2\n",
    "    else:\n",
    "        price = base\n",
    "    print(age,\"歳の入場料は\",price,\"円です\")"
   ]
  },
  {
   "cell_type": "markdown",
   "id": "d0760591",
   "metadata": {},
   "source": [
    "以下のセルを実行して確認しよう。"
   ]
  },
  {
   "cell_type": "code",
   "execution_count": 2,
   "id": "9e8511fb",
   "metadata": {},
   "outputs": [
    {
     "name": "stdout",
     "output_type": "stream",
     "text": [
      "2 歳の入場料は 0 円です\n",
      "2 歳の入場料は 0 円です\n"
     ]
    }
   ],
   "source": [
    "yomiuri3(2,0)\n",
    "yomiuri3(2,1)"
   ]
  },
  {
   "cell_type": "code",
   "execution_count": 3,
   "id": "cc53f5ab",
   "metadata": {},
   "outputs": [
    {
     "name": "stdout",
     "output_type": "stream",
     "text": [
      "43 歳の入場料は 1800 円です\n",
      "43 歳の入場料は 2160.0 円です\n"
     ]
    }
   ],
   "source": [
    "yomiuri3(43,0)\n",
    "yomiuri3(43,1)"
   ]
  },
  {
   "cell_type": "code",
   "execution_count": 4,
   "id": "f8c4d338",
   "metadata": {},
   "outputs": [
    {
     "name": "stdout",
     "output_type": "stream",
     "text": [
      "67 歳の入場料は 900.0 円です\n",
      "67 歳の入場料は 1080.0 円です\n"
     ]
    }
   ],
   "source": [
    "yomiuri3(67,0)\n",
    "yomiuri3(67,1)"
   ]
  },
  {
   "cell_type": "markdown",
   "id": "0bb1bc77",
   "metadata": {},
   "source": [
    "## 5.変数のスコープ：ローカル変数とグローバル変数\n",
    "- 関数内で定義されている変数は**ローカル変数**という。\n",
    "    - 関数の中だけで存在し、関数の外で同じ変数を呼び出すことはできないことに注意。\n",
    "    - 例えば上の関数について```print(age)```や```print(base)```と実行しても、変数が存在しないと言われてエラーになる\n",
    "- このように、各変数には使える範囲が存在し、**スコープ**と呼ぶ。"
   ]
  },
  {
   "cell_type": "code",
   "execution_count": 22,
   "id": "5f07e973",
   "metadata": {},
   "outputs": [
    {
     "ename": "NameError",
     "evalue": "name 'age' is not defined",
     "output_type": "error",
     "traceback": [
      "\u001b[0;31m---------------------------------------------------------------------------\u001b[0m",
      "\u001b[0;31mNameError\u001b[0m                                 Traceback (most recent call last)",
      "Input \u001b[0;32mIn [22]\u001b[0m, in \u001b[0;36m<cell line: 1>\u001b[0;34m()\u001b[0m\n\u001b[0;32m----> 1\u001b[0m \u001b[38;5;28mprint\u001b[39m(\u001b[43mage\u001b[49m)\n",
      "\u001b[0;31mNameError\u001b[0m: name 'age' is not defined"
     ]
    }
   ],
   "source": [
    "print(age)"
   ]
  },
  {
   "cell_type": "code",
   "execution_count": 23,
   "id": "596ff787",
   "metadata": {},
   "outputs": [
    {
     "ename": "NameError",
     "evalue": "name 'base' is not defined",
     "output_type": "error",
     "traceback": [
      "\u001b[0;31m---------------------------------------------------------------------------\u001b[0m",
      "\u001b[0;31mNameError\u001b[0m                                 Traceback (most recent call last)",
      "Input \u001b[0;32mIn [23]\u001b[0m, in \u001b[0;36m<cell line: 1>\u001b[0;34m()\u001b[0m\n\u001b[0;32m----> 1\u001b[0m \u001b[38;5;28mprint\u001b[39m(\u001b[43mbase\u001b[49m)\n",
      "\u001b[0;31mNameError\u001b[0m: name 'base' is not defined"
     ]
    }
   ],
   "source": [
    "print(base)"
   ]
  },
  {
   "cell_type": "markdown",
   "id": "b0309ce0",
   "metadata": {},
   "source": [
    "### 5-1. 関数外の変数を関数内で参照する\n",
    "\n",
    "もう少し詳しく見てみよう。\n",
    "\n",
    "関数```yomiuri3```に対して、基本料金の変数```base```を関数の外に置いてみる。"
   ]
  },
  {
   "cell_type": "code",
   "execution_count": 7,
   "id": "c519f858",
   "metadata": {},
   "outputs": [],
   "source": [
    "base = 1800\n",
    "def yomiuri3(age,day):\n",
    "    if age<=3:\n",
    "        price = 0\n",
    "    elif age>=60 and day==0 :\n",
    "        price = base/2\n",
    "    elif age>=60 and day==1:\n",
    "        price = base*1.2/2\n",
    "    elif 3<age<60 and day==1:\n",
    "        price = base*1.2\n",
    "    else:\n",
    "        price = base\n",
    "    print(age,\"歳の入場料は\",price,\"円です\")"
   ]
  },
  {
   "cell_type": "markdown",
   "id": "5bf8efa2",
   "metadata": {},
   "source": [
    "この状態で関数が動くかどうか確認しよう。"
   ]
  },
  {
   "cell_type": "code",
   "execution_count": 9,
   "id": "1f1edcb3",
   "metadata": {},
   "outputs": [
    {
     "name": "stdout",
     "output_type": "stream",
     "text": [
      "18 歳の入場料は 1800 円です\n",
      "18 歳の入場料は 2160.0 円です\n"
     ]
    }
   ],
   "source": [
    "yomiuri3(18,0)\n",
    "yomiuri3(18,1)"
   ]
  },
  {
   "cell_type": "markdown",
   "id": "11e971ac",
   "metadata": {},
   "source": [
    "これはきちんと動く。関数外の変数を**グローバル変数**と呼び、これは事由に関数内で参照できる。\n",
    "\n",
    "グローバル変数を書き換えると、関数の結果も変わる。"
   ]
  },
  {
   "cell_type": "code",
   "execution_count": 10,
   "id": "1254fc88",
   "metadata": {},
   "outputs": [
    {
     "name": "stdout",
     "output_type": "stream",
     "text": [
      "18 歳の入場料は 2000 円です\n",
      "18 歳の入場料は 2400.0 円です\n"
     ]
    }
   ],
   "source": [
    "base = 2000\n",
    "yomiuri3(18,0)\n",
    "yomiuri3(18,1)"
   ]
  },
  {
   "cell_type": "markdown",
   "id": "0b42290f",
   "metadata": {},
   "source": [
    "### 5-2. グローバル変数を関数内で書き換える\n",
    "\n",
    "グローバル変数を関数内で書き換えるとどうなるか、見てみよう。"
   ]
  },
  {
   "cell_type": "code",
   "execution_count": 11,
   "id": "9849e8d0",
   "metadata": {},
   "outputs": [],
   "source": [
    "base = 1800\n",
    "def yomiuri3(age,day):\n",
    "    base = 2000\n",
    "    if age<=3:\n",
    "        price = 0\n",
    "    elif age>=60 and day==0 :\n",
    "        price = base/2\n",
    "    elif age>=60 and day==1:\n",
    "        price = base*1.2/2\n",
    "    elif 3<age<60 and day==1:\n",
    "        price = base*1.2\n",
    "    else:\n",
    "        price = base\n",
    "    print(age,\"歳の入場料は\",price,\"円です\")"
   ]
  },
  {
   "cell_type": "code",
   "execution_count": 12,
   "id": "7ce01fdc",
   "metadata": {},
   "outputs": [
    {
     "name": "stdout",
     "output_type": "stream",
     "text": [
      "18 歳の入場料は 2000 円です\n",
      "18 歳の入場料は 2400.0 円です\n"
     ]
    }
   ],
   "source": [
    "yomiuri3(18,0)\n",
    "yomiuri3(18,1)"
   ]
  },
  {
   "cell_type": "markdown",
   "id": "050a0a60",
   "metadata": {},
   "source": [
    "この場合は```base```がローカル変数として認識され、関数の処理にはローカル変数が使用される。"
   ]
  },
  {
   "cell_type": "markdown",
   "id": "ffb46a62",
   "metadata": {},
   "source": [
    "### Tips : モジュールスコープとローカルスコープ\n",
    "\n",
    "Pythonプログラムのうち、関数以外の部分を**モジュールスコープ(Module scope)**という。\n",
    "\n",
    "逆に関数内の部分は**ローカルスコープ(Local scope)**という。\n",
    "\n",
    "モジュールスコープで代入された変数は**グローバル変数**、ローカルスコープで代入された変数は**ローカル変数**になる。\n",
    "\n",
    "前述のとおり、同じモジュールスコープで定義されたグローバル変数は、関数の内側でも参照できる。\n",
    "\n",
    "また、関数の内側では、グローバル変数だけではなく、同じモジュールスコープで定義した別の関数も呼び出せる。"
   ]
  },
  {
   "cell_type": "code",
   "execution_count": null,
   "id": "d92df7cd",
   "metadata": {},
   "outputs": [],
   "source": []
  }
 ],
 "metadata": {
  "kernelspec": {
   "display_name": "avilen-ml3",
   "language": "python",
   "name": "python3"
  },
  "language_info": {
   "codemirror_mode": {
    "name": "ipython",
    "version": 3
   },
   "file_extension": ".py",
   "mimetype": "text/x-python",
   "name": "python",
   "nbconvert_exporter": "python",
   "pygments_lexer": "ipython3",
   "version": "3.9.7"
  },
  "vscode": {
   "interpreter": {
    "hash": "f25b26b4ea7004765cfa1e96cf36e4bfdb1569f2ca834d9e6ec0cf32829ced3d"
   }
  }
 },
 "nbformat": 4,
 "nbformat_minor": 5
}
