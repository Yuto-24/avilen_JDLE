{
 "cells": [
  {
   "cell_type": "markdown",
   "id": "04542143",
   "metadata": {
    "colab_type": "text",
    "id": "sGz7CLrSk0PY"
   },
   "source": [
    "# 組み込み関数\n",
    "\n",
    "この章ではプログラミングの便利ツール**組み込み関数**について勉強しよう！  \n",
    "組み込み関数：難しい操作無しで利用できる関数のこと。(例：print())  \n",
    "\n",
    "**プログラミングでは全てを1から作る必要はない。先人のプログラムをうまく利用しよう**\n",
    "\n",
    "というわけで、代表的な組み込み関数を実際に使ってみよう。\n"
   ]
  },
  {
   "cell_type": "markdown",
   "id": "7164a411",
   "metadata": {
    "colab_type": "text",
    "id": "8Sk_ZMYv9NHN"
   },
   "source": [
    "## 1. 型の確認と変換\n",
    "\n",
    "プログラミングでは変数の型を変換しなければならない場合がある。\n",
    "\n",
    "以下の例を実行して体験してみよう。\n",
    "\n",
    "【例題1-1】まず、以下のように宣言した数字は、文字列と数値のどちらの型か確認しよう。"
   ]
  },
  {
   "cell_type": "code",
   "execution_count": 6,
   "id": "70124f44",
   "metadata": {
    "colab": {
     "base_uri": "https://localhost:8080/",
     "height": 85
    },
    "colab_type": "code",
    "executionInfo": {
     "elapsed": 6451,
     "status": "ok",
     "timestamp": 1577186198841,
     "user": {
      "displayName": "Kurusu Yuugo",
      "photoUrl": "",
      "userId": "00117977046560544733"
     },
     "user_tz": -540
    },
    "id": "AKdj-w5ZGUMV",
    "outputId": "dceaf790-1936-4229-db49-88da8b3a4f4a"
   },
   "outputs": [
    {
     "name": "stdout",
     "output_type": "stream",
     "text": [
      "<class 'int'>\n",
      "<class 'str'>\n"
     ]
    }
   ],
   "source": [
    "a = 1\n",
    "b = \"1\"\n",
    "print(type(a))\n",
    "print(type(b))"
   ]
  },
  {
   "cell_type": "markdown",
   "id": "31e32c40",
   "metadata": {},
   "source": [
    "変数の型を確認するには type() を使う。\n",
    "\n",
    "int,float,str,boolなどが出力されるはずだ。"
   ]
  },
  {
   "cell_type": "markdown",
   "id": "fc87f8db",
   "metadata": {
    "colab_type": "text",
    "id": "3mFtlRUIbjZV"
   },
   "source": [
    "### 型の変換\n",
    "\n",
    "【例題1-2】次のプログラムを実行して、文字列から数値への変換方法と数値から文字列への変換方法を学んでみよう。"
   ]
  },
  {
   "cell_type": "code",
   "execution_count": 7,
   "id": "9ad73fd5",
   "metadata": {
    "colab": {
     "base_uri": "https://localhost:8080/",
     "height": 68
    },
    "colab_type": "code",
    "executionInfo": {
     "elapsed": 643,
     "status": "ok",
     "timestamp": 1577190277981,
     "user": {
      "displayName": "Kurusu Yuugo",
      "photoUrl": "",
      "userId": "00117977046560544733"
     },
     "user_tz": -540
    },
    "id": "Cy-LsknlcYD3",
    "outputId": "39911e80-e76c-4118-c9ae-3192761637c6"
   },
   "outputs": [
    {
     "name": "stdout",
     "output_type": "stream",
     "text": [
      "3\n",
      "4.5\n",
      "222\n"
     ]
    }
   ],
   "source": [
    "a = \"1\"\n",
    "b = \"1.5\"\n",
    "c = 2\n",
    "print(int(a)*3)\n",
    "print(float(b)*3)\n",
    "print(str(c)*3)"
   ]
  },
  {
   "cell_type": "markdown",
   "id": "1c2350e4",
   "metadata": {
    "colab_type": "text",
    "id": "2einP_Mckznw"
   },
   "source": [
    "```\n",
    "int(a)    <-- 変換したい変数をint()内に入れることでint型(整数型)に変換できる。\n",
    "float(b)  <-- 変換したい変数をfloat()内に入れることでfloat型(浮動小数点数型)に変換できる。\n",
    "str(c)    <-- 変換したい変数をstr()内に入れることでstr型(文字列型)に変換できる。\n",
    "```"
   ]
  },
  {
   "cell_type": "markdown",
   "id": "b5a3e8f5",
   "metadata": {
    "colab_type": "text",
    "id": "8LQHCX16bTsa"
   },
   "source": [
    "**補足：**小数型を整数型に変換する場合、以下の2種類の方法をよく用いる。\n",
    "- 小数を切り捨て：**int(変数)**\n",
    "- 四捨五入：**round(変数)**"
   ]
  },
  {
   "cell_type": "markdown",
   "id": "c22274a1",
   "metadata": {
    "colab_type": "text",
    "id": "R9wClRtR1UIA"
   },
   "source": [
    "## 2. len(),min(),max(),sum()\n",
    "\n",
    "それでは、さまざまな組み込み関数を使ってみよう。\n",
    "\n",
    "【例題2-1】lenを使ってみよう。"
   ]
  },
  {
   "cell_type": "code",
   "execution_count": 8,
   "id": "dc7ad573",
   "metadata": {
    "colab": {
     "base_uri": "https://localhost:8080/",
     "height": 68
    },
    "colab_type": "code",
    "executionInfo": {
     "elapsed": 25736,
     "status": "ok",
     "timestamp": 1577184689391,
     "user": {
      "displayName": "Kurusu Yuugo",
      "photoUrl": "",
      "userId": "00117977046560544733"
     },
     "user_tz": -540
    },
    "id": "JX2s63_B3zeU",
    "outputId": "a05588c8-e1df-44be-c6b3-6351e4dcff75"
   },
   "outputs": [
    {
     "name": "stdout",
     "output_type": "stream",
     "text": [
      "AVILEN は 6 文字です\n"
     ]
    }
   ],
   "source": [
    "name = \"AVILEN\"\n",
    "print(name,\"は\",len(name),\"文字です\")"
   ]
  },
  {
   "cell_type": "markdown",
   "id": "cfbc8bd9",
   "metadata": {
    "colab_type": "text",
    "id": "rxmoGU4d3z1I"
   },
   "source": [
    "len()はstr型に対しては文字数をカウントする組み込み関数である。"
   ]
  },
  {
   "cell_type": "code",
   "execution_count": 9,
   "id": "1343f458",
   "metadata": {},
   "outputs": [
    {
     "ename": "TypeError",
     "evalue": "object of type 'int' has no len()",
     "output_type": "error",
     "traceback": [
      "\u001b[1;31m---------------------------------------------------------------------------\u001b[0m",
      "\u001b[1;31mTypeError\u001b[0m                                 Traceback (most recent call last)",
      "\u001b[1;32m~\\AppData\\Local\\Temp/ipykernel_16144/1116122801.py\u001b[0m in \u001b[0;36m<module>\u001b[1;34m\u001b[0m\n\u001b[0;32m      1\u001b[0m \u001b[0ma\u001b[0m \u001b[1;33m=\u001b[0m \u001b[1;36m10\u001b[0m\u001b[1;33m\u001b[0m\u001b[1;33m\u001b[0m\u001b[0m\n\u001b[1;32m----> 2\u001b[1;33m \u001b[0mprint\u001b[0m\u001b[1;33m(\u001b[0m\u001b[0mlen\u001b[0m\u001b[1;33m(\u001b[0m\u001b[0ma\u001b[0m\u001b[1;33m)\u001b[0m\u001b[1;33m)\u001b[0m\u001b[1;33m\u001b[0m\u001b[1;33m\u001b[0m\u001b[0m\n\u001b[0m",
      "\u001b[1;31mTypeError\u001b[0m: object of type 'int' has no len()"
     ]
    }
   ],
   "source": [
    "a = 10\n",
    "print(len(a))"
   ]
  },
  {
   "cell_type": "markdown",
   "id": "db5f3208",
   "metadata": {},
   "source": [
    "上記のように、intやfloatに対してlen()を使うとエラーになる。"
   ]
  },
  {
   "cell_type": "code",
   "execution_count": 10,
   "id": "25e5b525",
   "metadata": {},
   "outputs": [
    {
     "name": "stdout",
     "output_type": "stream",
     "text": [
      "3\n"
     ]
    }
   ],
   "source": [
    "list = [\"A\",\"B\",\"C\"]\n",
    "print(len(list))"
   ]
  },
  {
   "cell_type": "markdown",
   "id": "f1f8f48b",
   "metadata": {},
   "source": [
    "listに対するlen()は、リストの要素数を返す関数となる。"
   ]
  },
  {
   "cell_type": "markdown",
   "id": "0ad7214f",
   "metadata": {},
   "source": [
    "【例題2-2】min、maxを使ってみよう"
   ]
  },
  {
   "cell_type": "code",
   "execution_count": 11,
   "id": "8c90d833",
   "metadata": {
    "colab": {
     "base_uri": "https://localhost:8080/",
     "height": 85
    },
    "colab_type": "code",
    "executionInfo": {
     "elapsed": 25735,
     "status": "ok",
     "timestamp": 1577184689393,
     "user": {
      "displayName": "Kurusu Yuugo",
      "photoUrl": "",
      "userId": "00117977046560544733"
     },
     "user_tz": -540
    },
    "id": "fBeKoDPs2IhF",
    "outputId": "73134408-938b-442e-f20c-b46c4afcd106"
   },
   "outputs": [
    {
     "name": "stdout",
     "output_type": "stream",
     "text": [
      "1\n",
      "8\n",
      "A\n",
      "Z\n"
     ]
    }
   ],
   "source": [
    "print(min(4,8,2,1,6))\n",
    "print(max(4,8,2,1,6))\n",
    "print(min(\"M\",\"A\",\"O\",\"Z\"))\n",
    "print(max(\"M\",\"A\",\"O\",\"Z\"))"
   ]
  },
  {
   "cell_type": "markdown",
   "id": "b919ae08",
   "metadata": {
    "colab_type": "text",
    "id": "b8-jsC-l8rNi"
   },
   "source": [
    "- minは要素の中で最小値を取得する組み込み関数である  \n",
    "  + アルファベットでは`A`が最小値になる\n",
    "- maxは要素の中で最大値を取得する組み込み関数である\n",
    "  + アルファベットでは`Z`が最大値になる。 \n",
    "\n",
    "**注意** \n",
    "- len()の中に数値を入れるとエラーが起きるので注意しよう。\n",
    "- min()とmax()の中に数値と文字列を混在させるとエラーが起きるので注意しよう。"
   ]
  },
  {
   "cell_type": "markdown",
   "id": "4983d6d1",
   "metadata": {},
   "source": [
    "リストに対してmin()/max()を使ってみよう。"
   ]
  },
  {
   "cell_type": "code",
   "execution_count": 12,
   "id": "38f0b437",
   "metadata": {},
   "outputs": [
    {
     "name": "stdout",
     "output_type": "stream",
     "text": [
      "1\n",
      "6\n"
     ]
    }
   ],
   "source": [
    "print(min([4,3,2,1,6]))\n",
    "print(max([4,3,2,1,6]))"
   ]
  },
  {
   "cell_type": "markdown",
   "id": "8035bc5a",
   "metadata": {},
   "source": [
    "リストに対しては、そのリストの中の最大値・最小値を返す関数になる。"
   ]
  },
  {
   "cell_type": "markdown",
   "id": "c9fe7a96",
   "metadata": {},
   "source": [
    "【例題2-3】sumを使ってみよう"
   ]
  },
  {
   "cell_type": "code",
   "execution_count": 13,
   "id": "dd75f317",
   "metadata": {
    "scrolled": true
   },
   "outputs": [
    {
     "ename": "TypeError",
     "evalue": "sum() takes at most 2 arguments (5 given)",
     "output_type": "error",
     "traceback": [
      "\u001b[1;31m---------------------------------------------------------------------------\u001b[0m",
      "\u001b[1;31mTypeError\u001b[0m                                 Traceback (most recent call last)",
      "\u001b[1;32m~\\AppData\\Local\\Temp/ipykernel_16144/1267407729.py\u001b[0m in \u001b[0;36m<module>\u001b[1;34m\u001b[0m\n\u001b[1;32m----> 1\u001b[1;33m \u001b[0mprint\u001b[0m\u001b[1;33m(\u001b[0m\u001b[0msum\u001b[0m\u001b[1;33m(\u001b[0m\u001b[1;36m4\u001b[0m\u001b[1;33m,\u001b[0m\u001b[1;36m8\u001b[0m\u001b[1;33m,\u001b[0m\u001b[1;36m2\u001b[0m\u001b[1;33m,\u001b[0m\u001b[1;36m1\u001b[0m\u001b[1;33m,\u001b[0m\u001b[1;36m6\u001b[0m\u001b[1;33m)\u001b[0m\u001b[1;33m)\u001b[0m\u001b[1;33m\u001b[0m\u001b[1;33m\u001b[0m\u001b[0m\n\u001b[0m",
      "\u001b[1;31mTypeError\u001b[0m: sum() takes at most 2 arguments (5 given)"
     ]
    }
   ],
   "source": [
    "print(sum(4,8,2,1,6))"
   ]
  },
  {
   "cell_type": "code",
   "execution_count": 14,
   "id": "2302c3b9",
   "metadata": {},
   "outputs": [
    {
     "name": "stdout",
     "output_type": "stream",
     "text": [
      "21\n"
     ]
    }
   ],
   "source": [
    "print(sum([4,8,2,1,6]))"
   ]
  },
  {
   "cell_type": "markdown",
   "id": "4c62cef4",
   "metadata": {},
   "source": [
    "sumはリストに対して使用できる関数で、リスト内の要素を全て足した結果を返す。\n",
    "\n",
    "文字列リストに対しては使用するとエラーになる。"
   ]
  },
  {
   "cell_type": "code",
   "execution_count": 15,
   "id": "38265452",
   "metadata": {},
   "outputs": [
    {
     "ename": "TypeError",
     "evalue": "unsupported operand type(s) for +: 'int' and 'str'",
     "output_type": "error",
     "traceback": [
      "\u001b[1;31m---------------------------------------------------------------------------\u001b[0m",
      "\u001b[1;31mTypeError\u001b[0m                                 Traceback (most recent call last)",
      "\u001b[1;32m~\\AppData\\Local\\Temp/ipykernel_16144/3543998787.py\u001b[0m in \u001b[0;36m<module>\u001b[1;34m\u001b[0m\n\u001b[1;32m----> 1\u001b[1;33m \u001b[0mprint\u001b[0m\u001b[1;33m(\u001b[0m\u001b[0msum\u001b[0m\u001b[1;33m(\u001b[0m\u001b[1;33m[\u001b[0m\u001b[1;34m\"M\"\u001b[0m\u001b[1;33m,\u001b[0m\u001b[1;34m\"A\"\u001b[0m\u001b[1;33m,\u001b[0m\u001b[1;34m\"O\"\u001b[0m\u001b[1;33m,\u001b[0m\u001b[1;34m\"Z\"\u001b[0m\u001b[1;33m]\u001b[0m\u001b[1;33m)\u001b[0m\u001b[1;33m)\u001b[0m\u001b[1;33m\u001b[0m\u001b[1;33m\u001b[0m\u001b[0m\n\u001b[0m",
      "\u001b[1;31mTypeError\u001b[0m: unsupported operand type(s) for +: 'int' and 'str'"
     ]
    }
   ],
   "source": [
    "print(sum([\"M\",\"A\",\"O\",\"Z\"]))"
   ]
  },
  {
   "cell_type": "markdown",
   "id": "8cc6ad09",
   "metadata": {
    "colab_type": "text",
    "id": "2cu3IJe4AcRO"
   },
   "source": [
    "【問題】じゅげむはひらがなで書くと何文字なのか調べたい。  \n",
    "変数`jugemu`に名前を書いておいたので組み込み関数を用いて何文字か出力せよ。"
   ]
  },
  {
   "cell_type": "code",
   "execution_count": 16,
   "id": "1d3d74be",
   "metadata": {
    "colab": {},
    "colab_type": "code",
    "id": "0Z7C9W7YBFnf"
   },
   "outputs": [],
   "source": [
    "# 【問題3】を回答する前に実行してください。\n",
    "jugemu = \"じゅげむじゅげむごこうのすりきれかいじゃりすいぎょのすいぎょうまつうんらいまつふうらいまつくうねるところにすむところやぶらこうじのぶらこうじぱいぽぱいぽぱいぽのしゅーりんがんしゅーりんがんのぐーりんだいぐーりんだいのぽんぽこぴーのぽんぽこなーのちょうきゅうめいのちょうすけ\""
   ]
  },
  {
   "cell_type": "markdown",
   "id": "59afb302",
   "metadata": {
    "colab_type": "text",
    "id": "FhEyLQZaaTDD"
   },
   "source": [
    "回答欄は以下です。"
   ]
  },
  {
   "cell_type": "code",
   "execution_count": 17,
   "id": "4ba089d5",
   "metadata": {
    "colab": {
     "base_uri": "https://localhost:8080/",
     "height": 34
    },
    "colab_type": "code",
    "executionInfo": {
     "elapsed": 25732,
     "status": "ok",
     "timestamp": 1577184689396,
     "user": {
      "displayName": "Kurusu Yuugo",
      "photoUrl": "",
      "userId": "00117977046560544733"
     },
     "user_tz": -540
    },
    "id": "SAb3dBlmaTjj",
    "outputId": "64ee86f0-71d4-4b56-a2be-5193d8979dd8"
   },
   "outputs": [
    {
     "name": "stdout",
     "output_type": "stream",
     "text": [
      "136\n"
     ]
    }
   ],
   "source": [
    "# 解答例\n",
    "print(len(jugemu))"
   ]
  }
 ],
 "metadata": {
  "kernelspec": {
   "display_name": "Python 3",
   "language": "python",
   "name": "python3"
  },
  "language_info": {
   "codemirror_mode": {
    "name": "ipython",
    "version": 3
   },
   "file_extension": ".py",
   "mimetype": "text/x-python",
   "name": "python",
   "nbconvert_exporter": "python",
   "pygments_lexer": "ipython3",
   "version": "3.8.9"
  },
  "vscode": {
   "interpreter": {
    "hash": "31f2aee4e71d21fbe5cf8b01ff0e069b9275f58929596ceb00d14d90e3e16cd6"
   }
  }
 },
 "nbformat": 4,
 "nbformat_minor": 5
}
