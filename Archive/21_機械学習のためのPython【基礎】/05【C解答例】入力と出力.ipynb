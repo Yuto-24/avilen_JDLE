{
 "cells": [
  {
   "cell_type": "markdown",
   "id": "5388aec9",
   "metadata": {
    "colab_type": "text",
    "id": "sGz7CLrSk0PY"
   },
   "source": [
    "# 入力と出力\n",
    "\n",
    "「入力」と「出力」の関数を実際に使ってみよう。"
   ]
  },
  {
   "cell_type": "markdown",
   "id": "0480c2b9",
   "metadata": {
    "colab_type": "text",
    "id": "4bXIiK_RlN17"
   },
   "source": [
    "## 1. 入力と出力\n",
    "プログラムを実行するときに、自分でデータを入力したい場合がある。\n",
    "入力を体験してみよう!\n",
    "\n",
    "\n",
    "【例題1】プログラムを実行して、「AVILEN」と入力してみよう！"
   ]
  },
  {
   "cell_type": "code",
   "execution_count": 2,
   "id": "adf33855",
   "metadata": {
    "colab": {
     "base_uri": "https://localhost:8080/",
     "height": 68
    },
    "colab_type": "code",
    "executionInfo": {
     "elapsed": 4752,
     "status": "ok",
     "timestamp": 1577184668382,
     "user": {
      "displayName": "Kurusu Yuugo",
      "photoUrl": "",
      "userId": "00117977046560544733"
     },
     "user_tz": -540
    },
    "id": "E9iRRfWim0qY",
    "outputId": "07f4d915-2fd3-4a40-8088-b46421edc7f5"
   },
   "outputs": [
    {
     "name": "stdout",
     "output_type": "stream",
     "text": [
      "名前を教えてください\n",
      "AVILEN\n",
      "あなたの名前は AVILEN ですね？\n"
     ]
    }
   ],
   "source": [
    "print(\"名前を教えてください\")\n",
    "name = input()\n",
    "print(\"あなたの名前は\", name, \"ですね？\")"
   ]
  },
  {
   "cell_type": "markdown",
   "id": "faa059da",
   "metadata": {
    "colab_type": "text",
    "id": "tVdzvmnzsTUJ"
   },
   "source": [
    "**解説**\n",
    "- 入力にはinput()という関数を利用して**`変数 = input()`**とコーディングする\n",
    "- 例題では入力した文字を変数`name`に代入した後、print()で変数`name`を出力している\n",
    "    - print()内で様々な要素を出力するときは  **,(カンマ)**  で区切る"
   ]
  },
  {
   "cell_type": "markdown",
   "id": "1a457d60",
   "metadata": {
    "colab_type": "text",
    "id": "r6sQzP9rBFoB"
   },
   "source": [
    "【問題1】input()とprint()を利用して、自由にプログラムしてみよう。"
   ]
  },
  {
   "cell_type": "code",
   "execution_count": 8,
   "id": "03dcf2b2",
   "metadata": {
    "colab": {
     "base_uri": "https://localhost:8080/",
     "height": 51
    },
    "colab_type": "code",
    "executionInfo": {
     "elapsed": 5088,
     "status": "ok",
     "timestamp": 1577257806065,
     "user": {
      "displayName": "白戸豪大",
      "photoUrl": "https://lh3.googleusercontent.com/a-/AAuE7mC7bl5X6-Ekl_S3bPTrdnv1bzuxlMBawDSEilYDmw=s64",
      "userId": "06619086429846655248"
     },
     "user_tz": -540
    },
    "id": "9DLr_1tYqWxc",
    "outputId": "9a17cad5-06a2-44a1-bf5a-0898a90c9735"
   },
   "outputs": [
    {
     "name": "stdout",
     "output_type": "stream",
     "text": [
      "あなたは何年生まれ？1994\n",
      "あなたは 1994 年生まれ\n"
     ]
    }
   ],
   "source": [
    "year = input(\"あなたは何年生まれ？\")\n",
    "print(\"あなたは\", year, \"年生まれ\")"
   ]
  },
  {
   "cell_type": "markdown",
   "id": "c0de7251",
   "metadata": {
    "colab_type": "text",
    "id": "gbSgBWAJBZMI"
   },
   "source": [
    "- プログラミングの必須操作、入力と出力の組み込み関数について確認できただろうか？"
   ]
  },
  {
   "cell_type": "markdown",
   "id": "f3f055e7",
   "metadata": {
    "colab_type": "text",
    "id": "8Sk_ZMYv9NHN"
   },
   "source": [
    "## 2. input()の型と計算\n",
    "\n",
    "以下の例を実行して体験してみよう。\n",
    "\n",
    "【例題2】まず、以下のinput()関数の変数```value```に数字を入力し、その数値の二乗を計算してみよう。 "
   ]
  },
  {
   "cell_type": "code",
   "execution_count": 5,
   "id": "6c7dbe2c",
   "metadata": {
    "colab": {
     "base_uri": "https://localhost:8080/",
     "height": 85
    },
    "colab_type": "code",
    "executionInfo": {
     "elapsed": 6451,
     "status": "ok",
     "timestamp": 1577186198841,
     "user": {
      "displayName": "Kurusu Yuugo",
      "photoUrl": "",
      "userId": "00117977046560544733"
     },
     "user_tz": -540
    },
    "id": "AKdj-w5ZGUMV",
    "outputId": "dceaf790-1936-4229-db49-88da8b3a4f4a"
   },
   "outputs": [
    {
     "name": "stdout",
     "output_type": "stream",
     "text": [
      "二乗したい数値は？5\n"
     ]
    },
    {
     "ename": "TypeError",
     "evalue": "can't multiply sequence by non-int of type 'str'",
     "output_type": "error",
     "traceback": [
      "\u001b[0;31m---------------------------------------------------------------------------\u001b[0m",
      "\u001b[0;31mTypeError\u001b[0m                                 Traceback (most recent call last)",
      "Input \u001b[0;32mIn [5]\u001b[0m, in \u001b[0;36m<cell line: 2>\u001b[0;34m()\u001b[0m\n\u001b[1;32m      1\u001b[0m value \u001b[38;5;241m=\u001b[39m \u001b[38;5;28minput\u001b[39m(\u001b[38;5;124m\"\u001b[39m\u001b[38;5;124m二乗したい数値は？\u001b[39m\u001b[38;5;124m\"\u001b[39m)\n\u001b[0;32m----> 2\u001b[0m \u001b[38;5;28mprint\u001b[39m(\u001b[38;5;124m\"\u001b[39m\u001b[38;5;124m計算結果：\u001b[39m\u001b[38;5;124m\"\u001b[39m , \u001b[43mvalue\u001b[49m\u001b[38;5;241;43m*\u001b[39;49m\u001b[43mvalue\u001b[49m)\n",
      "\u001b[0;31mTypeError\u001b[0m: can't multiply sequence by non-int of type 'str'"
     ]
    }
   ],
   "source": [
    "value = input(\"二乗したい数値は？\")\n",
    "print(\"計算結果：\" , value*value)"
   ]
  },
  {
   "cell_type": "markdown",
   "id": "9c8fd5b5",
   "metadata": {
    "colab_type": "text",
    "id": "ebJo83PGGbtx"
   },
   "source": [
    "**解説**\n",
    "\n",
    "- パソコンが計算ミスをしたわけではない。落ち着いて変数```value```の型を確認しよう。"
   ]
  },
  {
   "cell_type": "code",
   "execution_count": 3,
   "id": "5eefae38",
   "metadata": {},
   "outputs": [
    {
     "name": "stdout",
     "output_type": "stream",
     "text": [
      "二乗したい数値は？5\n",
      "<class 'str'>\n"
     ]
    }
   ],
   "source": [
    "value = input(\"二乗したい数値は？\")\n",
    "print(type(value))"
   ]
  },
  {
   "cell_type": "markdown",
   "id": "b7c00fa1",
   "metadata": {},
   "source": [
    "- input()で取得した値は文字列(str型)として認識される。\n",
    "    - ```*```や```+```などはint型にしか適用できないので、エラーが出たというわけだ。"
   ]
  },
  {
   "cell_type": "markdown",
   "id": "369baf56",
   "metadata": {
    "colab_type": "text",
    "id": "8TDoOwyEt_Yg"
   },
   "source": [
    "【問題2】以下のプログラムでは入力された値が文字列型のため、例えば5を入力した時`5 × 3 ＝ 555`と表示されてしまう。  \n",
    "コードを修正して正しい計算結果が出力されるプログラムを完成させよう！"
   ]
  },
  {
   "cell_type": "code",
   "execution_count": 7,
   "id": "2f6b15a8",
   "metadata": {
    "colab": {},
    "colab_type": "code",
    "id": "IONic-HFFr6q"
   },
   "outputs": [
    {
     "name": "stdout",
     "output_type": "stream",
     "text": [
      "九九の結果を出力します。何の段が知りたいですか？\n",
      "3\n",
      "3 × 1 ＝ 3\n",
      "3 × 2 ＝ 6\n",
      "3 × 3 ＝ 9\n"
     ]
    }
   ],
   "source": [
    "# 解答例\n",
    "print(\"九九の結果を出力します。何の段が知りたいですか？\")\n",
    "value = input()\n",
    "print(value, \"× 1 ＝\", int(value)*1)\n",
    "print(value, \"× 2 ＝\", int(value)*2)\n",
    "print(value, \"× 3 ＝\", int(value)*3)"
   ]
  },
  {
   "cell_type": "markdown",
   "id": "a454af8e",
   "metadata": {
    "colab_type": "text",
    "id": "5nLDFTdmGFq8"
   },
   "source": [
    " 入力された数字を演算する場合、必ず文字列型から数値型へ変換する必要がある。  \n",
    "\n",
    "よく使うケースなので覚えておこう。 "
   ]
  },
  {
   "cell_type": "code",
   "execution_count": null,
   "id": "cfb30cf0",
   "metadata": {},
   "outputs": [],
   "source": []
  }
 ],
 "metadata": {
  "kernelspec": {
   "display_name": "Python 3 (ipykernel)",
   "language": "python",
   "name": "python3"
  },
  "language_info": {
   "codemirror_mode": {
    "name": "ipython",
    "version": 3
   },
   "file_extension": ".py",
   "mimetype": "text/x-python",
   "name": "python",
   "nbconvert_exporter": "python",
   "pygments_lexer": "ipython3",
   "version": "3.8.10"
  }
 },
 "nbformat": 4,
 "nbformat_minor": 5
}
