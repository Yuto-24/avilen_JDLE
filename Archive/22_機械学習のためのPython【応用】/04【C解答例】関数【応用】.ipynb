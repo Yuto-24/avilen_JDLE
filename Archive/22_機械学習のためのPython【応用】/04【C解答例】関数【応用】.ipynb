{
 "cells": [
  {
   "cell_type": "markdown",
   "id": "523e5f96",
   "metadata": {},
   "source": [
    "# 関数の応用\n",
    "\n",
    "この章では、基礎編で作った年齢・曜日から入場料を出す関数を改良して、抽選やクーポンを取り入れてみよう。\n",
    "\n",
    "まずは基本となる関数をおさらいする。"
   ]
  },
  {
   "cell_type": "markdown",
   "id": "e05a47e6",
   "metadata": {},
   "source": [
    "## 1. 関数のおさらい\n",
    "\n",
    "【例題】遊園地Yは経営難となり、休日の入場料を2割増しにした。3歳以下は無料、60歳以上は半額である。\n",
    "\n",
    "基本料金を1800円、平日を0、休日を1として、「年齢」と「曜日区分」を入力すると正しい入場料を返す関数```yomiuri3```を作ろう。"
   ]
  },
  {
   "cell_type": "code",
   "execution_count": 1,
   "id": "757f6c61",
   "metadata": {},
   "outputs": [],
   "source": [
    "def yomiuri(age,day):\n",
    "    base = 1800\n",
    "    if age<=3:\n",
    "        price = 0\n",
    "    elif age>=60 and day==0 :\n",
    "        price = base/2\n",
    "    elif age>=60 and day==1:\n",
    "        price = base*1.2/2\n",
    "    elif 3<age<60 and day==1:\n",
    "        price = base*1.2\n",
    "    else:\n",
    "        price = base\n",
    "    print(age,\"歳の入場料は\",price,\"円です\")"
   ]
  },
  {
   "cell_type": "markdown",
   "id": "c7d4ff5a",
   "metadata": {},
   "source": [
    "このようにif文と`elif`や`else`などを組み合わせて、複雑な条件分岐の関数を作った。ここからさらに高度にしていこう。"
   ]
  },
  {
   "cell_type": "markdown",
   "id": "7c434a3f",
   "metadata": {},
   "source": [
    "## 2. キャンペーンの導入(抽選とクーポン)\n",
    "\n",
    "【例題】遊園地Yでは、入場者は1/10の確率で当たるくじを引き、当選者にクーポンを配布するキャンペーンを開始した。\n",
    "\n",
    "くじの当選有無も出力できるように関数`yomiuri`を改良しよう。"
   ]
  },
  {
   "cell_type": "markdown",
   "id": "5f8c100b",
   "metadata": {},
   "source": [
    "### 複数の返り値を持つ関数\n",
    "\n",
    "関数を作る際は、入力と出力の確認が大切だ。\n",
    "\n",
    "今回の関数では、入力は「年齢」と「平日か休日か」という変数。\n",
    "\n",
    "出力は「入場料」と「クーポンの当選有無」になっている。\n",
    "\n",
    "このように出力、つまり返り値が複数ある場合は、関数の記述方法が少し変わる。\n",
    "\n",
    "以下の簡単な例を見てみよう。"
   ]
  },
  {
   "cell_type": "code",
   "execution_count": 2,
   "id": "f7d902a0",
   "metadata": {},
   "outputs": [],
   "source": [
    "def test():\n",
    "    return 'abc', 100"
   ]
  },
  {
   "cell_type": "code",
   "execution_count": 3,
   "id": "d42d2230",
   "metadata": {},
   "outputs": [
    {
     "data": {
      "text/plain": [
       "('abc', 100)"
      ]
     },
     "execution_count": 3,
     "metadata": {},
     "output_type": "execute_result"
    }
   ],
   "source": [
    "test()"
   ]
  },
  {
   "cell_type": "markdown",
   "id": "ec5b08ec",
   "metadata": {},
   "source": [
    "このように、returnの部分にカンマ区切りで出力したい値を並べていけばよい。\n",
    "\n",
    "返り値はリストに似た形式で与えられるため、インデックスを指定して片方のみの返り値を呼び出すこともできる。"
   ]
  },
  {
   "cell_type": "code",
   "execution_count": 4,
   "id": "aca03b99",
   "metadata": {},
   "outputs": [
    {
     "data": {
      "text/plain": [
       "'abc'"
      ]
     },
     "execution_count": 4,
     "metadata": {},
     "output_type": "execute_result"
    }
   ],
   "source": [
    "test()[0]"
   ]
  },
  {
   "cell_type": "code",
   "execution_count": 5,
   "id": "911e6a7a",
   "metadata": {},
   "outputs": [
    {
     "data": {
      "text/plain": [
       "100"
      ]
     },
     "execution_count": 5,
     "metadata": {},
     "output_type": "execute_result"
    }
   ],
   "source": [
    "test()[1]"
   ]
  },
  {
   "cell_type": "markdown",
   "id": "af82e81a",
   "metadata": {},
   "source": [
    "このように2つ以上の要素が組み合わさって出力されたものを「タプル」と呼ぶ。\n",
    "\n",
    "当選有無の出力はこれで解決できそうだ。"
   ]
  },
  {
   "cell_type": "markdown",
   "id": "97028f83",
   "metadata": {},
   "source": [
    "### 抽選の実装：random\n",
    "\n",
    "次に、抽選部分をコーディングしていく。ここでは`random`というライブラリを使用する。\n",
    "\n",
    "`random.random()`という関数では、乱数によってランダムな値を算出することができる。\n",
    "\n",
    "以下のセルを何度か実行してみよう。異なる値を出力するはずだ。"
   ]
  },
  {
   "cell_type": "code",
   "execution_count": 6,
   "id": "49f5a98a",
   "metadata": {},
   "outputs": [
    {
     "name": "stdout",
     "output_type": "stream",
     "text": [
      "0.5875050698866858\n"
     ]
    }
   ],
   "source": [
    "import random\n",
    "print(random.random())"
   ]
  },
  {
   "cell_type": "markdown",
   "id": "204fbf73",
   "metadata": {},
   "source": [
    "この`random.random()`という関数では0.0～1.0までの値がランダムで出力できる。\n",
    "\n",
    "ということは、「乱数の値が0.1以下になる」という条件にすれば、1/10の確率での当選を実装できるということになる。"
   ]
  },
  {
   "cell_type": "markdown",
   "id": "4b188d17",
   "metadata": {},
   "source": [
    "【問題】乱数の値が0.1以下なら「当選！」で、それ以下なら「残念…」と出力するプログラムを作成しよう。"
   ]
  },
  {
   "cell_type": "code",
   "execution_count": 7,
   "id": "280dde7b",
   "metadata": {},
   "outputs": [
    {
     "name": "stdout",
     "output_type": "stream",
     "text": [
      "当選！\n"
     ]
    }
   ],
   "source": [
    "a = random.random()\n",
    "if a < 0.1:\n",
    "    print(\"当選！\")\n",
    "else:\n",
    "    print(\"残念...\")"
   ]
  },
  {
   "cell_type": "markdown",
   "id": "1c701b71",
   "metadata": {},
   "source": [
    "こうすると、抽選機能を実装できたことになる。あとはこれをもとの関数に組み込むだけだ。"
   ]
  },
  {
   "cell_type": "code",
   "execution_count": 8,
   "id": "e668d1da",
   "metadata": {},
   "outputs": [],
   "source": [
    "def yomiuri2(age,day):\n",
    "    base = 1800\n",
    "    if age<=3:\n",
    "        price = 0\n",
    "    elif age>=60 and day==0 :\n",
    "        price = base/2\n",
    "    elif age>=60 and day==1:\n",
    "        price = base*1.2/2\n",
    "    elif 3<age<60 and day==1:\n",
    "        price = base*1.2\n",
    "    else:\n",
    "        price = base\n",
    "    \n",
    "    a = random.random()\n",
    "    if a < 0.1:\n",
    "        message = \"当選！\"\n",
    "    else:\n",
    "        message = \"残念...\"\n",
    "    return price,message"
   ]
  },
  {
   "cell_type": "markdown",
   "id": "33d5dfc0",
   "metadata": {},
   "source": [
    "【問題】さまざまな条件で関数`yomiuri2`を試してみよう"
   ]
  },
  {
   "cell_type": "code",
   "execution_count": 9,
   "id": "a5e915b8",
   "metadata": {},
   "outputs": [
    {
     "data": {
      "text/plain": [
       "(0, '残念...')"
      ]
     },
     "execution_count": 9,
     "metadata": {},
     "output_type": "execute_result"
    }
   ],
   "source": [
    "yomiuri2(2,1)"
   ]
  },
  {
   "cell_type": "code",
   "execution_count": 10,
   "id": "831dfb68",
   "metadata": {},
   "outputs": [
    {
     "data": {
      "text/plain": [
       "(900.0, '残念...')"
      ]
     },
     "execution_count": 10,
     "metadata": {},
     "output_type": "execute_result"
    }
   ],
   "source": [
    "yomiuri2(65,0)"
   ]
  },
  {
   "cell_type": "code",
   "execution_count": 11,
   "id": "b1475dbb",
   "metadata": {},
   "outputs": [
    {
     "data": {
      "text/plain": [
       "(2160.0, '残念...')"
      ]
     },
     "execution_count": 11,
     "metadata": {},
     "output_type": "execute_result"
    }
   ],
   "source": [
    "yomiuri2(20,1)"
   ]
  },
  {
   "cell_type": "markdown",
   "id": "9a7d43ea",
   "metadata": {},
   "source": [
    "これを応用することで、当選確率を自由に操作できる。最後の問題としてやってみよう。"
   ]
  },
  {
   "cell_type": "markdown",
   "id": "799f1e5b",
   "metadata": {},
   "source": [
    "【問題】当選確率`p`を引数に組み込み、自由に設定できる関数`yomiuri3`を作ろう"
   ]
  },
  {
   "cell_type": "code",
   "execution_count": 12,
   "id": "535f8363",
   "metadata": {},
   "outputs": [],
   "source": [
    "def yomiuri3(age,day,p):\n",
    "    base = 1800\n",
    "    if age<=3:\n",
    "        price = 0\n",
    "    elif age>=60 and day==0 :\n",
    "        price = base/2\n",
    "    elif age>=60 and day==1:\n",
    "        price = base*1.2/2\n",
    "    elif 3<age<60 and day==1:\n",
    "        price = base*1.2\n",
    "    else:\n",
    "        price = base\n",
    "    \n",
    "    a = random.random()\n",
    "    if a < p:\n",
    "        message = \"当選！\"\n",
    "    else:\n",
    "        message = \"残念...\"\n",
    "    return price,message"
   ]
  },
  {
   "cell_type": "code",
   "execution_count": 13,
   "id": "e8f1fa27",
   "metadata": {},
   "outputs": [
    {
     "data": {
      "text/plain": [
       "(1800, '当選！')"
      ]
     },
     "execution_count": 13,
     "metadata": {},
     "output_type": "execute_result"
    }
   ],
   "source": [
    "yomiuri3(20,0,0.5)"
   ]
  },
  {
   "cell_type": "code",
   "execution_count": 14,
   "id": "e28f2bab",
   "metadata": {},
   "outputs": [
    {
     "data": {
      "text/plain": [
       "(1800, '残念...')"
      ]
     },
     "execution_count": 14,
     "metadata": {},
     "output_type": "execute_result"
    }
   ],
   "source": [
    "yomiuri3(21,0,0.5)"
   ]
  },
  {
   "cell_type": "markdown",
   "id": "ce075a63",
   "metadata": {},
   "source": [
    "#### 補足\n",
    "\n",
    "当選確率は動かせるが、あまり頻繁には動かさない場合、関数の引数部分にデフォルトの値を設定できる。\n",
    "\n",
    "こうすると、pを設定せずに関数を使用した場合にデフォルトの値が参照される。\n",
    "\n",
    "関数を作る際にたまに使用するので、ぜひ覚えておこう。"
   ]
  },
  {
   "cell_type": "code",
   "execution_count": 15,
   "id": "6f5c0f90",
   "metadata": {},
   "outputs": [],
   "source": [
    "def yomiuri3(age,day,p=0.3):\n",
    "    base = 1800\n",
    "    if age<=3:\n",
    "        price = 0\n",
    "    elif age>=60 and day==0 :\n",
    "        price = base/2\n",
    "    elif age>=60 and day==1:\n",
    "        price = base*1.2/2\n",
    "    elif 3<age<60 and day==1:\n",
    "        price = base*1.2\n",
    "    else:\n",
    "        price = base\n",
    "    \n",
    "    a = random.random()\n",
    "    if a < p:\n",
    "        message = \"当選！\"\n",
    "    else:\n",
    "        message = \"残念...\"\n",
    "    return price,message"
   ]
  },
  {
   "cell_type": "code",
   "execution_count": null,
   "id": "6ad3305d",
   "metadata": {},
   "outputs": [],
   "source": []
  }
 ],
 "metadata": {
  "kernelspec": {
   "display_name": "avilen-ml3",
   "language": "python",
   "name": "python3"
  },
  "language_info": {
   "codemirror_mode": {
    "name": "ipython",
    "version": 3
   },
   "file_extension": ".py",
   "mimetype": "text/x-python",
   "name": "python",
   "nbconvert_exporter": "python",
   "pygments_lexer": "ipython3",
   "version": "3.9.7"
  },
  "vscode": {
   "interpreter": {
    "hash": "f25b26b4ea7004765cfa1e96cf36e4bfdb1569f2ca834d9e6ec0cf32829ced3d"
   }
  }
 },
 "nbformat": 4,
 "nbformat_minor": 5
}
