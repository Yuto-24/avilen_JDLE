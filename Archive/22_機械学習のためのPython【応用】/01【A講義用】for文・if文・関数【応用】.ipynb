{
 "cells": [
  {
   "cell_type": "markdown",
   "id": "cf1971bf",
   "metadata": {
    "id": "cf1971bf"
   },
   "source": [
    "# for文・if文を応用した関数\n",
    "\n",
    "---\n",
    "\n",
    "ここからはPythonの応用プログラミングについて学んでいく。最初のテーマは「for文・if文」だ。\n",
    "\n",
    "どのプログラミング言語でも頻出する「繰り返し」と「条件分岐」は、さまざまな応用例が存在する。\n",
    "\n",
    "その応用例をいくつか練習しよう。"
   ]
  },
  {
   "cell_type": "markdown",
   "id": "18031a52",
   "metadata": {
    "id": "18031a52"
   },
   "source": [
    "## 1. for文の応用\n",
    "\n",
    "【例題】for文を使って1～50の足し算をしてみよう"
   ]
  },
  {
   "cell_type": "code",
   "execution_count": null,
   "id": "03f76117",
   "metadata": {
    "id": "03f76117"
   },
   "outputs": [],
   "source": [
    "sum = 0\n",
    "for i in range(51):\n",
    "    sum += i\n",
    "print(sum)"
   ]
  },
  {
   "cell_type": "markdown",
   "id": "c025049b",
   "metadata": {
    "id": "c025049b"
   },
   "source": [
    "pythonのインデックスが0から始まるため、iは`range(51)`の範囲で指定する。"
   ]
  },
  {
   "cell_type": "markdown",
   "id": "f79213f3",
   "metadata": {
    "id": "f79213f3"
   },
   "source": [
    "【問題】for文を使って、1～50の掛け算をコーディングしてみよう"
   ]
  },
  {
   "cell_type": "code",
   "execution_count": null,
   "id": "cb8c6c58",
   "metadata": {
    "id": "cb8c6c58"
   },
   "outputs": [],
   "source": []
  },
  {
   "cell_type": "markdown",
   "id": "e5451b75",
   "metadata": {
    "id": "e5451b75"
   },
   "source": [
    "## 2. for文+if文の応用\n",
    "\n",
    "次に、for文とif文を組み合わせてさらに高度なプログラムを書いてみよう。\n",
    "\n",
    "【例題】1～30の数字について、3の倍数のときだけBuzzと表示、それ以外はその数字を表示するようなプログラムを書いてみよう。"
   ]
  },
  {
   "cell_type": "code",
   "execution_count": null,
   "id": "76bfc75c",
   "metadata": {
    "id": "76bfc75c"
   },
   "outputs": [],
   "source": [
    "for i in range(1, 31, 1):\n",
    "    if i % 3 == 0:\n",
    "        print('Buzz')\n",
    "    else:\n",
    "        print(i)"
   ]
  },
  {
   "cell_type": "markdown",
   "id": "7b0da718",
   "metadata": {
    "id": "7b0da718"
   },
   "source": [
    "`i % 3 == 0`はiが3で割り切れるかどうかを判断する条件だ。\n",
    "\n",
    "`range(1,31,1)`でインデックス`i`を1から始めているのもポイント。\n",
    "\n",
    "これを応用して、「Fizzbuzz」と呼ばれる高度な課題にチャレンジしてみよう。"
   ]
  },
  {
   "cell_type": "markdown",
   "id": "dfddea27",
   "metadata": {
    "id": "dfddea27"
   },
   "source": [
    "【問題】1～30までの数を出力したい。ただし、3の倍数なら代わりにFizzを、5の倍数なら代わりにBuzzを、3の倍数でも5の倍数でもあるなら代わりにFizzBuzzを出力したい。\n",
    "\n",
    "【ヒント】\n",
    "- ”%”であまりが求められる\n",
    "- nがmの倍数であるとは、nをmで割ったあまりが0ということ\n",
    "- 条件式の複合はandやorを使用する"
   ]
  },
  {
   "cell_type": "code",
   "execution_count": null,
   "id": "901fc958",
   "metadata": {
    "id": "901fc958"
   },
   "outputs": [],
   "source": []
  },
  {
   "cell_type": "markdown",
   "id": "30bd7b02",
   "metadata": {
    "id": "30bd7b02"
   },
   "source": [
    "## 3.while文 "
   ]
  },
  {
   "cell_type": "markdown",
   "id": "bcff1edc",
   "metadata": {
    "id": "bcff1edc"
   },
   "source": [
    "for文、if文の派生版としてwhile文というものがある。\n",
    "\n",
    "まずはこれの使い方を見ていこう。"
   ]
  },
  {
   "cell_type": "markdown",
   "id": "13ca005c",
   "metadata": {
    "id": "13ca005c"
   },
   "source": [
    "【例題】while文で0～4の数値を連続でprintしてみよう"
   ]
  },
  {
   "cell_type": "code",
   "execution_count": null,
   "id": "685040c3",
   "metadata": {
    "id": "685040c3"
   },
   "outputs": [],
   "source": [
    "num = 0\n",
    "while (num < 5):\n",
    "    print(num)\n",
    "    num += 1"
   ]
  },
  {
   "cell_type": "markdown",
   "id": "13c6bc37",
   "metadata": {
    "id": "13c6bc37"
   },
   "source": [
    "基本的な書き方は以下の通りだ。\n",
    "\n",
    "- 1行目：`while (条件文):`→今回は`num<5`\n",
    "- 2行目以降：繰り返したい処理→今回は`print`\n",
    "\n",
    "こうすると、条件文の中身の結果が`True`である限り、永遠に2行目以降の処理を繰り返し続ける。\n",
    "\n",
    "条件文の中身はbool型で`True`か`False`を出力できるものであればOKだ。\n",
    "\n",
    "`while True`だと永遠に実行し続け、`while False`だと永遠に実行しないプログラムとなる。"
   ]
  },
  {
   "cell_type": "markdown",
   "id": "82bd8319",
   "metadata": {
    "id": "82bd8319"
   },
   "source": [
    "【例題】while文で「Hello」を10回連続でprintしてみよう"
   ]
  },
  {
   "cell_type": "code",
   "execution_count": null,
   "id": "94ce3b86",
   "metadata": {
    "id": "94ce3b86"
   },
   "outputs": [],
   "source": [
    "num = 0\n",
    "while (num < 10):\n",
    "    print(\"Hello\")\n",
    "    num += 1"
   ]
  },
  {
   "cell_type": "markdown",
   "id": "99cd3453",
   "metadata": {
    "id": "99cd3453"
   },
   "source": [
    "### ループ終了後の処理:else\n",
    "\n",
    "while文によるループが条件式が偽Falseになるまで正常に実行された後に何らかの処理を行いたい場合は`else`を使う。"
   ]
  },
  {
   "cell_type": "code",
   "execution_count": null,
   "id": "1394362b",
   "metadata": {
    "id": "1394362b"
   },
   "outputs": [],
   "source": [
    "i = 0\n",
    "\n",
    "while i < 3:\n",
    "    print(i)\n",
    "    i += 1\n",
    "else:\n",
    "    print('!!FINISH!!')"
   ]
  },
  {
   "cell_type": "markdown",
   "id": "efc59506",
   "metadata": {
    "id": "efc59506"
   },
   "source": [
    "このように条件文の中身を変えることで、さまざまな繰り返し処理をコーディングできるのがwhile文の強みだ。\n",
    "\n",
    "しかし、条件式を単に`True`にしてしまうと、永遠に処理を繰り返して終わらないプログラムになってしまう。\n",
    "\n",
    "そこで、処理にインターバルを作ったり、強制終了したりする手段を覚えよう。"
   ]
  },
  {
   "cell_type": "markdown",
   "id": "90b7041a",
   "metadata": {
    "id": "90b7041a"
   },
   "source": [
    "### time.sleep()関数\n",
    "\n",
    "timeライブラリに存在する`time.sleep()`関数は、()内の指定した秒数だけ処理をストップする機能を持つ。\n",
    "\n",
    "これを最初の例題に組み込んで、3秒のインターバルを設けてみよう。"
   ]
  },
  {
   "cell_type": "code",
   "execution_count": null,
   "id": "2382ac4d",
   "metadata": {
    "id": "2382ac4d"
   },
   "outputs": [],
   "source": [
    "import time\n",
    "\n",
    "num = 0\n",
    "while (num < 5):\n",
    "    print(num)\n",
    "    num += 1\n",
    "    time.sleep(3)"
   ]
  },
  {
   "cell_type": "markdown",
   "id": "52549723",
   "metadata": {
    "id": "52549723"
   },
   "source": [
    "関数の処理としては同じだが、インターバルで3秒ごとに1回ずつ処理を行っていることが分かるはずだ。\n",
    "\n",
    "複雑なプログラミングになると外部ツールなどを応用するため、時間当たりにできる処理回数が制限されることがある。\n",
    "\n",
    "そんなときに便利なのがこの`time.sleep()`だ。"
   ]
  },
  {
   "cell_type": "markdown",
   "id": "0d288cb5",
   "metadata": {
    "id": "0d288cb5"
   },
   "source": [
    "### if文 + breakによる強制終了\n",
    "\n",
    "`break`を使うと、if文である条件に達した場合に処理を強制終了できる。"
   ]
  },
  {
   "cell_type": "code",
   "execution_count": null,
   "id": "1dc10f9a",
   "metadata": {
    "id": "1dc10f9a"
   },
   "outputs": [],
   "source": [
    "num = 0\n",
    "while True:\n",
    "    print(num)\n",
    "    num += 1\n",
    "    if num > 10:\n",
    "        break"
   ]
  },
  {
   "cell_type": "markdown",
   "id": "64356dc8",
   "metadata": {
    "id": "64356dc8"
   },
   "source": [
    "上のコードでは、`num`が10以上になると強制終了される。`これはfor i in range(11):`と同じ挙動だ。\n",
    "\n",
    "うっかり`while True`を書いてしまう、もしくは常に成り立つような条件文を書いてしまうと無限ループに入ってしまう。\n",
    "\n",
    "`break`は緊急用にあらかじめ作っておいた方が安全だ。"
   ]
  },
  {
   "cell_type": "code",
   "execution_count": null,
   "id": "b7dae6a5",
   "metadata": {
    "id": "b7dae6a5"
   },
   "outputs": [],
   "source": []
  }
 ],
 "metadata": {
  "colab": {
   "provenance": []
  },
  "kernelspec": {
   "display_name": "avilen-ml3",
   "language": "python",
   "name": "python3"
  },
  "language_info": {
   "codemirror_mode": {
    "name": "ipython",
    "version": 3
   },
   "file_extension": ".py",
   "mimetype": "text/x-python",
   "name": "python",
   "nbconvert_exporter": "python",
   "pygments_lexer": "ipython3",
   "version": "3.9.7"
  },
  "vscode": {
   "interpreter": {
    "hash": "f25b26b4ea7004765cfa1e96cf36e4bfdb1569f2ca834d9e6ec0cf32829ced3d"
   }
  }
 },
 "nbformat": 4,
 "nbformat_minor": 5
}
