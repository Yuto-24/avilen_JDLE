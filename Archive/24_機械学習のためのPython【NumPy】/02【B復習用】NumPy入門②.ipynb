{
 "cells": [
  {
   "cell_type": "markdown",
   "id": "f48f0798",
   "metadata": {},
   "source": [
    "## NumPy入門2\n",
    "cifar10でダウンロードしたデータはNumPy内のarrayというデータで表現した画像データとそれぞれのラベルだった。\n",
    "この様な複雑なデータの表現や扱いをするのにこのNumPyは非常に便利だ。\n",
    "\n",
    "そのNumPyについて詳しく学んでいこう。\n",
    "\n",
    "### 1. NumPyのインポート\n",
    "以下でNumPyをインポートしよう。一般的にNumPyは、as構文を用いて`np`と省略される。"
   ]
  },
  {
   "cell_type": "code",
   "execution_count": null,
   "id": "4dad0e04",
   "metadata": {},
   "outputs": [],
   "source": []
  },
  {
   "cell_type": "markdown",
   "id": "12648f91",
   "metadata": {},
   "source": [
    "### 2. リストをarrayに変換しよう\n",
    "以下の様なコードでリストを簡単にarrayに変換できる。"
   ]
  },
  {
   "cell_type": "code",
   "execution_count": null,
   "id": "9f889cf7",
   "metadata": {},
   "outputs": [],
   "source": []
  },
  {
   "cell_type": "code",
   "execution_count": null,
   "id": "2a65f181",
   "metadata": {},
   "outputs": [],
   "source": []
  },
  {
   "cell_type": "markdown",
   "id": "12a58585",
   "metadata": {},
   "source": [
    "### 3. 事前に準備されているarray\n",
    "以下の様に、NumPyには事前に用意されている標準的なarrayもある。\n",
    "\n",
    "データの構造(shape)はタプルで指定する。"
   ]
  },
  {
   "cell_type": "code",
   "execution_count": null,
   "id": "c1a62ae7",
   "metadata": {},
   "outputs": [],
   "source": []
  },
  {
   "cell_type": "code",
   "execution_count": null,
   "id": "94f76065",
   "metadata": {},
   "outputs": [],
   "source": []
  },
  {
   "cell_type": "markdown",
   "id": "b7987366",
   "metadata": {},
   "source": [
    "### 4. データセットを取り込もう\n",
    "NumPyには保存したデータをarrayの形式に取り込める`loadtxt()`という関数が用意されている。これを用いて、データをarrayに取り込もう。\n",
    "\n",
    "なお、ここで用意したデータは応用編で使用した成績データの文字列部分を削除したものである。それぞれの人ごとに、テストの点数が国語、数学、理科、社会、英語の順で並んでいる。"
   ]
  },
  {
   "cell_type": "code",
   "execution_count": null,
   "id": "2b991dac",
   "metadata": {},
   "outputs": [],
   "source": []
  },
  {
   "cell_type": "markdown",
   "id": "ec7a58c3",
   "metadata": {},
   "source": [
    "`86.`のように小数点がついているが、これはfloat型として読み込まれていることを表している。\n",
    "\n",
    "arrayの要素の型はメンバ変数`dtype`で確認できる。"
   ]
  },
  {
   "cell_type": "code",
   "execution_count": null,
   "id": "77fe0e94",
   "metadata": {},
   "outputs": [],
   "source": []
  },
  {
   "cell_type": "markdown",
   "id": "f83ed58c",
   "metadata": {},
   "source": [
    "int型にして読み込むには以下の様にする。"
   ]
  },
  {
   "cell_type": "code",
   "execution_count": null,
   "id": "6cd59e76",
   "metadata": {},
   "outputs": [],
   "source": []
  },
  {
   "cell_type": "markdown",
   "id": "007ece72",
   "metadata": {},
   "source": [
    "### 5. データの構造を確かめよう\n",
    "メンバ変数`shape`を用いてデータの構造を確かめてみると、これは10行5列の行列であることがわかる。"
   ]
  },
  {
   "cell_type": "code",
   "execution_count": null,
   "id": "04ab5e60",
   "metadata": {},
   "outputs": [],
   "source": []
  },
  {
   "cell_type": "markdown",
   "id": "f5029f14",
   "metadata": {},
   "source": [
    "この様にして、excel等を用いてcsvを開くことなくデータの外観をつかむことができる。また、この様に一度Pythonのデータとして取り込むことで元データに変更を加えることなく取り扱うことができる。\n",
    "\n",
    "また、メンバ変数`ndim`を用いることでこのデータのを表すテンソルの階数を調べることができる。"
   ]
  },
  {
   "cell_type": "code",
   "execution_count": null,
   "id": "a03c6a29",
   "metadata": {},
   "outputs": [],
   "source": []
  },
  {
   "cell_type": "markdown",
   "id": "2603b3e5",
   "metadata": {},
   "source": [
    "### 6. データの構造を変換しよう\n",
    "`reshape()`というメソッドを用いるとデータの構造を変換することができる。例えばこの10行5列の行列を50次元のベクトルに変換してみよう。構造の指定には、`shape`などの返り値と同じタプルを用いる。"
   ]
  },
  {
   "cell_type": "code",
   "execution_count": null,
   "id": "9ffbaaf8",
   "metadata": {},
   "outputs": [],
   "source": []
  },
  {
   "cell_type": "code",
   "execution_count": null,
   "id": "5de62878",
   "metadata": {},
   "outputs": [],
   "source": []
  },
  {
   "cell_type": "markdown",
   "id": "22fdf608",
   "metadata": {},
   "source": [
    "ここで、このメソッドは元のデータを変換しているわけではなく、変換したデータを返しているだけなので、元のデータは影響を受けていない。"
   ]
  },
  {
   "cell_type": "code",
   "execution_count": null,
   "id": "820d34a8",
   "metadata": {},
   "outputs": [],
   "source": []
  },
  {
   "cell_type": "markdown",
   "id": "bb90c796",
   "metadata": {},
   "source": [
    "変換後のデータを使用する場合は返り値を変数に格納する必要がある。\n",
    "\n",
    "この様に、データを加工するために用意されたメソッドには元のデータを変更するものと、変更したものを返すだけのものが存在する。\n",
    "\n",
    "この違いは意識しておく必要がある。"
   ]
  },
  {
   "cell_type": "code",
   "execution_count": null,
   "id": "6baa2799",
   "metadata": {},
   "outputs": [],
   "source": []
  },
  {
   "cell_type": "markdown",
   "id": "ed44bd02",
   "metadata": {},
   "source": [
    "### 7. 要素の参照\n",
    "`data`の要素をいろいろな方法で参照してみよう。\n",
    "\n",
    "#### 3人目の人の英語（5番目）は何点？"
   ]
  },
  {
   "cell_type": "code",
   "execution_count": null,
   "id": "b26e9d03",
   "metadata": {},
   "outputs": [],
   "source": []
  },
  {
   "cell_type": "markdown",
   "id": "472064dd",
   "metadata": {},
   "source": [
    "#### 4人目の人の全教科の点数を調べよう"
   ]
  },
  {
   "cell_type": "code",
   "execution_count": null,
   "id": "8b2d3129",
   "metadata": {},
   "outputs": [],
   "source": []
  },
  {
   "cell_type": "markdown",
   "id": "f97637a5",
   "metadata": {},
   "source": [
    "この様に、その階の全データを参照する際は`:`を用いる。\n",
    "\n",
    "使いかたとしてはリストに対するスライス記法と同じである。"
   ]
  },
  {
   "cell_type": "code",
   "execution_count": null,
   "id": "683b11f4",
   "metadata": {},
   "outputs": [],
   "source": [
    "print(data[3,2:])"
   ]
  },
  {
   "cell_type": "markdown",
   "id": "40307399",
   "metadata": {},
   "source": [
    "#### 数学（2番目）の全員の点数分布を見てみよう\n",
    "\n",
    "考え方は全く同じとなる。"
   ]
  },
  {
   "cell_type": "code",
   "execution_count": null,
   "id": "0fd7db0b",
   "metadata": {},
   "outputs": [],
   "source": []
  },
  {
   "cell_type": "markdown",
   "id": "ab6800b7",
   "metadata": {},
   "source": [
    "#### それでは、国語（1番目）と数学（2番目）についても点数の分布を見てみよう。"
   ]
  },
  {
   "cell_type": "code",
   "execution_count": null,
   "id": "3bc2683e",
   "metadata": {},
   "outputs": [],
   "source": []
  },
  {
   "cell_type": "markdown",
   "id": "c27170da",
   "metadata": {},
   "source": [
    "### ８. 各要素の編集、演算\n",
    "arrayの各要素で演算をしたい場合、どの様にすればいいか学んでいこう。\n",
    "\n",
    "#### 6人目の人の理科（3番目）の点数は69点ではなく30点だった。データを修正しよう。\n",
    "\n",
    "変数へのデータの格納と同じ容量でできる。"
   ]
  },
  {
   "cell_type": "code",
   "execution_count": null,
   "id": "4e7471cb",
   "metadata": {},
   "outputs": [],
   "source": []
  },
  {
   "cell_type": "markdown",
   "id": "92dfe1c7",
   "metadata": {},
   "source": [
    "修正できたか確認しよう。"
   ]
  },
  {
   "cell_type": "code",
   "execution_count": null,
   "id": "ebea5a79",
   "metadata": {
    "scrolled": true
   },
   "outputs": [],
   "source": []
  },
  {
   "cell_type": "markdown",
   "id": "fed95a28",
   "metadata": {},
   "source": [
    "#### 8人目の人のカンニングが発覚したので、全教科一律0点にしよう"
   ]
  },
  {
   "cell_type": "code",
   "execution_count": null,
   "id": "c530610d",
   "metadata": {},
   "outputs": [],
   "source": []
  },
  {
   "cell_type": "markdown",
   "id": "92356726",
   "metadata": {},
   "source": [
    "この様に、列や行、スライスを用いて一部分を一気に変更することも可能だ。\n",
    "\n",
    "#### 100点満点で採点したけれど、50点満点に直したい。全ての点数を1/2にしよう。"
   ]
  },
  {
   "cell_type": "code",
   "execution_count": null,
   "id": "483990ca",
   "metadata": {},
   "outputs": [],
   "source": []
  },
  {
   "cell_type": "markdown",
   "id": "42865e76",
   "metadata": {},
   "source": [
    "この様に全てのデータに同じ値を加算乗除したい際も簡単に記述できる。\n",
    "\n",
    "#### 数学（2番目）で出題ミスが発覚したので、全員の数学の点数を+5点しよう"
   ]
  },
  {
   "cell_type": "code",
   "execution_count": null,
   "id": "a33f8c0e",
   "metadata": {},
   "outputs": [],
   "source": []
  },
  {
   "cell_type": "markdown",
   "id": "63aecd01",
   "metadata": {},
   "source": [
    "もちろんスライス機能を用いて一部分だけ同じ値を加算乗除、ということもできる。\n",
    "\n",
    "#### 次のテストの結果が出たので、足し算しよう\n",
    "\n",
    "※以下で読み込むデータは既に50点満点のものである。"
   ]
  },
  {
   "cell_type": "code",
   "execution_count": null,
   "id": "3cd43eda",
   "metadata": {},
   "outputs": [],
   "source": []
  },
  {
   "cell_type": "code",
   "execution_count": null,
   "id": "c241c30f",
   "metadata": {},
   "outputs": [],
   "source": []
  },
  {
   "cell_type": "markdown",
   "id": "bf4290ac",
   "metadata": {},
   "source": [
    "こうすれば同じ要素ごとの加算乗除ができる。\n",
    "\n",
    "積の場合、単に`*`を用いれば要素積となることに注意しよう。行列積の計算方法は後ほど学ぶ。\n",
    "\n",
    "#### 2回のテストの点数を平均しよう。"
   ]
  },
  {
   "cell_type": "code",
   "execution_count": null,
   "id": "ee2ddf06",
   "metadata": {},
   "outputs": [],
   "source": []
  },
  {
   "cell_type": "markdown",
   "id": "9327b55d",
   "metadata": {},
   "source": [
    "### 9.  データをcsvで書き出してみよう\n",
    "arrayからcsvへの書き出しも`savetxt()`というメソッドを用いれば非常に簡単である。引数の指定は概ね`loadtxt()`と同じである。"
   ]
  },
  {
   "cell_type": "code",
   "execution_count": null,
   "id": "f9319873",
   "metadata": {},
   "outputs": [],
   "source": []
  }
 ],
 "metadata": {
  "kernelspec": {
   "display_name": "avilen-ml3",
   "language": "python",
   "name": "python3"
  },
  "language_info": {
   "codemirror_mode": {
    "name": "ipython",
    "version": 3
   },
   "file_extension": ".py",
   "mimetype": "text/x-python",
   "name": "python",
   "nbconvert_exporter": "python",
   "pygments_lexer": "ipython3",
   "version": "3.9.7"
  },
  "vscode": {
   "interpreter": {
    "hash": "f25b26b4ea7004765cfa1e96cf36e4bfdb1569f2ca834d9e6ec0cf32829ced3d"
   }
  }
 },
 "nbformat": 4,
 "nbformat_minor": 5
}
