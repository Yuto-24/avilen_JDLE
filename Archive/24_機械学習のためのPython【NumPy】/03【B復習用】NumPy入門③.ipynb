{
 "cells": [
  {
   "cell_type": "markdown",
   "id": "f48f0798",
   "metadata": {},
   "source": [
    "## NumPy入門3\n",
    "NumPy内に用意されたarrayについてこれまでは基本的な演算やデータの取り扱いについて学んできた。ここからは、発展的な内容として、arrayで重要となるブロードキャストという機能や、数学、線形代数と対応した演算を見ていこう。\n",
    "\n",
    "まずはNumPyをインポートしよう。"
   ]
  },
  {
   "cell_type": "code",
   "execution_count": null,
   "id": "f49a4f44",
   "metadata": {},
   "outputs": [],
   "source": []
  },
  {
   "cell_type": "markdown",
   "id": "ddce25bf",
   "metadata": {},
   "source": [
    "### 1. ブロードキャスト\n",
    "例えば以下の様に構造の違う2つのarrayを用意。"
   ]
  },
  {
   "cell_type": "code",
   "execution_count": null,
   "id": "4dad0e04",
   "metadata": {},
   "outputs": [],
   "source": []
  },
  {
   "cell_type": "markdown",
   "id": "2b612c3e",
   "metadata": {},
   "source": [
    "線形代数では、この様な構造の違う行列やベクトルの和や差は計算できない。では、この2つのarrayはどうだろう？"
   ]
  },
  {
   "cell_type": "code",
   "execution_count": null,
   "id": "14a03f35",
   "metadata": {},
   "outputs": [],
   "source": []
  },
  {
   "attachments": {},
   "cell_type": "markdown",
   "id": "0062228b",
   "metadata": {},
   "source": [
    "できた！\n",
    "\n",
    "NumPyは構造の違うarrayどうしを計算しようとした際、自動で調整して計算してくれる。この様な機能を __ブロードキャスト__ という。\n",
    "もちろんこれは、加算乗除全てで可能だ。\n",
    "\n",
    "では、arrayではどの様な計算ができて、どの様な計算ができないのか確かめておこう。"
   ]
  },
  {
   "cell_type": "code",
   "execution_count": null,
   "id": "97ea31d8",
   "metadata": {},
   "outputs": [],
   "source": []
  },
  {
   "cell_type": "markdown",
   "id": "99c58059",
   "metadata": {},
   "source": [
    "これらの色々な組み合わせで計算してみて、計算が可能か確かめてみよう。"
   ]
  },
  {
   "cell_type": "code",
   "execution_count": null,
   "id": "85dfcb05",
   "metadata": {},
   "outputs": [],
   "source": []
  },
  {
   "cell_type": "markdown",
   "id": "1a2f96fd",
   "metadata": {},
   "source": [
    "これは計算できない。\n",
    "\n",
    "同じ階数でも、次元が違う計算はできないみたいだ。もちろんこの様な場合もできない。"
   ]
  },
  {
   "cell_type": "code",
   "execution_count": null,
   "id": "eee399a6",
   "metadata": {},
   "outputs": [],
   "source": []
  },
  {
   "attachments": {},
   "cell_type": "markdown",
   "id": "e7655a7e",
   "metadata": {},
   "source": [
    "ただし例外がある。一次元のデータは、次元が大きい方のデータに合わせて全てが同じ値のデータに修正して計算してくれる様だ。\n",
    "\n",
    "例えば以下の場合、1次元データの方が __全ての要素が1のデータに修正されて計算されている。__"
   ]
  },
  {
   "cell_type": "code",
   "execution_count": null,
   "id": "acab95d4",
   "metadata": {},
   "outputs": [],
   "source": []
  },
  {
   "cell_type": "markdown",
   "id": "34fcc604",
   "metadata": {},
   "source": [
    "先ほど(3,3) と(3,)の和は計算できていたが、(3,4)と(3,)の和は計算できない。"
   ]
  },
  {
   "cell_type": "code",
   "execution_count": null,
   "id": "2cb90062",
   "metadata": {},
   "outputs": [],
   "source": []
  },
  {
   "cell_type": "markdown",
   "id": "8bc66d62",
   "metadata": {},
   "source": [
    "(3,4)と(4,)の和にすれば計算が可能となる。"
   ]
  },
  {
   "cell_type": "code",
   "execution_count": null,
   "id": "c00fc3aa",
   "metadata": {},
   "outputs": [],
   "source": []
  },
  {
   "cell_type": "markdown",
   "id": "e69c761a",
   "metadata": {},
   "source": [
    "このように階数の異なるarray同士の演算の場合、「より後ろにある軸の要素数が一致している場合」に計算が可能となる、つまり「前の方にある軸を補うようにブロードキャストが行われる」"
   ]
  },
  {
   "cell_type": "code",
   "execution_count": null,
   "id": "bb993dc6",
   "metadata": {},
   "outputs": [],
   "source": []
  },
  {
   "attachments": {},
   "cell_type": "markdown",
   "id": "e3af93a2",
   "metadata": {},
   "source": [
    "#### ブロードキャストの性質まとめ\n",
    "\n",
    "- 階数(ndimの値)があっていない場合\n",
    "  - 後ろの軸の要素数が一致している場合は自動で同じ要素を繋げ大きい方に合わせられる\n",
    "  - 後ろの軸の要素数が一致していない場合は計算できない\n",
    "- 階数があっていても(いなくても)、各次元のサイズ(shapeの値)があっていなければ計算できない\n",
    "- ただし例外的に、`[1]`や`[[1], [1]]`の様に次元が1の場合は同じ要素を繰り返すことで要素数を自動で合わせられる\n",
    "\n",
    "__あとは、思いつく限り色々なデータを作成して計算してみて、ブロードキャストの感覚を掴んでおこう。__"
   ]
  },
  {
   "cell_type": "markdown",
   "id": "451e22e6",
   "metadata": {},
   "source": [
    "### 2. 数学とNumPy\n",
    "数学で学んだ様々な計算について、NumPyでどの様にできるのかも確かめておこう。NumPyはこの様な計算をするにも非常に便利なのである。\n",
    "\n",
    "#### べき乗とルート\n",
    "これはPythonの標準機能でも`**`で計算できるが、NumPyでも以下の様な機能が提供されている。"
   ]
  },
  {
   "cell_type": "code",
   "execution_count": null,
   "id": "9eb0fa00",
   "metadata": {},
   "outputs": [],
   "source": [
    "#10の2乗\n",
    "\n",
    "\n",
    "#100の1/2乗\n",
    "\n",
    "\n",
    "#100のルート\n"
   ]
  },
  {
   "cell_type": "markdown",
   "id": "dbc2dfdd",
   "metadata": {},
   "source": [
    "#### 数学に登場する様々な定数\n",
    "数学では様々な定数が登場した。NumPyではその定数も提供されているため、手入力で実装する必要がない。"
   ]
  },
  {
   "cell_type": "code",
   "execution_count": null,
   "id": "9092a3f2",
   "metadata": {},
   "outputs": [],
   "source": [
    "#円周率\n",
    "\n",
    "\n",
    "#自然対数の底\n"
   ]
  },
  {
   "cell_type": "markdown",
   "id": "fdf0e840",
   "metadata": {},
   "source": [
    "#### 三角関数\n",
    "様々な三角関数を計算する機能も以下の様に提供されている。ここでは紹介しきれないが、他にも様々な関数が用意されているので調べてみてほしい。"
   ]
  },
  {
   "cell_type": "code",
   "execution_count": null,
   "id": "4ace94cf",
   "metadata": {},
   "outputs": [],
   "source": [
    "#sin\n",
    "\n",
    "\n",
    "#cos\n",
    "\n",
    "\n",
    "#tan\n",
    "\n",
    "\n",
    "#arcsin (sinの逆関数)\n",
    "\n",
    "\n",
    "#arccos (cosの逆関数)\n",
    "\n",
    "\n",
    "#arctan (tacの逆関数)\n"
   ]
  },
  {
   "cell_type": "markdown",
   "id": "023b7179",
   "metadata": {},
   "source": [
    "ただし、これらの計算はあくまでコンピュータ内でアルゴリズムを用いて近似的に計算されるため誤差が生じる。0となるべき値が0ではなくe-16などと非常に小さい値となっていることがわかる。\n",
    "\n",
    "#### ランダム\n",
    "乱数を出力する機能はrandomモジュールにもあったが、NumPyにも便利な機能が提供されている。\n",
    "\n",
    "以下の様に`random.rand`を用いれば、要素が全て0~1の乱数である指定した構造のarrayが生成できる。ここでは2行3列のarrayを生成した。"
   ]
  },
  {
   "cell_type": "code",
   "execution_count": null,
   "id": "54ae305d",
   "metadata": {},
   "outputs": [],
   "source": []
  },
  {
   "cell_type": "markdown",
   "id": "a8658977",
   "metadata": {},
   "source": [
    "### 3. 線形代数とNumPy\n",
    "NumPyが提供するarrayは、様々なデータを表現できる。そのデータはベクトルや行列を含むテンソルとして、多重な構造を扱うのにも便利である。\n",
    "\n",
    "では、線形代数で学んだ様々な計算をarrayで実施するにはどの様にすればいいのか、ここで見ておこう。ここを理解すれば、線形代数で学んだ様々な計算をコンピュータで自動化できる。複雑で数の多い計算も正確に素早く実行することができる。\n",
    "\n",
    "#### 単位行列\n",
    "NumPyに用意された`identity()`という関数は、引数で指定したサイズの単位行列を返す。\n",
    "\n",
    "以下では3行3列の単位行列を作成してみる。"
   ]
  },
  {
   "cell_type": "code",
   "execution_count": null,
   "id": "c736a8ce",
   "metadata": {},
   "outputs": [],
   "source": []
  },
  {
   "cell_type": "markdown",
   "id": "0c702cde",
   "metadata": {},
   "source": [
    "#### 行列と積\n",
    "arrayで表現した行列は、単に`*`を用いると要素積となる。\n",
    "\n",
    "以下の計算を見ると行列積ではなく要素積となっていることがわかる。"
   ]
  },
  {
   "cell_type": "code",
   "execution_count": null,
   "id": "fe2bb868",
   "metadata": {},
   "outputs": [],
   "source": []
  },
  {
   "cell_type": "markdown",
   "id": "82221e57",
   "metadata": {},
   "source": [
    "べき乗の計算も同じく要素ごとのべき乗である。\n",
    "\n",
    "これは`**`というPython標準の記法を用いても、`np.power()`を用いても同じである。"
   ]
  },
  {
   "cell_type": "code",
   "execution_count": null,
   "id": "f0de9623",
   "metadata": {},
   "outputs": [],
   "source": []
  },
  {
   "cell_type": "markdown",
   "id": "ea84464e",
   "metadata": {},
   "source": [
    "ベクトルの内積や行列積をためには`dot()`という関数が用意されている。\n",
    "\n",
    "引数には、かける順番で入力する。"
   ]
  },
  {
   "cell_type": "code",
   "execution_count": null,
   "id": "b01333ba",
   "metadata": {},
   "outputs": [],
   "source": []
  },
  {
   "cell_type": "code",
   "execution_count": null,
   "id": "d128b1eb",
   "metadata": {},
   "outputs": [],
   "source": []
  },
  {
   "cell_type": "markdown",
   "id": "40428db2",
   "metadata": {},
   "source": [
    "ベクトルの内積は`np.inner()`でも行える。また、`dot()`の代わりに`matmul()`を利用してもよい"
   ]
  },
  {
   "cell_type": "code",
   "execution_count": null,
   "id": "4e7c01a6",
   "metadata": {},
   "outputs": [],
   "source": []
  },
  {
   "cell_type": "markdown",
   "id": "a79a4da0",
   "metadata": {},
   "source": [
    "#### 行列の転置\n",
    "行列の転置を計算する方法は以下の3つある。計算結果は全て同じなので、使いやすいものを使うといい。"
   ]
  },
  {
   "cell_type": "code",
   "execution_count": null,
   "id": "6d2b9201",
   "metadata": {},
   "outputs": [],
   "source": []
  },
  {
   "cell_type": "code",
   "execution_count": null,
   "id": "5028d1b9",
   "metadata": {},
   "outputs": [],
   "source": []
  },
  {
   "cell_type": "code",
   "execution_count": null,
   "id": "f3b616e4",
   "metadata": {},
   "outputs": [],
   "source": []
  },
  {
   "cell_type": "markdown",
   "id": "f314cbc7",
   "metadata": {},
   "source": [
    "#### ノルム\n",
    "ノルムの計算は`linalg.norm()`を使用すればいい。ただし、ノルムの種類は`ord`という引数で指定する。\n",
    "\n",
    "例えば以下は、`vec1`について順にL1ノルム、L2ノルム、L3ノルムである。"
   ]
  },
  {
   "cell_type": "code",
   "execution_count": null,
   "id": "36258128",
   "metadata": {},
   "outputs": [],
   "source": []
  },
  {
   "cell_type": "markdown",
   "id": "b23f88f1",
   "metadata": {},
   "source": [
    "行列についても同様にノルムを計算できる。"
   ]
  },
  {
   "cell_type": "code",
   "execution_count": null,
   "id": "f9c93107",
   "metadata": {},
   "outputs": [],
   "source": []
  },
  {
   "cell_type": "markdown",
   "id": "e47b2e85",
   "metadata": {},
   "source": [
    "ちなみに、各要素の絶対値をarrayで返す`abs()`と全ての要素をたす`sum()`等を用いて以下の様に計算することもできる。"
   ]
  },
  {
   "cell_type": "code",
   "execution_count": null,
   "id": "9d5a17e7",
   "metadata": {},
   "outputs": [],
   "source": []
  },
  {
   "cell_type": "markdown",
   "id": "5aa87b45",
   "metadata": {},
   "source": [
    "## 最後に\n",
    "ここまでで紹介したarrayやNumPyの様々な機能は頻出なものの一部である。他にも便利な機能がたくさんあるので、「こういうことができないのかな？」と思った際に積極的に調べてみるのが今後の学習を加速させるために非常に重要となる。\n",
    "\n",
    "また、ここで紹介した内容についても知識としてだけではなく自身でも手を動かし、色々なパターンでarrayを作成して計算して感覚を掴んでいこう。"
   ]
  }
 ],
 "metadata": {
  "kernelspec": {
   "display_name": "Python 3",
   "language": "python",
   "name": "python3"
  },
  "language_info": {
   "codemirror_mode": {
    "name": "ipython",
    "version": 3
   },
   "file_extension": ".py",
   "mimetype": "text/x-python",
   "name": "python",
   "nbconvert_exporter": "python",
   "pygments_lexer": "ipython3",
   "version": "3.9.13"
  },
  "vscode": {
   "interpreter": {
    "hash": "aee8b7b246df8f9039afb4144a1f6fd8d2ca17a180786b69acc140d282b71a49"
   }
  }
 },
 "nbformat": 4,
 "nbformat_minor": 5
}
