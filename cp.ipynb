{
 "cells": [
  {
   "cell_type": "code",
   "execution_count": 2,
   "metadata": {},
   "outputs": [],
   "source": [
    "\"\"\"\n",
    "This file is copy from 3_coding_practice dir to hand_in dir\n",
    "main function need at least 1 argument str(number) of filename\n",
    "\n",
    "And if you finish u r 1 class of coding_practice, add 2nd argument: True (Default is False)\n",
    "\"\"\"\n",
    "\n",
    "\n",
    "from cp import main\n"
   ]
  },
  {
   "cell_type": "code",
   "execution_count": 4,
   "metadata": {},
   "outputs": [
    {
     "name": "stdout",
     "output_type": "stream",
     "text": [
      "copy from and to\n",
      "\t/jupyter/src/matsu/avilen_JDLE/3_コーディング演習/コーディング演習Chapter11-1.ipynb\n",
      "\t/jupyter/src/matsu/avilen_JDLE/3_コーディング演習/提出/コーディング演習Chapter11-1（植松悠杜）_v0.2.ipynb\n"
     ]
    }
   ],
   "source": [
    "# main(\"10\")\n",
    "main(\"11-1\")\n"
   ]
  },
  {
   "cell_type": "code",
   "execution_count": 3,
   "metadata": {},
   "outputs": [
    {
     "name": "stdout",
     "output_type": "stream",
     "text": [
      "copy from and to\n",
      "\t/projects/projects/Yuto/3_コーディング演習/コーディング演習Chapter02.ipynb\n",
      "\t/projects/projects/Yuto/3_コーディング演習/complete/コーディング演習Chapter02（植松悠杜）_v1.0.ipynb\n",
      "copy from and to\n",
      "\t/projects/projects/Yuto/3_コーディング演習/コーディング演習Chapter03.ipynb\n",
      "\t/projects/projects/Yuto/3_コーディング演習/complete/コーディング演習Chapter03（植松悠杜）_v1.0.ipynb\n",
      "copy from and to\n",
      "\t/projects/projects/Yuto/3_コーディング演習/コーディング演習Chapter04.ipynb\n",
      "\t/projects/projects/Yuto/3_コーディング演習/complete/コーディング演習Chapter04（植松悠杜）_v1.0.ipynb\n",
      "copy from and to\n",
      "\t/projects/projects/Yuto/3_コーディング演習/コーディング演習Chapter05.ipynb\n",
      "\t/projects/projects/Yuto/3_コーディング演習/complete/コーディング演習Chapter05（植松悠杜）_v1.0.ipynb\n",
      "copy from and to\n",
      "\t/projects/projects/Yuto/3_コーディング演習/コーディング演習Chapter06.ipynb\n",
      "\t/projects/projects/Yuto/3_コーディング演習/complete/コーディング演習Chapter06（植松悠杜）_v1.0.ipynb\n",
      "copy from and to\n",
      "\t/projects/projects/Yuto/3_コーディング演習/コーディング演習Chapter07.ipynb\n",
      "\t/projects/projects/Yuto/3_コーディング演習/complete/コーディング演習Chapter07（植松悠杜）_v1.0.ipynb\n",
      "copy from and to\n",
      "\t/projects/projects/Yuto/3_コーディング演習/コーディング演習Chapter09.ipynb\n",
      "\t/projects/projects/Yuto/3_コーディング演習/complete/コーディング演習Chapter09（植松悠杜）_v1.0.ipynb\n",
      "copy from and to\n",
      "\t/projects/projects/Yuto/3_コーディング演習/コーディング演習Chapter11-2.ipynb\n",
      "\t/projects/projects/Yuto/3_コーディング演習/complete/コーディング演習Chapter11-2（植松悠杜）_v1.0.ipynb\n"
     ]
    }
   ],
   "source": [
    "main(2, True)\n",
    "main(3, True)\n",
    "main(4, True)\n",
    "main(5, True)\n",
    "main(6, True)\n",
    "main(7, True)\n",
    "main(9, True)\n",
    "main(\"11-2\", True)\n"
   ]
  },
  {
   "cell_type": "code",
   "execution_count": null,
   "metadata": {},
   "outputs": [],
   "source": []
  }
 ],
 "metadata": {
  "kernelspec": {
   "display_name": "Python 3",
   "language": "python",
   "name": "python3"
  },
  "language_info": {
   "codemirror_mode": {
    "name": "ipython",
    "version": 3
   },
   "file_extension": ".py",
   "mimetype": "text/x-python",
   "name": "python",
   "nbconvert_exporter": "python",
   "pygments_lexer": "ipython3",
   "version": "3.10.13"
  }
 },
 "nbformat": 4,
 "nbformat_minor": 2
}
