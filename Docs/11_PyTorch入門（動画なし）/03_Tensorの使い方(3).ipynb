{
 "cells": [
  {
   "cell_type": "markdown",
   "metadata": {
    "colab_type": "text",
    "id": "TGEladYqJNtE"
   },
   "source": [
    "# Tensorとは？\n",
    "---\n",
    "前単元まで`Tensor`の特徴を学んだ。  \n",
    "この単元ではTensorを利用する上で利用頻度が高い、関数などを学んでいこう！\n",
    "\n",
    "\n",
    "## この単元の目標\n",
    "\n",
    "* transposeの利用方法を学ぶ\n",
    "* reshapeの利用方法を学ぶ\n",
    "  \n",
    "  → **Tensor型でよく利用する関数について勉強していこう**"
   ]
  },
  {
   "cell_type": "code",
   "execution_count": null,
   "metadata": {
    "colab": {},
    "colab_type": "code",
    "id": "l4QbFw0EJNtF"
   },
   "outputs": [],
   "source": [
    "# pytorchライブラリのインポート\n",
    "import torch"
   ]
  },
  {
   "cell_type": "markdown",
   "metadata": {
    "colab_type": "text",
    "id": "kXYKBp6XJNtI"
   },
   "source": [
    "## Tensorを操作する関数\n",
    "---\n",
    "PyTorchでTensorを扱う際に利用頻度が高い、`transpose`と`reshape`の使い方を見ていこう\n",
    "\n",
    "それぞれの関数の働きは\n",
    "* `transpose`：**行列の転置**\n",
    "* `reshape`：**行列の形（サイズ）の変更**\n",
    "\n",
    "一つずつ体験していこう。\n",
    "\n",
    "---\n",
    "【例題1】プログラムを実行して実行結果から挙動を確かめよう。"
   ]
  },
  {
   "cell_type": "code",
   "execution_count": null,
   "metadata": {
    "colab": {},
    "colab_type": "code",
    "id": "LPueLGPYJNtI",
    "outputId": "0b44065c-b7a5-471e-fdbb-0e56ec5559a4"
   },
   "outputs": [],
   "source": [
    "x = torch.rand((4, 3))\n",
    "print(x)\n",
    "print(x.transpose(0, 1))"
   ]
  },
  {
   "cell_type": "markdown",
   "metadata": {
    "colab_type": "text",
    "id": "4Orpgz1VJNtL"
   },
   "source": [
    "---\n",
    "4行3列の行列から3行4列の行列へ転置をすることができた。\n",
    "\n",
    "* `Tensor名.transpose(0, 1)`で転置することができる\n",
    "    * `torch.t(Tensor名)`でも同様の動作となる\n",
    "    \n",
    "**注意**\n",
    "* NumPyのtransposeとは処理が違うので混同しないように注意が必要\n",
    "\n",
    "---\n",
    "【例題2】プログラムを実行して実行結果から挙動を確かめよう。"
   ]
  },
  {
   "cell_type": "code",
   "execution_count": null,
   "metadata": {
    "colab": {},
    "colab_type": "code",
    "id": "QNKl1_W2JNtM",
    "outputId": "0cfe7a5a-d3d5-465b-b3a9-029d122dd79e"
   },
   "outputs": [],
   "source": [
    "x = torch.ones(16)\n",
    "print(x)\n",
    "print(x.reshape(2, 8))\n",
    "print(x.reshape(4, -1))"
   ]
  },
  {
   "cell_type": "markdown",
   "metadata": {
    "colab_type": "text",
    "id": "9tgDQASjJNtO"
   },
   "source": [
    "---\n",
    "要素を変えずに形状だけ変えることができた。\n",
    "\n",
    "* `Tensor名.reshape(行, 列)`で形状を指定できる\n",
    "    * 行や列の引数に`-1`を指定することで他方の次元の長さに合わせて自動で形状変換が可能。"
   ]
  },
  {
   "cell_type": "code",
   "execution_count": null,
   "metadata": {
    "colab": {},
    "colab_type": "code",
    "id": "zyxM1mGqLXbD"
   },
   "outputs": [],
   "source": []
  }
 ],
 "metadata": {
  "colab": {
   "collapsed_sections": [],
   "name": "3_Tensor.ipynb",
   "provenance": []
  },
  "kernelspec": {
   "display_name": "Python 3 (ipykernel)",
   "language": "python",
   "name": "python3"
  },
  "language_info": {
   "codemirror_mode": {
    "name": "ipython",
    "version": 3
   },
   "file_extension": ".py",
   "mimetype": "text/x-python",
   "name": "python",
   "nbconvert_exporter": "python",
   "pygments_lexer": "ipython3",
   "version": "3.9.7"
  }
 },
 "nbformat": 4,
 "nbformat_minor": 1
}
