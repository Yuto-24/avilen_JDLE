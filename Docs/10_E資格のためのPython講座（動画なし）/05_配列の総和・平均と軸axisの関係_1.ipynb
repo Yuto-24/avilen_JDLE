{
 "cells": [
  {
   "cell_type": "code",
   "execution_count": 36,
   "metadata": {},
   "outputs": [],
   "source": [
    "# numpyのインポート\n",
    "import numpy as np"
   ]
  },
  {
   "cell_type": "markdown",
   "metadata": {},
   "source": [
    "## 1. NumPy配列の列ごとの合計，平均を算出\n",
    "numpy.sum(), numpy.mean()を用いることでndarray全体の合計や平均を算出できますが，さらに引数axisを与えることで行ごとや列ごとに結果を得ることができます．  \n",
    "【例題1】ndarrayの合計を求める際に，axisを与えなかった場合とaxisに0を与えた場合を比較してみましょう.以下のコードを読んで実行してください．"
   ]
  },
  {
   "cell_type": "code",
   "execution_count": 37,
   "metadata": {},
   "outputs": [
    {
     "name": "stdout",
     "output_type": "stream",
     "text": [
      "(3, 3)\n",
      "[[0 1 2]\n",
      " [3 4 5]\n",
      " [6 7 8]]\n"
     ]
    }
   ],
   "source": [
    "# 3x3の配列を作成\n",
    "numpy_l = np.arange(9).reshape(3, 3)\n",
    "print(numpy_l.shape)\n",
    "print(numpy_l)"
   ]
  },
  {
   "cell_type": "code",
   "execution_count": 38,
   "metadata": {},
   "outputs": [
    {
     "name": "stdout",
     "output_type": "stream",
     "text": [
      "axisを与えない :  36\n",
      "axis = 0       :  [ 9 12 15]\n"
     ]
    }
   ],
   "source": [
    "# axisを与えない場合\n",
    "print('axisを与えない : ', np.sum(numpy_l))\n",
    "# axis = 0を与えた場合\n",
    "print('axis = 0       : ', np.sum(numpy_l, axis=0))"
   ]
  },
  {
   "cell_type": "markdown",
   "metadata": {},
   "source": [
    "- axisを与えなかった場合に36が，axisを0とした場合に[ 9 12 15 ]が求められていれば成功です．\n",
    "- axisを与えない場合はndarray全体の合計を算出し，axisに0を与えることで列ごとの合計を算出できることが分かります．"
   ]
  },
  {
   "cell_type": "markdown",
   "metadata": {},
   "source": [
    "【例題2】ndarrayの平均を求める際に，axisを与えなかった場合とaxisに0を与えた場合を比較してみましょう.以下のコードを読んで実行してください．"
   ]
  },
  {
   "cell_type": "code",
   "execution_count": 39,
   "metadata": {},
   "outputs": [
    {
     "name": "stdout",
     "output_type": "stream",
     "text": [
      "axisを与えない :  4.0\n",
      "axis = 0       :  [3. 4. 5.]\n"
     ]
    }
   ],
   "source": [
    "# axisを与えない場合\n",
    "print('axisを与えない : ', np.mean(numpy_l))\n",
    "# axis = 0を与えた場合\n",
    "print('axis = 0       : ', np.mean(numpy_l, axis=0))"
   ]
  },
  {
   "cell_type": "markdown",
   "metadata": {},
   "source": [
    "- axisを与えなかった場合に4.0が，axisを0とした場合に「3．4．5．]が求められていれば成功です．\n",
    "- np.mean()もnp.sum()と同様に，axisを与えない場合はndarray全体の合計を算出し，axisに0を与えることで列ごとの合計を算出できることが分かります．"
   ]
  },
  {
   "cell_type": "markdown",
   "metadata": {},
   "source": [
    "【問題】以下に示す配列の列ごとの合計と列ごとの平均を求めてみましょう．"
   ]
  },
  {
   "cell_type": "code",
   "execution_count": 40,
   "metadata": {},
   "outputs": [
    {
     "name": "stdout",
     "output_type": "stream",
     "text": [
      "(4, 3)\n",
      "[[ 0  1  2]\n",
      " [ 3  4  5]\n",
      " [ 6  7  8]\n",
      " [ 9 10 11]]\n"
     ]
    }
   ],
   "source": [
    "# 4x3の配列を作成\n",
    "numpy_l = np.arange(12).reshape(4, 3)\n",
    "print(numpy_l.shape)\n",
    "print(numpy_l)"
   ]
  },
  {
   "cell_type": "code",
   "execution_count": 41,
   "metadata": {},
   "outputs": [
    {
     "name": "stdout",
     "output_type": "stream",
     "text": [
      "列ごとの合計 :  [18 22 26]\n",
      "列ごとの平均 :  [4.5 5.5 6.5]\n"
     ]
    }
   ],
   "source": [
    "# 列ごとの合計\n",
    "print('列ごとの合計 : ', np.sum(numpy_l, axis = 0))\n",
    "# 列ごとの平均\n",
    "print('列ごとの平均 : ', np.mean(numpy_l, axis = 0))"
   ]
  },
  {
   "cell_type": "markdown",
   "metadata": {},
   "source": [
    "- 列ごとの平均が [18 22 26]  \n",
    "- 列ごとの合計が [4.5 5.5 6.5]"
   ]
  },
  {
   "cell_type": "markdown",
   "metadata": {},
   "source": [
    "と表示されていれば成功です．"
   ]
  },
  {
   "cell_type": "markdown",
   "metadata": {},
   "source": [
    "## 2. NumPy配列の行ごとの合計，平均の算出"
   ]
  },
  {
   "cell_type": "markdown",
   "metadata": {},
   "source": [
    "先ほどは引数を与えない場合と，axis=0を与えた場合にそれぞれ全体の演算と，列ごとの演算ができることを確認しました．ここではaxisに1を与えることによって行ごとの演算を行うことができることを確認しましょう．  \n",
    "【例題】ndarrayの行ごとの合計と平均をaxisに1を与えることによって求めます．以下のコードを読んで実行してみましょう．"
   ]
  },
  {
   "cell_type": "code",
   "execution_count": 42,
   "metadata": {},
   "outputs": [
    {
     "name": "stdout",
     "output_type": "stream",
     "text": [
      "(3, 3)\n",
      "[[0 1 2]\n",
      " [3 4 5]\n",
      " [6 7 8]]\n"
     ]
    }
   ],
   "source": [
    "# 3x3の配列を作成\n",
    "numpy_l = np.arange(9).reshape(3, 3)\n",
    "print(numpy_l.shape)\n",
    "print(numpy_l)"
   ]
  },
  {
   "cell_type": "code",
   "execution_count": 43,
   "metadata": {},
   "outputs": [
    {
     "name": "stdout",
     "output_type": "stream",
     "text": [
      "[ 3 12 21]\n",
      "[1. 4. 7.]\n"
     ]
    }
   ],
   "source": [
    "# 行ごとの合計\n",
    "print(np.sum(numpy_l, axis=1))\n",
    "# 行ごとの平均\n",
    "print(np.mean(numpy_l, axis=1))"
   ]
  },
  {
   "cell_type": "markdown",
   "metadata": {},
   "source": [
    "- 行ごとの合計が[ 2 12 21]に，行ごとの平均が[1. 4. 7.]になっていれば成功です．\n",
    "- axisに1を与えることで行ごとの演算ができることがわかります．"
   ]
  },
  {
   "cell_type": "markdown",
   "metadata": {},
   "source": [
    "【問題】以下に示す配列の行ごとの合計と行ごとの平均を求めてみましょう．"
   ]
  },
  {
   "cell_type": "code",
   "execution_count": 44,
   "metadata": {},
   "outputs": [
    {
     "name": "stdout",
     "output_type": "stream",
     "text": [
      "(4, 3)\n",
      "[[ 0  1  2]\n",
      " [ 3  4  5]\n",
      " [ 6  7  8]\n",
      " [ 9 10 11]]\n"
     ]
    }
   ],
   "source": [
    "# 4x3の配列を作成\n",
    "numpy_l = np.arange(12).reshape(4, 3)\n",
    "print(numpy_l.shape)\n",
    "print(numpy_l)"
   ]
  },
  {
   "cell_type": "code",
   "execution_count": 45,
   "metadata": {},
   "outputs": [
    {
     "name": "stdout",
     "output_type": "stream",
     "text": [
      "行ごとの合計 :  [ 3 12 21 30]\n",
      "行ごとの平均 :  [ 1.  4.  7. 10.]\n"
     ]
    }
   ],
   "source": [
    "# 行ごとの合計\n",
    "print('行ごとの合計 : ', np.sum(numpy_l, axis = 1))\n",
    "# 行ごとの平均\n",
    "print('行ごとの平均 : ', np.mean(numpy_l, axis = 1))"
   ]
  },
  {
   "cell_type": "markdown",
   "metadata": {},
   "source": [
    "- 行ごとの合計が[ 3 12 21 30]，行ごとの平均が[ 1.  4.  7. 10.]となっていれば正解です．\n",
    "- 今回の演習を通して確認した関数と軸の関係は以下になります．  "
   ]
  },
  {
   "cell_type": "markdown",
   "metadata": {},
   "source": [
    "|NumPy関数|軸(axis)|実行結果|\n",
    "|-|-|-|\n",
    "|numpy.sum()|無し|全体の総和|\n",
    "|numpy.sum()|axis=0|列ごとの総和|\n",
    "|numpy.sum()|axis=1|行ごとの総和|\n",
    "|numpy.mean()|無し|全体の平均|\n",
    "|numpy.mean()|axis=0|列ごとの平均|\n",
    "|numpy.mean()|axis=1|行ごとの平均|"
   ]
  }
 ],
 "metadata": {
  "kernelspec": {
   "display_name": "Python 3",
   "language": "python",
   "name": "python3"
  },
  "language_info": {
   "codemirror_mode": {
    "name": "ipython",
    "version": 3
   },
   "file_extension": ".py",
   "mimetype": "text/x-python",
   "name": "python",
   "nbconvert_exporter": "python",
   "pygments_lexer": "ipython3",
   "version": "3.6.8"
  }
 },
 "nbformat": 4,
 "nbformat_minor": 2
}
