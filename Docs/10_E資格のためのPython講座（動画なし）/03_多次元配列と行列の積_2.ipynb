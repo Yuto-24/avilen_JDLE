{
 "cells": [
  {
   "cell_type": "code",
   "execution_count": 2,
   "metadata": {},
   "outputs": [],
   "source": [
    "# numpyのインポート\n",
    "import numpy as np"
   ]
  },
  {
   "cell_type": "markdown",
   "metadata": {},
   "source": [
    "## 1. 多次元のNumPy配列  \n",
    "Numpyの配列ndarrayは多次元配列を扱うことができます．  \n",
    "【例題】二次元以上の配列を生成します．以下のコードを読んで実行してみましょう．"
   ]
  },
  {
   "cell_type": "code",
   "execution_count": 3,
   "metadata": {},
   "outputs": [
    {
     "name": "stdout",
     "output_type": "stream",
     "text": [
      "[[[ 0  1  2]\n",
      "  [ 3  4  5]]\n",
      "\n",
      " [[ 6  7  8]\n",
      "  [ 9 10 11]]]\n",
      "(2, 2, 3)\n"
     ]
    }
   ],
   "source": [
    "# 2x2x3配列の生成\n",
    "numpy_l = np.array([[[0, 1, 2], [3, 4, 5]], [[6, 7, 8], [9, 10, 11]]])\n",
    "print(numpy_l)\n",
    "print(numpy_l.shape)"
   ]
  },
  {
   "cell_type": "markdown",
   "metadata": {},
   "source": [
    "- 実行結果が  \n",
    "[[[0 1 2]  \n",
    "[3 4 5 ]]  \n",
    "[[6 7 8]  \n",
    "[9 10 11]]]  \n",
    "となっていれば成功です．  \n",
    "- 三次元配列(2x2x3)が生成されていることを確認しましょう．  "
   ]
  },
  {
   "cell_type": "markdown",
   "metadata": {},
   "source": [
    "【問題1】2x3x3の配列を作ってみましょう．  "
   ]
  },
  {
   "cell_type": "code",
   "execution_count": 26,
   "metadata": {},
   "outputs": [
    {
     "name": "stdout",
     "output_type": "stream",
     "text": [
      "[[[ 0  1  2]\n",
      "  [ 3  4  5]\n",
      "  [ 6  7  8]]\n",
      "\n",
      " [[ 9 10 11]\n",
      "  [12 13 14]\n",
      "  [15 16 17]]]\n"
     ]
    }
   ],
   "source": [
    "print(np.arange(18).reshape(2, 3, 3))"
   ]
  },
  {
   "cell_type": "markdown",
   "metadata": {},
   "source": [
    "- 2x3x3の配列ができていれば成功です．"
   ]
  },
  {
   "cell_type": "markdown",
   "metadata": {},
   "source": [
    "## 2. 行列の積  \n",
    "行列の積を求めるにはnumpy.dot()かnumpy.matmul()を用いることができます．一次元と二次元配列について，使い方を確認しましょう．  "
   ]
  },
  {
   "cell_type": "markdown",
   "metadata": {},
   "source": [
    "### 一次元配列の積  \n",
    "一次元配列の積を求めるには，numpy.dot()あるいはnumpy.matmul()の引数にそれぞれ一次元配列を与えることで求めることができます．このとき，二つの配列の要素数が同じである必要がある点に注意しましょう．  \n",
    "【例題】一次元配列の積をnumpy.dot()とmatmul()を用いて求めてみます．以下のコードを読んで実行してみましょう．"
   ]
  },
  {
   "cell_type": "code",
   "execution_count": 9,
   "metadata": {},
   "outputs": [
    {
     "name": "stdout",
     "output_type": "stream",
     "text": [
      "配列1\n",
      "[0 1 2 3 4]\n",
      "配列2\n",
      "[5 4 3 2 1]\n",
      "計算結果\n",
      "20\n",
      "20\n"
     ]
    }
   ],
   "source": [
    "# 配列の生成\n",
    "numpy_1 = np.arange(5)\n",
    "print('配列1')\n",
    "print(numpy_1)\n",
    "numpy_2 = np.arange(5, 0, -1)\n",
    "print('配列2')\n",
    "print(numpy_2)\n",
    "\n",
    "# 行列の積\n",
    "print('計算結果')\n",
    "print(np.dot(numpy_1, numpy_2))\n",
    "print(np.matmul(numpy_1, numpy_2))"
   ]
  },
  {
   "cell_type": "markdown",
   "metadata": {},
   "source": [
    "- 計算結果がそれぞれ20になっていれば成功です．  \n",
    "- numpy.dot()とnumpy.matmul()で実行結果が等しいことを確認しましょう．  \n",
    "- 以降，numpy.dot()で話を進めますが，二次元配列までであれば二つの関数は等価です．"
   ]
  },
  {
   "cell_type": "markdown",
   "metadata": {},
   "source": [
    "【問題2.1】以下の一次元配列aとbの積を求めてみましょう．\n",
    "$$\n",
    "    \\boldsymbol{a} =\n",
    "        \\left[\\begin{array}{c}\n",
    "            2 \\\\\n",
    "            3 \\\\\n",
    "        \\end{array}\\right] \\quad　\\\\\n",
    "   \\boldsymbol{b} =\n",
    "        \\left[\\begin{array}{c}\n",
    "            4 \\\\\n",
    "            5 \\\\\n",
    "        \\end{array}\\right] \\quad\n",
    "$$"
   ]
  },
  {
   "cell_type": "code",
   "execution_count": 25,
   "metadata": {},
   "outputs": [
    {
     "name": "stdout",
     "output_type": "stream",
     "text": [
      "配列1\n",
      "[2 3]\n",
      "配列2\n",
      "[4 5]\n",
      "計算結果\n",
      "23\n"
     ]
    }
   ],
   "source": [
    "# 配列の生成\n",
    "a = np.array([2, 3])\n",
    "print('配列1')\n",
    "print(a)\n",
    "b = np.array([4, 5])\n",
    "print('配列2')\n",
    "print(b)\n",
    "\n",
    "# 行列の積\n",
    "print('計算結果')\n",
    "print(np.dot(a, b))"
   ]
  },
  {
   "cell_type": "markdown",
   "metadata": {},
   "source": [
    "- 計算結果が23になっていれば正解です．"
   ]
  },
  {
   "cell_type": "markdown",
   "metadata": {},
   "source": [
    "### 二次元以上の配列の積\n",
    "二次元以上の配列の積を求める際にもnumpy.dot()とmatmul()を使うことができますが，配列の形状について注意する必要があります．二次元以上の配列の積を求める場合は，一つ目の配列の列数(横方向の要素数)と二つ目の配列の行数(縦方向の要素数)が一致している必要があります．  \n",
    "【例題】2x3の配列と3x2の配列の積を求めます．以下のコードを読んで実行してみましょう．"
   ]
  },
  {
   "cell_type": "code",
   "execution_count": 5,
   "metadata": {},
   "outputs": [
    {
     "name": "stdout",
     "output_type": "stream",
     "text": [
      "配列1\n",
      "[[0 1 2]\n",
      " [3 4 5]]\n",
      "配列2\n",
      "[[0 1]\n",
      " [2 3]\n",
      " [4 5]]\n",
      "計算結果\n",
      "[[10 13]\n",
      " [28 40]]\n"
     ]
    }
   ],
   "source": [
    "# 配列の生成\n",
    "numpy_1 = np.arange(6).reshape(2, 3)\n",
    "print('配列1')\n",
    "print(numpy_1)\n",
    "numpy_2 = np.arange(6).reshape(3, 2)\n",
    "print('配列2')\n",
    "print(numpy_2)\n",
    "\n",
    "# 行列の積\n",
    "print('計算結果')\n",
    "print(np.dot(numpy_1, numpy_2))"
   ]
  },
  {
   "cell_type": "markdown",
   "metadata": {},
   "source": [
    "- 計算結果が  \n",
    "[[10 13]  \n",
    "[28 40]]  \n",
    "となっていれば成功です．  \n",
    "- 配列1は2x3,配列2は3x2の配列であり，一つ目の配列の列数と二つ目の配列の行数が一致していることを確認しましょう．  \n",
    "- 二次元以上の配列もnumpy.dot()によって積が計算できることを確認しましょう．  "
   ]
  },
  {
   "cell_type": "markdown",
   "metadata": {},
   "source": [
    "【問題2.2】以下の二次元配列aとbの積を求めてみましょう．\n",
    "$$\n",
    "    \\boldsymbol{a} =\n",
    "        \\left[\\begin{array}{c}\n",
    "            2 & 3 \\\\\n",
    "            4 & 5 \\\\\n",
    "        \\end{array}\\right] \\quad　\\\\\n",
    "   \\boldsymbol{b} =\n",
    "        \\left[\\begin{array}{c}\n",
    "            5 & 6 & 7\\\\\n",
    "            8 & 9 & 10 \\\\\n",
    "        \\end{array}\\right] \\quad\n",
    "$$"
   ]
  },
  {
   "cell_type": "code",
   "execution_count": 24,
   "metadata": {},
   "outputs": [
    {
     "name": "stdout",
     "output_type": "stream",
     "text": [
      "配列1\n",
      "[[2 3]\n",
      " [4 5]]\n",
      "配列2\n",
      "[[ 5  6  7]\n",
      " [ 8  9 10]]\n",
      "計算結果\n",
      "[[34 39 44]\n",
      " [60 69 78]]\n"
     ]
    }
   ],
   "source": [
    "# 配列の生成\n",
    "a = np.arange(2, 6).reshape(2, 2)\n",
    "print('配列1')\n",
    "print(a)\n",
    "b = np.arange(5, 11).reshape(2, 3)\n",
    "print('配列2')\n",
    "print(b)\n",
    "\n",
    "# 行列の積\n",
    "print('計算結果')\n",
    "print(np.dot(a, b))"
   ]
  },
  {
   "cell_type": "markdown",
   "metadata": {},
   "source": [
    "- 計算結果が  \n",
    "[[34 39 44]  \n",
    "  60 69 78]]  \n",
    "となっていれば成功です．"
   ]
  }
 ],
 "metadata": {
  "kernelspec": {
   "display_name": "Python 3",
   "language": "python",
   "name": "python3"
  },
  "language_info": {
   "codemirror_mode": {
    "name": "ipython",
    "version": 3
   },
   "file_extension": ".py",
   "mimetype": "text/x-python",
   "name": "python",
   "nbconvert_exporter": "python",
   "pygments_lexer": "ipython3",
   "version": "3.6.8"
  }
 },
 "nbformat": 4,
 "nbformat_minor": 2
}
