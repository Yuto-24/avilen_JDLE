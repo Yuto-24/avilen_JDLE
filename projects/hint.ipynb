{
 "cells": [
  {
   "cell_type": "markdown",
   "metadata": {},
   "source": [
    "## Bool Index"
   ]
  },
  {
   "cell_type": "code",
   "execution_count": 1,
   "metadata": {},
   "outputs": [
    {
     "name": "stdout",
     "output_type": "stream",
     "text": [
      "['Taro' 'Hanako' 'Jiro' 'Taro' 'Jiro' 'Hanako' 'Hanako' 'Kimie']\n"
     ]
    }
   ],
   "source": [
    "import numpy as np\n",
    "names = np.array([\"Taro\", \"Hanako\", \"Jiro\", \"Taro\",\n",
    "                 \"Jiro\", \"Hanako\", \"Hanako\", \"Kimie\"])\n",
    "print(names)\n"
   ]
  },
  {
   "cell_type": "code",
   "execution_count": 2,
   "metadata": {},
   "outputs": [
    {
     "data": {
      "text/plain": [
       "array([False,  True, False, False, False,  True,  True, False])"
      ]
     },
     "execution_count": 2,
     "metadata": {},
     "output_type": "execute_result"
    }
   ],
   "source": [
    "names == \"Hanako\"\n"
   ]
  },
  {
   "cell_type": "code",
   "execution_count": 3,
   "metadata": {},
   "outputs": [
    {
     "name": "stdout",
     "output_type": "stream",
     "text": [
      "[[ 0  1  2  3  4]\n",
      " [ 5  6  7  8  9]\n",
      " [10 11 12 13 14]\n",
      " [15 16 17 18 19]\n",
      " [20 21 22 23 24]\n",
      " [25 26 27 28 29]\n",
      " [30 31 32 33 34]\n",
      " [35 36 37 38 39]]\n"
     ]
    }
   ],
   "source": [
    "data = np.arange(40).reshape(8, 5)\n",
    "print(data)\n"
   ]
  },
  {
   "cell_type": "code",
   "execution_count": 4,
   "metadata": {},
   "outputs": [
    {
     "data": {
      "text/plain": [
       "array([[ 5,  6,  7,  8,  9],\n",
       "       [25, 26, 27, 28, 29],\n",
       "       [30, 31, 32, 33, 34]])"
      ]
     },
     "execution_count": 4,
     "metadata": {},
     "output_type": "execute_result"
    }
   ],
   "source": [
    "data[names == \"Hanako\"]\n"
   ]
  },
  {
   "cell_type": "code",
   "execution_count": 5,
   "metadata": {},
   "outputs": [
    {
     "name": "stdout",
     "output_type": "stream",
     "text": [
      "「!=」 =  [ True False  True  True  True False False  True]\n",
      "「!=」 = \n",
      " [[ 0  1  2  3  4]\n",
      " [10 11 12 13 14]\n",
      " [15 16 17 18 19]\n",
      " [20 21 22 23 24]\n",
      " [35 36 37 38 39]] \n",
      "\n",
      "「~」 =  [ True False  True  True  True False False  True]\n",
      "「~」 = \n",
      " [[ 0  1  2  3  4]\n",
      " [10 11 12 13 14]\n",
      " [15 16 17 18 19]\n",
      " [20 21 22 23 24]\n",
      " [35 36 37 38 39]]\n"
     ]
    }
   ],
   "source": [
    "print(\"「!=」 = \", names != \"Hanako\")\n",
    "print(\"「!=」 = \\n\", data[names != \"Hanako\"], \"\\n\")\n",
    "\n",
    "print(\"「~」 = \", ~(names == \"Hanako\"))\n",
    "print(\"「~」 = \\n\", data[~(names == \"Hanako\")])\n"
   ]
  },
  {
   "cell_type": "code",
   "execution_count": 6,
   "metadata": {},
   "outputs": [
    {
     "name": "stdout",
     "output_type": "stream",
     "text": [
      "[ True False  True  True  True False False False]\n",
      "[[ 0  1  2  3  4]\n",
      " [10 11 12 13 14]\n",
      " [15 16 17 18 19]\n",
      " [20 21 22 23 24]]\n"
     ]
    }
   ],
   "source": [
    "taro_jiro = (names == \"Taro\") | (names == \"Jiro\")\n",
    "\n",
    "print(taro_jiro)\n",
    "print(data[taro_jiro])\n"
   ]
  },
  {
   "cell_type": "code",
   "execution_count": 7,
   "metadata": {},
   "outputs": [
    {
     "data": {
      "text/plain": [
       "array([[ 0,  1,  0,  3,  0],\n",
       "       [ 5,  0,  7,  0,  9],\n",
       "       [ 0, 11,  0, 13,  0],\n",
       "       [15,  0, 17,  0, 19],\n",
       "       [ 0, 21,  0, 23,  0],\n",
       "       [25,  0, 27,  0, 29],\n",
       "       [ 0, 31,  0, 33,  0],\n",
       "       [35,  0, 37,  0, 39]])"
      ]
     },
     "execution_count": 7,
     "metadata": {},
     "output_type": "execute_result"
    }
   ],
   "source": [
    "data[data % 2 == 0] = 0\n",
    "data\n"
   ]
  },
  {
   "cell_type": "code",
   "execution_count": 8,
   "metadata": {},
   "outputs": [
    {
     "data": {
      "text/plain": [
       "array([[ 0,  1,  2,  3,  4,  5,  6,  7,  8,  9],\n",
       "       [10, 11, 12, 13, 14, 15, 16, 17, 18, 19],\n",
       "       [20, 21, 22, 23, 24, 25, 26, 27, 28, 29],\n",
       "       [30, 31, 32, 33, 34, 35, 36, 37, 38, 39]])"
      ]
     },
     "execution_count": 8,
     "metadata": {},
     "output_type": "execute_result"
    }
   ],
   "source": [
    "data = np.arange(40).reshape(4, -1)\n",
    "data\n"
   ]
  },
  {
   "cell_type": "code",
   "execution_count": 9,
   "metadata": {},
   "outputs": [
    {
     "data": {
      "text/plain": [
       "array([[ True, False, False, False, False,  True, False, False, False,\n",
       "        False],\n",
       "       [ True, False, False, False, False,  True, False, False, False,\n",
       "        False],\n",
       "       [ True, False, False, False, False,  True, False, False, False,\n",
       "        False],\n",
       "       [ True, False, False, False, False,  True, False, False, False,\n",
       "        False]])"
      ]
     },
     "execution_count": 9,
     "metadata": {},
     "output_type": "execute_result"
    }
   ],
   "source": [
    "bool_data = np.arange(40).reshape(4, -1)\n",
    "bool_data = bool_data % 5 == 0\n",
    "bool_data\n"
   ]
  },
  {
   "cell_type": "code",
   "execution_count": 10,
   "metadata": {},
   "outputs": [
    {
     "data": {
      "text/plain": [
       "array([[  0,   1,   2,   3,   4,  25,   6,   7,   8,   9],\n",
       "       [ 50,  11,  12,  13,  14,  75,  16,  17,  18,  19],\n",
       "       [100,  21,  22,  23,  24, 125,  26,  27,  28,  29],\n",
       "       [150,  31,  32,  33,  34, 175,  36,  37,  38,  39]])"
      ]
     },
     "execution_count": 10,
     "metadata": {},
     "output_type": "execute_result"
    }
   ],
   "source": [
    "data[bool_data] *= 5\n",
    "data\n"
   ]
  },
  {
   "cell_type": "markdown",
   "metadata": {},
   "source": [
    "## np.where, np.any"
   ]
  },
  {
   "cell_type": "code",
   "execution_count": 11,
   "metadata": {},
   "outputs": [
    {
     "data": {
      "text/plain": [
       "array([[ 0,  1,  2,  3,  4],\n",
       "       [10, 11, 12, 13, 14],\n",
       "       [15, 16, 17, 18, 19],\n",
       "       [20, 21, 22, 23, 24]])"
      ]
     },
     "execution_count": 11,
     "metadata": {},
     "output_type": "execute_result"
    }
   ],
   "source": [
    "import numpy as np\n",
    "\n",
    "\n",
    "sample_arr = np.array([\n",
    "    [0, 1, 2, 3, 4],\n",
    "    [10, 11, 12, 13, 14],\n",
    "    [15, 16, 17, 18, 19],\n",
    "    [20, 21, 22, 23, 24],\n",
    "])\n",
    "\n",
    "sample_arr\n"
   ]
  },
  {
   "cell_type": "code",
   "execution_count": 12,
   "metadata": {},
   "outputs": [
    {
     "name": "stdout",
     "output_type": "stream",
     "text": [
      "[[ True False False False False]\n",
      " [ True False False False False]\n",
      " [ True False False False False]\n",
      " [ True False False False False]]\n"
     ]
    }
   ],
   "source": [
    "print(sample_arr % 5 == 0)\n"
   ]
  },
  {
   "cell_type": "code",
   "execution_count": 13,
   "metadata": {},
   "outputs": [
    {
     "name": "stdout",
     "output_type": "stream",
     "text": [
      "(array([0, 1, 2, 3]), array([0, 0, 0, 0]))\n"
     ]
    }
   ],
   "source": [
    "print(np.where(sample_arr % 5 == 0))\n"
   ]
  },
  {
   "cell_type": "code",
   "execution_count": 14,
   "metadata": {},
   "outputs": [
    {
     "data": {
      "text/plain": [
       "array([[1, 0, 0, 0, 0],\n",
       "       [1, 0, 0, 0, 0],\n",
       "       [1, 0, 0, 0, 0],\n",
       "       [1, 0, 0, 0, 0]])"
      ]
     },
     "execution_count": 14,
     "metadata": {},
     "output_type": "execute_result"
    }
   ],
   "source": [
    "second_arr = np.where(sample_arr % 5 == 0, 1, 0)\n",
    "second_arr\n"
   ]
  },
  {
   "cell_type": "markdown",
   "metadata": {},
   "source": [
    "## 四則演算 他\n"
   ]
  },
  {
   "cell_type": "markdown",
   "metadata": {},
   "source": [
    "### 乗算記号の必要性"
   ]
  },
  {
   "cell_type": "code",
   "execution_count": 15,
   "metadata": {},
   "outputs": [],
   "source": [
    "from typing import Any\n",
    "\n",
    "\n",
    "class test_prod():\n",
    "    def __init__(self):\n",
    "        self.out = 1\n",
    "        print(f\"self.out = {self.out}\")\n",
    "\n",
    "    def __call__(self, *args: Any, **kwds: Any) -> Any:\n",
    "        self.out(1 - self.out)\n",
    "        print(f\"self.out = {self.out}\")\n"
   ]
  },
  {
   "cell_type": "code",
   "execution_count": 16,
   "metadata": {},
   "outputs": [
    {
     "name": "stdout",
     "output_type": "stream",
     "text": [
      "self.out = 1\n"
     ]
    },
    {
     "ename": "TypeError",
     "evalue": "'int' object is not callable",
     "output_type": "error",
     "traceback": [
      "\u001b[0;31m---------------------------------------------------------------------------\u001b[0m",
      "\u001b[0;31mTypeError\u001b[0m                                 Traceback (most recent call last)",
      "\u001b[1;32m/projects/hint.ipynb セル 19\u001b[0m line \u001b[0;36m2\n\u001b[1;32m      <a href='vscode-notebook-cell://attached-container%2B7b22636f6e7461696e65724e616d65223a222f6176696c656e5f7079746f726368222c2273657474696e6773223a7b22686f7374223a227373683a2f2f61692d67707534227d7d/projects/hint.ipynb#X24sdnNjb2RlLXJlbW90ZQ%3D%3D?line=0'>1</a>\u001b[0m pr \u001b[39m=\u001b[39m test_prod()\n\u001b[0;32m----> <a href='vscode-notebook-cell://attached-container%2B7b22636f6e7461696e65724e616d65223a222f6176696c656e5f7079746f726368222c2273657474696e6773223a7b22686f7374223a227373683a2f2f61692d67707534227d7d/projects/hint.ipynb#X24sdnNjb2RlLXJlbW90ZQ%3D%3D?line=1'>2</a>\u001b[0m pr()\n",
      "\u001b[1;32m/projects/hint.ipynb セル 19\u001b[0m line \u001b[0;36m1\n\u001b[1;32m      <a href='vscode-notebook-cell://attached-container%2B7b22636f6e7461696e65724e616d65223a222f6176696c656e5f7079746f726368222c2273657474696e6773223a7b22686f7374223a227373683a2f2f61692d67707534227d7d/projects/hint.ipynb#X24sdnNjb2RlLXJlbW90ZQ%3D%3D?line=8'>9</a>\u001b[0m \u001b[39mdef\u001b[39;00m \u001b[39m__call__\u001b[39m(\u001b[39mself\u001b[39m, \u001b[39m*\u001b[39margs: Any, \u001b[39m*\u001b[39m\u001b[39m*\u001b[39mkwds: Any) \u001b[39m-\u001b[39m\u001b[39m>\u001b[39m Any:\n\u001b[0;32m---> <a href='vscode-notebook-cell://attached-container%2B7b22636f6e7461696e65724e616d65223a222f6176696c656e5f7079746f726368222c2273657474696e6773223a7b22686f7374223a227373683a2f2f61692d67707534227d7d/projects/hint.ipynb#X24sdnNjb2RlLXJlbW90ZQ%3D%3D?line=9'>10</a>\u001b[0m     \u001b[39mself\u001b[39;49m\u001b[39m.\u001b[39;49mout(\u001b[39m1\u001b[39;49m \u001b[39m-\u001b[39;49m \u001b[39mself\u001b[39;49m\u001b[39m.\u001b[39;49mout)\n\u001b[1;32m     <a href='vscode-notebook-cell://attached-container%2B7b22636f6e7461696e65724e616d65223a222f6176696c656e5f7079746f726368222c2273657474696e6773223a7b22686f7374223a227373683a2f2f61692d67707534227d7d/projects/hint.ipynb#X24sdnNjb2RlLXJlbW90ZQ%3D%3D?line=10'>11</a>\u001b[0m     \u001b[39mprint\u001b[39m(\u001b[39mf\u001b[39m\u001b[39m\"\u001b[39m\u001b[39mself.out = \u001b[39m\u001b[39m{\u001b[39;00m\u001b[39mself\u001b[39m\u001b[39m.\u001b[39mout\u001b[39m}\u001b[39;00m\u001b[39m\"\u001b[39m)\n",
      "\u001b[0;31mTypeError\u001b[0m: 'int' object is not callable"
     ]
    }
   ],
   "source": [
    "pr = test_prod()\n",
    "pr()\n"
   ]
  },
  {
   "cell_type": "markdown",
   "metadata": {},
   "source": [
    "### べき乗"
   ]
  },
  {
   "cell_type": "code",
   "execution_count": 36,
   "metadata": {},
   "outputs": [
    {
     "name": "stdout",
     "output_type": "stream",
     "text": [
      "b = 7\n",
      "c = 25\n"
     ]
    }
   ],
   "source": [
    "a = 5\n",
    "b = a ^ 2\n",
    "c = a ** 2\n",
    "print(f\"{b = }\")\n",
    "print(f\"{c = }\")\n"
   ]
  },
  {
   "cell_type": "markdown",
   "metadata": {},
   "source": [
    "## axisの指定"
   ]
  },
  {
   "cell_type": "code",
   "execution_count": 17,
   "metadata": {},
   "outputs": [
    {
     "name": "stdout",
     "output_type": "stream",
     "text": [
      "arr: \n",
      "[[ 0  1  2  3  4  5  6  7  8  9]\n",
      " [10 11 12 13 14 15 16 17 18 19]\n",
      " [20 21 22 23 24 25 26 27 28 29]\n",
      " [30 31 32 33 34 35 36 37 38 39]]\n",
      "arr.shape = (4, 10)\n",
      "np.sum(arr, axis=0) = array([60, 64, 68, 72, 76, 80, 84, 88, 92, 96])\n",
      "np.sum(arr, axis=1) = array([ 45, 145, 245, 345])\n"
     ]
    }
   ],
   "source": [
    "import numpy as np\n",
    "\n",
    "\n",
    "arr = np.arange(40).reshape(4, -1)\n",
    "print(f\"arr: \\n{arr}\")\n",
    "print(f\"{arr.shape = }\")\n",
    "\n",
    "print(f\"{np.sum(arr, axis=0) = }\")\n",
    "print(f\"{np.sum(arr, axis=1) = }\")\n"
   ]
  },
  {
   "cell_type": "markdown",
   "metadata": {},
   "source": [
    "## cosh"
   ]
  },
  {
   "cell_type": "code",
   "execution_count": 33,
   "metadata": {},
   "outputs": [
    {
     "name": "stdout",
     "output_type": "stream",
     "text": [
      "[-5.00000000e+00 -4.90000000e+00 -4.80000000e+00 -4.70000000e+00\n",
      " -4.60000000e+00 -4.50000000e+00 -4.40000000e+00 -4.30000000e+00\n",
      " -4.20000000e+00 -4.10000000e+00 -4.00000000e+00 -3.90000000e+00\n",
      " -3.80000000e+00 -3.70000000e+00 -3.60000000e+00 -3.50000000e+00\n",
      " -3.40000000e+00 -3.30000000e+00 -3.20000000e+00 -3.10000000e+00\n",
      " -3.00000000e+00 -2.90000000e+00 -2.80000000e+00 -2.70000000e+00\n",
      " -2.60000000e+00 -2.50000000e+00 -2.40000000e+00 -2.30000000e+00\n",
      " -2.20000000e+00 -2.10000000e+00 -2.00000000e+00 -1.90000000e+00\n",
      " -1.80000000e+00 -1.70000000e+00 -1.60000000e+00 -1.50000000e+00\n",
      " -1.40000000e+00 -1.30000000e+00 -1.20000000e+00 -1.10000000e+00\n",
      " -1.00000000e+00 -9.00000000e-01 -8.00000000e-01 -7.00000000e-01\n",
      " -6.00000000e-01 -5.00000000e-01 -4.00000000e-01 -3.00000000e-01\n",
      " -2.00000000e-01 -1.00000000e-01 -1.77635684e-14  1.00000000e-01\n",
      "  2.00000000e-01  3.00000000e-01  4.00000000e-01  5.00000000e-01\n",
      "  6.00000000e-01  7.00000000e-01  8.00000000e-01  9.00000000e-01\n",
      "  1.00000000e+00  1.10000000e+00  1.20000000e+00  1.30000000e+00\n",
      "  1.40000000e+00  1.50000000e+00  1.60000000e+00  1.70000000e+00\n",
      "  1.80000000e+00  1.90000000e+00  2.00000000e+00  2.10000000e+00\n",
      "  2.20000000e+00  2.30000000e+00  2.40000000e+00  2.50000000e+00\n",
      "  2.60000000e+00  2.70000000e+00  2.80000000e+00  2.90000000e+00\n",
      "  3.00000000e+00  3.10000000e+00  3.20000000e+00  3.30000000e+00\n",
      "  3.40000000e+00  3.50000000e+00  3.60000000e+00  3.70000000e+00\n",
      "  3.80000000e+00  3.90000000e+00  4.00000000e+00  4.10000000e+00\n",
      "  4.20000000e+00  4.30000000e+00  4.40000000e+00  4.50000000e+00\n",
      "  4.60000000e+00  4.70000000e+00  4.80000000e+00  4.90000000e+00\n",
      "  5.00000000e+00  5.10000000e+00  5.20000000e+00  5.30000000e+00\n",
      "  5.40000000e+00  5.50000000e+00  5.60000000e+00  5.70000000e+00\n",
      "  5.80000000e+00  5.90000000e+00]\n",
      "[1.81583231e-04 2.21781801e-04 2.70878252e-04 3.30841523e-04\n",
      " 4.04075948e-04 4.93517399e-04 6.02750578e-04 7.36152090e-04\n",
      " 8.99064911e-04 1.09801105e-03 1.34095068e-03 1.63759768e-03\n",
      " 1.99980362e-03 2.44202474e-03 2.98188910e-03 3.64088472e-03\n",
      " 4.44519319e-03 5.42669750e-03 6.62419784e-03 8.08487387e-03\n",
      " 9.86603717e-03 1.20372220e-02 1.46826651e-02 1.79042268e-02\n",
      " 2.18247977e-02 2.65922267e-02 3.23837743e-02 3.94110540e-02\n",
      " 4.79253442e-02 5.82230387e-02 7.06508249e-02 8.56099237e-02\n",
      " 1.03558374e-01 1.25009871e-01 1.50527076e-01 1.80706639e-01\n",
      " 2.16152459e-01 2.57433197e-01 3.05019996e-01 3.59201316e-01\n",
      " 4.19974342e-01 4.86917361e-01 5.59055168e-01 6.34739590e-01\n",
      " 7.11577763e-01 7.86447733e-01 8.55638786e-01 9.15136962e-01\n",
      " 9.61042983e-01 9.90066291e-01 1.00000000e+00 9.90066291e-01\n",
      " 9.61042983e-01 9.15136962e-01 8.55638786e-01 7.86447733e-01\n",
      " 7.11577763e-01 6.34739590e-01 5.59055168e-01 4.86917361e-01\n",
      " 4.19974342e-01 3.59201316e-01 3.05019996e-01 2.57433197e-01\n",
      " 2.16152459e-01 1.80706639e-01 1.50527076e-01 1.25009871e-01\n",
      " 1.03558374e-01 8.56099237e-02 7.06508249e-02 5.82230387e-02\n",
      " 4.79253442e-02 3.94110540e-02 3.23837743e-02 2.65922267e-02\n",
      " 2.18247977e-02 1.79042268e-02 1.46826651e-02 1.20372220e-02\n",
      " 9.86603717e-03 8.08487387e-03 6.62419784e-03 5.42669750e-03\n",
      " 4.44519319e-03 3.64088472e-03 2.98188910e-03 2.44202474e-03\n",
      " 1.99980362e-03 1.63759768e-03 1.34095068e-03 1.09801105e-03\n",
      " 8.99064911e-04 7.36152090e-04 6.02750578e-04 4.93517399e-04\n",
      " 4.04075948e-04 3.30841523e-04 2.70878252e-04 2.21781801e-04\n",
      " 1.81583231e-04 1.48670222e-04 1.21722523e-04 9.96590727e-05\n",
      " 8.15946846e-05 6.68045716e-05 5.46952884e-05 4.47809367e-05\n",
      " 3.66636788e-05 3.00177811e-05]\n"
     ]
    },
    {
     "data": {
      "image/png": "[encoded data removed]",
      "text/plain": [
       "<Figure size 640x480 with 1 Axes>"
      ]
     },
     "metadata": {},
     "output_type": "display_data"
    }
   ],
   "source": [
    "import numpy as np\n",
    "from matplotlib import pyplot\n",
    "\n",
    "\n",
    "def cosh(x):\n",
    "    return (np.exp(x) + np.exp(-x)) / 2\n",
    "\n",
    "\n",
    "def d_tanh(x):\n",
    "    return (1 / ((cosh(x) ** 2)))\n",
    "\n",
    "\n",
    "x = np.arange(-5.0, 5.0 + 1, 0.1)\n",
    "y = np.array([*map(d_tanh, x)])\n",
    "\n",
    "print(x)\n",
    "print(y)\n",
    "pyplot.plot(x, y)\n",
    "pyplot.show()\n"
   ]
  },
  {
   "cell_type": "markdown",
   "metadata": {},
   "source": [
    "## zeros_like\n",
    "\n",
    "既存の要素数と同じサイズの0行列を作成"
   ]
  },
  {
   "cell_type": "code",
   "execution_count": 45,
   "metadata": {},
   "outputs": [
    {
     "name": "stdout",
     "output_type": "stream",
     "text": [
      "params.items() = dict_items([('k1', 'v1')])\n",
      "key, val = ('k1', 'v1')\n",
      "a = array('', dtype='<U2')\n"
     ]
    }
   ],
   "source": [
    "params = {\"k1\": \"v1\"}\n",
    "print(f\"{params.items() = }\")\n",
    "\n",
    "for key, val in params.items():\n",
    "    print(f\"{key, val = }\")\n",
    "    a = np.zeros_like(val)\n",
    "    print(f\"{a = }\")\n"
   ]
  }
 ],
 "metadata": {
  "kernelspec": {
   "display_name": "Python 3",
   "language": "python",
   "name": "python3"
  },
  "language_info": {
   "codemirror_mode": {
    "name": "ipython",
    "version": 3
   },
   "file_extension": ".py",
   "mimetype": "text/x-python",
   "name": "python",
   "nbconvert_exporter": "python",
   "pygments_lexer": "ipython3",
   "version": "3.10.13"
  }
 },
 "nbformat": 4,
 "nbformat_minor": 2
}
