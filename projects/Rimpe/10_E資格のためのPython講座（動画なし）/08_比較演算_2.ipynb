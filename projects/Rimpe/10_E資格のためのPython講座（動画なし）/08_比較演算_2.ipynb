{
 "cells": [
  {
   "cell_type": "code",
   "execution_count": 30,
   "metadata": {},
   "outputs": [],
   "source": [
    "# numpyのインポート\n",
    "import numpy as np"
   ]
  },
  {
   "cell_type": "markdown",
   "metadata": {},
   "source": [
    "## 1. NumPy配列の要素ごとの最大値・最小値を取得  \n",
    "numpy.maximum()を用いることで，複数のndarrayの要素ごとの最大値を求め，新たなndarrayを生成することができます．また，numpy.mimimum()を用いることで，同様に最小値を求めることができます.  \n",
    "【例題1】2つのndarrayの最大値と最小値を求めます．以下のコードを読んで，実行してみましょう．"
   ]
  },
  {
   "cell_type": "code",
   "execution_count": 31,
   "metadata": {},
   "outputs": [
    {
     "name": "stdout",
     "output_type": "stream",
     "text": [
      "配列その1\n",
      "[[0 1 2]\n",
      " [3 4 5]]\n",
      "配列その2\n",
      "[[2 5 1]\n",
      " [1 0 3]]\n"
     ]
    }
   ],
   "source": [
    "# 2x3の配列を2つ作成\n",
    "numpy_1 = np.arange(6).reshape(2, 3)\n",
    "print('配列その1')\n",
    "print(numpy_1)\n",
    "\n",
    "numpy_2 = np.array([[2, 5, 1],[1, 0, 3]])\n",
    "print('配列その2')\n",
    "print(numpy_2)"
   ]
  },
  {
   "cell_type": "code",
   "execution_count": 32,
   "metadata": {},
   "outputs": [
    {
     "name": "stdout",
     "output_type": "stream",
     "text": [
      "要素ごとの最大値\n",
      "[[2 5 2]\n",
      " [3 4 5]]\n",
      "要素ごとの最小値\n",
      "[[0 1 1]\n",
      " [1 0 3]]\n"
     ]
    }
   ],
   "source": [
    "# 要素ごとの最大値を求める\n",
    "print('要素ごとの最大値')\n",
    "print(np.maximum(numpy_1, numpy_2))\n",
    "\n",
    "# 要素ごとの最小値を求める\n",
    "print('要素ごとの最小値')\n",
    "print(np.minimum(numpy_1, numpy_2))"
   ]
  },
  {
   "cell_type": "markdown",
   "metadata": {},
   "source": [
    "- 要素ごとの最大値が  \n",
    "[[2 5 2]  \n",
    "  [3 4 5]]  \n",
    "最小値が  \n",
    "[[0 1 1]  \n",
    "[1 0 3]]  \n",
    " となっていれば成功です．  \n",
    "- 2つの配列の最大値と最小値が要素ごとに求められていることを確認しましょう．"
   ]
  },
  {
   "cell_type": "markdown",
   "metadata": {},
   "source": [
    "【問題1】以下に示す2つのndarrayの最大値と最小値をそれぞれ求めてみましょう．"
   ]
  },
  {
   "cell_type": "code",
   "execution_count": 33,
   "metadata": {},
   "outputs": [
    {
     "name": "stdout",
     "output_type": "stream",
     "text": [
      "配列その1\n",
      "[[5 6 2]\n",
      " [2 3 9]]\n",
      "配列その2\n",
      "[[0 5 7]\n",
      " [1 5 3]]\n"
     ]
    }
   ],
   "source": [
    "# 2x3のndarrayを2つ作成\n",
    "numpy_1 = np.array([[5, 6, 2], [2, 3, 9]])\n",
    "print('配列その1')\n",
    "print(numpy_1)\n",
    "\n",
    "numpy_2 = np.array([[0, 5, 7],[1, 5, 3]])\n",
    "print('配列その2')\n",
    "print(numpy_2)"
   ]
  },
  {
   "cell_type": "code",
   "execution_count": 34,
   "metadata": {},
   "outputs": [
    {
     "name": "stdout",
     "output_type": "stream",
     "text": [
      "要素ごとの最大値\n",
      "[[5 6 7]\n",
      " [2 5 9]]\n",
      "要素ごとの最小値\n",
      "[[0 5 2]\n",
      " [1 3 3]]\n"
     ]
    }
   ],
   "source": [
    "# 要素ごとの最大値を求める\n",
    "maximum_ndarray = np.maximum(numpy_1, numpy_2)\n",
    "print('要素ごとの最大値')\n",
    "print(maximum_ndarray)\n",
    "\n",
    "# 要素ごとの最小値を求める\n",
    "minimum_ndarray = np.minimum(numpy_1, numpy_2)\n",
    "print('要素ごとの最小値')\n",
    "print(minimum_ndarray)"
   ]
  },
  {
   "cell_type": "markdown",
   "metadata": {},
   "source": [
    "- 要素ごとの最大値が  \n",
    "[[2 5 2]  \n",
    "[3 4 5]]  \n",
    "要素ごとの最小値が  \n",
    "[[0 1 1]  \n",
    "[1 0 3]]  \n",
    "となっていれば正解です."
   ]
  },
  {
   "cell_type": "markdown",
   "metadata": {},
   "source": [
    "また，メソッドmax(), min()を用いることで一つの配列の列ごと・行ごとの最大値・最小値を取得することができます．  \n",
    "【例題2】配列の最大値，最小値を指定した軸ごとに取得します．以下のコードを読んで実行してみましょう．"
   ]
  },
  {
   "cell_type": "code",
   "execution_count": 35,
   "metadata": {},
   "outputs": [
    {
     "name": "stdout",
     "output_type": "stream",
     "text": [
      "[[0 1 2]\n",
      " [3 4 5]]\n",
      "列ごとの最大値\n",
      "[3 4 5]\n",
      "列ごとの最小値\n",
      "[0 1 2]\n"
     ]
    }
   ],
   "source": [
    "# 配列の生成\n",
    "numpy_l = np.array(np.arange(6).reshape(2, 3))\n",
    "print(numpy_l)\n",
    "\n",
    "print('列ごとの最大値')\n",
    "print(numpy_l.max(axis=0))\n",
    "\n",
    "print('列ごとの最小値')\n",
    "print(numpy_l.min(axis=0))"
   ]
  },
  {
   "cell_type": "markdown",
   "metadata": {},
   "source": [
    "- 列ごとの最大値が[3 4 5],列ごとの最小値が[0 1 2]となれば成功です．  \n",
    "- 列ごとにそれぞれ演算が行われていることを確認しましょう．"
   ]
  },
  {
   "cell_type": "markdown",
   "metadata": {},
   "source": [
    "【問題2】以下の配列の行ごとの最大値，最小値を取得してみましょう．"
   ]
  },
  {
   "cell_type": "code",
   "execution_count": 36,
   "metadata": {},
   "outputs": [
    {
     "name": "stdout",
     "output_type": "stream",
     "text": [
      "[[0 1 2]\n",
      " [3 4 5]]\n",
      "列ごとの最大値\n",
      "[2 5]\n",
      "列ごとの最小値\n",
      "[0 3]\n"
     ]
    }
   ],
   "source": [
    "# 配列\n",
    "print(numpy_l)\n",
    "\n",
    "print('列ごとの最大値')\n",
    "print(numpy_l.max(axis=1))\n",
    "\n",
    "print('列ごとの最小値')\n",
    "print(numpy_l.min(axis=1))"
   ]
  },
  {
   "cell_type": "markdown",
   "metadata": {},
   "source": [
    "- 列ごとの最大値が[2 5]，最小値が[0 3]となっていれば正解です．"
   ]
  },
  {
   "cell_type": "markdown",
   "metadata": {},
   "source": [
    "## 2. NumPy配列の比較  \n",
    "2つのndaarayの要素が等しいかどうかの比較にはnumpy.equal()を使うことができます．また，numpy.all()と合わせて使うことで軸ごとの比較が可能です．  \n",
    "【例題1】2つのndarrayの要素がそれぞれ等しいかどうかを比較します．以下のコードを読んで実行してみましょう．"
   ]
  },
  {
   "cell_type": "code",
   "execution_count": 45,
   "metadata": {},
   "outputs": [
    {
     "name": "stdout",
     "output_type": "stream",
     "text": [
      "配列その1\n",
      "[[0 1 2]\n",
      " [3 4 5]]\n",
      "配列その2\n",
      "[[0 1 2]\n",
      " [0 1 2]]\n"
     ]
    }
   ],
   "source": [
    "# ndarrayの生成\n",
    "numpy_1 = np.arange(6).reshape(2, 3)\n",
    "print('配列その1')\n",
    "print(numpy_1)\n",
    "\n",
    "numpy_2 = np.array([[0, 1, 2], [0, 1, 2]])\n",
    "print('配列その2')\n",
    "print(numpy_2)"
   ]
  },
  {
   "cell_type": "code",
   "execution_count": 46,
   "metadata": {},
   "outputs": [
    {
     "name": "stdout",
     "output_type": "stream",
     "text": [
      "[[ True  True  True]\n",
      " [False False False]]\n"
     ]
    }
   ],
   "source": [
    "# 全ての要素が等しいか比較\n",
    "print(np.equal(numpy_1, numpy_2))"
   ]
  },
  {
   "cell_type": "markdown",
   "metadata": {},
   "source": [
    "- 実行結果が，  \n",
    "[[ True True True]  \n",
    "[False False False]]  \n",
    "となれば成功です．\n",
    "- 値が要素ごとに比較され，結果がブール値で帰ってくることを確認しましょう．"
   ]
  },
  {
   "cell_type": "markdown",
   "metadata": {},
   "source": [
    "【例題2】np.all()を用いて2つの配列の要素が指定した軸ごとに等しいかどうかを比較します．以下のコードを読んで実行してみましょう．"
   ]
  },
  {
   "cell_type": "code",
   "execution_count": 39,
   "metadata": {},
   "outputs": [
    {
     "name": "stdout",
     "output_type": "stream",
     "text": [
      "配列その1\n",
      "[[0 1 2]\n",
      " [3 4 5]]\n",
      "配列その2\n",
      "[[0 1 2]\n",
      " [3 2 5]]\n"
     ]
    }
   ],
   "source": [
    "# 配列の生成\n",
    "print('配列その1')\n",
    "print(numpy_1)\n",
    "\n",
    "print('配列その2')\n",
    "numpy_2 = np.array([[0, 1, 2], [3, 2, 5]])\n",
    "print(numpy_2)"
   ]
  },
  {
   "cell_type": "code",
   "execution_count": 43,
   "metadata": {},
   "outputs": [
    {
     "name": "stdout",
     "output_type": "stream",
     "text": [
      "[ True False  True]\n"
     ]
    }
   ],
   "source": [
    "print(np.all(np.equal(numpy_1, numpy_2), axis = 0))"
   ]
  },
  {
   "cell_type": "markdown",
   "metadata": {},
   "source": [
    "- 比較結果が[True False True]となっていれば成功です．\n",
    "- np.allの第一引数に比較演算式を，第二引数に軸を指定することで比較が行われていることを確認しましょう．"
   ]
  },
  {
   "cell_type": "markdown",
   "metadata": {},
   "source": [
    "【問題】以下の2つの配列の行の要素がそれぞれ等しいか比較してみましょう．"
   ]
  },
  {
   "cell_type": "code",
   "execution_count": 41,
   "metadata": {},
   "outputs": [
    {
     "name": "stdout",
     "output_type": "stream",
     "text": [
      "配列その1\n",
      "[[0 1 2]\n",
      " [3 4 5]]\n",
      "配列その2\n",
      "[[0 1 2]\n",
      " [3 2 5]]\n"
     ]
    }
   ],
   "source": [
    "# 配列の生成\n",
    "print('配列その1')\n",
    "print(numpy_1)\n",
    "\n",
    "print('配列その2')\n",
    "print(numpy_2)"
   ]
  },
  {
   "cell_type": "code",
   "execution_count": 44,
   "metadata": {},
   "outputs": [
    {
     "name": "stdout",
     "output_type": "stream",
     "text": [
      "[ True False]\n"
     ]
    }
   ],
   "source": [
    "print(np.all(np.equal(numpy_1, numpy_2), axis = 1))"
   ]
  },
  {
   "cell_type": "markdown",
   "metadata": {},
   "source": [
    "結果が[True False]となっていれば正解です．"
   ]
  }
 ],
 "metadata": {
  "kernelspec": {
   "display_name": "Python 3",
   "language": "python",
   "name": "python3"
  },
  "language_info": {
   "codemirror_mode": {
    "name": "ipython",
    "version": 3
   },
   "file_extension": ".py",
   "mimetype": "text/x-python",
   "name": "python",
   "nbconvert_exporter": "python",
   "pygments_lexer": "ipython3",
   "version": "3.7.3"
  }
 },
 "nbformat": 4,
 "nbformat_minor": 2
}
