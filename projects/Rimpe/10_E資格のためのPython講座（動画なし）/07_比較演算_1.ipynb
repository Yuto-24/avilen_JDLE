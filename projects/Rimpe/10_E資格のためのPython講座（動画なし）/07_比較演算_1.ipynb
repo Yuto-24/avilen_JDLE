{
 "cells": [
  {
   "cell_type": "code",
   "execution_count": 35,
   "metadata": {},
   "outputs": [],
   "source": [
    "# numpyのインポート\n",
    "import numpy as np"
   ]
  },
  {
   "cell_type": "markdown",
   "metadata": {},
   "source": [
    "## 1. 2つのNumPy配列の要素ごとの最大値・最小値を取得  \n",
    "numpy.maximum()を用いることで，複数のndarrayの要素ごとの最大値を求め，新たなndarrayを生成することができます．また，numpy.mimimum()を用いることで，同様に最小値を求めることができます.  \n",
    "【例題1】2つのndarrayの最大値を求めます．以下のコードを読んで，実行してみましょう．"
   ]
  },
  {
   "cell_type": "code",
   "execution_count": 36,
   "metadata": {},
   "outputs": [
    {
     "name": "stdout",
     "output_type": "stream",
     "text": [
      "ndarrayその1\n",
      "[[0 1 2]\n",
      " [3 4 5]]\n",
      "ndarrayその2\n",
      "[[2 5 1]\n",
      " [1 0 3]]\n"
     ]
    }
   ],
   "source": [
    "# 2x3のndarrayを2つ作成\n",
    "numpy_1 = np.arange(6).reshape(2, 3)\n",
    "print('ndarrayその1')\n",
    "print(numpy_1)\n",
    "\n",
    "numpy_2 = np.array([[2, 5, 1],[1, 0, 3]])\n",
    "print('ndarrayその2')\n",
    "print(numpy_2)"
   ]
  },
  {
   "cell_type": "code",
   "execution_count": 37,
   "metadata": {},
   "outputs": [
    {
     "name": "stdout",
     "output_type": "stream",
     "text": [
      "要素ごとの最大値\n",
      "[[2 5 2]\n",
      " [3 4 5]]\n"
     ]
    }
   ],
   "source": [
    "# 要素ごとの最大値を求める\n",
    "print('要素ごとの最大値')\n",
    "print(np.maximum(numpy_1, numpy_2))"
   ]
  },
  {
   "cell_type": "markdown",
   "metadata": {},
   "source": [
    "- 要素ごとの最大値が  \n",
    "[[2 5 2]  \n",
    "  [3 4 5]]  \n",
    " となっていれば成功です．  \n",
    "- 2つの配列の最大値が要素ごとに求められていることを確認しましょう．"
   ]
  },
  {
   "cell_type": "markdown",
   "metadata": {},
   "source": [
    "【例題2】2つのndarrayの最小値を求めます．以下のコードを読んで，実行してみましょう．"
   ]
  },
  {
   "cell_type": "code",
   "execution_count": 38,
   "metadata": {},
   "outputs": [
    {
     "name": "stdout",
     "output_type": "stream",
     "text": [
      "ndarrayその1\n",
      "[[0 1 2]\n",
      " [3 4 5]]\n",
      "ndarrayその2\n",
      "[[2 5 1]\n",
      " [1 0 3]]\n"
     ]
    }
   ],
   "source": [
    "# 2つのndarrayを表示\n",
    "print('ndarrayその1')\n",
    "print(numpy_1)\n",
    "print('ndarrayその2')\n",
    "print(numpy_2)"
   ]
  },
  {
   "cell_type": "code",
   "execution_count": 39,
   "metadata": {},
   "outputs": [
    {
     "name": "stdout",
     "output_type": "stream",
     "text": [
      "要素ごとの最小値\n",
      "[[0 1 1]\n",
      " [1 0 3]]\n"
     ]
    }
   ],
   "source": [
    "# 要素ごとの最小値を求める\n",
    "print('要素ごとの最小値')\n",
    "print(np.minimum(numpy_1, numpy_2))"
   ]
  },
  {
   "cell_type": "markdown",
   "metadata": {},
   "source": [
    "- 要素ごとの最小値が  \n",
    "[[0 1 1]  \n",
    " [1 0 3]]  \n",
    " となっていれば成功です．  \n",
    "- 2つの配列の最小値が要素ごとに求められていることを確認しましょう．"
   ]
  },
  {
   "cell_type": "markdown",
   "metadata": {},
   "source": [
    "【問題】以下に示す2つのndarrayの最大値と最小値をそれぞれ求めてみましょう．"
   ]
  },
  {
   "cell_type": "code",
   "execution_count": 40,
   "metadata": {},
   "outputs": [
    {
     "name": "stdout",
     "output_type": "stream",
     "text": [
      "ndarrayその1\n",
      "[[5 6 2]\n",
      " [2 3 9]]\n",
      "ndarrayその2\n",
      "[[0 5 7]\n",
      " [1 5 3]]\n"
     ]
    }
   ],
   "source": [
    "# 2x3のndarrayを2つ作成\n",
    "numpy_1 = np.array([[5, 6, 2], [2, 3, 9]])\n",
    "print('ndarrayその1')\n",
    "print(numpy_1)\n",
    "\n",
    "numpy_2 = np.array([[0, 5, 7],[1, 5, 3]])\n",
    "print('ndarrayその2')\n",
    "print(numpy_2)"
   ]
  },
  {
   "cell_type": "code",
   "execution_count": 41,
   "metadata": {},
   "outputs": [
    {
     "name": "stdout",
     "output_type": "stream",
     "text": [
      "要素ごとの最大値\n",
      "[[5 6 7]\n",
      " [2 5 9]]\n",
      "要素ごとの最小値\n",
      "[[0 5 2]\n",
      " [1 3 3]]\n"
     ]
    }
   ],
   "source": [
    "# 要素ごとの最大値を求める\n",
    "maximum_ndarray = np.maximum(numpy_1, numpy_2)\n",
    "print('要素ごとの最大値')\n",
    "print(maximum_ndarray)\n",
    "\n",
    "# 要素ごとの最小値を求める\n",
    "minimum_ndarray = np.minimum(numpy_1, numpy_2)\n",
    "print('要素ごとの最小値')\n",
    "print(minimum_ndarray)"
   ]
  },
  {
   "cell_type": "markdown",
   "metadata": {},
   "source": [
    "- 要素ごとの最大値が  \n",
    "[[2 5 2]  \n",
    "[3 4 5]]  \n",
    "要素ごとの最小値が  \n",
    "[[0 1 1]  \n",
    "[1 0 3]]  \n",
    "となっていれば正解です."
   ]
  },
  {
   "cell_type": "markdown",
   "metadata": {},
   "source": [
    "最大値と最小値を求める方法として，メソッドmax(), min()がありますが，これらは単独のndarrayの列ごと・行ごとの最大値・最小値を取得するメソッドになりますので混同しないように注意してください．"
   ]
  },
  {
   "cell_type": "markdown",
   "metadata": {},
   "source": [
    "## 2つのNumPy配列の全ての要素が等しいか比較  \n",
    "2つのndaarayのすべての要素が等しいか比較するには，numpy.array_equal()を用いて比較することが可能です.  \n",
    "【例題】2つのndarrayのすべての要素が等しいかどうかを比較します．以下のコードを読んで実行してみましょう．"
   ]
  },
  {
   "cell_type": "code",
   "execution_count": 42,
   "metadata": {},
   "outputs": [
    {
     "name": "stdout",
     "output_type": "stream",
     "text": [
      "ndarrayその1\n",
      "[[0 1 2]\n",
      " [3 4 5]]\n",
      "ndarrayその2\n",
      "[[0 1 2]\n",
      " [3 4 5]]\n"
     ]
    }
   ],
   "source": [
    "# 要素が等しい場合\n",
    "# ndarrayの生成\n",
    "numpy_1 = np.arange(6).reshape(2, 3)\n",
    "print('ndarrayその1')\n",
    "print(numpy_1)\n",
    "\n",
    "numpy_2 = numpy_1\n",
    "print('ndarrayその2')\n",
    "print(numpy_2)"
   ]
  },
  {
   "cell_type": "code",
   "execution_count": 43,
   "metadata": {},
   "outputs": [
    {
     "name": "stdout",
     "output_type": "stream",
     "text": [
      "True\n"
     ]
    }
   ],
   "source": [
    "# 全ての要素が等しいか比較\n",
    "print(np.array_equal(numpy_1, numpy_2))"
   ]
  },
  {
   "cell_type": "code",
   "execution_count": 44,
   "metadata": {},
   "outputs": [
    {
     "name": "stdout",
     "output_type": "stream",
     "text": [
      "ndarrayその1\n",
      "[[0 1 2]\n",
      " [3 4 5]]\n",
      "ndarrayその2\n",
      "[[ 6  7  8]\n",
      " [ 9 10 11]]\n"
     ]
    }
   ],
   "source": [
    "# 要素が等しくない場合\n",
    "# ndarrayの生成\n",
    "numpy_1 = np.arange(6).reshape(2, 3)\n",
    "print('ndarrayその1')\n",
    "print(numpy_1)\n",
    "\n",
    "numpy_2 = np.arange(6, 12).reshape(2, 3)\n",
    "print('ndarrayその2')\n",
    "print(numpy_2)"
   ]
  },
  {
   "cell_type": "code",
   "execution_count": 45,
   "metadata": {},
   "outputs": [
    {
     "name": "stdout",
     "output_type": "stream",
     "text": [
      "False\n"
     ]
    }
   ],
   "source": [
    "# 全ての要素が等しいか比較\n",
    "print(np.array_equal(numpy_1, numpy_2))"
   ]
  },
  {
   "cell_type": "markdown",
   "metadata": {},
   "source": [
    "- それぞれ実行結果がTrue, Falseとなれば成功です．  \n",
    "- np.array_equalの結果はブール値で帰ってくることを確認しましょう."
   ]
  },
  {
   "cell_type": "markdown",
   "metadata": {},
   "source": [
    "【問題】以下の2つのndarrayの要素が等しいか比較してみましょう．"
   ]
  },
  {
   "cell_type": "code",
   "execution_count": 46,
   "metadata": {},
   "outputs": [
    {
     "name": "stdout",
     "output_type": "stream",
     "text": [
      "ndarrayその1\n",
      "[[0 1 2]\n",
      " [3 4 5]\n",
      " [6 7 8]]\n",
      "ndarrayその2\n",
      "[[0 1 2]\n",
      " [3 4 5]\n",
      " [6 7 8]]\n"
     ]
    }
   ],
   "source": [
    "# ndarrayの生成\n",
    "numpy_1 = np.arange(9).reshape(3, 3)\n",
    "print('ndarrayその1')\n",
    "print(numpy_1)\n",
    "numpy_2 = numpy_1\n",
    "print('ndarrayその2')\n",
    "print(numpy_2)"
   ]
  },
  {
   "cell_type": "code",
   "execution_count": 47,
   "metadata": {},
   "outputs": [
    {
     "name": "stdout",
     "output_type": "stream",
     "text": [
      "True\n"
     ]
    }
   ],
   "source": [
    "# 全ての要素が等しいか比較\n",
    "print(np.array_equal(numpy_1, numpy_2))"
   ]
  },
  {
   "cell_type": "markdown",
   "metadata": {},
   "source": [
    "- 実行結果がTrueとなっていれば正解です．"
   ]
  }
 ],
 "metadata": {
  "kernelspec": {
   "display_name": "Python 3",
   "language": "python",
   "name": "python3"
  },
  "language_info": {
   "codemirror_mode": {
    "name": "ipython",
    "version": 3
   },
   "file_extension": ".py",
   "mimetype": "text/x-python",
   "name": "python",
   "nbconvert_exporter": "python",
   "pygments_lexer": "ipython3",
   "version": "3.6.8"
  }
 },
 "nbformat": 4,
 "nbformat_minor": 2
}
