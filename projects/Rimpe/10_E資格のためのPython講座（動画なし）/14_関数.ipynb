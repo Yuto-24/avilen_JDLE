{
 "cells": [
  {
   "cell_type": "markdown",
   "metadata": {},
   "source": [
    "## 1. 引数の省略と関数の代入 \n",
    "### 引数の省略\n",
    "複数回関数を呼び出す際に，デフォルトの引数が指定されていると何度も同じ引数を記述する必要がなく，便利な場合があります．デフォルトの引数を指定し呼び出す際に引数を省略するには，関数定義の際に値を代入すればよいです．  \n",
    "【例題1】デフォルト引数を使った関数を見てみます．以下のコードを読んで実行してみましょう．"
   ]
  },
  {
   "cell_type": "code",
   "execution_count": 2,
   "metadata": {},
   "outputs": [
    {
     "name": "stdout",
     "output_type": "stream",
     "text": [
      "1\n",
      "2\n",
      "3\n",
      "10\n",
      "20\n",
      "30\n"
     ]
    }
   ],
   "source": [
    "# 関数の定義\n",
    "def default(arg1, arg2=2, arg3=3):\n",
    "    print(arg1)\n",
    "    print(arg2)\n",
    "    print(arg3)\n",
    "\n",
    "# 第一引数を1，その他を省略して呼び出し\n",
    "default(1)\n",
    "\n",
    "# 第一引数を10，第二引数を20，第三引数を30として呼び出し\n",
    "default(10, 20, 30)"
   ]
  },
  {
   "cell_type": "markdown",
   "metadata": {},
   "source": [
    "- 最初の呼び出しでは，第一引数のみを指定して呼び出しました．すると，arg1には引数として指定した1が，デフォルト引数のarg2とarg3にはそれぞれデフォルトの値が入っていることが分かります．  \n",
    "- 二回目の呼び出しでは，引数に10, 20, 30をそれぞれ指定して呼び出しました．すると，それぞれの引数には指定された値が入っていることが分かります．  \n",
    "- デフォルト引数を用いた引数の省略方法を確認しましょう．\n",
    "- 注意点として，デフォルト引数は必ず普通の引数の後に位置する必要があります．"
   ]
  },
  {
   "cell_type": "markdown",
   "metadata": {},
   "source": [
    "### 関数の代入\n",
    "Pythonでは，関数もオブジェクトであるため変数と同じように扱うことができます．具体的には，変数に関数を代入したり，関数に引数として関数を渡すことも可能です．ここでは変数に関数を代入する方法を見てみます．  \n",
    "【例題2】変数に関数を代入してみます．以下のコードを読んで実行してみましょう．"
   ]
  },
  {
   "cell_type": "code",
   "execution_count": 12,
   "metadata": {},
   "outputs": [
    {
     "name": "stdout",
     "output_type": "stream",
     "text": [
      "4\n"
     ]
    }
   ],
   "source": [
    "# 関数の定義\n",
    "def func_cal(num):\n",
    "    return num*2\n",
    "\n",
    "# 変数に関数を代入\n",
    "x = 2\n",
    "y = func_cal\n",
    "print(y(x))"
   ]
  },
  {
   "cell_type": "markdown",
   "metadata": {},
   "source": [
    "- 引数を二倍する関数func_calによって変数xが二倍された値が変数yに代入されています．  \n",
    "- 関数を代入する際は代入する関数に()を付けないよう注意しましょう．また，変数に代入された関数を使う際は()をつけます．\n",
    "- 変数に値を代入するように，関数も代入できることを確認しましょう．"
   ]
  },
  {
   "cell_type": "markdown",
   "metadata": {},
   "source": [
    "【問題】デフォルト引数を持つ関数func_helloを作成し，変数への代入によって呼び出して実行してみましょう．二つの引数を持ち，一つの引数はデフォルト引数で，引数として渡された文字列を戻り値とする関数を作成しましょう．デフォルト引数のデフォルト値はhelloとします．"
   ]
  },
  {
   "cell_type": "code",
   "execution_count": 15,
   "metadata": {},
   "outputs": [
    {
     "name": "stdout",
     "output_type": "stream",
     "text": [
      "world\n",
      "hello\n"
     ]
    }
   ],
   "source": [
    "# 関数の作成\n",
    "def func_hello(arg1, arg2='hello'):\n",
    "    return arg1, arg2\n",
    "\n",
    "func = func_hello\n",
    "str1, str2 = func('world')\n",
    "print(str1)\n",
    "print(str2)"
   ]
  },
  {
   "cell_type": "markdown",
   "metadata": {},
   "source": [
    "## 2. \\__call__メソッド  \n",
    "Pythonの特殊メソッドの中に\\__call__メソッドが存在します．このメソッドを使うことによって，インスタンス自体を関数のように使うことができます．  \n",
    "【例題】\\__call__メソッドを使ってみます．以下のコードを読んで実行してみましょう．"
   ]
  },
  {
   "cell_type": "code",
   "execution_count": 20,
   "metadata": {},
   "outputs": [
    {
     "name": "stdout",
     "output_type": "stream",
     "text": [
      "こんにちは上條さん，AVILENより．Hiメソッド\n",
      "こんにちは上條さん，AVILENより．__call__メソッド\n"
     ]
    }
   ],
   "source": [
    "# クラスの定義\n",
    "class Sayhi:\n",
    "    def __init__(self, name):\n",
    "        self.name = name\n",
    "    \n",
    "    def Hi(self, name):\n",
    "        print('こんにちは'+name+'さん，'+self.name+'より．Hiメソッド')\n",
    "    \n",
    "    def __call__(self, name):\n",
    "        print('こんにちは'+name+'さん，'+self.name+'より．__call__メソッド')\n",
    "        \n",
    "# インスタンス生成\n",
    "helloworld = Sayhi('AVILEN')\n",
    "# メソッドとして呼び出し\n",
    "helloworld.Hi('上條')\n",
    "# インスタンスを関数のようにして呼び出し\n",
    "helloworld('上條')"
   ]
  },
  {
   "cell_type": "markdown",
   "metadata": {},
   "source": [
    "- このように，\\__call__メソッドを用いることにより，メソッドとして呼び出すときと同じようにしてインスタンス自体を関数として使うことができます．\n",
    "- メソッドを記述して呼び出すよりもシンプルに記述できることを確認しましょう．"
   ]
  }
 ],
 "metadata": {
  "kernelspec": {
   "display_name": "Python 3",
   "language": "python",
   "name": "python3"
  },
  "language_info": {
   "codemirror_mode": {
    "name": "ipython",
    "version": 3
   },
   "file_extension": ".py",
   "mimetype": "text/x-python",
   "name": "python",
   "nbconvert_exporter": "python",
   "pygments_lexer": "ipython3",
   "version": "3.6.8"
  }
 },
 "nbformat": 4,
 "nbformat_minor": 2
}
