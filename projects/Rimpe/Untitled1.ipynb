{
 "cells": [
  {
   "cell_type": "code",
   "execution_count": 5,
   "id": "b545feed-c7f9-4942-88f2-71b88451ff53",
   "metadata": {},
   "outputs": [
    {
     "name": "stdout",
     "output_type": "stream",
     "text": [
      "tensor([[0.6172],\n",
      "        [0.5990],\n",
      "        [0.5258],\n",
      "        [0.1783],\n",
      "        [0.4731],\n",
      "        [0.4131],\n",
      "        [0.5481],\n",
      "        [0.5706],\n",
      "        [0.1359],\n",
      "        [0.2769]])\n"
     ]
    }
   ],
   "source": [
    "import torch\n",
    "import torch.nn as nn\n",
    "\n",
    "n=10\n",
    "d=1\n",
    "sigmoid=nn.Sigmoid()\n",
    "input=torch.randn(n,d)\n",
    "output=sigmoid(input)\n",
    "print(output)"
   ]
  },
  {
   "cell_type": "code",
   "execution_count": null,
   "id": "cfc2d7e2-d52d-4c8c-b5a1-17c7c2c844ca",
   "metadata": {},
   "outputs": [],
   "source": []
  }
 ],
 "metadata": {
  "kernelspec": {
   "display_name": "Python 3 (ipykernel)",
   "language": "python",
   "name": "python3"
  },
  "language_info": {
   "codemirror_mode": {
    "name": "ipython",
    "version": 3
   },
   "file_extension": ".py",
   "mimetype": "text/x-python",
   "name": "python",
   "nbconvert_exporter": "python",
   "pygments_lexer": "ipython3",
   "version": "3.10.13"
  }
 },
 "nbformat": 4,
 "nbformat_minor": 5
}
