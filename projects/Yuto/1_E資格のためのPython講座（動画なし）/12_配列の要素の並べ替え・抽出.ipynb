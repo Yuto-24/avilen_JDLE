{
 "cells": [
  {
   "cell_type": "code",
   "execution_count": 1,
   "metadata": {},
   "outputs": [],
   "source": [
    "# numpyのインポート\n",
    "import numpy as np"
   ]
  },
  {
   "cell_type": "markdown",
   "metadata": {},
   "source": [
    "## 1. 配列の要素の並べ替え  \n",
    "配列の要素をランダムに並べ替えたい場合，numpy.random.permutation()を使うことができます．引数にはintかリスト，配列を与えることができます．この関数は配列をランダムに並べ替え，並べ替えた配列のコピーを生成します．引数にint型のxを渡した場合，np.arange(x)のインデックスをランダムにしたものを生成し，リストまたは配列を渡した場合は要素をランダムに並べ替えます．  \n",
    "【例題】それでは配列の要素を並べ替えてみます．以下のコードを読んで実行してみましょう．"
   ]
  },
  {
   "cell_type": "code",
   "execution_count": 4,
   "metadata": {},
   "outputs": [
    {
     "name": "stdout",
     "output_type": "stream",
     "text": [
      "配列\n",
      "[[0 1 2]\n",
      " [3 4 5]\n",
      " [6 7 8]]\n",
      "numpy_1\n",
      "[[0 1 2]\n",
      " [3 4 5]\n",
      " [6 7 8]]\n",
      "numpy_2\n",
      "[[6 7 8]\n",
      " [3 4 5]\n",
      " [0 1 2]]\n"
     ]
    }
   ],
   "source": [
    "# 配列の生成\n",
    "numpy_1 = np.arange(9).reshape(3, 3)\n",
    "print('配列')\n",
    "print(numpy_1)\n",
    "\n",
    "# 配列を並べ替え\n",
    "numpy_2 = np.random.permutation(numpy_1)\n",
    "\n",
    "print('numpy_1')\n",
    "print(numpy_1)\n",
    "print('numpy_2')\n",
    "print(numpy_2)"
   ]
  },
  {
   "cell_type": "markdown",
   "metadata": {},
   "source": [
    "- numpy_1が並べ替える前の配列で，numpy_2が並べ替えた後の配列です．  \n",
    "- numpy_2の要素が並べ替えられていれば成功です．numpy_1が並べ替えられてnumpy_2が生成されても，numpy_1は上書きされずそのままであることを確認しましょう．また，要素のシャッフルの軸は列ごとです．"
   ]
  },
  {
   "cell_type": "markdown",
   "metadata": {},
   "source": [
    "【問題】以下の配列をnumpy.random.permutation()を用いて要素を並べ替えてみましょう．"
   ]
  },
  {
   "cell_type": "code",
   "execution_count": 8,
   "metadata": {},
   "outputs": [
    {
     "name": "stdout",
     "output_type": "stream",
     "text": [
      "[[9 8 7]\n",
      " [6 5 4]\n",
      " [3 2 1]]\n",
      "--------------------\n",
      "[[6 5 4]\n",
      " [3 2 1]\n",
      " [9 8 7]]\n"
     ]
    }
   ],
   "source": [
    "# 配列の生成\n",
    "numpy_1 = np.arange(9, 0, -1).reshape(3, 3)\n",
    "print(numpy_1)\n",
    "print('--------------------')\n",
    "\n",
    "# 配列の並べ替え\n",
    "numpy_2 = np.random.permutation(numpy_1)\n",
    "print(numpy_2)"
   ]
  },
  {
   "cell_type": "markdown",
   "metadata": {},
   "source": [
    "- 配列の要素がランダムに並べ替えられていれば成功です．"
   ]
  },
  {
   "cell_type": "markdown",
   "metadata": {},
   "source": [
    "## 2. 配列から要素をランダムに抽出する  \n",
    "一次元の配列から要素をランダムに抽出したい場合は，numpy.random.choice()を使うことができます．必要に応じて出現率を指定することも可能です．  \n",
    "numpy.random.choice(a, size, replace, p)となっており，引数の役割はそれぞれ a:一次元の配列またはint, size:配列から抽出する要素の個数, replace:ブール値で指定し，Trueなら要素の重複あり, p:与えられた配列に対する出現率をリストで指定 となっています．  \n",
    "【例題】配列から要素をランダムに抽出します．以下のコードを読んで実行してみましょう．"
   ]
  },
  {
   "cell_type": "code",
   "execution_count": 16,
   "metadata": {},
   "outputs": [
    {
     "name": "stdout",
     "output_type": "stream",
     "text": [
      "並べ替える前 [0 1 2]\n",
      "並べ替えた後 [1 2 1]\n"
     ]
    }
   ],
   "source": [
    "# 配列の生成\n",
    "numpy_1 = np.arange(3)\n",
    "print('並べ替える前', numpy_1)\n",
    "\n",
    "# 要素の抽出\n",
    "numpy_2 = np.random.choice(numpy_1, 3, replace = True, p=[0.2, 0.2, 0.6])\n",
    "print('並べ替えた後', numpy_2)"
   ]
  },
  {
   "cell_type": "markdown",
   "metadata": {},
   "source": [
    "- 配列が並べ替えられていれば成功です．\n",
    "- 引数で指定した数だけ要素が抽出されていることを確認しましょう．"
   ]
  },
  {
   "cell_type": "markdown",
   "metadata": {},
   "source": [
    "【問題】以下の配列の要素を，重複なしで5つ抽出してみましょう．出現率はそれぞれの要素に対して一定とします．"
   ]
  },
  {
   "cell_type": "code",
   "execution_count": 17,
   "metadata": {},
   "outputs": [
    {
     "name": "stdout",
     "output_type": "stream",
     "text": [
      "[2 8 3 4 9]\n"
     ]
    }
   ],
   "source": [
    "# 配列の生成\n",
    "numpy_1 = np.arange(10)\n",
    "\n",
    "# 要素の抽出\n",
    "numpy_2 = np.random.choice(numpy_1, 5, False)\n",
    "print(numpy_2)"
   ]
  },
  {
   "cell_type": "markdown",
   "metadata": {},
   "source": [
    "- 配列の要素を重複なしで5個抽出できれば正解です．"
   ]
  }
 ],
 "metadata": {
  "kernelspec": {
   "display_name": "Python 3",
   "language": "python",
   "name": "python3"
  },
  "language_info": {
   "codemirror_mode": {
    "name": "ipython",
    "version": 3
   },
   "file_extension": ".py",
   "mimetype": "text/x-python",
   "name": "python",
   "nbconvert_exporter": "python",
   "pygments_lexer": "ipython3",
   "version": "3.7.3"
  }
 },
 "nbformat": 4,
 "nbformat_minor": 2
}
