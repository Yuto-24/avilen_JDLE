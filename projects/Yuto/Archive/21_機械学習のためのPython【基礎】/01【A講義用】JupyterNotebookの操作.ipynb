{
 "cells": [
  {
   "cell_type": "markdown",
   "id": "7389813a",
   "metadata": {},
   "source": [
    "# 0.Pythonを学び始める皆さんへ\n",
    "\n",
    "---\n",
    "\n",
    "ようこそPythonの世界へ！Pythonはディープラーニングやweb開発などに使用される、非常に便利なプログラミング言語です。\n",
    "\n",
    "最初はとっつきにくくて難しいかもしれませんが、上達のためには何事も練習が大切です。\n",
    "\n",
    "この講座では、最短距離でPythonの基礎を解説します。しっかり練習して、さらなるステップアップを目指しましょう！"
   ]
  },
  {
   "cell_type": "markdown",
   "id": "be1f2db5",
   "metadata": {},
   "source": [
    "# 1.Pythonスクリプトを書いてみよう\n",
    "\n",
    "---\n",
    "\n",
    "まずは最初にPythonで超初歩的なスクリプトを書いて、実行してみよう。\n",
    "\n",
    "書いてあるコードを実行するときはキーボードのshift+enterか、メニューバーの「Run▶」ボタンを押そう。"
   ]
  },
  {
   "cell_type": "markdown",
   "id": "18bbb95a",
   "metadata": {},
   "source": [
    "[例1]以下のコードを実行して、\"hello python\"と表示してみよう。"
   ]
  },
  {
   "cell_type": "code",
   "execution_count": 1,
   "id": "1fdf13cd",
   "metadata": {},
   "outputs": [
    {
     "name": "stdout",
     "output_type": "stream",
     "text": [
      "hello python\n"
     ]
    }
   ],
   "source": [
    "print(\"hello python\")"
   ]
  },
  {
   "cell_type": "markdown",
   "id": "ec9b9877",
   "metadata": {},
   "source": [
    "# 2.Jupyter Notebookの用語・機能\n",
    "---\n",
    "Jupyter Notebookは、Pythonのコードを書いて実行する際に使われるエディターである。\n",
    "\n",
    "まずは基本的な用語と機能をチェックしよう。\n",
    "\n",
    "\n",
    "## 基本的な用語\n",
    "---\n",
    "### ノートブック\n",
    "\n",
    "Jupyterで扱うファイルのこと。「.ipynb」という拡張子が付いている。\n",
    "\n",
    "\n",
    "### セル\n",
    "\n",
    "コードや文章を入力する枠のこと。\n",
    "\n",
    "コードを入力する「codeセル」と、マークダウン形式で文章などを入力する「markdownセル」の2種類のセルがある。\n",
    "\n",
    "### カーネル\n",
    "\n",
    "Pythonの実行環境のこと。オブジェクトの内容をメモリ格納していたり、何か計算をしていたりする。\n",
    "\n",
    "カーネルは複数作成することができて、それぞれ別の機能を持たせることもできる。\n",
    "\n",
    "学習用、開発用...など、用途別にカーネルを作成して使い分けるのが望ましい。\n",
    "\n",
    "### ライブラリ\n",
    "\n",
    "複数の関数がまとめて格納されているもの。Pythonではこのライブラリを呼び出して、必要な関数をコードに書き込んでいく。\n",
    "\n",
    "(例)numpy、pandas、pytorch、など"
   ]
  },
  {
   "cell_type": "markdown",
   "id": "29db8393",
   "metadata": {},
   "source": [
    "## メニューバーのボタン\n",
    "\n",
    "---\n",
    "\n",
    "次に、ファイル名の下にある「ファイル(File)」「編集(Edit)」「表示(View)」...などのボタンについて説明しよう。\n",
    "\n",
    "\n",
    "| &nbsp;&nbsp; ボタン名 &nbsp;&nbsp; | &nbsp;&nbsp; 機能 &nbsp;&nbsp; |\n",
    "| :---- | :---- |\n",
    "|  ファイル(File)  |  新規ファイル作成やコピー・保存をするときに使われる。<br>ノートブックをダウンロードするときや閉じるときもここから可能。  |\n",
    "|  編集(Edit)  |  セルの追加や削除・コピー＆ペーストに使われる。<br> セルの分割や上下への移動もここから可能。 |\n",
    "|  表示(View)  |  セルの表示形式を変更できる。  |\n",
    "|  挿入(Insert)  |  選択したセルの上下にセルを追加できる。  |\n",
    "|  セル(Cell)  |  セルの実行やタイプの変更、出力の消去ができる。<br>複数のセルをまとめて実行することも可能。  |\n",
    "|  カーネル(Kernel)  |  カーネルの変更や停止、再起動ができる。  |\n",
    "|  Widgets  |  jupyter notebook全体の表示を変更できる。  |\n",
    "|  ヘルプ(Help)  |  各種リファレンスの外部サイトに移動して、不明点を調査できる。 |\n"
   ]
  },
  {
   "cell_type": "markdown",
   "id": "99f00f72",
   "metadata": {},
   "source": [
    "## ショートカットボタン\n",
    "---\n",
    "\n",
    "メニューバーボタンの直下にあるアイコンからは、便利なショートカットが利用できる。\n",
    "\n",
    "左から順番に説明しよう。"
   ]
  },
  {
   "cell_type": "markdown",
   "id": "2ce9bb4b",
   "metadata": {},
   "source": [
    "<p><img src=\"data:image/png;base64,iVBORw0KGgoAAAANSUhEUgAAAz8AAAAwCAIAAACwiVNcAAAAAXNSR0IArs4c6QAAAARnQU1BAACxjwv8YQUAAAAJcEhZcwAAFiUAABYlAUlSJPAAABnhSURBVHhe7Z3pcxVF24ff/8kPFB8oiw9YSGk9UEpBKKJisYY9CAoisiQUiwSQ7WUvFClAQY2gUAIiYVF4ANkRiCQELJFFCYts0fcyd9PvZM7MnJ6Zk/Qkp68PqZmepX/nvnvu/s2Zc07+5x+Hw+FwOBwOR/vBuTeHw+FwOByO9oRzbw6Hw+FwOBztCefeHA6Hw+FwONoTzr05HA6Hw+FwtCece7NPU1OTWnLYxiQXxZwvFx9HNnGjzlFsFN691dfXHz9+/L9tDp3StRIRhBVheVU1NDScP39e7V3cWBk2PsgFGVG5CcJ6vk6cOKGWbJD9+DhsYff6zTsyHQ4ftryKl7wOIYICuzd01NXVPXnyRK23IXRK12GBsCUsWhXlpra21kq4vDCG1JJVsiCDXJCRsGkgC/myG6Xsx8cudrNTzL1Hj0wqcBZuDh2tR1wbZMsS+EBAhEOIpsDujQhaDAddI0CttMSisDBVTU1N3C9aDJeGoa+WrJIRGWSEvOQ+iMlIvqxHKePxsYvd7BRz7xA2MpkaMXY3b968ffv2H46OCJklv2TZ3AbZ9SpekBHmW6IpsHuzfgGHCchmXbMeLsHJ8JHlfGVZQ3YyaAu7ESjm3oVADUyNzO5379697+i43Lt3jyyb26BMFatkYpx7awuyqUrjZPjIcr6yrCE7GbSF3QgUc+9CoAYaHzx48OTJk6dPnzY5OiJklvySZfNBmIXhqkkmxrm3tiCbqjROho8s5yvLGrKTQVvYjUAx9y4EaqDx8ePHf//9t1p3dETIL1k2H4RZGK6aZGKce2sLsqlK42T4yHK+sqwhOxm0hd0IFHPvQqAGGjPyCSdHq0KWzQdhFoarJpkY597agmyq0iSWwe1OY2Oj+uBoM/fv31fb4mMug15Uf+HcuXOnKelPQGU5X1nWkAVtdrEbgWLuXQjUQKNzb8WAc2+psB6RMAF2hWVTlSaZjGvXro0YMeK5lnTt2vXMmTNqj5gYyjhw4ECnTp1Uf5GsWLHi6dOn6rA4ZDlfWdaQBW12sRuBYu5dCNRAo3NvxYBzb6kwFHH9+vXJkye/Fs6bb765fPly/IE6wJgwAYlTdevWrffffx9JQ4YM+fHHH1VrTAquqrAkkEFqyBEOae7cuerNrj/+qK+v79+//9GjR9VOMTGU8eWXX4o5++qrr1THLTl16tRLL73EDu++++5ff/2lDotDlvOVRsOff/65bNkyBnNlZeWvv/6qWuOTMj50vXLlSq4std6BMIzAyZMnqSfNpc4IrrWamhp1cDjJxgZ3OBcvXly/fv2UKVPGjx+/evVq5CW47THsneJPiQj8FNrBgwdTjopADTQ691YMOPeWCkMRTMCdO3fu16/fCy+8IDMxsCyl6uWXX2Zr9+7de/XqxUysjjEjTEDiVGmvAHbdwOPHj8WdsKCaCkTc4Ih1I1Nk8MMPP1St//yDttdff925tzBw/wxy5khclGqKTxoN27dvl9DBnDlzkr0xCSnj88svv5AgrnGMwoMHD1RrUrxXqBdCjUm9evWq2q9NMIxAmOYIvBdaGHHHRlNT04EDB/r06aP68NCjR49t27YxQu7du/fee++tW7dOHROOefZ79+69d+/eXAPHaxw+fPiNGzfUenwCNdDo3Fsx4NxbKgxFULyY5plouVxVtfCUJ9mKRZg+fXpcAxcmIHGqvHXWlhugzO3cuVM73a5duxZk2tPECo5YN4psQ0MDAbHo3vKSKfcm1k2ETZw4MbGBS6OhIIMZUsZH3JvIwCVUV1c/evRIbYuPvKgFCxYQYU1NTc3cuXMxiBSQ2tpatWvrYxgB8zGsKbh7I+bLly+P/hDCtGnTxo0bx0IBe5fsU8RyDZxMB2kMXKAGGp17Kwace0uFoQiKV173xtb79+/HNXBhAhKnqiATXkpVZ86codiVlJQsWbKEKMm98qBBg8JqHHWZGRGLwPlNPrlvHhxt3eiaUAS6txkzZvieCpWVlZnMoIYyzGe+MWPGNDY2qsPikDJfueAntHUTEhu4xBqgIIMZUsbH694Ehs2hQ4eSfctEXhR/1fozcAb4A9xJVVVV4ncZ42IYAfMxrPFeaGGYjw0CsmLFCjkzIcKicSzXL1y4cGH27NkYX9kqFLB3nf1cA0cv0l1iAxeogUbn3oqB1nBvdXV15eXlaiaLCfOg4a8Hm8v2kmn3xrI2cJcvX5at0YQJSBYd8NZZW+5NNOAAZJXKu3nz5sBpifmPcxKxkydPPnz4cNOmTdu3b1fbwjGUcevWraFDh7744oucU97eYHR6yzopI3FI7d279+LFi/+3mQULFnTv3p2XoHYKJ1Y0cqEX+pJOYcCAATTOnTs3wddgU+bLR651E5IZuGQahIIMZkgZn1z3JuAh6uvrcx+oRSMvKnCAMWJLS0u537hz545qamUMIxA2hiMooH8C6gPmidMGvgfG6tGjR7mgpGsoYO/e7Pt6904HyQxcoAYanXsrBlrDvTEmvdNZLJiDKioqTD7pZC7bS4bcG1OvXMZbt27V7g2ovJiGDRs2yGo0YQKSRQcKMuGlVCXfsty4caMuc48ePZo2bZo3SnD16lV8244dO9jKnvv27eP22uQBq6GMXbt2qUA8gxv03bt3y1Z8JOOVckxp9gZKLF3g5OrDUEbYzOeLBkMLo9mtW7cEBi5lvryEWTchgYGLpQE3730oGTaYyV2s6S1lfMLcGzDOZ8+eHeuj6/KiAgeYjD09MHAk7Ol7ss840TuwTFiuXbs2b948RjJi8BBnzpzR111eDCMQNoYjQJs6OBzD3qV6cE5eIEpyX5181k36FQrYuy/7XgNHL6q1mQQGLlADjYHD+6effmJihkOHDqkmD19//TWbxowZk+w9cg7ntqGurk6tR8LOiTtyaFrJvSWe982PNZftxbJ7W7p0qbpSW1JeXq5nXF48ITApHxAmwFAY08bIkSOViHxQdww/45VSFaGYMmUKpXblypV3796lBUdLiEpLS2We4y8eRX8Y7uHDh8uXL//mm28MH0XFzZpa96Ct28GDBxcuXOgdsjKDBk6uPsxlqAS0xKdNrpzDhw/36tUrroFLmS9NtHUT4ho4cw2//fYb8593dvSGTueotraWWYoJ9dixY83H5SdlfCLcmxDrCw3yogIH2Llz57p3745TEQtr4t769etXUlIyderUmpqaLVu29OzZkwCePHlSds6LYQTCxnAEJgUwbvzHjx+fe108fvx41qxZ0qmmNXrX6CFKL6rpGXENXKAGGqPd2+LFi30PMSihM2fOZJNzb1bYvHkztxBqJQc2sYNa8dB67o36ICZET2f19fX/+c9/KCaM59dee42/LEslYatUVzm2w7o3CjSvmUnOBxOP2rVt3VveecVH4JyRS0pVgD/DrqlenzFp0qTp06cvWLAAw6Tfrvj9998rKytj/eha3Kyp9WdQ+FasWNGtWzesm5Rg75DVw11WIzCXoV5/S3zatIxTp07FNXDp8wUM47zWTYhl4Aw14PL1fYieHb2hk+Bg3QiOtLTZ5xMMrzLDLzTIi/INMMbkiRMnqKq8dm3XWGBPvSowTvTIYZkduA/Rczkn6dKlC1ZSVvNiGIGwMRyBSQE07B1jKufcunWramrJlStXpA5rTCxUmuzLEKWOqXUPsQxcoAYaI9wbVXTEiBGUTdXaDK6LxrKyMufe2h6cGXnh1iLQwNHIJnbINXCt596YO5hSL126RDk6fvz4tWvXkMEZbt++zQIt/JX/kc8OXN1SXfUcpM4VjrlsL5bdm1qPhBdPCEyKF4QJMBSWWfcGzCiUUQYuc9KoUaOY8hctWjRt2rSTJ0/qGY4RhnXzVaK8pMmaWLfnn3+eAsTwZSs+yTtkabHl3ogVtwE0Ml117979gw8+MLmQIH2+yJTXujE5kRe18txzjLGBAweqlWaImOFnsww1cDYmD3X2Z7OjN3T0ePr0aW3dAJti+PWglPGJdZWR1uhbkbDxABxLPZX3HcHEvXETcv78edkE3BSVlpYaFh8wjECE5jBMNMTt3ReKlKTMPkM0bFRw4yrPHPISqIHGCPe2ZcsWrhTfw9Mvvvhi5syZ3Bh7TdXFixdnzJjRv39/jmLMLFu2TG8S+7V7925OxaYffvjB694okuvWraNu79+/X0YjdYmC0LdvX/bZs2fP9u3bvR1RSNesWcN56Ih7ME7LGR4/flxVVYWqhw8fym5c0eywc+dOWZUdFi9ejNVgN8ry4cOHOZx9Bg8evGPHDn1PknFwQm+99Raycw0cq2Ld2MG3CVrPvT148ED+qxB1tampiXmEVVJJqIEFVmmUhY0bN8oMKMeaTDrmsr0499YCPPWrr76qaoYBJt8JgJSqAmGgHDhwAPf26aefvv322wwaylBFRYW+ts1Jk7ULFy54P90seL9Owf4cxbGyGoG5DNVNS3zaKJdqwzM6depkOF2lzJeMWNXrM+ck1kFAKiNtypQpar2ZlGMpl1wH6f3fGPKhQLXSHBxmrJSP2g21mbu3zp07Mxvp95UDkfHARPvve0Q//shcOHr0aF7s1q1bfS/HxL1x+ZMa2QQyeg0/egyGEQgbwxGYFMC4vXNXo5oKQcrsY24GDRqkVlrifTc0mkANNEa4NywO93Xeh6dM1dRV7BcGSJsqCt0bb7wxefLkffv2YfVIR58+febPny8Dg51ZRT8m6dtvv+X+Wbs3CjXL/fr1YxPL7MwAGzZsGDtjvHbt2oUdmTRpku7o5s2btHAsaaKjOXPmcOa1a9cij/MMHTpUfmebU61atQr9WjntbKXUyGNfzjB8+PDq6moEI5uTcHWwW7sg0MBFWzdoPfdGHZCSLrWC1Igt825lWcoFu3m3dlj39vPPP0d8HVe+cNuW7g2w0gjT4KObC8i/MHTkvRxBbLg6LJL0qoDL9erVq5iSsWPHLlq06KOPPlq4cOGNGzcuX77c0NDAMtft999/zyUd18DFzZpab4a5kJvR+vp6iYngnepY5SiOVevhmMtQ+WiJTxsVjQQ1y/kX+T8QJjIgZb7omrovqsS6kTufe0MSI00buF7GP0sWa8xQr02e3saybpAyPibuDUlcbia/tSvjwZtZxv+8efM4A1nQUzKYuDffKGKZFsMSDIYRCBvDEZgUQMPe9VA0fyJsQprsU+0xOrxGte5h6dKleZ+eawI10Bjh3vi7e/du78PTS5cusYoer3vbtGnTxIkT9Y0E42rZsmV6K76KU+3fv1+2gnZvmDasG6ti3fj78ccfDx48mDjIntg1JkE5lWzlQL2Vls8++wzjiCpxkMyJtN+9e/edd97BrvFX3pjE6nFaLhnt3vRJGMbMGrwcWW0X+AwcRFs3sPLeGwu08JdlFmTSka1ybId1b7w8prfS0lKxaz6YeHjx7NaW7s2Ht86aF3Ef6VUxXrlBZEJSUpqnN25JuakqKyvr2bMnF7bsiQngxtH7/kFe4mZNrTfDTJDb6IVN7OCdXMMwl6FC0JJCyYD0+aK4MzX26NEDP81lTEuue6ORC76yshLrJhXZBHMNQl4DF9e6Qcr45HVvAwcONP+mp4wHX2a5qxk0aFCXLl0OHjyomoLcG2maM2eOTgdFxjeKZNiYX/iGEQgbwxGYFEDD3q9fv15SUsI5KbxxP2URQeLsU+rlCSOvUTU9I5Z1g0ANNEa7NxwPvkc/POVyoNhyC+p1b7lgyLTn015NNoG04Pm4aayurtaDWe7ZfN+TwJ9JR+LJfFtFHvvI1vXr19NIX6NGjeLMQ4YMYZnzc98uz1XFvVVUVOhBKy2yVVraBcx62sDltW7Q2u7N688C8Xk7ObYju7eIlydb2Y2/LKvWSMIEJIsOeOusYSZySamKTqdOnYqAcePGnTt3jnKGRSOAffr0waUxSrgtmz59+nfffSeVjiowe/ZsZinD+S9u1tR6M869GRLo3hKQQEOEgUtg3SBlfCLcG/chBw4ciKVHxkNuZvFtuDdmUG1QJAXex4WU4/Lycp0OiowvNTJszC98wwiEjeEITAqgYe84A/1l/7CHkpSOnTt3HjlyRK0bkCz72roBr1G1NhPXukGgBhqj3RtGTT88FXclP4Tkc2/EhFn59OnTOLNZs2Zhy7RjC3RvnFzgDkHbJs7GObFisirs3btXOgrcKo2IQQAWDXmIxGvi5Orr6/FwLIuxkwNzvVo7dW+gDRxEWzdoPfdGHRATIgVBDdAcpHpwdUvFkGNNSoe5bC/OveXBW2cNM5FLSlXyxTfvDRkL3vcMgAmPaW/ixInypgVV75NPPvn8888DS7MP86x1bv7vtM1vjCpeeeUVr4xc2MQOHKvWwzGXofLRkkLJgJT5CsSie4NAA5fMukHK+AS6N+SRnQSzi4yH3Mwy8pmS2cS0J1fB+fPnu3Xrtnr1an1XQ1i6du2q00GR8aVGho35hW8YgbAxHIFJATQfGw0NDUyHnJYxwJkftPxxFqrHunXr2ERSCJFqzUeC7FNAvI4HJdIOCawbBGqgMdq9sawfnl64cAE/JI/sve7typUr3Dyzf9++fdmTajxv3rxo98bdNWHct29fSUkJt9bSHujPsF8m7o1l9pSO1qxZg/PGd1ZVVbGMbNrPnj3LPh3JvYEYuLzWDVr7vTeKgDh4ykIg7r23/0e2sht/WVatkYQJSBYd8NZZw0zkklKVaGD6l1WGxcGDB5l1KisrfQWOVXaePHky1YdhhHsr4P9aoIhs2LCBkuFl6tSp0V6ETeyAKrUeTqxo5FIoGZAyX4HYdW/gM3CJrRukjI/PvXFLwMyUOCAyHgIzKx6FK0V+sI2Ll0uYF86EV1NTw+jt2bMnM7FOB0XGlxoZNuYXvmEEwsZwBCYFMNbYEOcqJ2dh9uzZe/bsISyLFi3q0aOHtBMrpGqzG03c7PusG/Aapd9k1g0CNdCY171RMIcOHUpMcE7y2JRG7d7kzTmWEayjwZ7R7k1aMEzcaetnrImfnG7bto1l+WrCrl27OMnevXtp4diKigr+cqB8AK6DuTfAt+W1btBK7m3IkCFcF4yNuEycOJE0mYxkc9lenHvLw6lTp2TOo5Bx127yVlYuKVXJe2+jR49mDFFhMWeIoe6Efc6da3jt2rXUji1btvjuqgNJHBzAlER7EZn/AidXH4Yy6DH3bSQolAxIma9ArLs3oKDowZzYukHK+Oj5Gxnjzb6aEIE4obDMMufRy7hx42RiY4JcsmQJZoXG4cOHnz17VtcitlJkfKmRYdMh3RsuhDGZ+yaoBleNTvNBEiv7udYNeI30m9i6QaAGGvO6N/FnWNhJkyaJKwLt3oAF7L62bo2NjUzMJu6NZV4yy6tWrZLpY+PGjazS2Lyj+pKpdMT5A7+10L9/f/khG/FhEyZMwA7KZ525MxkwYMCwYcM4v8jreO7NkNZwb2HTjQkcSMlVJ4rEXLYXO+5t+/bt6vUZwyWtDo4kTECy6BSKlKq45qkjzDcSChYw9W3/ceNA2t69BVJAGZAyX4FwG4AFlwyau4Fc0miA48ePl5WV4WmS3YcIKeMj83esrya0FwwjkAX3Jty6dUvsrOqmGXzb9OnT47pq8+yPHDky17oBrzGNdYNADTTmdW+we/duVvVPcoD3vbf58+f37dt3zZo1nK26upqLCAOq/Vm0e2OQb9iwAQcmX04SuzZo0CDOg1OUB7LSkd7KsQySQy1/MeTf8za/2cb+5eXld5p/IVLejfP+IIhzbyaY79kGJBNjx70xho4dO/bve4tmMDebvIcEYQLspiq9Kq5/7NqRI0cIhVy0BSRNcNDj+/fwPtjEDm3g3golA9LnKxcyWF9fz2AmiREuMy9pNBSKlPFhAJ89ezbxO39ZxjACjY2NDAMpboYU8L8d5II7aWhokI5qa2vluWFcDHu/1/yr9GqlJbzGNNYNAjXQaOLe5AFlVVWVfvnavbHMX5wlDgyfNHbs2JqaGg5klYixNdq9AS95woQJ3HWTelmVswEL69ev1x3JVu+v9e7fv997r8W1069fP/10lfvAiooK/WQWnHszIfHF0hokE2PHvbUeYQLsCsumKk0aGdz5cafIbWgE3Kea/JhZRmRAlvOVZQ1Z0GYXuxEo5t6FQA00Bro3RwfDubdUWI9ImAC7wrKpSuNk+MhyvrKsITsZtIXdCBRz70KgBhqdeysGnHtLhfWIhAmwKyybqjROho8s5yvLGrKTQVvYjUAx9y4EaqDRubdiwLm3VFiPSJgAu8KyqUrjZPjIcr6yrCE7GbSF3QgUc+9CoAYanXsrBpx7S4X1iIQJsCssm6o0ToaPLOcryxqyk0Fb2I1AMfcuBGqg0bm3YsC5t1RYj0iYALvCsqlK42T4yHK+sqwhOxm0hd0IFHPvQqAGGp17Kwace0uF9YiECbArLJuqNE6GjyznK8saspNBW9iNQDH3LgRqoNG5t2LAubdUHD9+3OJ1Qtfyc4i5WBQWpqqpqen8+fMWw6XJyDjOiAwyQl5yf40sI/myHqWMx8cudrNTzL1D2Mik/Cb+cWxHO4IshxmAXCxaAh/IMJftpcDurb6+vq6uzkpQ6JSuEaDWW2JLWLSqhoaG2tpaK+HykhHblAUZ5IKMkBe13pIs5MtulLIfH7sUs3/K7Mik/F6+fDnZTxA72gvklyyHTbW52LIEPhAQ4RCiKbB7A3RgJLmS2xg6jQ6BFWF5VVFuuF9Uexc3VoaND3IRZk0E6/k6ceKEWrJB9uPjsIXd6zd6ZNqalRxtRt6pNpcsjIoEsjWFd2+OuOS+1e+whUkuijlfLj6ObOJGnaPYcO7N4XA4HA6Hoz3h3JvD4XA4HA5He8K5N4fD4XA4HI72hHNvDofD4XA4HO2Hf/75P9d7OcsyrIJLAAAAAElFTkSuQmCC\"  alt=\"サンプル画像\"></p>"
   ]
  },
  {
   "cell_type": "markdown",
   "id": "05de594c",
   "metadata": {},
   "source": [
    "\n",
    "| &nbsp;&nbsp; ボタン名 &nbsp;&nbsp; | &nbsp;&nbsp; 機能 &nbsp;&nbsp; |\n",
    "| :---- | :---- |\n",
    "|  Save  |  上書き保存  |\n",
    "|  insert cell  |  セルの追加 |\n",
    "|  cut selected cells  |  選択したセルをカットする  |\n",
    "|  copy selected cells  |  選択したセルをコピーする  |\n",
    "|  paste cells below  |  カットまたはコピーしたセルを貼り付ける  |\n",
    "|  move selected cells up  |  選択したセルを1つ上に移動させる  |\n",
    "|  move selected cells down  |  選択したセルを1つ下に移動させる  |\n",
    "|  ▶Run  |  選択したセルの実行  |\n",
    "|  interrupt the kernel  |  実行中のセルの停止 |\n",
    "|  restart the kernel  |  停止したセルの再実行 |\n",
    "|  re-run the hole notebook  |  ノートブック全体の再実行 |\n",
    "|  cell type  |  選択したセルのタイプ変更 |\n",
    "|  command palette  |  Jupyter Notebookの操作一覧 |"
   ]
  },
  {
   "cell_type": "markdown",
   "id": "a7cd5e12",
   "metadata": {},
   "source": [
    "## キーボードによるショートカット\n",
    "\n",
    "---\n",
    "\n",
    "メニューバーやボタンによる操作の一部は、キーボード操作でショートカットすることもできる。"
   ]
  },
  {
   "cell_type": "markdown",
   "id": "0b3a47eb",
   "metadata": {},
   "source": [
    "| &nbsp;&nbsp; 機能 &nbsp;&nbsp; | &nbsp;&nbsp; ショートカット &nbsp;&nbsp; |\n",
    "| :---- | :---- |\n",
    "| コマンドモード | セルを選択して ```Esc``` キー |\n",
    "| エディターモード | セルを選択して ```Enter``` キー |\n",
    "|  上書き保存  | コマンドモードで ```Ctrl``` + ```S```  |\n",
    "|  上下のセルに移動  |  コマンドモードで```↑```or```↓``` |\n",
    "|  セルの実行  |  コマンドモードで```Ctrl```+```Enter```  |\n",
    "|  上にセルを追加  |  コマンドモードで```A```  |\n",
    "|  下にセルを追加  |  コマンドモードで```B```  |\n",
    "|  セルの削除  |  コマンドモードで```D```を2回押す  |"
   ]
  },
  {
   "cell_type": "markdown",
   "id": "4e8b8a3b",
   "metadata": {},
   "source": [
    "これで基本説明は終了だ。\n",
    "\n",
    "次回からは、どんどん基本的な関数を覚えて、コーディングの世界へ踏み出していこう！"
   ]
  },
  {
   "cell_type": "code",
   "execution_count": null,
   "id": "d632a72f",
   "metadata": {},
   "outputs": [],
   "source": []
  }
 ],
 "metadata": {
  "kernelspec": {
   "display_name": "avilen-ml3",
   "language": "python",
   "name": "python3"
  },
  "language_info": {
   "codemirror_mode": {
    "name": "ipython",
    "version": 3
   },
   "file_extension": ".py",
   "mimetype": "text/x-python",
   "name": "python",
   "nbconvert_exporter": "python",
   "pygments_lexer": "ipython3",
   "version": "3.9.7"
  },
  "vscode": {
   "interpreter": {
    "hash": "f25b26b4ea7004765cfa1e96cf36e4bfdb1569f2ca834d9e6ec0cf32829ced3d"
   }
  }
 },
 "nbformat": 4,
 "nbformat_minor": 5
}
