{
 "cells": [
  {
   "cell_type": "markdown",
   "id": "c5907807",
   "metadata": {
    "id": "c5907807"
   },
   "source": [
    "# 10. データ型と関数\n",
    "---\n",
    "\n",
    "Pythonには、特定のデータ型にしか適用できない関数がある。\n",
    "\n",
    "今回はそれらの関数をいくつか紹介しよう。"
   ]
  },
  {
   "cell_type": "markdown",
   "id": "ac268880",
   "metadata": {
    "id": "ac268880"
   },
   "source": [
    "### split関数\n",
    "\n",
    "`split()`は文字型にのみ使用できる。\n",
    "\n",
    "()の中には文字が入り、指定された文字で文字列を区切ることができる。"
   ]
  },
  {
   "cell_type": "code",
   "execution_count": null,
   "id": "bddf8746",
   "metadata": {
    "id": "bddf8746"
   },
   "outputs": [],
   "source": [
    "sample = \"会員になるためには、氏名、住所、性別、電話番号を伝えなければならない。\"\n",
    "\n",
    "sample.split(\"、\")"
   ]
  },
  {
   "cell_type": "markdown",
   "id": "c6014030",
   "metadata": {
    "id": "c6014030"
   },
   "source": [
    "このように結果は区切った文字列のリストになる。"
   ]
  },
  {
   "cell_type": "markdown",
   "id": "fad4b9d1",
   "metadata": {
    "id": "fad4b9d1"
   },
   "source": [
    "### sort関数\n",
    "\n",
    "`sort()`はリストの要素を並び替えられる。"
   ]
  },
  {
   "cell_type": "code",
   "execution_count": null,
   "id": "20379968",
   "metadata": {
    "id": "20379968"
   },
   "outputs": [],
   "source": [
    "org_list = [3, 1, 4, 5, 2]\n",
    "\n",
    "org_list.sort()\n",
    "\n",
    "print(org_list)"
   ]
  },
  {
   "cell_type": "markdown",
   "id": "59b68756",
   "metadata": {
    "id": "59b68756"
   },
   "source": [
    "デフォルトは昇順。降順にソートしたい場合は引数reverseをTrueとする。"
   ]
  },
  {
   "cell_type": "code",
   "execution_count": null,
   "id": "59adb063",
   "metadata": {
    "id": "59adb063"
   },
   "outputs": [],
   "source": [
    "org_list.sort(reverse=True)\n",
    "\n",
    "print(org_list)"
   ]
  },
  {
   "cell_type": "markdown",
   "id": "754e981c",
   "metadata": {
    "id": "754e981c"
   },
   "source": [
    "ちなみに`sort`は文字列のリストもアルファベット順、五十音順にソートできる。"
   ]
  },
  {
   "cell_type": "code",
   "execution_count": null,
   "id": "2c20c61c",
   "metadata": {
    "id": "2c20c61c"
   },
   "outputs": [],
   "source": [
    "sample1 = [\"banana\",\"apple\",\"orange\",\"peach\",\"lemon\"]\n",
    "\n",
    "sample1.sort()\n",
    "\n",
    "print(sample1)"
   ]
  },
  {
   "cell_type": "code",
   "execution_count": null,
   "id": "f8cac81a",
   "metadata": {
    "id": "f8cac81a"
   },
   "outputs": [],
   "source": [
    "sample2 = [\"みどり\",\"あか\",\"きいろ\",\"むらさき\"]\n",
    "\n",
    "sample2.sort()\n",
    "\n",
    "print(sample2)"
   ]
  },
  {
   "cell_type": "code",
   "execution_count": null,
   "id": "f0674bd6",
   "metadata": {
    "id": "f0674bd6"
   },
   "outputs": [],
   "source": []
  }
 ],
 "metadata": {
  "colab": {
   "provenance": []
  },
  "kernelspec": {
   "display_name": "Python 3",
   "language": "python",
   "name": "python3"
  },
  "language_info": {
   "codemirror_mode": {
    "name": "ipython",
    "version": 3
   },
   "file_extension": ".py",
   "mimetype": "text/x-python",
   "name": "python",
   "nbconvert_exporter": "python",
   "pygments_lexer": "ipython3",
   "version": "3.8.9"
  },
  "vscode": {
   "interpreter": {
    "hash": "31f2aee4e71d21fbe5cf8b01ff0e069b9275f58929596ceb00d14d90e3e16cd6"
   }
  }
 },
 "nbformat": 4,
 "nbformat_minor": 5
}
