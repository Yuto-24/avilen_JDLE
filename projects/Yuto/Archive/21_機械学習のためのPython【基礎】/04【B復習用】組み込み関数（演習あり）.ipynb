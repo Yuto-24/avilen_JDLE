{
 "cells": [
  {
   "cell_type": "markdown",
   "id": "04542143",
   "metadata": {
    "id": "04542143"
   },
   "source": [
    "# 組み込み関数\n",
    "\n",
    "この章ではプログラミングの便利ツール**組み込み関数**について勉強しよう！  \n",
    "組み込み関数：難しい操作無しで利用できる関数のこと。(例：print())  \n",
    "\n",
    "**プログラミングでは全てを1から作る必要はない。先人のプログラムをうまく利用しよう**\n",
    "\n",
    "というわけで、代表的な組み込み関数を実際に使ってみよう。\n"
   ]
  },
  {
   "cell_type": "markdown",
   "id": "7164a411",
   "metadata": {
    "id": "7164a411"
   },
   "source": [
    "## 1. 型の確認と変換\n",
    "\n",
    "プログラミングでは変数の型を変換しなければならない場合がある。\n",
    "\n",
    "以下の例を実行して体験してみよう。\n",
    "\n",
    "【例題1-1】まず、以下のように宣言した数字は、文字列と数値のどちらの型か確認しよう。"
   ]
  },
  {
   "cell_type": "code",
   "execution_count": null,
   "id": "70124f44",
   "metadata": {
    "id": "70124f44"
   },
   "outputs": [],
   "source": []
  },
  {
   "cell_type": "markdown",
   "id": "31e32c40",
   "metadata": {
    "id": "31e32c40"
   },
   "source": [
    "変数の型を確認するには type() を使う。\n",
    "\n",
    "int,float,str,boolなどが出力されるはずだ。"
   ]
  },
  {
   "cell_type": "markdown",
   "id": "fc87f8db",
   "metadata": {
    "id": "fc87f8db"
   },
   "source": [
    "### 型の変換\n",
    "\n",
    "【例題1-2】次のプログラムを実行して、文字列から数値への変換方法と数値から文字列への変換方法を学んでみよう。"
   ]
  },
  {
   "cell_type": "code",
   "execution_count": null,
   "id": "9ad73fd5",
   "metadata": {
    "id": "9ad73fd5"
   },
   "outputs": [],
   "source": []
  },
  {
   "cell_type": "markdown",
   "id": "1c2350e4",
   "metadata": {
    "id": "1c2350e4"
   },
   "source": [
    "```\n",
    "int(a)    <-- 変換したい変数をint()内に入れることでint型(整数型)に変換できる。\n",
    "float(b)  <-- 変換したい変数をfloat()内に入れることでfloat型(浮動小数点数型)に変換できる。\n",
    "str(c)    <-- 変換したい変数をstr()内に入れることでstr型(文字列型)に変換できる。\n",
    "```"
   ]
  },
  {
   "cell_type": "markdown",
   "id": "b5a3e8f5",
   "metadata": {
    "id": "b5a3e8f5"
   },
   "source": [
    "**補足：**小数型を整数型に変換する場合、以下の2種類の方法をよく用いる。\n",
    "- 小数を切り捨て：**int(変数)**\n",
    "- 四捨五入：**round(変数)**"
   ]
  },
  {
   "cell_type": "markdown",
   "id": "c22274a1",
   "metadata": {
    "id": "c22274a1"
   },
   "source": [
    "## 2. len(),min(),max(),sum()\n",
    "\n",
    "それでは、さまざまな組み込み関数を使ってみよう。\n",
    "\n",
    "【例題2-1】lenを使ってみよう。"
   ]
  },
  {
   "cell_type": "code",
   "execution_count": null,
   "id": "dc7ad573",
   "metadata": {
    "id": "dc7ad573"
   },
   "outputs": [],
   "source": []
  },
  {
   "cell_type": "markdown",
   "id": "cfbc8bd9",
   "metadata": {
    "id": "cfbc8bd9"
   },
   "source": [
    "len()はstr型に対しては文字数をカウントする組み込み関数である。"
   ]
  },
  {
   "cell_type": "code",
   "execution_count": null,
   "id": "1343f458",
   "metadata": {
    "id": "1343f458"
   },
   "outputs": [],
   "source": []
  },
  {
   "cell_type": "markdown",
   "id": "db5f3208",
   "metadata": {
    "id": "db5f3208"
   },
   "source": [
    "上記のように、intやfloatに対してlen()を使うとエラーになる。"
   ]
  },
  {
   "cell_type": "code",
   "execution_count": null,
   "id": "25e5b525",
   "metadata": {
    "id": "25e5b525"
   },
   "outputs": [],
   "source": []
  },
  {
   "cell_type": "markdown",
   "id": "f1f8f48b",
   "metadata": {
    "id": "f1f8f48b"
   },
   "source": [
    "listに対するlen()は、リストの要素数を返す関数となる。"
   ]
  },
  {
   "cell_type": "markdown",
   "id": "0ad7214f",
   "metadata": {
    "id": "0ad7214f"
   },
   "source": [
    "【例題2-2】min、maxを使ってみよう"
   ]
  },
  {
   "cell_type": "code",
   "execution_count": null,
   "id": "8c90d833",
   "metadata": {
    "id": "8c90d833"
   },
   "outputs": [],
   "source": []
  },
  {
   "cell_type": "markdown",
   "id": "b919ae08",
   "metadata": {
    "id": "b919ae08"
   },
   "source": [
    "- minは要素の中で最小値を取得する組み込み関数である  \n",
    "  + アルファベットでは`A`が最小値になる\n",
    "- maxは要素の中で最大値を取得する組み込み関数である\n",
    "  + アルファベットでは`Z`が最大値になる。 \n",
    "\n",
    "**注意** \n",
    "- len()の中に数値を入れるとエラーが起きるので注意しよう。\n",
    "- min()とmax()の中に数値と文字列を混在させるとエラーが起きるので注意しよう。"
   ]
  },
  {
   "cell_type": "markdown",
   "id": "4983d6d1",
   "metadata": {
    "id": "4983d6d1"
   },
   "source": [
    "リストに対してmin()/max()を使ってみよう。"
   ]
  },
  {
   "cell_type": "code",
   "execution_count": null,
   "id": "38f0b437",
   "metadata": {
    "id": "38f0b437"
   },
   "outputs": [],
   "source": []
  },
  {
   "cell_type": "markdown",
   "id": "8035bc5a",
   "metadata": {
    "id": "8035bc5a"
   },
   "source": [
    "リストに対しては、そのリストの中の最大値・最小値を返す関数になる。"
   ]
  },
  {
   "cell_type": "markdown",
   "id": "c9fe7a96",
   "metadata": {
    "id": "c9fe7a96"
   },
   "source": [
    "【例題2-3】sumを使ってみよう"
   ]
  },
  {
   "cell_type": "code",
   "execution_count": null,
   "id": "dd75f317",
   "metadata": {
    "id": "dd75f317",
    "scrolled": true
   },
   "outputs": [],
   "source": []
  },
  {
   "cell_type": "code",
   "execution_count": null,
   "id": "2302c3b9",
   "metadata": {
    "id": "2302c3b9"
   },
   "outputs": [],
   "source": []
  },
  {
   "cell_type": "markdown",
   "id": "4c62cef4",
   "metadata": {
    "id": "4c62cef4"
   },
   "source": [
    "sumはリストに対して使用できる関数で、リスト内の要素を全て足した結果を返す。\n",
    "\n",
    "文字列リストに対しては使用するとエラーになる。"
   ]
  },
  {
   "cell_type": "code",
   "execution_count": null,
   "id": "38265452",
   "metadata": {
    "id": "38265452"
   },
   "outputs": [],
   "source": []
  },
  {
   "cell_type": "markdown",
   "id": "8cc6ad09",
   "metadata": {
    "id": "8cc6ad09"
   },
   "source": [
    "【問題】じゅげむはひらがなで書くと何文字なのか調べたい。  \n",
    "変数`jugemu`に名前を書いておいたので組み込み関数を用いて何文字か出力せよ。"
   ]
  },
  {
   "cell_type": "code",
   "execution_count": null,
   "id": "1d3d74be",
   "metadata": {
    "id": "1d3d74be"
   },
   "outputs": [],
   "source": [
    "# 【問題】を回答する前に実行してください。\n",
    "jugemu = \"じゅげむじゅげむごこうのすりきれかいじゃりすいぎょのすいぎょうまつうんらいまつふうらいまつくうねるところにすむところやぶらこうじのぶらこうじぱいぽぱいぽぱいぽのしゅーりんがんしゅーりんがんのぐーりんだいぐーりんだいのぽんぽこぴーのぽんぽこなーのちょうきゅうめいのちょうすけ\""
   ]
  },
  {
   "attachments": {},
   "cell_type": "markdown",
   "id": "2ad74fdc",
   "metadata": {},
   "source": [
    "回答欄は以下です。"
   ]
  },
  {
   "cell_type": "markdown",
   "id": "390c0b18",
   "metadata": {},
   "source": []
  }
 ],
 "metadata": {
  "colab": {
   "provenance": []
  },
  "kernelspec": {
   "display_name": "Python 3",
   "language": "python",
   "name": "python3"
  },
  "language_info": {
   "codemirror_mode": {
    "name": "ipython",
    "version": 3
   },
   "file_extension": ".py",
   "mimetype": "text/x-python",
   "name": "python",
   "nbconvert_exporter": "python",
   "pygments_lexer": "ipython3",
   "version": "3.8.9"
  },
  "vscode": {
   "interpreter": {
    "hash": "31f2aee4e71d21fbe5cf8b01ff0e069b9275f58929596ceb00d14d90e3e16cd6"
   }
  }
 },
 "nbformat": 4,
 "nbformat_minor": 5
}
