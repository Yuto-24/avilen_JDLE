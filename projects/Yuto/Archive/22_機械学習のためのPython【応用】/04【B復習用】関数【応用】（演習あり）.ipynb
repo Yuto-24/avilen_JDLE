{
 "cells": [
  {
   "cell_type": "markdown",
   "id": "523e5f96",
   "metadata": {
    "id": "523e5f96"
   },
   "source": [
    "# 関数の応用\n",
    "\n",
    "この章では、基礎編で作った年齢・曜日から入場料を出す関数を改良して、抽選やクーポンを取り入れてみよう。\n",
    "\n",
    "まずは基本となる関数をおさらいする。"
   ]
  },
  {
   "cell_type": "markdown",
   "id": "e05a47e6",
   "metadata": {
    "id": "e05a47e6"
   },
   "source": [
    "## 1. 関数のおさらい\n",
    "\n",
    "【例題】遊園地Yは経営難となり、休日の入場料を2割増しにした。3歳以下は無料、60歳以上は半額である。\n",
    "\n",
    "基本料金を1800円、平日を0、休日を1として、「年齢」と「曜日区分」を入力すると正しい入場料を返す関数```yomiuri3```を作ろう。"
   ]
  },
  {
   "cell_type": "code",
   "execution_count": null,
   "id": "757f6c61",
   "metadata": {
    "id": "757f6c61"
   },
   "outputs": [],
   "source": []
  },
  {
   "cell_type": "markdown",
   "id": "c7d4ff5a",
   "metadata": {
    "id": "c7d4ff5a"
   },
   "source": [
    "このようにif文と`elif`や`else`などを組み合わせて、複雑な条件分岐の関数を作った。ここからさらに高度にしていこう。"
   ]
  },
  {
   "cell_type": "markdown",
   "id": "7c434a3f",
   "metadata": {
    "id": "7c434a3f"
   },
   "source": [
    "## 2. キャンペーンの導入(抽選とクーポン)\n",
    "\n",
    "【例題】遊園地Yでは、入場者は1/10の確率で当たるくじを引き、当選者にクーポンを配布するキャンペーンを開始した。\n",
    "\n",
    "くじの当選有無も出力できるように関数`yomiuri`を改良しよう。"
   ]
  },
  {
   "cell_type": "markdown",
   "id": "5f8c100b",
   "metadata": {
    "id": "5f8c100b"
   },
   "source": [
    "### 複数の返り値を持つ関数\n",
    "\n",
    "関数を作る際は、入力と出力の確認が大切だ。\n",
    "\n",
    "今回の関数では、入力は「年齢」と「平日か休日か」という変数。\n",
    "\n",
    "出力は「入場料」と「クーポンの当選有無」になっている。\n",
    "\n",
    "このように出力、つまり返り値が複数ある場合は、関数の記述方法が少し変わる。\n",
    "\n",
    "以下の簡単な例を見てみよう。"
   ]
  },
  {
   "cell_type": "code",
   "execution_count": null,
   "id": "f7d902a0",
   "metadata": {
    "id": "f7d902a0"
   },
   "outputs": [],
   "source": []
  },
  {
   "cell_type": "code",
   "execution_count": null,
   "id": "d42d2230",
   "metadata": {
    "id": "d42d2230"
   },
   "outputs": [],
   "source": []
  },
  {
   "cell_type": "markdown",
   "id": "ec5b08ec",
   "metadata": {
    "id": "ec5b08ec"
   },
   "source": [
    "このように、returnの部分にカンマ区切りで出力したい値を並べていけばよい。\n",
    "\n",
    "返り値はリスト形式で与えられるため、インデックスを指定して片方のみの返り値を呼び出すこともできる。"
   ]
  },
  {
   "cell_type": "code",
   "execution_count": null,
   "id": "aca03b99",
   "metadata": {
    "id": "aca03b99"
   },
   "outputs": [],
   "source": []
  },
  {
   "cell_type": "code",
   "execution_count": null,
   "id": "911e6a7a",
   "metadata": {
    "id": "911e6a7a"
   },
   "outputs": [],
   "source": []
  },
  {
   "cell_type": "markdown",
   "id": "af82e81a",
   "metadata": {
    "id": "af82e81a"
   },
   "source": [
    "このように2つ以上の要素が組み合わさって出力されたものを「タプル」と呼ぶ。\n",
    "\n",
    "当選有無の出力はこれで解決できそうだ。"
   ]
  },
  {
   "cell_type": "markdown",
   "id": "97028f83",
   "metadata": {
    "id": "97028f83"
   },
   "source": [
    "### 抽選の実装：random\n",
    "\n",
    "次に、抽選部分をコーディングしていく。ここでは`random`というライブラリを使用する。\n",
    "\n",
    "`random.random()`という関数では、乱数によってランダムな値を算出することができる。\n",
    "\n",
    "以下のセルを何度か実行してみよう。異なる値を出力するはずだ。"
   ]
  },
  {
   "cell_type": "code",
   "execution_count": null,
   "id": "49f5a98a",
   "metadata": {
    "id": "49f5a98a"
   },
   "outputs": [],
   "source": []
  },
  {
   "cell_type": "markdown",
   "id": "204fbf73",
   "metadata": {
    "id": "204fbf73"
   },
   "source": [
    "この`random.random()`という関数では0.0～1.0までの値がランダムで出力できる。\n",
    "\n",
    "ということは、「乱数の値が0.1以下になる」という条件にすれば、1/10の確率での当選を実装できるということになる。"
   ]
  },
  {
   "cell_type": "markdown",
   "id": "4b188d17",
   "metadata": {
    "id": "4b188d17"
   },
   "source": [
    "【問題】乱数の値が0.1以下なら「当選！」で、それ以下なら「残念…」と出力するプログラムを作成しよう。"
   ]
  },
  {
   "cell_type": "code",
   "execution_count": null,
   "id": "280dde7b",
   "metadata": {
    "id": "280dde7b"
   },
   "outputs": [],
   "source": []
  },
  {
   "cell_type": "markdown",
   "id": "1c701b71",
   "metadata": {
    "id": "1c701b71"
   },
   "source": [
    "こうすると、抽選機能を実装できたことになる。あとはこれをもとの関数に組み込むだけだ。"
   ]
  },
  {
   "cell_type": "code",
   "execution_count": null,
   "id": "e668d1da",
   "metadata": {
    "id": "e668d1da"
   },
   "outputs": [],
   "source": []
  },
  {
   "cell_type": "markdown",
   "id": "33d5dfc0",
   "metadata": {
    "id": "33d5dfc0"
   },
   "source": [
    "【問題】さまざまな条件で関数`yomiuri2`を試してみよう"
   ]
  },
  {
   "cell_type": "code",
   "execution_count": null,
   "id": "a5e915b8",
   "metadata": {
    "id": "a5e915b8"
   },
   "outputs": [],
   "source": []
  },
  {
   "cell_type": "code",
   "execution_count": null,
   "id": "831dfb68",
   "metadata": {
    "id": "831dfb68"
   },
   "outputs": [],
   "source": []
  },
  {
   "cell_type": "code",
   "execution_count": null,
   "id": "b1475dbb",
   "metadata": {
    "id": "b1475dbb"
   },
   "outputs": [],
   "source": []
  },
  {
   "cell_type": "markdown",
   "id": "9a7d43ea",
   "metadata": {
    "id": "9a7d43ea"
   },
   "source": [
    "これを応用することで、当選確率を自由に操作できる。最後の問題としてやってみよう。"
   ]
  },
  {
   "cell_type": "markdown",
   "id": "799f1e5b",
   "metadata": {
    "id": "799f1e5b"
   },
   "source": [
    "【問題】当選確率`p`を引数に組み込み、自由に設定できる関数`yomiuri3`を作ろう"
   ]
  },
  {
   "cell_type": "code",
   "execution_count": null,
   "id": "535f8363",
   "metadata": {
    "id": "535f8363"
   },
   "outputs": [],
   "source": []
  },
  {
   "cell_type": "code",
   "execution_count": null,
   "id": "e8f1fa27",
   "metadata": {
    "id": "e8f1fa27"
   },
   "outputs": [],
   "source": []
  },
  {
   "cell_type": "code",
   "execution_count": null,
   "id": "e28f2bab",
   "metadata": {
    "id": "e28f2bab"
   },
   "outputs": [],
   "source": []
  },
  {
   "cell_type": "markdown",
   "id": "ce075a63",
   "metadata": {
    "id": "ce075a63"
   },
   "source": [
    "#### 補足\n",
    "\n",
    "当選確率は動かせるが、あまり頻繁には動かさない場合、関数の引数部分にデフォルトの値を設定できる。\n",
    "\n",
    "こうすると、pを設定せずに関数を使用した場合にデフォルトの値が参照される。\n",
    "\n",
    "関数を作る際にたまに使用するので、ぜひ覚えておこう。"
   ]
  },
  {
   "cell_type": "code",
   "execution_count": null,
   "id": "6f5c0f90",
   "metadata": {
    "id": "6f5c0f90"
   },
   "outputs": [],
   "source": []
  }
 ],
 "metadata": {
  "colab": {
   "provenance": []
  },
  "kernelspec": {
   "display_name": "avilen-ml3",
   "language": "python",
   "name": "python3"
  },
  "language_info": {
   "codemirror_mode": {
    "name": "ipython",
    "version": 3
   },
   "file_extension": ".py",
   "mimetype": "text/x-python",
   "name": "python",
   "nbconvert_exporter": "python",
   "pygments_lexer": "ipython3",
   "version": "3.9.7"
  },
  "vscode": {
   "interpreter": {
    "hash": "f25b26b4ea7004765cfa1e96cf36e4bfdb1569f2ca834d9e6ec0cf32829ced3d"
   }
  }
 },
 "nbformat": 4,
 "nbformat_minor": 5
}
