{
 "cells": [
  {
   "cell_type": "markdown",
   "metadata": {
    "id": "K4rNP15WiSb0"
   },
   "source": [
    "# 3. MLP基礎（バッチ編）解説\n",
    "\n",
    "## 概要\n",
    "本演習ではChapter03で学習した、深層学習の基礎である多層パーセプトロン(バッチ処理)を穴埋め形式で実装しました。<br>\n",
    "演習問題文は<font color=\"Red\">赤字</font>で表示されています。<br>\n"
   ]
  },
  {
   "cell_type": "markdown",
   "metadata": {
    "id": "53-fK-rCigZj"
   },
   "source": [
    "## ライブラリのインポート\n",
    "必要なライブラリをインポートします。エラーになる場合は該当するものをインストールしてください。"
   ]
  },
  {
   "cell_type": "code",
   "execution_count": null,
   "metadata": {
    "id": "mhmMg1Tm4-No"
   },
   "outputs": [],
   "source": [
    "import os\n",
    "import pickle\n",
    "import numpy as np\n",
    "import matplotlib.pyplot as plt\n",
    "from sklearn import datasets\n",
    "from sklearn.model_selection import train_test_split\n",
    "%matplotlib inline\n",
    "# 乱数シードを指定\n",
    "np.random.seed(seed=0)"
   ]
  },
  {
   "cell_type": "markdown",
   "metadata": {
    "id": "qEVmRItwixT6"
   },
   "source": [
    "今回もデータセットとしてMNISTを使用し、`sklearn`の`train_test_split`を用いて訓練データ:テストデータ = 8:2 に分割します。"
   ]
  },
  {
   "cell_type": "code",
   "execution_count": null,
   "metadata": {
    "id": "PNZiXc3k4-Np"
   },
   "outputs": [],
   "source": [
    "if os.path.exists('mnist_784'):\n",
    "    with open('mnist_784','rb') as f:\n",
    "        mnist = pickle.load(f)\n",
    "else:\n",
    "    mnist = datasets.fetch_openml('mnist_784', as_frame=False)\n",
    "    with open('mnist_784', 'wb') as f:\n",
    "        pickle.dump(mnist, f)\n",
    "# 画像とラベルを取得\n",
    "X, T = mnist.data, mnist.target\n",
    "# 訓練データとテストデータに分割\n",
    "x_train, x_test, t_train, t_test = train_test_split(X, T, test_size=0.2)\n",
    "\n",
    "# ラベルデータをint型にし、one-hot-vectorに変換します\n",
    "t_train = np.eye(10)[t_train.astype(\"int\")]\n",
    "t_test = np.eye(10)[t_test.astype(\"int\")]"
   ]
  },
  {
   "cell_type": "markdown",
   "metadata": {
    "id": "vtF2C1hgi2Tm"
   },
   "source": [
    "## 最適化・バッチ正規化・ミニバッチ学習（スクラッチ）"
   ]
  },
  {
   "cell_type": "markdown",
   "metadata": {
    "id": "T_omxwsHi58L"
   },
   "source": [
    "### データのサンプリング\n",
    "画像・ラベルデータをランダムにいくつか取り出して可視化します。\n",
    "画像は784要素の1次元ベクトルとしてXに格納されていますが、画像として表示するときは28x28の二次元にreshapeします。"
   ]
  },
  {
   "cell_type": "code",
   "execution_count": null,
   "metadata": {
    "colab": {
     "base_uri": "https://localhost:8080/",
     "height": 813
    },
    "executionInfo": {
     "elapsed": 1196,
     "status": "ok",
     "timestamp": 1646038605836,
     "user": {
      "displayName": "渡部加奈子",
      "photoUrl": "https://lh3.googleusercontent.com/a/default-user=s64",
      "userId": "05971868818213540626"
     },
     "user_tz": -540
    },
    "id": "m9SAX4TTi8if",
    "outputId": "f2ebef48-ad37-403b-f569-7a818c964aaf"
   },
   "outputs": [
    {
     "data": {
      "image/png": "[encoded data removed]",
      "text/plain": [
       "<Figure size 432x288 with 1 Axes>"
      ]
     },
     "metadata": {
      "needs_background": "light"
     },
     "output_type": "display_data"
    },
    {
     "name": "stdout",
     "output_type": "stream",
     "text": [
      "Label:  2\n"
     ]
    },
    {
     "data": {
      "image/png": "[encoded data removed]",
      "text/plain": [
       "<Figure size 432x288 with 1 Axes>"
      ]
     },
     "metadata": {
      "needs_background": "light"
     },
     "output_type": "display_data"
    },
    {
     "name": "stdout",
     "output_type": "stream",
     "text": [
      "Label:  1\n"
     ]
    },
    {
     "data": {
      "image/png": "[encoded data removed]",
      "text/plain": [
       "<Figure size 432x288 with 1 Axes>"
      ]
     },
     "metadata": {
      "needs_background": "light"
     },
     "output_type": "display_data"
    },
    {
     "name": "stdout",
     "output_type": "stream",
     "text": [
      "Label:  8\n"
     ]
    }
   ],
   "source": [
    "# テストデータをランダムサンプリング\n",
    "perm = np.random.permutation(len(x_test))\n",
    "# サンプル画像を表示する\n",
    "plt.gray()\n",
    "for i in perm[:3]:\n",
    "    plt.imshow(x_test[perm[i]].reshape(28, 28))\n",
    "    plt.show()\n",
    "    print('Label: ', np.argmax(t_test[perm[i]]))"
   ]
  },
  {
   "cell_type": "markdown",
   "metadata": {
    "id": "cXonGfuc4-Nq"
   },
   "source": [
    "## Optimizerの実装"
   ]
  },
  {
   "cell_type": "markdown",
   "metadata": {
    "id": "vAvY1Yy64-Nq"
   },
   "source": [
    "\n",
    "<font color=\"Red\">問1. 確率的勾配降下法を用いたOptimizerのクラス SGD を完成させてください。</font><br>\n",
    "SGDの特徴は、データを変えることによって、損失関数自体を確率的に変えられる点です。これによって、パラメータは同じであっても、勾配の向きを確率的に変えることができます。\n",
    "この問題ではSGDのコードを回答してください。"
   ]
  },
  {
   "cell_type": "code",
   "execution_count": null,
   "metadata": {
    "id": "uvKdEoGS4-Nq"
   },
   "outputs": [],
   "source": [
    "class SGD:\n",
    "\n",
    "    def __init__(self, lr=0.01):\n",
    "        self.lr = lr\n",
    "        \n",
    "    def update(self, params, grads):\n",
    "        for key in params.keys():\n",
    "            params[key] -= self.lr * grads[key] ### 問1 ###"
   ]
  },
  {
   "cell_type": "markdown",
   "metadata": {
    "id": "-zUYXXBW4-Nr"
   },
   "source": [
    "#### <font color=\"Red\">問1 解説</font>\n",
    "\n",
    "SGDでは、学習係数```lr```と勾配値```grad```を用いて、パラメータ```params```<font color=\"lightblue\">を</font>更新することが目的です。\n",
    "\n",
    "また、SGDによるパラメータの更新の式は以下の通りになります。\n",
    "\n",
    "$$ \\text{params} = \\text{params} - lr * \\text{grad} $$\n",
    "\n",
    "これをコードで表現すると、以下の通りになります。\n",
    "\n",
    "\n",
    "```\n",
    "params = params - self.lr * grads\n",
    "```\n",
    "\n",
    "しかし、上記のコードの場合```params```が2度出てきてしまい、少しくどい気がするかと思います。そこで、次のような表現を用いても同じ意味を表すことができます。\n",
    "\n",
    "```\n",
    "params -= self.lr * grads\n",
    "```\n",
    "\n",
    "```-=```を用いることで、```params```を1回のみ使って表すことができました。慣れてきたら是非こちらの方法も使ってみてください。今回はせっかくなので```params -= self.lr * grads```を使って説明します。\n",
    "\n",
    "また、これを```params```及び```grads```が持つキーごとに行うため\n",
    "\n",
    "```\n",
    "for key in params.keys():\n",
    "    params[key] -= self.lr * grads[key] \n",
    "```\n",
    "\n",
    "となります。```params.keys()```を用いることで、```params```が持つキー（```{\"ID\":0001}```の```ID```の部分）をリストとして全て取得することができます。そして、リストの要素を１つずつ取得しているのが```key```となります。\n",
    "\n",
    "これに加えて、```lr```の定義やパラメータを更新するメソッドなどを作成することで完成します。\n",
    "\n",
    "従って、答えは以下の通りになります。\n",
    "\n",
    "```\n",
    "class SGD:\n",
    "\n",
    "    def __init__(self, lr=0.01):\n",
    "        self.lr = lr\n",
    "        \n",
    "    def update(self, params, grads):\n",
    "        for key in params.keys():\n",
    "            params[key] -= self.lr * grads[key] \n",
    "```"
   ]
  },
  {
   "cell_type": "markdown",
   "metadata": {
    "id": "5Fe5Y3l44-Ns"
   },
   "source": [
    "<font color=\"Red\">問2. Adamクラス を完成させてください。</font><br>\n",
    "\n",
    "Adamの特徴としてハイパーパラメータのバイアス補正(偏りの補正)が行われることが挙げられます。書籍『ゼロから作るDeepLearning』の配布コードは簡易版のため、バイアス補正を組み込んでいません。<br>\n",
    "この問題ではバイアス補正を組み込んだ完成形のAdamコードについて回答してください。また、過去のE資格試験ではこちらの完成形のAdamコードが出題されています。"
   ]
  },
  {
   "cell_type": "code",
   "execution_count": null,
   "metadata": {
    "id": "uF07KF6B4-Ns"
   },
   "outputs": [],
   "source": [
    "class Adam:\n",
    "\n",
    "    def __init__(self, lr=0.001, beta1=0.9, beta2=0.999):\n",
    "        self.lr = lr\n",
    "        self.beta1 = beta1\n",
    "        self.beta2 = beta2\n",
    "        self.iter = 0\n",
    "        self.m = None\n",
    "        self.v = None\n",
    "        \n",
    "    def update(self, params, grads):\n",
    "        if self.m is None:\n",
    "            self.m, self.v = {}, {}\n",
    "            for key, val in params.items():\n",
    "                self.m[key] = np.zeros_like(val)\n",
    "                self.v[key] = np.zeros_like(val)\n",
    "        \n",
    "        self.iter += 1\n",
    "        \n",
    "        for key in params.keys():\n",
    "            self.m[key] = self.beta1 * self.m[key] + (1 - self.beta1) * grads[key]###### 問2-1 ######\n",
    "            self.v[key] = self.beta2 * self.v[key] + (1 - self.beta2) * grads[key]**2###### 問2-2 ######\n",
    "            m_unbias = self.m[key] / (1-self.beta1 ** self.iter)###### 問2-3 ######\n",
    "            v_unbias = self.v[key] / (1-self.beta2 ** self.iter)###### 問2-4 ######\n",
    "            params[key] -= self.lr * m_unbias / (np.sqrt(v_unbias) + 1e-7)\n",
    "\n",
    "\"\"\"\n",
    "以下、ゼロから作るDeepLearningに記載されているコードです。\n",
    "class Adam:\n",
    "\n",
    "    def __init__(self, lr=0.001, beta1=0.9, beta2=0.999):\n",
    "        self.lr = lr\n",
    "        self.beta1 = beta1\n",
    "        self.beta2 = beta2\n",
    "        self.iter = 0\n",
    "        self.m = None\n",
    "        self.v = None\n",
    "        \n",
    "    def update(self, params, grads):\n",
    "        if self.m is None:\n",
    "            self.m, self.v = {}, {}\n",
    "            for key, val in params.items():\n",
    "                self.m[key] = np.zeros_like(val)\n",
    "                self.v[key] = np.zeros_like(val)\n",
    "        \n",
    "        self.iter += 1\n",
    "        lr_t  = self.lr * np.sqrt(1.0 - self.beta2**self.iter) / (1.0 - self.beta1**self.iter)         \n",
    "        \n",
    "        for key in params.keys():\n",
    "            #self.m[key] = self.beta1*self.m[key] + (1-self.beta1)*grads[key]\n",
    "            #self.v[key] = self.beta2*self.v[key] + (1-self.beta2)*(grads[key]**2)\n",
    "            self.m[key] += (1 - self.beta1) * (grads[key] - self.m[key])\n",
    "            self.v[key] += (1 - self.beta2) * (grads[key]**2 - self.v[key])\n",
    "            \n",
    "            params[key] -= lr_t * self.m[key] / (np.sqrt(self.v[key]) + 1e-7)\n",
    "            \n",
    "            #unbias_m += (1 - self.beta1) * (grads[key] - self.m[key]) # correct bias\n",
    "            #unbisa_b += (1 - self.beta2) * (grads[key]*grads[key] - self.v[key]) # correct bias\n",
    "            #params[key] += self.lr * unbias_m / (np.sqrt(unbisa_b) + 1e-7)\n",
    "\"\"\""
   ]
  },
  {
   "cell_type": "markdown",
   "metadata": {
    "id": "-CUVgF_V4-Nt"
   },
   "source": [
    "#### <font color=\"Red\">問2 解説</font>\n",
    "\n",
    "まず、Adamの式について考えてみます。Adamの式は、講義スライドに載っているので、復習時に合わせてご覧ください。\n",
    "\n",
    "Adamではまず、```m```と```v```という２つの変数の更新を行います。\n",
    "\n",
    "```m```の更新については、ハイパーパラメータ```beta1```と勾配値```grads```を用いると次のように表現することができます。\n",
    "\n",
    "$$ m = \\text{beta1} * m + (1 - \\text{beta1}) * \\text{grad} $$\n",
    "\n",
    "上記と同じように、```v```の更新については、ハイパーパラメータ```beta2```と勾配値```grads```を用いると次のように表現することができます。\n",
    "\n",
    "$$ v = \\text{beta2} * v + (1 - \\text{beta2}) * \\text{grad}^2 $$\n",
    "\n",
    "次に、```m```と```v```のバイアスの補正について説明します。\n",
    "\n",
    "ここでは```m```のバイアス補正を```m-unbias```とします。```m```とハイパーパラメータ```iter```と```beta1```で表すと以下の通りになります。\n",
    "\n",
    "$$ \\text{m-unbias} = \\frac{m}{1 - \\text{beta1}^\\text{iter}} $$\n",
    "\n",
    "上記と同じようにして、```v```のバイアス補正を```v-unbias```とします。```v```とハイパーパラメータ```iter```と```beta2```で表すと以下の通りになります。\n",
    "\n",
    "$$ \\text{v-unbias} = \\frac{m}{1 - \\text{beta2}^\\text{iter}} $$\n",
    "\n",
    "最後に、パラメータ```params```の更新を行います。\n",
    "\n",
    "これまで求めたものとハイパーパラメータ```lr```を用いて、パラメータの更新を行うと以下の通りになります。\n",
    "\n",
    "$$ \\text{params} = \\text{params} - \\text{lr} * \\frac{\\text{m-unbias}}{\\sqrt{\\text{v-unbias}} + ϵ} $$\n",
    "\n",
    "なお、$ϵ$についてですが、$\\text{v-unbias} = 0$のとき、分母が0になることでゼロ除算することを防ぐために加えます。$ϵ$は微小値（10^(-7)など）で構いません。\n",
    "\n",
    "上記の式を算出することで、Adamによるパラメータの更新を行うことができます。\n",
    "\n",
    "これらをコードに表現することができれば、完成です。以下のようになります。\n",
    "\n",
    "```\n",
    "m = beta1 * m + (1 - beta1) * grads\n",
    "v = beta2 * v + (1 - beta2) * grads**2\n",
    "m_unbias = m / (1-beta1 ** iter)\n",
    "v_unbias = v / (1-beta2 ** iter)\n",
    "params -= lr * m_unbias / (np.sqrt(v_unbias) + ϵ)\n",
    "```\n",
    "\n",
    "あとは、定義されている形（selfをつけるなど）や```grad```や```params```などのパラメータについては、キーごとに更新するといったことなどに気をつけて修正すれば完成です。\n",
    "\n",
    "従って、答えは以下のようになります。\n",
    "\n",
    "```\n",
    "for key in params.keys():\n",
    "    self.m[key] = self.beta1 * self.m[key] + (1 - self.beta1) * grads[key]\n",
    "    self.v[key] = self.beta2 * self.v[key] + (1 - self.beta2) * grads[key]**2\n",
    "    m_unbias = self.m[key] / (1-self.beta1 ** self.iter)\n",
    "    v_unbias = self.v[key] / (1-self.beta2 ** self.iter)\n",
    "    params[key] -= self.lr * m_unbias / (np.sqrt(v_unbias) + 1e-7)\n",
    "\n",
    "# ϵ = 1e-7 (10^(-7))\n",
    "```"
   ]
  },
  {
   "cell_type": "markdown",
   "metadata": {
    "id": "LwTk_4QhkpFq"
   },
   "source": [
    "#### コスト関数\n",
    "\n",
    "多クラス分類問題なので、クロスエントロピーをコスト関数として用います。"
   ]
  },
  {
   "cell_type": "code",
   "execution_count": null,
   "metadata": {
    "id": "0gsd7CmXksTv"
   },
   "outputs": [],
   "source": [
    "def cross_entropy_error(y, t):\n",
    "    if y.ndim == 1:\n",
    "        t = t.reshape(1, t.size)\n",
    "        y = y.reshape(1, y.size)\n",
    "    if t.size == y.size:\n",
    "        t = t.argmax(axis=1)\n",
    "    batch_size = y.shape[0]\n",
    "    return -np.sum(np.log(y[np.arange(batch_size), t] + 1e-7)) / batch_size"
   ]
  },
  {
   "cell_type": "code",
   "execution_count": null,
   "metadata": {
    "id": "NOjcj8IskuLt"
   },
   "outputs": [],
   "source": [
    "def softmax(x):\n",
    "    x = x.T\n",
    "    x = x - np.max(x, axis=0)\n",
    "    x = np.exp(x) / np.sum(np.exp(x), axis=0)\n",
    "    return x.T"
   ]
  },
  {
   "cell_type": "markdown",
   "metadata": {
    "id": "9wCDFHbfkxIr"
   },
   "source": [
    "## バッチ正規化を用いないMLP\n",
    "\n",
    "まずはバッチ正規化を入れない普通の三層ニューラルネットワークを実装します。問題にはなっていませんが、chapter02の復習も兼ねてコードを読み理解しておいてください。"
   ]
  },
  {
   "cell_type": "code",
   "execution_count": null,
   "metadata": {
    "id": "qNQ6gTuskzMj"
   },
   "outputs": [],
   "source": [
    "class mnistMultiLayerNet:\n",
    "    \"\"\"\n",
    "    layer0: 784 次元の入力\n",
    "    ↓ w1, b1 で線形結合\n",
    "    ↓ relu で活性化\n",
    "    layer1: 100 次元の隠れ層\n",
    "    ↓ w2, b2 で線形結合\n",
    "    ↓ relu で活性化\n",
    "    layer2: 100 次元の隠れ層\n",
    "    ↓ w3, b3 で線形結合\n",
    "    ↓ relu で活性化\n",
    "    layer3: 100 次元の隠れ層\n",
    "    ↓ w4, b4 で線形結合\n",
    "    ↓ relu で活性化\n",
    "    layer4: 100 次元の隠れ層\n",
    "    ↓ w5, b5 で線形結合\n",
    "    layer5: 10 次元の出力層\n",
    "    \"\"\"\n",
    "    def __init__(self):\n",
    "        self.input_size = 784\n",
    "        self.output_size = 10\n",
    "        self.hidden_size_list = [100, 100, 100, 100]\n",
    "        self.all_size_list = [self.input_size] + self.hidden_size_list + [self.output_size]\n",
    "        self.hidden_layer_num = len(self.hidden_size_list)\n",
    "        self.weight_decay_lambda =0\n",
    "        self.params = {}\n",
    "        self.layers = {}\n",
    "        self.grads = {}\n",
    "\n",
    "        # 重みとバイアスの初期化\n",
    "        for idx in range(1, len(self.all_size_list)):\n",
    "            self.params['w' + str(idx)] = np.random.randn(self.all_size_list[idx-1], self.all_size_list[idx]) * 0.085\n",
    "            self.params['b' + str(idx)] = np.zeros(self.all_size_list[idx], dtype=float)\n",
    "\n",
    "        \n",
    "    def forward(self, x):\n",
    "        relu = lambda x : np.maximum(0, x)  # 活性化関数として ReLU を使用\n",
    "        self.layers['layer0'] = x\n",
    "        for idx in range(1, len(self.all_size_list) - 1):\n",
    "            w = self.params['w' + str(idx)]\n",
    "            b = self.params['b' + str(idx)]\n",
    "            x = self.layers['layer' + str(idx - 1)]\n",
    "            self.layers['layer' + str(idx)] = relu(np.dot(x, w) + b)\n",
    "        idx = len(self.all_size_list) - 1\n",
    "        w = self.params['w' + str(idx)]\n",
    "        b = self.params['b' + str(idx)]\n",
    "        x = self.layers['layer' + str(idx - 1)]\n",
    "        self.layers['layer' + str(idx)] = softmax(np.dot(x, w) + b)\n",
    "        \n",
    "        return self.layers['layer' + str(idx)]\n",
    "        \n",
    "\n",
    "    def loss(self, y, t):\n",
    "        return cross_entropy_error(y, t)\n",
    "    \n",
    "    def backward(self, t, y):\n",
    "        delta = (y - t) / t.shape[0]\n",
    "        self.grads['b5'] = np.sum(delta, axis=0)\n",
    "        self.grads['w5'] = np.dot(self.layers['layer4'].transpose(), delta)\n",
    "        # 誤差逆伝播\n",
    "        for idx in range(4, 0, -1):\n",
    "            delta = np.dot(delta, self.params['w' + str(idx + 1)].transpose())\n",
    "            delta = delta *  (self.layers['layer' + str(idx)] > 0)\n",
    "            self.grads['b' + str(idx)] = np.sum(delta, axis=0)\n",
    "            self.grads['w' + str(idx)] = np.dot(self.layers['layer'+str(idx - 1)].transpose(), delta)\n",
    "        return self.grads\n"
   ]
  },
  {
   "cell_type": "markdown",
   "metadata": {
    "id": "FDA7alIN4-Nu"
   },
   "source": [
    "## バッチ正規化を用いたMLP\n",
    "* <font color=\"Red\">問3. バッチ正規化を用いたMLPクラスを完成させる</font><br>\n",
    "    * <font color=\"Red\">問3-1. 【forward関数】ミニバッチの平均を算出する処理を記述してください。</font><br>\n",
    "    * <font color=\"Red\">問3-2. 【forward関数】ミニバッチの分散を算出する処理を記述してください。</font><br>\n",
    "    * <font color=\"Red\">問3-3. 【forward関数】移動平均により全体の平均を求める処理を記述してください。</font><br>\n",
    "    * <font color=\"Red\">問3-4. 【forward関数】移動平均により全体の分散を求める処理を記述してください。</font><br>\n",
    "    * <font color=\"Red\">問3-5,3-6. 【forward関数】テスト時における全体の平均と分散を使った正規化する処理を記述してください。</font><br>\n",
    "    * <font color=\"Red\">問3-7,3-8. 【backward関数】β, γの勾配を算出する処理を記述してください。</font><br>"
   ]
  },
  {
   "cell_type": "markdown",
   "metadata": {
    "id": "GWhC-yd64-Nu"
   },
   "source": [
    "各層について、重みを掛けて足し合わせた後バッチ正規化を行う。\n",
    "\n",
    "バッチ正規化の順伝播は以下の式に従って実装します。\n",
    "\n",
    "- （訓練時のみ）まずは計算しているミニバッチについて、平均と分散を求めます。各次元について、全データを通じた平均・分散を計算するため、平均・分散を計算する軸にご注意ください。\n",
    "\n",
    "- （訓練時のみ）テスト時に使用するために、訓練データ全体での平均を推定します。モーメンタム $m$ を用いて今までの平均 $\\mu_{old} $ を計算しているミニバッチの平均 $\\mu$ の方向に移動させ、新しい平均$\\mu_{new} $を求めます。\n",
    "$$\n",
    "\\mu_{new} = m \\mu_{old} + ( 1 - m)\\mu\\tag{1}\n",
    "$$\n",
    "\n",
    "- （訓練時のみ）同様に今までの分散 $\\sigma_{old} ^ 2$ を計算しているミニバッチの平均 $\\sigma^2$の方向に移動させ、 新しい分散$\\sigma_{new}^2$ を求めます。\n",
    "$$\n",
    "\\sigma_{new}^2 = m \\sigma_{old}^2 + ( 1 - m)\\sigma^2\\tag{2}\n",
    "$$\n",
    "\n",
    "- 求めた平均 $\\mu$ と分散 $\\sigma^2$ を用いて、入力 $x$ を正規化した値 $x_n$ を求めます。分散$\\sigma^2$から標準偏差 $\\sigma$ を求めるときに、アンダーフローを避けるために 10e-6 ($10 \\times 10 ^ {-7}$) を足してから平方根を取っています。\n",
    "テスト時には、移動平均により推定した訓練データ全体での平均・分散を使用します。\n",
    "$$\n",
    "\\sigma = \\sqrt{\\sigma ^ 2 + 10 \\times 10 ^ {-7}}\\tag{3}\n",
    "$$\n",
    "$$\n",
    "x_n = (x - \\mu) / \\sigma\\tag{4}\n",
    "$$\n",
    "\n",
    "- 正規化した値 $x_n$に対して $\\gamma$ を用いて変倍し、$\\beta$ を用いて移動を行い、活性化関数に渡す出力 $y$ を求めます。\n",
    "$$\n",
    "y = \\gamma x_n + \\beta\\tag{5}\n",
    "$$\n",
    "\n",
    "バッチ正規化の誤差逆伝播は以下の式に従って実装します。\n",
    "\n",
    "- 直前まで逆伝播してきた$1, 2, \\dots , N$ 番目(Nはバッチサイズ)の出力データ$y_k$による勾配 $\\frac{\\partial L}{\\partial y_k}$を用いて $\\gamma$ と$\\beta$による勾配を計算します。 $x_{nk}$ はミニバッチの中のk番目の入力データを正規化した後の値を表します。\n",
    "\n",
    "$$\n",
    "   \\begin{eqnarray} \n",
    "   \\frac{\\partial L}{\\partial \\gamma} & = & \\sum_{k=1}^{N} \\frac{\\partial L}{\\partial y_k} \\frac{\\partial y_k}{\\partial \\gamma} = \\sum_{k=1}^{N} \\frac{\\partial L}{\\partial y_k} x_{nk}\\tag{6}\\\\\n",
    "    \\frac{\\partial L}{\\partial \\beta} & = & \\sum_{k=1}^{N} \\frac{\\partial L}{\\partial y_k} \\frac{\\partial y_k}{\\partial \\beta} =  \\sum_{k=1}^{N} \\frac{\\partial L}{\\partial y_k}\\tag{7}\n",
    "    \\end{eqnarray}\n",
    "$$\n",
    "\n",
    "- $1, 2, \\dots , N$ 番目の入力データ$x_k$による勾配 $\\frac{\\partial L}{\\partial x_k}$を計算します（コードでは高速化のため少々異なった計算をしています）。\n",
    "\n",
    "$$\n",
    "\\begin{equation} \n",
    "\\frac{\\partial L}{\\partial x_k} \n",
    "= \\frac{\\gamma}{\\sigma} \\Bigg[ \\frac{\\partial L}{\\partial y_k} \n",
    "- \\frac{1}{N} \\bigg[ \\frac{\\partial L}{\\partial \\beta} + x_{nk} \\frac{\\partial L}{\\partial \\gamma} \\bigg] \\Bigg] \n",
    "\\end{equation}\n",
    "$$"
   ]
  },
  {
   "cell_type": "code",
   "execution_count": null,
   "metadata": {
    "id": "9Fj1XUv6k3z5"
   },
   "outputs": [],
   "source": [
    "class mnistMultiLayerBatchNet:\n",
    "    \"\"\"\n",
    "    layer0: 784 次元の入力\n",
    "    ↓ w1, b1 で線形結合\n",
    "    ↓バッチ正規化 gamma1倍しbeta1だけずらす\n",
    "    ↓ relu で活性化\n",
    "    layer1: 100 次元の隠れ層\n",
    "    ↓ w2, b2 で線形結合\n",
    "    ↓バッチ正規化 gamma2倍しbeta2だけずらす\n",
    "    ↓ relu で活性化\n",
    "    layer2: 100 次元の隠れ層\n",
    "    ↓ w3, b3 で線形結合\n",
    "    ↓バッチ正規化 gamma3倍しbeta3だけずらす\n",
    "    ↓ relu で活性化\n",
    "    layer3: 100 次元の隠れ層\n",
    "    ↓ w4, b4 で線形結合\n",
    "    ↓バッチ正規化 gamma4倍しbeta4だけずらす\n",
    "    ↓ relu で活性化\n",
    "    layer4: 100 次元の隠れ層\n",
    "    ↓ w5, b5 で線形結合\n",
    "    layer5: 10 次元の出力層\n",
    "    \"\"\"\n",
    "    def __init__(self):\n",
    "        self.input_size = 784\n",
    "        self.output_size = 10\n",
    "        self.hidden_size_list = [100, 100, 100, 100]\n",
    "        self.all_size_list = [self.input_size] + self.hidden_size_list + [self.output_size]\n",
    "        self.hidden_layer_num = len(self.hidden_size_list)\n",
    "        self.weight_decay_lambda =0\n",
    "        self.params = {}\n",
    "        self.layers = {}\n",
    "        self.grads = {}\n",
    "        self.norms = {}\n",
    "        self.momentum = 0.9\n",
    "\n",
    "        # パラメータの初期化\n",
    "        for idx in range(1, len(self.all_size_list)):\n",
    "            # 線形結合層のパラメータ\n",
    "            self.params['w' + str(idx)] = np.random.randn(self.all_size_list[idx-1], self.all_size_list[idx]) * 0.085\n",
    "            self.params['b' + str(idx)] = np.zeros(self.all_size_list[idx], dtype=float)\n",
    "            \n",
    "            # バッチ正規化でシフトさせるときに用いるγとβを更新するパラメータとし初期化\n",
    "            # mu と sigma は実行時の平均と分散\n",
    "            if idx != len(self.all_size_list) - 1:\n",
    "                self.params['gamma' + str(idx)] = np.ones(self.all_size_list[idx])\n",
    "                self.params['beta' + str(idx)] = np.zeros(self.all_size_list[idx])\n",
    "                self.norms['mu' + str(idx)] = None\n",
    "                self.norms['var' + str(idx)] = None\n",
    "        \n",
    "    def forward(self, x, train_flg=False):\n",
    "        relu = lambda x : np.maximum(0, x)  # 活性化関数として ReLU を使用\n",
    "        self.layers['layer0'] = x\n",
    "        for idx in range(1, len(self.all_size_list) - 1):\n",
    "            # 線形結合層\n",
    "            w = self.params['w' + str(idx)]\n",
    "            b = self.params['b' + str(idx)]\n",
    "            x = self.layers['layer' + str(idx - 1)]\n",
    "            x = np.dot(x, w) + b\n",
    "            \n",
    "            # バッチ正規化\n",
    "            # 平均と分散の初期化\n",
    "            if self.norms['mu' + str(idx)] is None:\n",
    "                N, D = x.shape\n",
    "                self.norms['mu' + str(idx)] = np.zeros(D)\n",
    "                self.norms['var' + str(idx)] = np.zeros(D)\n",
    "            if train_flg:\n",
    "                mu = x.mean(axis=0)           # 今回のミニバッチの平均###### 問3-1 ######\n",
    "                xc = x - mu                   # 今回のミニバッチの平均との差分\n",
    "                var = np.mean(xc**2, axis=0)  # 今回のミニバッチの分散###### 問3-2 ###### \n",
    "                std = np.sqrt(var + 10e-7)    # 今回のミニバッチの標準偏差\n",
    "                xn = xc / std                 # 正規化\n",
    "\n",
    "                # 全体の平均と分散を移動平均により求める(1),(2)\n",
    "                self.norms['mu' + str(idx)] = self.momentum * self.norms['mu' + str(idx)] + (1-self.momentum) * mu###### 問3-3 ######\n",
    "                self.norms['var' + str(idx)] = self.momentum * self.norms['var' + str(idx)] + (1-self.momentum) * var###### 問3-4 ######\n",
    "                \n",
    "                # 誤差逆伝播で使う中間データ\n",
    "                self.norms['xc' + str(idx)] = xc\n",
    "                self.norms['xn' + str(idx)] = xn\n",
    "                self.norms['std' + str(idx)] = std\n",
    "                self.norms['size' + str(idx)] = x.shape[0]\n",
    "            else:\n",
    "                # テスト時は全体の平均と分散を使って正規化する(3),(4)\n",
    "                xc = x - self.norms['mu' + str(idx)]###### 問3-5 ######\n",
    "                xn = xc / ((np.sqrt(self.norms['var' + str(idx)] + 10e-7)))###### 問3-6 ######\n",
    "                \n",
    "            # γ,βを用いてシフトさせる(5)\n",
    "            shifted = self.params['gamma' + str(idx)] * xn + self.params['beta' + str(idx)]\n",
    "            \n",
    "            # relu を使って活性化\n",
    "            self.layers['layer' + str(idx)] = relu(shifted)\n",
    "\n",
    "        # 出力層\n",
    "        idx = len(self.all_size_list) - 1\n",
    "        w = self.params['w' + str(idx)]\n",
    "        b = self.params['b' + str(idx)]\n",
    "        x = self.layers['layer' + str(idx - 1)]\n",
    "        self.layers['layer' + str(idx)] = softmax(np.dot(x, w) + b)\n",
    "        \n",
    "        return self.layers['layer' + str(idx)]\n",
    "        \n",
    "\n",
    "    def loss(self, y, t):\n",
    "        return cross_entropy_error(y, t)\n",
    "    \n",
    "    def backward(self, t, y):\n",
    "        # 出力層における誤差の勾配（クロスエントロピー関数の勾配）\n",
    "        delta = (y - t) / t.shape[0]\n",
    "        \n",
    "        # 出力層手前の線形結合層における勾配の逆伝播\n",
    "        self.grads['b5'] = np.sum(delta, axis=0)\n",
    "        self.grads['w5'] = np.dot(self.layers['layer4'].transpose(), delta)\n",
    "        \n",
    "        # 誤差逆伝播\n",
    "        for idx in range(4, 0, -1):\n",
    "            delta = np.dot(delta, self.params['w' + str(idx + 1)].transpose())\n",
    "            \n",
    "            # relu の微分\n",
    "            delta = delta *  (self.layers['layer' + str(idx)] > 0)\n",
    "            \n",
    "            # バッチ正規化における勾配の逆伝播(6),(7)\n",
    "            self.grads['beta' + str(idx)] = delta.sum(axis=0)###### 問3-7 ######\n",
    "            self.grads['gamma' + str(idx)] = np.sum(self.norms['xn' + str(idx)] * delta, axis=0)###### 問3-8 ######\n",
    "            dxn = self.params['gamma' + str(idx)] * delta\n",
    "            dxc = dxn / self.norms['std' + str(idx)]\n",
    "            dstd = -np.sum((dxn * self.norms['xc' + str(idx)]) / (self.norms['std' + str(idx)] * self.norms['std' + str(idx)]), axis=0)\n",
    "            dvar = 0.5 * dstd / self.norms['std' + str(idx)]\n",
    "            dxc += (2.0 / self.norms['size' + str(idx)]) * self.norms['xc' + str(idx)] * dvar\n",
    "            dmu = np.sum(dxc, axis=0)\n",
    "            delta = dxc - dmu / self.norms['size' + str(idx)]\n",
    "            \n",
    "            # 線形結合層における勾配の逆伝播\n",
    "            self.grads['b' + str(idx)] = np.sum(delta, axis=0)\n",
    "            self.grads['w' + str(idx)] = np.dot(self.layers['layer'+str(idx - 1)].transpose(), delta)\n",
    "            \n",
    "        return self.grads\n"
   ]
  },
  {
   "cell_type": "markdown",
   "metadata": {
    "id": "sjNBBUjN4-Nv"
   },
   "source": [
    "#### <font color=\"Red\">問3 解説</font>\n",
    "\n",
    "まず、ミニバッチの平均と分散について考えます。\n",
    "\n",
    "ミニバッチは、```x```が該当します。```x```は、入力データに重みを掛けて、バイアスを足し合わせたものとなっております。\n",
    "\n",
    "ミニバッチの平均値についてですが、```変数名.mean()```をいうpythonの関数を用いることで取得することができます。\n",
    "\n",
    "また、バッチごと（列ごと、縦ごと）に見ていくため、```x.mean(axis=0)```が答えとなります。\n",
    "\n",
    "次に分散についてですが、次のように求められます。\n",
    "\n",
    "<ol>\n",
    "    <li>ミニバッチの各値と平均の差を求める</li>\n",
    "    <li>1で求めた値をそれぞれ2乗し、この値の平均をもとめる</li>\n",
    "</ol>\n",
    "\n",
    "```xu = x.mean(axis=0)```、1についてを```xc```とすると```xc = x - mu ```と表すことができます。\n",
    "\n",
    "そして、2については答えを```var```とすると、```var = np.mean(xc**2, axis=0) ```と表現することができます。\n",
    "\n",
    "なお、```var```についても、バッチごと（列ごと、縦ごと）に見ていくため、```axis=0```となります。\n",
    "\n",
    "次び、移動平均による全体の平均・分散について考えます。\n",
    "\n",
    "移動平均による全体の平均については、解説文の式（１）、分散の平均については、解説文の式（２）に書かれております。\n",
    "\n",
    "まず、平均については次の通りに求めることができます。\n",
    "\n",
    "$$ \\mu_{new} = m \\mu_{old} + ( 1 - m)\\mu $$\n",
    "\n",
    "ここで、```m```とは、```self.momentum```、```μ_old```は```self.norms['mu' + str(idx)]```、```μ```は```mu```を表します。\n",
    "\n",
    "従って、移動平均による全体の平均をコードで書くと次の通りになります。\n",
    "\n",
    "```self.norms['mu' + str(idx)] = self.momentum * self.norms['mu' + str(idx)] + (1-self.momentum) * mu```\n",
    "\n",
    "次に、分散については次の通りに求めることができます。\n",
    "\n",
    "$$ \\sigma_{new}^2 = m \\sigma_{old}^2 + ( 1 - m)\\sigma^2 $$\n",
    "\n",
    "ここで、```m```とは、```self.momentum```、```σ_old```は```self.norms['var' + str(idx)]```、```σ```は```var```を表します。\n",
    "\n",
    "従って、移動平均のよる全体の分散をコードで書くと次の通りになります。\n",
    "\n",
    "```self.norms['var' + str(idx)] = self.momentum * self.norms['var' + str(idx)] + (1-self.momentum) * var```\n",
    "\n",
    "次に、問3-5,3-6の全体の平均と分散を使って正規化を表現する方法についてです。\n",
    "\n",
    "正規化については、解説文の式（３）、分散の平均については、解説文の式（４）から、以下のように求めることができます。\n",
    "\n",
    "$$ x_n = (x - \\mu) / \\sigma\\tag{a} $$\n",
    "\n",
    "なお、```σ```については、次の通りです。\n",
    "\n",
    "$$ \\sigma = \\sqrt{\\sigma ^ 2 + 10 \\times 10 ^ {-7}}\\tag{b} $$\n",
    "\n",
    "まずは、(a)の分子部分について考えます。\n",
    "\n",
    "```x```については```x```、```mu```については、```self.norms['mu' + str(idx)]```と表すことができる。\n",
    "\n",
    "```x - mu```について、コードを記述することで```xc```で表すと\n",
    "\n",
    "```xc = x - self.norms['mu' + str(idx)]```\n",
    "\n",
    "となります。\n",
    "\n",
    "次に、(a)の分母部分について考えます。\n",
    "\n",
    "分母部分については、(b)を代入すればよいことが分かります。\n",
    "\n",
    "コード上では、```σ^2```は```self.norms['var' + str(idx)]```、```10 * 10^(-7)```は```10e-7```と表されている事がわかります。\n",
    "\n",
    "また、√については```np.sqrt()```を用いることで根号を表現することができます。\n",
    "\n",
    "従って、分母の部分については次の通りに表すことができます。\n",
    "\n",
    "```np.sqrt(self.norms['var' + str(idx)] + 10e-7)```\n",
    "\n",
    "ここまでの説明で、分母と分子それぞれのコードの表現方法について分かったため、これを組み合わせたものが答えとなります。\n",
    "\n",
    "従って、正規化したものを```xn```とすると、答えは次の通りになります。\n",
    "\n",
    "```xn = xc / ((np.sqrt(self.norms['var' + str(idx)] + 10e-7)))```\n",
    "\n",
    "最後に、問3-7と3-8のβ, γの勾配を算出する処理問題についてです。\n",
    "\n",
    "解説文の式（６）、（７）をもとに求めて行きます。\n",
    "\n",
    "まずは、問3-7のβについてです。\n",
    "\n",
    "勾配 $\\frac{\\partial L}{\\partial y_k}$は、コードで表現すると```delta```になります。\n",
    "\n",
    "```delta```は、ReLUの微分をしたものです。βは```delta```の微分によって求めることができるため、答えは次のようになります。\n",
    "\n",
    "```self.grads['beta' + str(idx)] = delta.sum(axis=0)```\n",
    "\n",
    "そして、γについてです。γでは勾配 $\\frac{\\partial L}{\\partial y_k}$に加えて$x_{nk}$を使用します。\n",
    "\n",
    "$x_{nk}$は、コードで```self.norms['xn' + str(idx)]```と表すことができます。\n",
    "\n",
    "γは、勾配 $\\frac{\\partial L}{\\partial y_k}$と$x_{nk}$との積の総和を表します。\n",
    "\n",
    "従って、γの答えは次の通りになります。\n",
    "\n",
    "```self.grads['gamma' + str(idx)] = np.sum(self.norms['xn' + str(idx)] * delta, axis=0)```"
   ]
  },
  {
   "cell_type": "markdown",
   "metadata": {
    "id": "OJA3PyNf4-Nw"
   },
   "source": [
    "## ミニバッチを用いた学習\n",
    "\n",
    "ミニバッチを用いた学習を行います。\n",
    "\n",
    "* <font color=\"Red\">問4. ランダムサンプリングのためにインデックスをランダムに読み込む処理を記述しましょう。</font>\n",
    "* <font color=\"Red\">問5. バッチサイズごとに入力と教師データを読み込む処理を記述しましょう。</font>\n",
    "\n",
    "ヒント: numpy.random.permutation を用いることで、データのインデックスをシャッフルした配列を用意することで、シャッフルインデックス配列permに対して、前からバッチサイズずつインデックスを切り出せばミニバッチの抽出が行えます。\n",
    "\n",
    "また、学習用のコードは実行に時間がかかります。完了するまで5~10分ほどを要しますのでご注意ください。\n"
   ]
  },
  {
   "cell_type": "code",
   "execution_count": null,
   "metadata": {
    "id": "H5SAPBWlnlfJ"
   },
   "outputs": [],
   "source": [
    "bn = mnistMultiLayerBatchNet()\n",
    "nobn = mnistMultiLayerNet()\n",
    "adambn = mnistMultiLayerBatchNet()\n",
    "adamnobn = mnistMultiLayerNet()\n",
    "\n",
    "bn_acc_list = []\n",
    "nobn_acc_list = []\n",
    "adambn_acc_list = []\n",
    "adamnobn_acc_list = []\n",
    "\n",
    "sgd = SGD(lr = 0.01)\n",
    "adam = Adam(lr=0.01)\n",
    "\n",
    "sgd_norm = SGD(lr = 0.01)\n",
    "adam_norm = Adam(lr=0.01)\n",
    "\n",
    "# ミニバッチアルゴリズム\n",
    "batch_size = 128"
   ]
  },
  {
   "cell_type": "code",
   "execution_count": null,
   "metadata": {
    "colab": {
     "base_uri": "https://localhost:8080/"
    },
    "executionInfo": {
     "elapsed": 267724,
     "status": "ok",
     "timestamp": 1646040100382,
     "user": {
      "displayName": "渡部加奈子",
      "photoUrl": "https://lh3.googleusercontent.com/a/default-user=s64",
      "userId": "05971868818213540626"
     },
     "user_tz": -540
    },
    "id": "pSjTx7dM4-Nw",
    "outputId": "99bec3e5-87c9-4570-facb-c45709039a50"
   },
   "outputs": [
    {
     "name": "stdout",
     "output_type": "stream",
     "text": [
      "EPOCH 1 | NoBatch ACCURACY (SGD) 84.74% | Batch ACCURACY (SGD)84.44% | NoBatch ACCURACY (Adam)91.42% | Batch ACCURACY (Adam) 96.09%\n",
      "EPOCH 2 | NoBatch ACCURACY (SGD) 89.68% | Batch ACCURACY (SGD)89.45% | NoBatch ACCURACY (Adam)92.58% | Batch ACCURACY (Adam) 96.95%\n",
      "EPOCH 3 | NoBatch ACCURACY (SGD) 91.55% | Batch ACCURACY (SGD)91.36% | NoBatch ACCURACY (Adam)92.38% | Batch ACCURACY (Adam) 96.91%\n",
      "EPOCH 4 | NoBatch ACCURACY (SGD) 92.05% | Batch ACCURACY (SGD)92.62% | NoBatch ACCURACY (Adam)92.84% | Batch ACCURACY (Adam) 97.37%\n",
      "EPOCH 5 | NoBatch ACCURACY (SGD) 92.79% | Batch ACCURACY (SGD)93.37% | NoBatch ACCURACY (Adam)93.79% | Batch ACCURACY (Adam) 97.17%\n",
      "EPOCH 6 | NoBatch ACCURACY (SGD) 93.39% | Batch ACCURACY (SGD)93.95% | NoBatch ACCURACY (Adam)92.86% | Batch ACCURACY (Adam) 97.41%\n",
      "EPOCH 7 | NoBatch ACCURACY (SGD) 93.76% | Batch ACCURACY (SGD)94.34% | NoBatch ACCURACY (Adam)94.01% | Batch ACCURACY (Adam) 97.58%\n",
      "EPOCH 8 | NoBatch ACCURACY (SGD) 93.72% | Batch ACCURACY (SGD)94.68% | NoBatch ACCURACY (Adam)92.76% | Batch ACCURACY (Adam) 97.31%\n",
      "EPOCH 9 | NoBatch ACCURACY (SGD) 94.16% | Batch ACCURACY (SGD)94.90% | NoBatch ACCURACY (Adam)93.92% | Batch ACCURACY (Adam) 97.56%\n",
      "EPOCH 10 | NoBatch ACCURACY (SGD) 94.19% | Batch ACCURACY (SGD)95.24% | NoBatch ACCURACY (Adam)93.82% | Batch ACCURACY (Adam) 97.86%\n",
      "EPOCH 11 | NoBatch ACCURACY (SGD) 94.44% | Batch ACCURACY (SGD)95.32% | NoBatch ACCURACY (Adam)91.17% | Batch ACCURACY (Adam) 97.75%\n",
      "EPOCH 12 | NoBatch ACCURACY (SGD) 94.57% | Batch ACCURACY (SGD)95.50% | NoBatch ACCURACY (Adam)89.46% | Batch ACCURACY (Adam) 97.77%\n",
      "EPOCH 13 | NoBatch ACCURACY (SGD) 94.89% | Batch ACCURACY (SGD)95.63% | NoBatch ACCURACY (Adam)77.94% | Batch ACCURACY (Adam) 97.68%\n",
      "EPOCH 14 | NoBatch ACCURACY (SGD) 94.84% | Batch ACCURACY (SGD)95.70% | NoBatch ACCURACY (Adam)79.06% | Batch ACCURACY (Adam) 97.69%\n",
      "EPOCH 15 | NoBatch ACCURACY (SGD) 94.99% | Batch ACCURACY (SGD)95.78% | NoBatch ACCURACY (Adam)72.74% | Batch ACCURACY (Adam) 97.76%\n",
      "EPOCH 16 | NoBatch ACCURACY (SGD) 95.11% | Batch ACCURACY (SGD)95.88% | NoBatch ACCURACY (Adam)75.84% | Batch ACCURACY (Adam) 97.64%\n",
      "EPOCH 17 | NoBatch ACCURACY (SGD) 94.60% | Batch ACCURACY (SGD)96.03% | NoBatch ACCURACY (Adam)85.61% | Batch ACCURACY (Adam) 97.81%\n",
      "EPOCH 18 | NoBatch ACCURACY (SGD) 94.47% | Batch ACCURACY (SGD)96.05% | NoBatch ACCURACY (Adam)86.51% | Batch ACCURACY (Adam) 97.91%\n",
      "EPOCH 19 | NoBatch ACCURACY (SGD) 95.21% | Batch ACCURACY (SGD)96.14% | NoBatch ACCURACY (Adam)89.00% | Batch ACCURACY (Adam) 97.59%\n",
      "EPOCH 20 | NoBatch ACCURACY (SGD) 95.30% | Batch ACCURACY (SGD)96.06% | NoBatch ACCURACY (Adam)87.00% | Batch ACCURACY (Adam) 97.81%\n"
     ]
    }
   ],
   "source": [
    "for epoch in range(20):\n",
    "    # ランダムにミニバッチを読み込むために、インデックスをランダムに並び替える\n",
    "    perm = np.random.permutation(len(x_train))###### 問4 ######\n",
    "    # batch_size ごとにデータを読み込んで学習させる\n",
    "    for idx in np.arange(0, len(perm), batch_size):\n",
    "        x = x_train[perm[idx:idx+batch_size]] ###### 問5-1 ######\n",
    "        t = t_train[perm[idx:idx+batch_size]]###### 問5-2 ######\n",
    "        \n",
    "        y = bn.forward(x, train_flg=True)\n",
    "        grads = bn.backward(t, y)\n",
    "        sgd_norm.update(bn.params,grads)\n",
    "        \n",
    "        y = adambn.forward(x, train_flg=True)\n",
    "        grads = adambn.backward(t, y)\n",
    "        adam_norm.update(adambn.params,grads)\n",
    "        \n",
    "        y = nobn.forward(x)\n",
    "        grads = nobn.backward(t,y)\n",
    "        sgd.update(nobn.params, grads)\n",
    "        \n",
    "        y = adamnobn.forward(x)\n",
    "        grads = adamnobn.backward(t, y)\n",
    "        adam.update(adamnobn.params,grads)\n",
    "\n",
    "    y_test = bn.forward(x_test)\n",
    "    bn_acc_list.append((y_test.argmax(axis=1) == t_test.argmax(axis=1)).mean())\n",
    "    y_test = nobn.forward(x_test)\n",
    "    nobn_acc_list.append((y_test.argmax(axis=1) == t_test.argmax(axis=1)).mean())\n",
    "    y_test = adambn.forward(x_test)\n",
    "    adambn_acc_list.append((y_test.argmax(axis=1) == t_test.argmax(axis=1)).mean())\n",
    "    y_test = adamnobn.forward(x_test)\n",
    "    adamnobn_acc_list.append((y_test.argmax(axis=1) == t_test.argmax(axis=1)).mean())\n",
    "\n",
    "    print(f'EPOCH {epoch + 1} | NoBatch ACCURACY (SGD) {nobn_acc_list[-1]:.2%} | Batch ACCURACY (SGD){bn_acc_list[-1]:.2%} | NoBatch ACCURACY (Adam){adamnobn_acc_list[-1]:.2%} | Batch ACCURACY (Adam) {adambn_acc_list[-1]:.2%}')"
   ]
  },
  {
   "cell_type": "markdown",
   "metadata": {
    "id": "axG-Ie4D4-Nw"
   },
   "source": [
    "#### <font color=\"Red\">問4 解説</font>\n",
    "\n",
    "問題4では、インデックスをランダムに読み込む処理を実装する必要があります。\n",
    "\n",
    "今回は、ランダムに読み込む処理として、```numpy.random.permutation```というものを使用します。\n",
    "\n",
    "```numpy.random.permutation```とは、渡した配列の要素をランダムに並び替える関数です。\n",
    "\n",
    "ちなみに、```numpy.random.permutation```には、配列だけでなく、整数を入れることができます。もし、整数を入れた場合（入れた整数を```x```とします）、```np.arange(x)```の配列をランダムに入れ替えます。（```np.arange(3)```とすると、[0,1,2]という配列が生成されます。）\n",
    "\n",
    "今回、学習データのインデックスをランダムに読み込みたいため、学習データの長さ（```len(x_train)```）を入力すれば正解です。\n",
    "\n",
    "従って、答えを```perm```と置くと、次の通りになります。\n",
    "\n",
    "```\n",
    "perm = np.random.permutation(len(x_train))\n",
    "```\n",
    "\n"
   ]
  },
  {
   "cell_type": "markdown",
   "metadata": {
    "id": "Y1DcmCEa4-Nw"
   },
   "source": [
    "#### <font color=\"Red\">問5 解説</font>\n",
    "\n",
    "問題5では、バッチサイズごとに入力と教師データを読み込む処理を実装します。\n",
    "\n",
    "今回の問題では、配列の範囲を指定する必要があります。\n",
    "\n",
    "配列の範囲の指定方法については、次の通りです。\n",
    "\n",
    "```\n",
    "train[start:end]\n",
    "```\n",
    "\n",
    "```start```が読み込む配列の開始点、```end```が読み込む配列の終点を表します。\n",
    "\n",
    "ここで、```train[start:end]```を読み込む際に、```start```から```end - 1```まで、読み込むことができることに注意しましょう。\n",
    "\n",
    "基本事項についての説明が終了したため、ここからは問題の実装をしていきましょう。\n",
    "\n",
    "まず、インデックスの指定については、問題4で作成した```perm```を使用します。\n",
    "\n",
    "次に、どの範囲を読み取るかについてです。\n",
    "\n",
    "スタート地点については、```idx```となります。```idx```とは、```np.arange(0, len(perm), batch_size)```によって作成された配列を順番に表示します。\n",
    "\n",
    "また、```np.arange(0, len(perm), batch_size)```は、0をスタートとして、順番に```batch_size```を足していき、```len(perm)```を超えない範囲まで連続した数値を要素として持つ配列を生成します。コードで表現すると```[0,batch_size,batch_size*2,....,batch_size*n(batch_size*n <= len(perm))]```となります。\n",
    "\n",
    "次に、終わりの地点ですが、batch_sizeごとにデータを読み込むため、```idx + batch_size```が正解となります。\n",
    "\n",
    "従って、```x_train```と```t_train```に対してbatch_size ごとにデータを読み込んで学習させる処理を行うため、答えは次の通りになります。\n",
    "\n",
    "```\n",
    "x = x_train[perm[idx:idx+batch_size]] \n",
    "t = t_train[perm[idx:idx+batch_size]]\n",
    "```"
   ]
  },
  {
   "cell_type": "markdown",
   "metadata": {
    "id": "Rg5ihkDcpB26"
   },
   "source": [
    "## 学習結果\n",
    "学習結果を可視化してみます。まずはSGDを使った学習についてのみ比較を行います。結果のグラフが以下のグラフと一致していれば学習は成功しています。\n",
    "\n",
    "![compare1.png](data:image/png;base64,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)\n",
    "学習結果からわかる通り、バッチ正規化を加えることでテスト精度が高い水準で安定させることが可能となります。"
   ]
  },
  {
   "cell_type": "code",
   "execution_count": null,
   "metadata": {
    "colab": {
     "base_uri": "https://localhost:8080/",
     "height": 279
    },
    "executionInfo": {
     "elapsed": 518,
     "status": "ok",
     "timestamp": 1646040215863,
     "user": {
      "displayName": "渡部加奈子",
      "photoUrl": "https://lh3.googleusercontent.com/a/default-user=s64",
      "userId": "05971868818213540626"
     },
     "user_tz": -540
    },
    "id": "GmDJUBQupCq1",
    "outputId": "c869dd42-2921-4a4b-ce79-fc1f21c6b014"
   },
   "outputs": [
    {
     "data": {
      "image/png": "[encoded data removed]",
      "text/plain": [
       "<Figure size 432x288 with 1 Axes>"
      ]
     },
     "metadata": {
      "needs_background": "light"
     },
     "output_type": "display_data"
    }
   ],
   "source": [
    "x = range(20)\n",
    "plt.plot(x, bn_acc_list, color='turquoise')\n",
    "plt.plot(x, nobn_acc_list, color='tomato')\n",
    "\n",
    "plt.legend(['BatchNormalization', 'Normal Network'])\n",
    "plt.xlabel('epoch')\n",
    "plt.ylabel('accuracy')\n",
    "plt.show()"
   ]
  },
  {
   "cell_type": "markdown",
   "metadata": {
    "id": "UbkkY0ozpJBM"
   },
   "source": [
    "次にAdamで学習した場合も含めてプロットしてみましょう。結果のグラフの特徴が以下と一致していれば学習成功です。<br>\n",
    "・Adamで学習すると、SGDよりも学習が進みやすく、高い精度が実現できている。<br>\n",
    "・バッチ正規化を加えないネットワークでは過学習により途中からテスト精度が急に低下している。<br>\n",
    "バッチ正規化を加えることで正則化の役割も可能となっていることが読み取れます。\n",
    "\n",
    "![compare2.png](data:image/png;base64,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)"
   ]
  },
  {
   "cell_type": "code",
   "execution_count": null,
   "metadata": {
    "colab": {
     "base_uri": "https://localhost:8080/",
     "height": 283
    },
    "executionInfo": {
     "elapsed": 767,
     "status": "ok",
     "timestamp": 1646040247192,
     "user": {
      "displayName": "渡部加奈子",
      "photoUrl": "https://lh3.googleusercontent.com/a/default-user=s64",
      "userId": "05971868818213540626"
     },
     "user_tz": -540
    },
    "id": "oM11mOaTpLuZ",
    "outputId": "50ef38ff-7a90-4613-8fc1-dc931978bb80"
   },
   "outputs": [
    {
     "data": {
      "image/png": "[encoded data removed]",
      "text/plain": [
       "<Figure size 432x288 with 1 Axes>"
      ]
     },
     "metadata": {
      "needs_background": "light"
     },
     "output_type": "display_data"
    }
   ],
   "source": [
    "x = range(20)\n",
    "plt.plot(x, bn_acc_list, color='turquoise', linestyle = '-')\n",
    "plt.plot(x, nobn_acc_list, color='tomato', linestyle='-')\n",
    "plt.plot(x, adambn_acc_list, color='turquoise', linestyle = '--')\n",
    "plt.plot(x, adamnobn_acc_list, color='tomato', linestyle='--')\n",
    "\n",
    "plt.ylim((0.85, 1))\n",
    "\n",
    "plt.legend(['BatchNormalization(SGD)', 'Normal Network(SGD)', 'BatchNormalization(Adam)', 'Normal Network(Adam)'])\n",
    "plt.xlabel('epoch')\n",
    "plt.ylabel('accuracy')\n",
    "plt.show()"
   ]
  },
  {
   "cell_type": "code",
   "execution_count": null,
   "metadata": {
    "id": "CypvYbU2pOYE"
   },
   "outputs": [],
   "source": []
  }
 ],
 "metadata": {
  "colab": {
   "collapsed_sections": [],
   "name": "コーディング演習Chapter03（解説）.ipynb",
   "provenance": [],
   "toc_visible": true
  },
  "interpreter": {
   "hash": "28745423af37741ab0c3c7f3aa5b58a7dd21006f8d4e66e0bc6f01e924a7de3c"
  },
  "kernelspec": {
   "display_name": "Python 3 (ipykernel)",
   "language": "python",
   "name": "python3"
  },
  "language_info": {
   "codemirror_mode": {
    "name": "ipython",
    "version": 3
   },
   "file_extension": ".py",
   "mimetype": "text/x-python",
   "name": "python",
   "nbconvert_exporter": "python",
   "pygments_lexer": "ipython3",
   "version": "3.10.13"
  }
 },
 "nbformat": 4,
 "nbformat_minor": 4
}
