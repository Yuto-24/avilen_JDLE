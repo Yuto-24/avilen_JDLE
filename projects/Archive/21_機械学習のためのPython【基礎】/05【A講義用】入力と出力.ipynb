{
 "cells": [
  {
   "cell_type": "markdown",
   "id": "5388aec9",
   "metadata": {
    "id": "5388aec9"
   },
   "source": [
    "# 入力と出力\n",
    "\n",
    "「入力」と「出力」の関数を実際に使ってみよう。"
   ]
  },
  {
   "cell_type": "markdown",
   "id": "0480c2b9",
   "metadata": {
    "id": "0480c2b9"
   },
   "source": [
    "## 1. 入力と出力\n",
    "プログラムを実行するときに、自分でデータを入力したい場合がある。\n",
    "入力を体験してみよう!\n",
    "\n",
    "\n",
    "【例題1】プログラムを実行して、「AVILEN」と入力してみよう！"
   ]
  },
  {
   "cell_type": "code",
   "execution_count": 1,
   "id": "adf33855",
   "metadata": {
    "id": "adf33855"
   },
   "outputs": [],
   "source": [
    "print(\"名前を教えてください\")\n",
    "name = input()\n",
    "print(\"あなたの名前は\", name, \"ですね？\")"
   ]
  },
  {
   "cell_type": "markdown",
   "id": "faa059da",
   "metadata": {
    "id": "faa059da"
   },
   "source": [
    "**解説**\n",
    "- 入力にはinput()という関数を利用して**`変数 = input()`**とコーディングする\n",
    "- 例題では入力した文字を変数`name`に代入した後、print()で変数`name`を出力している\n",
    "    - print()内で様々な要素を出力するときは  **,(カンマ)**  で区切る"
   ]
  },
  {
   "cell_type": "markdown",
   "id": "1a457d60",
   "metadata": {
    "id": "1a457d60"
   },
   "source": [
    "【問題1】input()とprint()を利用して、自由にプログラムしてみよう。"
   ]
  },
  {
   "cell_type": "code",
   "execution_count": null,
   "id": "03dcf2b2",
   "metadata": {
    "id": "03dcf2b2"
   },
   "outputs": [],
   "source": []
  },
  {
   "cell_type": "markdown",
   "id": "c0de7251",
   "metadata": {
    "id": "c0de7251"
   },
   "source": [
    "- プログラミングの必須操作、入力と出力の組み込み関数について確認できただろうか？"
   ]
  },
  {
   "cell_type": "markdown",
   "id": "f3f055e7",
   "metadata": {
    "id": "f3f055e7"
   },
   "source": [
    "## 2. input()の型と計算\n",
    "\n",
    "以下の例を実行して体験してみよう。\n",
    "\n",
    "【例題2】まず、以下のinput()関数の変数```value```に数字を入力し、その数値の二乗を計算してみよう。 "
   ]
  },
  {
   "cell_type": "code",
   "execution_count": null,
   "id": "6c7dbe2c",
   "metadata": {
    "id": "6c7dbe2c"
   },
   "outputs": [],
   "source": [
    "value = input(\"二乗したい数値は？\")\n",
    "print(\"計算結果：\" , value*value)"
   ]
  },
  {
   "cell_type": "markdown",
   "id": "9c8fd5b5",
   "metadata": {
    "id": "9c8fd5b5"
   },
   "source": [
    "**解説**\n",
    "\n",
    "- パソコンが計算ミスをしたわけではない。落ち着いて変数```value```の型を確認しよう。"
   ]
  },
  {
   "cell_type": "code",
   "execution_count": null,
   "id": "5eefae38",
   "metadata": {
    "id": "5eefae38"
   },
   "outputs": [],
   "source": [
    "value = input(\"二乗したい数値は？\")\n",
    "print(type(value))"
   ]
  },
  {
   "cell_type": "markdown",
   "id": "b7c00fa1",
   "metadata": {
    "id": "b7c00fa1"
   },
   "source": [
    "- input()で取得した値は文字列(str型)として認識される。\n",
    "    - ```*```や```+```などはint型にしか適用できないので、エラーが出たというわけだ。"
   ]
  },
  {
   "cell_type": "markdown",
   "id": "369baf56",
   "metadata": {
    "id": "369baf56"
   },
   "source": [
    "【問題2】以下のプログラムでは入力された値が文字列型のため、例えば5を入力した時`5 × 3 ＝ 555`と表示されてしまう。  \n",
    "コードを修正して正しい計算結果が出力されるプログラムを完成させよう！"
   ]
  },
  {
   "cell_type": "code",
   "execution_count": null,
   "id": "2f6b15a8",
   "metadata": {
    "id": "2f6b15a8"
   },
   "outputs": [],
   "source": [
    "print(\"九九の結果を出力します。何の段が知りたいですか？\")\n",
    "value = input()\n",
    "print(value, \"× 1 ＝\", value*1)\n",
    "print(value, \"× 2 ＝\", value*2)\n",
    "print(value, \"× 3 ＝\", value*3)"
   ]
  },
  {
   "cell_type": "markdown",
   "id": "a454af8e",
   "metadata": {
    "id": "a454af8e"
   },
   "source": [
    " 入力された数字を演算する場合、必ず文字列型から数値型へ変換する必要がある。  \n",
    "\n",
    "よく使うケースなので覚えておこう。 "
   ]
  },
  {
   "cell_type": "code",
   "execution_count": null,
   "id": "cfb30cf0",
   "metadata": {
    "id": "cfb30cf0"
   },
   "outputs": [],
   "source": []
  }
 ],
 "metadata": {
  "colab": {
   "provenance": []
  },
  "kernelspec": {
   "display_name": "avilen-ml",
   "language": "python",
   "name": "avilen-ml"
  },
  "language_info": {
   "codemirror_mode": {
    "name": "ipython",
    "version": 3
   },
   "file_extension": ".py",
   "mimetype": "text/x-python",
   "name": "python",
   "nbconvert_exporter": "python",
   "pygments_lexer": "ipython3",
   "version": "3.9.7"
  },
  "vscode": {
   "interpreter": {
    "hash": "31f2aee4e71d21fbe5cf8b01ff0e069b9275f58929596ceb00d14d90e3e16cd6"
   }
  }
 },
 "nbformat": 4,
 "nbformat_minor": 5
}
