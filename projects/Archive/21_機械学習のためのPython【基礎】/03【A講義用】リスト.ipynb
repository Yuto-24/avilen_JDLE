{
 "cells": [
  {
   "cell_type": "markdown",
   "id": "ffe1eddc",
   "metadata": {
    "id": "ffe1eddc"
   },
   "source": [
    "# リスト\n",
    "\n",
    "「リスト」は型の一つで、複数の値を一度に取り扱うときに利用する。"
   ]
  },
  {
   "cell_type": "markdown",
   "id": "02212200",
   "metadata": {
    "id": "02212200"
   },
   "source": [
    "## 1. リストの宣言と要素\n",
    "まず、**リスト**と**要素**を知るために、下記のプログラムを実行してみよう。"
   ]
  },
  {
   "cell_type": "code",
   "execution_count": null,
   "id": "783bfd77",
   "metadata": {
    "id": "783bfd77"
   },
   "outputs": [],
   "source": [
    "list0 = [1,2,3,4]\n",
    "print(list0)"
   ]
  },
  {
   "cell_type": "markdown",
   "id": "e290557c",
   "metadata": {
    "id": "e290557c"
   },
   "source": [
    "これらのように複数の値を一度に取り扱うためのデータ形式を「リスト」という。\n",
    "\n",
    "数値の場合、リストはベクトル、または行列として考えても良い。"
   ]
  },
  {
   "cell_type": "markdown",
   "id": "47d1fa8e",
   "metadata": {
    "id": "47d1fa8e"
   },
   "source": [
    "【例題1-1】リスト`list1`に3人分の名前を格納する。その後、リストに代入できたか確認する。"
   ]
  },
  {
   "cell_type": "code",
   "execution_count": null,
   "id": "bd6a586a",
   "metadata": {
    "id": "bd6a586a"
   },
   "outputs": [],
   "source": [
    "list1 = [\"安達\", \"遠藤\", \"松岡\"]\n",
    "print(list1)"
   ]
  },
  {
   "cell_type": "markdown",
   "id": "118b2d51",
   "metadata": {
    "id": "118b2d51"
   },
   "source": [
    "**解説**\n",
    "- 上記のように`[]`で囲まれた情報をリストと呼び、その中身である`安達`・`遠藤`・`松岡`の事を要素と呼ぶ。  \n",
    "リスト：`['安達', '遠藤', '松岡']`  \n",
    "要素：`安達`・`遠藤`・`松岡`\n",
    "\n",
    "**まとめ** \n",
    "- リストの作り方：**`リスト名 = [要素１, 要素２, 要素３]`**\n",
    "\n",
    "**注意** \n",
    "- リストで利用するかっこの種類は**`[]`**であることに注意しよう。\n",
    "- 要素の区切り文字は**`,`**であることに注意しよう。"
   ]
  },
  {
   "cell_type": "markdown",
   "id": "22d3074b",
   "metadata": {
    "id": "22d3074b"
   },
   "source": [
    "【例題1-2】 リスト`list2`にさまざまな型の値を格納する。その後、リストに代入できたか確認する。"
   ]
  },
  {
   "cell_type": "code",
   "execution_count": null,
   "id": "c6adbf3a",
   "metadata": {
    "id": "c6adbf3a"
   },
   "outputs": [],
   "source": [
    "list2 = [100, '小さな世界', False, 1.0]\n",
    "print(list2)"
   ]
  },
  {
   "cell_type": "markdown",
   "id": "7cb8ff35",
   "metadata": {
    "id": "7cb8ff35"
   },
   "source": [
    "**解説**\n",
    "- リストの要素の型は揃える必要はない。整数・文字列・真理値・小数など自由に入れることができる。\n",
    "- 実はリストの要素をリストにすることもできる。(入れ子リスト)"
   ]
  },
  {
   "cell_type": "markdown",
   "id": "0768513a",
   "metadata": {
    "id": "0768513a"
   },
   "source": [
    "【問題1】新たなリスト`list3`を宣言してみよう。  \n",
    "\n",
    "要素には,`\"国語\"`・`45`・`\"算数\"`・`65`・`\"英語\"`・`99`の6つを問題文の順に格納して、出力しよう。"
   ]
  },
  {
   "cell_type": "code",
   "execution_count": null,
   "id": "256e5b22",
   "metadata": {
    "id": "256e5b22"
   },
   "outputs": [],
   "source": []
  },
  {
   "cell_type": "markdown",
   "id": "3f4879b8",
   "metadata": {
    "id": "3f4879b8"
   },
   "source": [
    "## 2. 要素へのアクセスとインデックス\n",
    "次は特定の一つの要素に注目してみよう。  \n",
    "【例題2-1】【例題1-1】で宣言した、`list1`の１番目の要素のみを出力してみる。"
   ]
  },
  {
   "cell_type": "code",
   "execution_count": null,
   "id": "bf32c1f4",
   "metadata": {},
   "outputs": [],
   "source": [
    "print(list1)"
   ]
  },
  {
   "cell_type": "code",
   "execution_count": null,
   "id": "a113f34e",
   "metadata": {
    "id": "a113f34e"
   },
   "outputs": [],
   "source": [
    "print(list1[0])"
   ]
  },
  {
   "cell_type": "markdown",
   "id": "b7a862e2",
   "metadata": {
    "id": "b7a862e2"
   },
   "source": [
    "**解説**\n",
    "- 特定の要素を呼び出すときは`list1[0]`のように書く。\n",
    "- 一番左の要素から順に0,1,2...と番号が割り振られている。この番号のことを**インデックス**と呼ぶ\n",
    "- そのため、`list1`の要素&nbsp;`松岡`を呼び出したいときは`list1[2]`と書く。  \n",
    "<br/>"
   ]
  },
  {
   "cell_type": "markdown",
   "id": "b3523d1d",
   "metadata": {
    "id": "b3523d1d"
   },
   "source": [
    "さらに、特定の要素の変更方法も学んでみよう！  \n",
    "\n",
    "【例題2-2】【例題1】で宣言した、`list1`の１番目の要素である`安達`の漢字が間違っていることに気が付いた。  \n",
    "`足立`へ上書き修正した後、変更を確認するため、`list1`を出力する。"
   ]
  },
  {
   "cell_type": "code",
   "execution_count": null,
   "id": "6d12d55e",
   "metadata": {
    "id": "6d12d55e"
   },
   "outputs": [],
   "source": [
    "list1[0] = \"足立\"\n",
    "print(list1)"
   ]
  },
  {
   "cell_type": "markdown",
   "id": "02df8b52",
   "metadata": {
    "id": "02df8b52"
   },
   "source": [
    "**解説**\n",
    "- 特定の要素への変更(上書き)は変数の時と同様に行う。\n",
    "\n",
    "**まとめ** \n",
    "- 要素へのアクセス方法：**`リスト名[インデックス]`**\n",
    "- 要素の上書き方法：**`リスト名[インデックス] = 新たな要素`**\n",
    "\n",
    "**注意** \n",
    "- インデックスは**`0`**からスタートしていることに注意しよう。"
   ]
  },
  {
   "cell_type": "markdown",
   "id": "8432fa51",
   "metadata": {
    "id": "8432fa51"
   },
   "source": [
    "【問題2】【問題1】で宣言した`list3`の要素`算数`は`数学`であるべきことに気が付いた。  \n",
    "修正した後、`list3`を出力しなさい。"
   ]
  },
  {
   "cell_type": "code",
   "execution_count": null,
   "id": "9e0470e1",
   "metadata": {
    "id": "9e0470e1"
   },
   "outputs": [],
   "source": []
  },
  {
   "cell_type": "markdown",
   "id": "7d936c5b",
   "metadata": {
    "id": "7d936c5b"
   },
   "source": [
    "- x番目の要素を扱いたい時は`list[x-1]`となることを覚えよう"
   ]
  },
  {
   "cell_type": "markdown",
   "id": "7061f718",
   "metadata": {
    "id": "7061f718"
   },
   "source": [
    "### 複数の要素へのアクセス\n",
    "\n",
    "リストからは1つだけでなく、複数の要素を抜き出すこともできる。"
   ]
  },
  {
   "cell_type": "code",
   "execution_count": null,
   "id": "9afc854e",
   "metadata": {
    "id": "9afc854e"
   },
   "outputs": [],
   "source": [
    "list4 = [\"安達\", \"遠藤\", \"松岡\",\"足立\",\"加藤\"]\n",
    "print(list4[0:2])\n",
    "print(list4[3:5])"
   ]
  },
  {
   "cell_type": "markdown",
   "id": "78941278",
   "metadata": {
    "id": "78941278"
   },
   "source": [
    "このように、複数の要素を抜き出すには`list[a:b]`の形で扱う。\n",
    "\n",
    "この表記を「スライス」と呼び、リストの「a番目から(b-1)番目まで」の要素を抜き出すことができる。"
   ]
  },
  {
   "cell_type": "markdown",
   "id": "da390804",
   "metadata": {
    "id": "da390804"
   },
   "source": [
    "## 3.リストの中のリスト(入れ子リスト)\n",
    "\n",
    "【例題】リストの要素にさらにリストを入れてみよう"
   ]
  },
  {
   "cell_type": "code",
   "execution_count": null,
   "id": "ae4597cb",
   "metadata": {
    "id": "ae4597cb"
   },
   "outputs": [],
   "source": [
    "ireko = [[\"安達\",1], [\"遠藤\",2], [\"松岡\",3]]\n",
    "print(ireko)"
   ]
  },
  {
   "cell_type": "markdown",
   "id": "50c7088e",
   "metadata": {
    "id": "50c7088e"
   },
   "source": [
    "このようなリストは入れ子リストと呼ばれる。\n",
    "\n",
    "多次元配列の格納など、ディープラーニングの実装ではよく使うので、ぜひ覚えておこう。\n",
    "\n",
    "なお、以下のように数値の配列を入れ子リストにすると、行列も表現できる。"
   ]
  },
  {
   "cell_type": "code",
   "execution_count": null,
   "id": "635db2b3",
   "metadata": {
    "id": "635db2b3"
   },
   "outputs": [],
   "source": [
    "l = [[1, 0, 0], [0, 1, 0], [0, 0, 1]]\n",
    "print(l)"
   ]
  },
  {
   "cell_type": "markdown",
   "id": "823adc2e",
   "metadata": {
    "id": "823adc2e"
   },
   "source": [
    "## 4. 空リストとpop/append\n",
    "**空(から)リスト**：要素が一つも入っていないリストのこと。では、空リストを作ってみる。  \n",
    "\n",
    "【例題4-1】最初に空のリスト`empty`を宣言して表示する。"
   ]
  },
  {
   "cell_type": "code",
   "execution_count": null,
   "id": "66258ea2",
   "metadata": {
    "id": "66258ea2"
   },
   "outputs": [],
   "source": [
    "empty = []\n",
    "print(empty)"
   ]
  },
  {
   "cell_type": "markdown",
   "id": "43da1fc3",
   "metadata": {
    "id": "43da1fc3"
   },
   "source": [
    "- 空リストもリストと同様の宣言方法である。要素が**空**のため**`[]`**の中身は無い。  \n"
   ]
  },
  {
   "cell_type": "markdown",
   "id": "8c8ea617",
   "metadata": {
    "id": "8c8ea617"
   },
   "source": [
    "### **append**:要素の追加\n",
    "\n",
    "次は要素の追加を覚えてみよう。リスト内の要素は後から追加することもできる。\n",
    "\n",
    "【例題4-2】空リスト`list4`を宣言した後`足立`・`遠藤`・`松岡`を追加して、出力する。\n"
   ]
  },
  {
   "cell_type": "code",
   "execution_count": null,
   "id": "e1baa945",
   "metadata": {
    "id": "e1baa945"
   },
   "outputs": [],
   "source": [
    "list4 = []\n",
    "list4.append(\"足立\")\n",
    "list4.append(\"遠藤\")\n",
    "list4.append(\"松岡\")\n",
    "print(list4)"
   ]
  },
  {
   "cell_type": "markdown",
   "id": "3cea3029",
   "metadata": {
    "id": "3cea3029"
   },
   "source": [
    "**解説**\n",
    "- リスト名の後に**`.append(\"新たな要素\")`**をつけることで要素の追加ができる。\n",
    "- appendした順番に要素がリストに格納される。  "
   ]
  },
  {
   "cell_type": "markdown",
   "id": "16aab2fc",
   "metadata": {
    "id": "16aab2fc"
   },
   "source": [
    "【問題3】【例題2】の`list4`に`吉川`を追加して、`list4`を出力しよう。"
   ]
  },
  {
   "cell_type": "code",
   "execution_count": null,
   "id": "c01a1309",
   "metadata": {
    "id": "c01a1309"
   },
   "outputs": [],
   "source": []
  },
  {
   "cell_type": "markdown",
   "id": "f503a32f",
   "metadata": {
    "id": "f503a32f"
   },
   "source": [
    "### **pop**:要素の削除\n",
    "\n",
    "次にリストの要素を削除してみよう。"
   ]
  },
  {
   "cell_type": "code",
   "execution_count": null,
   "id": "01e18cf7",
   "metadata": {
    "id": "01e18cf7"
   },
   "outputs": [],
   "source": [
    "print(list4)\n",
    "list4.pop()\n",
    "print(list4)"
   ]
  },
  {
   "cell_type": "markdown",
   "id": "76082ad4",
   "metadata": {
    "id": "76082ad4"
   },
   "source": [
    "**解説**\n",
    "- リスト名の後に**`.pop()`**をつけることで要素の削除ができる。\n",
    "- デフォルトの設定だと、一番最後の要素が削除される。"
   ]
  },
  {
   "cell_type": "markdown",
   "id": "0a2d21d8",
   "metadata": {
    "id": "0a2d21d8"
   },
   "source": [
    "次に、要素を指定して削除してみよう。"
   ]
  },
  {
   "cell_type": "code",
   "execution_count": null,
   "id": "42f35e54",
   "metadata": {
    "id": "42f35e54"
   },
   "outputs": [],
   "source": [
    "print(list4)\n",
    "list4.pop(1)\n",
    "print(list4)"
   ]
  },
  {
   "cell_type": "markdown",
   "id": "8502a008",
   "metadata": {
    "id": "8502a008"
   },
   "source": [
    "**解説**\n",
    "- リスト名の後に**`.pop(インデックス)`**をつけることで、指定したインデックスの要素を削除できる。"
   ]
  },
  {
   "cell_type": "code",
   "execution_count": null,
   "id": "32222c4e",
   "metadata": {
    "id": "32222c4e"
   },
   "outputs": [],
   "source": []
  }
 ],
 "metadata": {
  "colab": {
   "provenance": []
  },
  "kernelspec": {
   "display_name": "avilen-ml",
   "language": "python",
   "name": "avilen-ml"
  },
  "language_info": {
   "codemirror_mode": {
    "name": "ipython",
    "version": 3
   },
   "file_extension": ".py",
   "mimetype": "text/x-python",
   "name": "python",
   "nbconvert_exporter": "python",
   "pygments_lexer": "ipython3",
   "version": "3.9.7"
  },
  "vscode": {
   "interpreter": {
    "hash": "31f2aee4e71d21fbe5cf8b01ff0e069b9275f58929596ceb00d14d90e3e16cd6"
   }
  }
 },
 "nbformat": 4,
 "nbformat_minor": 5
}
