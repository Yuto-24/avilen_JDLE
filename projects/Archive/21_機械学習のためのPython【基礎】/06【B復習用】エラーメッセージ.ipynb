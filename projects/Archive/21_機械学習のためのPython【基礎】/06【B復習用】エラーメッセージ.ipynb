{
 "cells": [
  {
   "cell_type": "markdown",
   "id": "5388aec9",
   "metadata": {
    "id": "5388aec9"
   },
   "source": [
    "# エラーメッセージ\n",
    "\n",
    "---\n",
    "\n",
    "プログラミングでは様々なエラーメッセージが表示される。\n",
    "\n",
    "よく分からないエラーが多くて挫折…というケースも珍しくない。\n",
    "\n",
    "しかし、エラーはつきもの！内容を確認して、1つ1つ対処していけば大丈夫だ。\n",
    "\n",
    "代表的なエラーと対処法を実際に見ていこう。"
   ]
  },
  {
   "cell_type": "markdown",
   "id": "718ff6f7",
   "metadata": {
    "id": "718ff6f7"
   },
   "source": [
    "## 1.SyntaxError\n",
    "\n",
    "SyntaxErrorは以下のように、Pythonの構文として正しくない場合に発生するエラー。\n",
    "\n",
    "主にコロン(:)や()の閉じ忘れなどがある場合、全角の文字(全角スペース含む)が入っていた場合に構文エラーになる。\n",
    "\n",
    "SyntaxErrorが発生した場合は、Pythonの構文が間違っていないか確認しよう。"
   ]
  },
  {
   "cell_type": "code",
   "execution_count": null,
   "id": "520f8d05",
   "metadata": {
    "id": "520f8d05"
   },
   "outputs": [],
   "source": [
    "#全角の数字をprintしてみよう。\n"
   ]
  },
  {
   "cell_type": "markdown",
   "id": "25a47626",
   "metadata": {
    "id": "25a47626"
   },
   "source": [
    "## 2.NameError\n",
    "\n",
    "名前が見つからなかった場合のエラー。\n",
    "\n",
    "変数名のスペル間違いなど。 大文字小文字も区別されるので注意だ。"
   ]
  },
  {
   "cell_type": "code",
   "execution_count": null,
   "id": "2d743ace",
   "metadata": {
    "id": "2d743ace"
   },
   "outputs": [],
   "source": []
  },
  {
   "cell_type": "markdown",
   "id": "03a9d905",
   "metadata": {
    "id": "03a9d905"
   },
   "source": [
    "対象の変数をきちんと定義するか、スペルを直せば解決する。"
   ]
  },
  {
   "cell_type": "code",
   "execution_count": null,
   "id": "fbd47322",
   "metadata": {
    "id": "fbd47322"
   },
   "outputs": [],
   "source": []
  },
  {
   "cell_type": "code",
   "execution_count": null,
   "id": "ee6790dc",
   "metadata": {
    "id": "ee6790dc"
   },
   "outputs": [],
   "source": []
  },
  {
   "cell_type": "markdown",
   "id": "b23181ea",
   "metadata": {
    "id": "b23181ea"
   },
   "source": [
    "## 3.TypeError\n",
    "\n",
    "不適切な型に対して演算や組み込み関数による処理が行われた場合のエラー。\n",
    "\n",
    "主に以下のような場合に発生する。\n",
    "\n",
    "- 異なる型のオブジェクトを+演算子で加算しようとした場合\n",
    "- 文字列や数値を浮動小数点型（float）に変換する組み込み関数float()にそのほかの型のオブジェクトを渡した場合\n",
    "\n",
    "変数の型や、関数の引数をしっかり確認しよう。"
   ]
  },
  {
   "cell_type": "code",
   "execution_count": null,
   "id": "15ac9650",
   "metadata": {
    "id": "15ac9650"
   },
   "outputs": [],
   "source": []
  },
  {
   "cell_type": "markdown",
   "id": "4b1def2c",
   "metadata": {
    "id": "4b1def2c"
   },
   "source": [
    "## 4.ValueError\n",
    "\n",
    "型は合っているが値が適切でない場合のエラー。\n",
    "\n",
    "例えばfloat()は文字列（str）を浮動小数点（float）に変換するが、元の文字列が変換可能な値でないとエラーになる。\n",
    "\n",
    "関数に適した値を入力できているか確認しよう。"
   ]
  },
  {
   "cell_type": "code",
   "execution_count": null,
   "id": "f44fe2b2",
   "metadata": {
    "id": "f44fe2b2"
   },
   "outputs": [],
   "source": []
  },
  {
   "cell_type": "markdown",
   "id": "bae54568",
   "metadata": {
    "id": "bae54568"
   },
   "source": [
    "## 5.ZeroDivisionError\n",
    "\n",
    "0で割り算が行われた場合のエラー。\n",
    "\n",
    "除算```/```だけでなく、剰余演算```%```でも発生する。\n",
    "\n",
    "計算途中でうっかり値がゼロになっていないか確認しよう。"
   ]
  },
  {
   "cell_type": "code",
   "execution_count": null,
   "id": "a3bfc363",
   "metadata": {
    "id": "a3bfc363"
   },
   "outputs": [],
   "source": []
  },
  {
   "cell_type": "markdown",
   "id": "20b4a27c",
   "metadata": {
    "id": "20b4a27c"
   },
   "source": [
    "## 6.IndexError\n",
    "\n",
    "リストやタプルなどのシーケンスオブジェクトに格納された値を[インデックス]で取得する際に、範囲外の位置（要素数を超えたインデックス値）を指定してしまった場合のエラー。\n",
    "\n",
    "リストやタプルの要素数はlen()で確認できるので、範囲を超えないようにコーディングしよう。"
   ]
  },
  {
   "cell_type": "code",
   "execution_count": null,
   "id": "f854e8d2",
   "metadata": {
    "id": "f854e8d2"
   },
   "outputs": [],
   "source": []
  }
 ],
 "metadata": {
  "colab": {
   "provenance": []
  },
  "kernelspec": {
   "display_name": "Python 3 (ipykernel)",
   "language": "python",
   "name": "python3"
  },
  "language_info": {
   "codemirror_mode": {
    "name": "ipython",
    "version": 3
   },
   "file_extension": ".py",
   "mimetype": "text/x-python",
   "name": "python",
   "nbconvert_exporter": "python",
   "pygments_lexer": "ipython3",
   "version": "3.9.7"
  }
 },
 "nbformat": 4,
 "nbformat_minor": 5
}
