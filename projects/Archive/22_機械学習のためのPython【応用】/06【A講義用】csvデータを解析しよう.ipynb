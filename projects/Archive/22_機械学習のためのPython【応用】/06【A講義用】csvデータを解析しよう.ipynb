{
 "cells": [
  {
   "cell_type": "markdown",
   "id": "09a8a9fc",
   "metadata": {
    "id": "09a8a9fc"
   },
   "source": [
    "# csvデータの解析\n",
    "\n",
    "この章では、基礎編で学んだcsvの読み書きについて、さらに高度な操作を学んでいこう。\n",
    "\n"
   ]
  },
  {
   "cell_type": "markdown",
   "id": "bb3e52af",
   "metadata": {
    "id": "bb3e52af"
   },
   "source": [
    "## 1.辞書型としてデータを読み込む\n",
    "\n",
    "今回取り扱うcsvは`test_score.csv`だ。以下のようなデータ構成になっている。\n",
    "\n",
    "---\n",
    "名前\t国語\t数学\t理科\t社会\t英語\n",
    "\n",
    "佐藤\t86\t54\t63\t74\t90\n",
    "\n",
    "田中\t65\t89\t91\t67\t75\n",
    "\n",
    "高橋\t67\t58\t79\t86\t60\n",
    "\n",
    "---\n",
    "\n",
    "まずは基礎編で習った通りに、`csv.reader`でcsvを読み込んで表示してみよう。"
   ]
  },
  {
   "cell_type": "code",
   "execution_count": null,
   "id": "dc80bad0",
   "metadata": {
    "id": "dc80bad0"
   },
   "outputs": [],
   "source": [
    "import csv\n",
    "\n",
    "data = []\n",
    "with open('test_score.csv', encoding=\"utf-8\") as f:\n",
    "    reader = csv.reader(f)\n",
    "    for line in reader:\n",
    "        data.append(line)\n",
    "print(data)"
   ]
  },
  {
   "cell_type": "markdown",
   "id": "9f9f11a6",
   "metadata": {
    "id": "9f9f11a6"
   },
   "source": [
    "通常はこのような形だが、単にデータが羅列されている状態で、やや扱いにくい。\n",
    "\n",
    "そこで、名前や教科名をキーにして検索できたら便利になるはずだ。これを実現するのが`csv.DictReader`という関数である。"
   ]
  },
  {
   "cell_type": "code",
   "execution_count": null,
   "id": "7a557c49",
   "metadata": {
    "id": "7a557c49"
   },
   "outputs": [],
   "source": [
    "import csv\n",
    "\n",
    "with open('test_score.csv', encoding=\"utf-8\") as f:\n",
    "    doc = csv.DictReader(f)\n",
    "    for line in doc:\n",
    "        print(line)"
   ]
  },
  {
   "cell_type": "markdown",
   "id": "6bc53c23",
   "metadata": {
    "id": "6bc53c23"
   },
   "source": [
    "#### `csv.reader`と`csv.DictReader`の違い\n",
    "\n",
    "- `csv.reader`では、csvを読み込んだ変数(今回は`reader`)の中に、各行に対応するリストが入っている(入れ子リスト)\n",
    "- `csv.DictReader`では、csvを読み込んだ変数(今回は`doc`)の中に、各行に対応する辞書が入っている(入れ子リスト)\n",
    "\n",
    "辞書型のリストになっていることで、for文でデータを取り出すときに名前や教科名を指定できるようになる！"
   ]
  },
  {
   "cell_type": "markdown",
   "id": "912d9591",
   "metadata": {
    "id": "912d9591"
   },
   "source": [
    "## 2.辞書型データとその扱い方\n"
   ]
  },
  {
   "cell_type": "markdown",
   "id": "4ea6f9e4",
   "metadata": {
    "id": "4ea6f9e4"
   },
   "source": [
    "辞書型データとは、`key`と`value`がセットになっているデータ形式のことである。\n",
    "\n",
    "先ほど読み込んだcsvの最初の辞書を見てみよう。"
   ]
  },
  {
   "cell_type": "code",
   "execution_count": null,
   "id": "04860661",
   "metadata": {
    "id": "04860661"
   },
   "outputs": [],
   "source": [
    "dict1 = {'名前': '佐藤', '国語': '86', '数学': '54', '理科': '63', '社会': '74', '英語': '90'}"
   ]
  },
  {
   "cell_type": "markdown",
   "id": "0e171535",
   "metadata": {
    "id": "0e171535"
   },
   "source": [
    "このように辞書は中カッコ`{}`で外側を囲み、その中に`key`:`value`の順番で要素を並べていく。\n",
    "\n",
    "こうすることで、`辞書名[key]`と入力すると、対応する`value`を取得できる。"
   ]
  },
  {
   "cell_type": "code",
   "execution_count": null,
   "id": "39af0e28",
   "metadata": {
    "id": "39af0e28"
   },
   "outputs": [],
   "source": [
    "print(dict1[\"名前\"])\n",
    "print(dict1[\"国語\"])"
   ]
  },
  {
   "cell_type": "markdown",
   "id": "d3554319",
   "metadata": {
    "id": "d3554319"
   },
   "source": [
    "なお、存在しないkeyを指定した場合は、`KeyError`になるので注意しよう。"
   ]
  },
  {
   "cell_type": "code",
   "execution_count": null,
   "id": "13634c01",
   "metadata": {
    "id": "13634c01"
   },
   "outputs": [],
   "source": [
    "print(dict1[\"地学\"])"
   ]
  },
  {
   "cell_type": "markdown",
   "id": "a13c4bc1",
   "metadata": {
    "id": "a13c4bc1"
   },
   "source": [
    "`csv.DictReader`で取得したデータはこのような辞書型なので、`key`を指定してデータを取り出すことができる。\n",
    "\n",
    "【例題】`csv.DictReader`を使って、`test_score.csv`の辞書型データから「名前」と「国語の点数」を取り出そう"
   ]
  },
  {
   "cell_type": "code",
   "execution_count": null,
   "id": "827aebc5",
   "metadata": {
    "id": "827aebc5"
   },
   "outputs": [],
   "source": [
    "with open('test_score.csv', encoding=\"utf-8\") as f:\n",
    "    doc = csv.DictReader(f)\n",
    "    for line in doc:\n",
    "        print(line[\"名前\"],line[\"国語\"])"
   ]
  },
  {
   "cell_type": "markdown",
   "id": "4961b171",
   "metadata": {
    "id": "4961b171"
   },
   "source": [
    "## 3.取得したデータの操作"
   ]
  },
  {
   "cell_type": "markdown",
   "id": "a583ad07",
   "metadata": {
    "id": "a583ad07"
   },
   "source": [
    "### 生徒ごとの平均点の計算\n",
    "\n",
    "`test_score.csv`のデータについて、リスト型と辞書型で点数を出力することができるようになった。\n",
    "\n",
    "これを上手く使い分けて、生徒ごとの平均点を計算してみよう。"
   ]
  },
  {
   "cell_type": "markdown",
   "id": "8fef0207",
   "metadata": {
    "id": "8fef0207"
   },
   "source": [
    "【問題】生徒ごとに5教科の平均点を計算してみよう\n",
    "\n",
    "＜Step1＞生徒名と5教科の点数を1つのリストにして、空リスト`score`に入れ子リストの形でまとめていこう"
   ]
  },
  {
   "cell_type": "code",
   "execution_count": null,
   "id": "75fdca69",
   "metadata": {
    "id": "75fdca69"
   },
   "outputs": [],
   "source": []
  },
  {
   "cell_type": "markdown",
   "id": "8f0e3959",
   "metadata": {
    "id": "8f0e3959"
   },
   "source": [
    "＜Step2＞各リストから生徒名を取り出し、点数を合計して5で割った数値と一緒にprintしよう\n",
    "\n",
    "ヒント：リスト内の点数はstr型で入っているため、int型に変換する必要がある"
   ]
  },
  {
   "cell_type": "code",
   "execution_count": null,
   "id": "322bf3d0",
   "metadata": {
    "id": "322bf3d0"
   },
   "outputs": [],
   "source": []
  },
  {
   "cell_type": "markdown",
   "id": "092966af",
   "metadata": {
    "id": "092966af"
   },
   "source": [
    "このように生徒ごとに集計したい場合は、`csv.reader`を使ってリスト型で読み込んだ方が役に立つ。"
   ]
  },
  {
   "cell_type": "markdown",
   "id": "86503cea",
   "metadata": {
    "id": "86503cea"
   },
   "source": [
    "### 教科ごとの平均点の計算\n",
    "\n",
    "次に、教科ごとに平均点を計算してみよう\n",
    "\n",
    "【問題】各教科の10名分の平均点を算出しよう"
   ]
  },
  {
   "cell_type": "code",
   "execution_count": null,
   "id": "7e60ecea",
   "metadata": {
    "id": "7e60ecea"
   },
   "outputs": [],
   "source": []
  },
  {
   "cell_type": "markdown",
   "id": "56010160",
   "metadata": {
    "id": "56010160"
   },
   "source": [
    "このように教科ごとに集計したい場合は、辞書型で`key`を参照できるほうが役に立つ。"
   ]
  },
  {
   "cell_type": "markdown",
   "id": "9aa9fa77",
   "metadata": {
    "id": "9aa9fa77"
   },
   "source": [
    "## 4.辞書型データの性質\n",
    "\n",
    "次に、この辞書型データの特徴を見ていこう。\n",
    "\n",
    "### `key`のみ・`value`のみを取り出す\n",
    "\n",
    "`key`のみ、または`value`のみを取り出すには、`[辞書名].keys()`や`[辞書名].values()`を使用する。"
   ]
  },
  {
   "cell_type": "code",
   "execution_count": null,
   "id": "68576285",
   "metadata": {
    "id": "68576285"
   },
   "outputs": [],
   "source": [
    "dict1 = {'名前': '佐藤', '国語': '86', '数学': '54', '理科': '63', '社会': '74', '英語': '90'}\n",
    "print(dict1.keys())\n",
    "print(dict1.values())"
   ]
  },
  {
   "cell_type": "markdown",
   "id": "c33ecf33",
   "metadata": {
    "id": "c33ecf33"
   },
   "source": [
    "### key/valueの型\n",
    "\n",
    "`key`や`value`に入れる変数に、型の制限は特にない。str型、int型、float型どれでも入れることができる。\n",
    "\n",
    "ただ性質上、`key`にはstr型のデータを入れることが多い。\n",
    "\n",
    "実験的に、`key`にint型のデータを入れた辞書は以下のようになる。"
   ]
  },
  {
   "cell_type": "code",
   "execution_count": null,
   "id": "045e67e4",
   "metadata": {
    "id": "045e67e4"
   },
   "outputs": [],
   "source": [
    "dict2 = {1:'名前', 2:'国語', 3:'数学', 4:'理科', 5:'社会', 6:'英語'}\n",
    "dict2[2]"
   ]
  },
  {
   "cell_type": "markdown",
   "id": "5b964645",
   "metadata": {
    "id": "5b964645"
   },
   "source": [
    "### 空の辞書・要素の追加/更新\n",
    "\n",
    "`[辞書名]={}`とすることで、空の辞書を作ることができる。"
   ]
  },
  {
   "cell_type": "code",
   "execution_count": null,
   "id": "378b2f02",
   "metadata": {
    "id": "378b2f02"
   },
   "outputs": [],
   "source": [
    "dict3 = {}\n",
    "print(dict3)"
   ]
  },
  {
   "cell_type": "markdown",
   "id": "7ceb6ece",
   "metadata": {
    "id": "7ceb6ece"
   },
   "source": [
    "要素の追加は`[辞書名][key]=[value]`で、どんどん新しい値を追加できる。"
   ]
  },
  {
   "cell_type": "code",
   "execution_count": null,
   "id": "f90a9c88",
   "metadata": {
    "id": "f90a9c88"
   },
   "outputs": [],
   "source": [
    "dict3[\"物理\"] = 78\n",
    "dict3[\"化学\"] = 86\n",
    "dict3[\"生物\"] = 60\n",
    "print(dict3)"
   ]
  },
  {
   "cell_type": "markdown",
   "id": "8ab2830f",
   "metadata": {
    "id": "8ab2830f"
   },
   "source": [
    "また、既存の`key`を指定すると、対応する`value`を更新できる。"
   ]
  },
  {
   "cell_type": "code",
   "execution_count": null,
   "id": "2c6817fb",
   "metadata": {
    "id": "2c6817fb"
   },
   "outputs": [],
   "source": [
    "dict3[\"物理\"] = 100\n",
    "print(dict3)"
   ]
  },
  {
   "cell_type": "markdown",
   "id": "159fefe7",
   "metadata": {
    "id": "159fefe7"
   },
   "source": [
    "### 辞書型の`len()`\n",
    "\n",
    "辞書型データを`len()`に入力すると、`key`と`value`のセットの数が出力される。"
   ]
  },
  {
   "cell_type": "code",
   "execution_count": null,
   "id": "7ed38ea6",
   "metadata": {
    "id": "7ed38ea6"
   },
   "outputs": [],
   "source": [
    "len(dict3)"
   ]
  },
  {
   "cell_type": "markdown",
   "id": "0650d501",
   "metadata": {
    "id": "0650d501"
   },
   "source": [
    "### 辞書型を条件文に指定した場合\n",
    "\n",
    "条件文に辞書型を指定した場合、その辞書が空かどうかで`True`/`False`が判定される。"
   ]
  },
  {
   "cell_type": "code",
   "execution_count": null,
   "id": "d3fa2567",
   "metadata": {
    "id": "d3fa2567"
   },
   "outputs": [],
   "source": [
    "dict3 = {}\n",
    "if dict3:\n",
    "    print(\"空ではない\")\n",
    "else:\n",
    "    print(\"空である\")"
   ]
  },
  {
   "cell_type": "code",
   "execution_count": null,
   "id": "9bb882fe",
   "metadata": {
    "id": "9bb882fe"
   },
   "outputs": [],
   "source": [
    "dict3[\"物理\"] = 100\n",
    "if dict3:\n",
    "    print(\"空ではない\")\n",
    "else:\n",
    "    print(\"空である\")"
   ]
  },
  {
   "cell_type": "markdown",
   "id": "e0306018",
   "metadata": {
    "id": "e0306018"
   },
   "source": [
    "上のif文では`dict3`が空なので`if dict3`が`if False`と判定される。\n",
    "\n",
    "つまりその後の処理`print(\"空ではない\")`が実行されず、`else`以下の処理`print(\"空である\")`が実行された。\n",
    "\n",
    "下のif文では`dict3`に値が入っているため、`if dict3`が`if True`と判定される。\n",
    "\n",
    "よってその後の処理`print(\"空ではない\")`が実行された。"
   ]
  }
 ],
 "metadata": {
  "colab": {
   "provenance": []
  },
  "kernelspec": {
   "display_name": "avilen-ml3",
   "language": "python",
   "name": "python3"
  },
  "language_info": {
   "codemirror_mode": {
    "name": "ipython",
    "version": 3
   },
   "file_extension": ".py",
   "mimetype": "text/x-python",
   "name": "python",
   "nbconvert_exporter": "python",
   "pygments_lexer": "ipython3",
   "version": "3.9.7"
  },
  "vscode": {
   "interpreter": {
    "hash": "f25b26b4ea7004765cfa1e96cf36e4bfdb1569f2ca834d9e6ec0cf32829ced3d"
   }
  }
 },
 "nbformat": 4,
 "nbformat_minor": 5
}
