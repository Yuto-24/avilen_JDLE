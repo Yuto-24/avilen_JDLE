{
 "cells": [
  {
   "cell_type": "markdown",
   "id": "45bcece9",
   "metadata": {
    "id": "45bcece9"
   },
   "source": [
    "# 再帰関数\n",
    "\n",
    "この章では、「再帰関数」について扱う。\n",
    "\n",
    "再帰関数とは、関数の定義の中でその関数自身が登場する関数のことで、つまり自分で自分を呼び出すということ。\n",
    "\n",
    "再帰呼び出しと呼ばれることもある。\n",
    "\n",
    "### 再帰関数のメリット\n",
    "\n",
    "再帰関数を使うことで、for文などのループ構文を使わずに繰り返し処理を実装することができる。\n",
    "\n",
    "繰り返し処理ならfor文やwhile文を使えばいいと思われるかもしれないが、再帰関数で実装したほうが処理が早く、簡潔に書ける場合もあるのだ。"
   ]
  },
  {
   "cell_type": "markdown",
   "id": "5e190231",
   "metadata": {
    "id": "5e190231"
   },
   "source": [
    "## 1.整数の和を求める再帰関数\n",
    "\n",
    "例として、整数値nを受け取り、1～nまでの和を計算する関数を作ってみよう。"
   ]
  },
  {
   "cell_type": "markdown",
   "id": "4e972e7e",
   "metadata": {
    "id": "4e972e7e"
   },
   "source": [
    "まずこれを再帰関数で実装するとどうなるだろうか、やってみよう。\n",
    "\n",
    "【例題】再帰関数で`sigma`を実装してみよう。"
   ]
  },
  {
   "cell_type": "code",
   "execution_count": null,
   "id": "37f4b19d",
   "metadata": {
    "id": "37f4b19d"
   },
   "outputs": [],
   "source": [
    "def sigma(n):\n",
    "    if n == 1:\n",
    "        return 1\n",
    "    else:\n",
    "        return n + sigma(n - 1)"
   ]
  },
  {
   "cell_type": "markdown",
   "id": "d7f3ea87",
   "metadata": {
    "id": "d7f3ea87"
   },
   "source": [
    "理解できただろうか？これは`[1～nの和] = [1～n-1の和] + n`という式に基づいている。\n",
    "\n",
    "`[1～n-1の和]`は`sigma(n-1)`で表せるので、`sigma(n) = sigma(n-1) + n`という形で書けるのだ。\n",
    "\n",
    "この法則を繰り返し適用していくと、`sigma(n) = sigma(n-1) + n = sigma(n-2) + (n-1) + n = ...`という風に続いていく。\n",
    "\n",
    "最終的に`sigma(1) = 1`なので、ここまで再帰していけば計算完了となる。\n",
    "\n",
    "\n",
    "<br>\n",
    "\n",
    "それでは`sigma`をn=10とn=100で試してみよう。"
   ]
  },
  {
   "cell_type": "code",
   "execution_count": null,
   "id": "1b682261",
   "metadata": {
    "id": "1b682261"
   },
   "outputs": [],
   "source": [
    "sigma(10)"
   ]
  },
  {
   "cell_type": "code",
   "execution_count": null,
   "id": "d95ab90a",
   "metadata": {
    "id": "d95ab90a"
   },
   "outputs": [],
   "source": [
    "sigma(100)"
   ]
  },
  {
   "cell_type": "markdown",
   "id": "375d4525",
   "metadata": {
    "id": "375d4525"
   },
   "source": [
    "このように、関数の計算がその関数の引数を変えたもので表現できる場合は、再帰関数を使った方が簡潔に書ける場合がある。"
   ]
  },
  {
   "cell_type": "markdown",
   "id": "a274a1aa",
   "metadata": {
    "id": "a274a1aa"
   },
   "source": [
    "【問題】再帰関数を使わず、今まで学んだ内容のみで1～nの和を計算する関数`sigma`を作ってみよう。"
   ]
  },
  {
   "cell_type": "code",
   "execution_count": null,
   "id": "d77acbd5",
   "metadata": {
    "id": "d77acbd5"
   },
   "outputs": [],
   "source": []
  },
  {
   "cell_type": "markdown",
   "id": "954bc195",
   "metadata": {
    "id": "954bc195"
   },
   "source": [
    "完成したらn=10、またはn=100で試してみよう。"
   ]
  },
  {
   "cell_type": "code",
   "execution_count": null,
   "id": "c96fe4d9",
   "metadata": {
    "id": "c96fe4d9",
    "scrolled": true
   },
   "outputs": [],
   "source": [
    "sigma(10)"
   ]
  },
  {
   "cell_type": "code",
   "execution_count": null,
   "id": "68f89c41",
   "metadata": {
    "id": "68f89c41"
   },
   "outputs": [],
   "source": [
    "sigma(100)"
   ]
  }
 ],
 "metadata": {
  "colab": {
   "provenance": []
  },
  "kernelspec": {
   "display_name": "Python 3 (ipykernel)",
   "language": "python",
   "name": "python3"
  },
  "language_info": {
   "codemirror_mode": {
    "name": "ipython",
    "version": 3
   },
   "file_extension": ".py",
   "mimetype": "text/x-python",
   "name": "python",
   "nbconvert_exporter": "python",
   "pygments_lexer": "ipython3",
   "version": "3.8.10"
  }
 },
 "nbformat": 4,
 "nbformat_minor": 5
}
