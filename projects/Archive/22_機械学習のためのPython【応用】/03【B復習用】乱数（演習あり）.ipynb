{
 "cells": [
  {
   "cell_type": "markdown",
   "id": "3ed1bf57",
   "metadata": {
    "id": "3ed1bf57"
   },
   "source": [
    "## randomライブラリ\n",
    "\n",
    "randomライブラリを利用して色々なことをやってみよう。\n",
    "\n",
    "まず、忘れずにライブラリのインポートをしよう。"
   ]
  },
  {
   "cell_type": "code",
   "execution_count": null,
   "id": "73301d00",
   "metadata": {
    "id": "73301d00"
   },
   "outputs": [],
   "source": []
  },
  {
   "cell_type": "markdown",
   "id": "532123e1",
   "metadata": {
    "id": "532123e1"
   },
   "source": [
    "ライブラリのインポートが完了したら、例題に取り掛かろう\n",
    "\n",
    "【例題】ランダムな数字を出力してみよう。"
   ]
  },
  {
   "cell_type": "code",
   "execution_count": null,
   "id": "a2e5fa81",
   "metadata": {
    "id": "a2e5fa81"
   },
   "outputs": [],
   "source": []
  },
  {
   "cell_type": "markdown",
   "id": "3adc6b41",
   "metadata": {
    "id": "3adc6b41"
   },
   "source": [
    "**解説**\n",
    "* 実行するたびにランダムに値を算出している\n",
    "* 範囲は関数によって以下のように決まっている\n",
    "    * 0≦x<1の実数`x`を出力する関数random()を動かす場合：random.random()\n",
    "    * a≦x≦bの整数`x`を出力する関数randint()を動かす場合：random.randint(a,b)\n",
    "    * a≦x≦bの実数`x`を出力する関数uniform()を動かす場合：random.uniform(a,b)"
   ]
  },
  {
   "cell_type": "markdown",
   "id": "0d4665e0",
   "metadata": {
    "id": "0d4665e0"
   },
   "source": [
    "【例題】適当なリストの中からランダムに要素を取り出してみよう。"
   ]
  },
  {
   "cell_type": "code",
   "execution_count": null,
   "id": "f57a508f",
   "metadata": {
    "id": "f57a508f"
   },
   "outputs": [],
   "source": []
  },
  {
   "cell_type": "markdown",
   "id": "060944fa",
   "metadata": {
    "id": "060944fa"
   },
   "source": [
    "**解説**\n",
    "* 実行するたびにランダムに要素を取り出している\n",
    "* リストからランダムに要素を抽出する方法：random.choice(リスト名)\n",
    "\n",
    "**注意**\n",
    "- 関数名の前に書くライブラリ名を忘れないよう気を付けよう。"
   ]
  },
  {
   "cell_type": "markdown",
   "id": "97028f83",
   "metadata": {
    "id": "97028f83"
   },
   "source": [
    "### random関数の偏り\n",
    "\n",
    "`random.random()`という関数では、乱数によって0.0～1.0までのランダムな値を算出することができる。\n",
    "\n",
    "これが本当に偏っているのか、乱数を100個生成して検証してみよう。\n",
    "\n",
    "【例題】randomで乱数を100個生成し、リスト`valid`に格納しよう。"
   ]
  },
  {
   "cell_type": "code",
   "execution_count": null,
   "id": "49f5a98a",
   "metadata": {
    "id": "49f5a98a",
    "scrolled": true
   },
   "outputs": [],
   "source": []
  },
  {
   "cell_type": "code",
   "execution_count": null,
   "id": "a4b6282e",
   "metadata": {
    "id": "a4b6282e"
   },
   "outputs": [],
   "source": []
  },
  {
   "cell_type": "markdown",
   "id": "f0f7f224",
   "metadata": {
    "id": "f0f7f224"
   },
   "source": [
    "【例題】リスト`valid`の中身について、0.5以下の値が何個あるか計測しよう。"
   ]
  },
  {
   "cell_type": "code",
   "execution_count": null,
   "id": "f18ab8fa",
   "metadata": {
    "id": "f18ab8fa"
   },
   "outputs": [],
   "source": []
  },
  {
   "cell_type": "code",
   "execution_count": null,
   "id": "12f94626",
   "metadata": {
    "id": "12f94626"
   },
   "outputs": [],
   "source": []
  },
  {
   "cell_type": "markdown",
   "id": "62318d3f",
   "metadata": {
    "id": "62318d3f"
   },
   "source": [
    "どうだろうか？0.5以下の値の数は100個中50個となっただろうか？\n",
    "\n",
    "実は乱数は偏りがあるため、必ず50個ぴったりになるとは限らない。"
   ]
  },
  {
   "cell_type": "markdown",
   "id": "ef56e12f",
   "metadata": {
    "id": "ef56e12f"
   },
   "source": [
    "【補足】リスト`valid`および`test`を内包表記で書いてみよう"
   ]
  },
  {
   "cell_type": "code",
   "execution_count": null,
   "id": "0ae1f60a",
   "metadata": {
    "id": "0ae1f60a"
   },
   "outputs": [],
   "source": []
  },
  {
   "cell_type": "code",
   "execution_count": null,
   "id": "e2f904a4",
   "metadata": {
    "id": "e2f904a4"
   },
   "outputs": [],
   "source": []
  },
  {
   "cell_type": "markdown",
   "id": "57048188",
   "metadata": {
    "id": "57048188"
   },
   "source": [
    "このように乱数は偏りが発生するが、上手く使えば様々な機能を実装できる。\n",
    "\n",
    "乱数の種類も一様乱数、正規乱数などたくさんあるので、興味のある人は自分で試してみよう。"
   ]
  }
 ],
 "metadata": {
  "colab": {
   "provenance": []
  },
  "kernelspec": {
   "display_name": "Python 3 (ipykernel)",
   "language": "python",
   "name": "python3"
  },
  "language_info": {
   "codemirror_mode": {
    "name": "ipython",
    "version": 3
   },
   "file_extension": ".py",
   "mimetype": "text/x-python",
   "name": "python",
   "nbconvert_exporter": "python",
   "pygments_lexer": "ipython3",
   "version": "3.9.7"
  }
 },
 "nbformat": 4,
 "nbformat_minor": 5
}
